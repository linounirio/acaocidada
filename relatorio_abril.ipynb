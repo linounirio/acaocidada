{
 "cells": [
  {
   "cell_type": "markdown",
   "id": "e94e7721-5395-4261-a9f3-5a6cdad6cca2",
   "metadata": {},
   "source": [
    "# Abril\n",
    "\n",
    "---"
   ]
  },
  {
   "cell_type": "code",
   "execution_count": 57,
   "id": "65911ccc-c0fa-4439-9f2a-811b18b9c3c7",
   "metadata": {},
   "outputs": [],
   "source": [
    "import numpy as np\n",
    "from datetime import date, timedelta\n",
    "import string\n",
    "import time\n",
    "from pandas import DataFrame\n",
    "from os import getcwd\n",
    "from pygsheets import authorize\n",
    "import pivottablejs"
   ]
  },
  {
   "cell_type": "markdown",
   "id": "7199562b-15de-402e-9213-cb23e0165c0e",
   "metadata": {},
   "source": [
    "## Integração das APIs do GCP - das contas google "
   ]
  },
  {
   "cell_type": "markdown",
   "id": "bf9acb02-caf6-4fa6-ab47-7c4b5ef56216",
   "metadata": {},
   "source": [
    "### Conta RIO"
   ]
  },
  {
   "cell_type": "code",
   "execution_count": 2,
   "id": "84160bed-7507-40ac-9a71-42df50bb9aaa",
   "metadata": {},
   "outputs": [],
   "source": [
    "credenciaisRio = authorize(service_file=getcwd()+'/keyapirio.json')"
   ]
  },
  {
   "cell_type": "markdown",
   "id": "a3fd3eb3-64fc-4efa-97d3-fa6695e43633",
   "metadata": {},
   "source": [
    "#### na célula abaixo os Links estarão ocultos"
   ]
  },
  {
   "cell_type": "code",
   "execution_count": 8,
   "id": "5466adea-546d-45cb-b96e-7a1182e0d160",
   "metadata": {},
   "outputs": [],
   "source": [
    "linkAgendamentoRio = 'basta copiar da pagina do google sheet'\n",
    "abaAgendamentoRio = 'xxxxxxxx'"
   ]
  },
  {
   "cell_type": "markdown",
   "id": "124d95c6-a131-4c27-9431-be9450cdb645",
   "metadata": {},
   "source": [
    "#### Código de integração da APIRest google sheets"
   ]
  },
  {
   "cell_type": "code",
   "execution_count": 3,
   "id": "a13a54bc-7ef2-4d9b-a8a1-0b1c3c33c840",
   "metadata": {},
   "outputs": [],
   "source": [
    "# acessando planilha\n",
    "#planilhaAgendamentoRio = credenciaisRio.open_by_key(linkAgendamentoRio)\n",
    "#tabelaAgendamentoRio = planilhaAgendamentoRio.spreadsheet_ids(abaAgendamentoRio)"
   ]
  },
  {
   "cell_type": "markdown",
   "id": "c867d9ca-ac10-44de-ae24-aa001ba4ae5c",
   "metadata": {},
   "source": [
    "### Conta RIO2"
   ]
  },
  {
   "cell_type": "code",
   "execution_count": null,
   "id": "614bf363-204d-4392-9239-01f73b3b75c5",
   "metadata": {},
   "outputs": [],
   "source": []
  },
  {
   "cell_type": "markdown",
   "id": "b5c1b166-c4a9-41d4-8d5b-2e67ae650464",
   "metadata": {},
   "source": [
    "### Conta Carioca"
   ]
  },
  {
   "cell_type": "markdown",
   "id": "d8c52087-76ab-4f17-91c3-4a84072882e4",
   "metadata": {},
   "source": [
    "Nessa etapa estamos acessando a base de dados do google via API, que em outras palavras se remete a integração de sistemas externos"
   ]
  },
  {
   "cell_type": "code",
   "execution_count": 58,
   "id": "4e9e1bfb-4ab2-40cd-af21-5924044df5e5",
   "metadata": {},
   "outputs": [],
   "source": [
    "credenciaisCarioca = authorize(service_file=getcwd()+'/keysurveycarioca.json')"
   ]
  },
  {
   "cell_type": "code",
   "execution_count": 59,
   "id": "bb54b89b-7adf-4b36-baa8-3f4f79d7075c",
   "metadata": {},
   "outputs": [],
   "source": [
    "link = 'https://docs.google.com/spreadsheets/d/essa parte é a informação que identifica a planilha que se deseja integrar/'"
   ]
  },
  {
   "cell_type": "code",
   "execution_count": 60,
   "id": "c4d72db7-c5f8-4402-8bc3-bb50d5b2d692",
   "metadata": {},
   "outputs": [],
   "source": [
    "# acessando planilha\n",
    "planilha = credenciaisCarioca.open_by_url(link)\n",
    "tabela = planilha.worksheet_by_title(\"Respostas ao formulário 1\")"
   ]
  },
  {
   "cell_type": "markdown",
   "id": "3266dd59-464e-46c0-8695-5eba1c75f534",
   "metadata": {},
   "source": [
    "### Quadro de Dados (DataFrame)"
   ]
  },
  {
   "cell_type": "markdown",
   "id": "41d73e84-0d56-4715-9bcd-6978c4890f85",
   "metadata": {},
   "source": [
    "Nessa etapa estamos transformando a base de atualizada até o momento da última integração realizada acima. Em um quadro de dados, para que assim possamos extrair a riqueza que a base tem a nos oferecer."
   ]
  },
  {
   "cell_type": "code",
   "execution_count": 81,
   "id": "9ca46f42-fcf9-40c8-a82e-efea67c79c96",
   "metadata": {},
   "outputs": [],
   "source": [
    "import datetime"
   ]
  },
  {
   "cell_type": "markdown",
   "id": "7e28d8b0-52d8-424f-957f-cb6d5d03041e",
   "metadata": {},
   "source": [
    "Nessa parte estamos criando o objeto com todos os dados, que até a data informada"
   ]
  },
  {
   "cell_type": "code",
   "execution_count": 88,
   "id": "e7441bec-3bfc-4d10-ba9f-341acb6c726f",
   "metadata": {},
   "outputs": [
    {
     "name": "stdout",
     "output_type": "stream",
     "text": [
      "Na data 2024-05-03 esse quadro de dados está sendo criado.\n"
     ]
    }
   ],
   "source": [
    "df_carioca_agend = DataFrame(tabela)\n",
    "print(f'Na data {datetime.date.today().isoformat()} esse quadro de dados está sendo criado.')"
   ]
  },
  {
   "cell_type": "code",
   "execution_count": 90,
   "id": "d1e76a95-83d8-4461-b345-dd552419c210",
   "metadata": {},
   "outputs": [
    {
     "name": "stdout",
     "output_type": "stream",
     "text": [
      "Até o momento informado na linha de cima, o agendamento foi aplicado 1519 pessoas.\n"
     ]
    }
   ],
   "source": [
    "print(f'Até o momento informado na linha de cima, o agendamento foi aplicado {df_carioca_agend.shape[0] - 1} pessoas.')"
   ]
  },
  {
   "cell_type": "code",
   "execution_count": 91,
   "id": "9414428f-6cee-40fa-a5e1-bbade796d2a3",
   "metadata": {},
   "outputs": [
    {
     "data": {
      "text/html": [
       "<div>\n",
       "<style scoped>\n",
       "    .dataframe tbody tr th:only-of-type {\n",
       "        vertical-align: middle;\n",
       "    }\n",
       "\n",
       "    .dataframe tbody tr th {\n",
       "        vertical-align: top;\n",
       "    }\n",
       "\n",
       "    .dataframe thead th {\n",
       "        text-align: right;\n",
       "    }\n",
       "</style>\n",
       "<table border=\"1\" class=\"dataframe\">\n",
       "  <thead>\n",
       "    <tr style=\"text-align: right;\">\n",
       "      <th></th>\n",
       "      <th>0</th>\n",
       "      <th>1</th>\n",
       "      <th>2</th>\n",
       "      <th>3</th>\n",
       "      <th>4</th>\n",
       "      <th>5</th>\n",
       "      <th>6</th>\n",
       "      <th>7</th>\n",
       "      <th>8</th>\n",
       "      <th>9</th>\n",
       "      <th>...</th>\n",
       "      <th>15</th>\n",
       "      <th>16</th>\n",
       "      <th>17</th>\n",
       "      <th>18</th>\n",
       "      <th>19</th>\n",
       "      <th>20</th>\n",
       "      <th>21</th>\n",
       "      <th>22</th>\n",
       "      <th>23</th>\n",
       "      <th>24</th>\n",
       "    </tr>\n",
       "  </thead>\n",
       "  <tbody>\n",
       "    <tr>\n",
       "      <th>0</th>\n",
       "      <td>Carimbo de data/hora</td>\n",
       "      <td>LOCAL</td>\n",
       "      <td>NOME COMPLETO</td>\n",
       "      <td></td>\n",
       "      <td>BAIRRO</td>\n",
       "      <td>CEP</td>\n",
       "      <td>DATA DE NASCIMENTO</td>\n",
       "      <td>TELEFONE</td>\n",
       "      <td>EMAIL</td>\n",
       "      <td>CPF</td>\n",
       "      <td>...</td>\n",
       "      <td>ENDEREÇO COMPLETO</td>\n",
       "      <td>CPF</td>\n",
       "      <td>Como soube do Projeto de Castração de cães e g...</td>\n",
       "      <td></td>\n",
       "      <td></td>\n",
       "      <td></td>\n",
       "      <td></td>\n",
       "      <td></td>\n",
       "      <td></td>\n",
       "      <td></td>\n",
       "    </tr>\n",
       "  </tbody>\n",
       "</table>\n",
       "<p>1 rows × 25 columns</p>\n",
       "</div>"
      ],
      "text/plain": [
       "                     0      1              2  3       4    5   \\\n",
       "0  Carimbo de data/hora  LOCAL  NOME COMPLETO     BAIRRO  CEP   \n",
       "\n",
       "                   6         7      8    9   ...                 15   16  \\\n",
       "0  DATA DE NASCIMENTO  TELEFONE  EMAIL  CPF  ...  ENDEREÇO COMPLETO  CPF   \n",
       "\n",
       "                                                  17 18 19 20 21 22 23 24  \n",
       "0  Como soube do Projeto de Castração de cães e g...                       \n",
       "\n",
       "[1 rows x 25 columns]"
      ]
     },
     "execution_count": 91,
     "metadata": {},
     "output_type": "execute_result"
    }
   ],
   "source": [
    "df_carioca_agend.head(1)"
   ]
  },
  {
   "cell_type": "code",
   "execution_count": 92,
   "id": "47023af1-73e5-4505-b961-44d2d4cb9b74",
   "metadata": {},
   "outputs": [],
   "source": [
    "df_carioca_agend = df_carioca_agend[[0,1,2,3,4,5,6,7,8,9,10,11,12,13,14,15,16,17]]\n",
    "df_carioca_agend.columns = list(df_carioca_agend[[0,1,2,3,4,5,6,7,8,9,10,11,12,13,14,15,16,17]].iloc[0])"
   ]
  },
  {
   "cell_type": "markdown",
   "id": "e19f7c55-1860-49e2-bdd3-7b3923eda1f9",
   "metadata": {},
   "source": [
    "Nessa etapa vamos informar os atributos ou variáveis que tem o quadro de dados, que em outras palavras são as perguntas (que se transformam em colunas na base de dados) respondidas no formulário __agendamento__ "
   ]
  },
  {
   "cell_type": "code",
   "execution_count": 104,
   "id": "7900a380-59e5-45f6-afee-74b6ceda29d8",
   "metadata": {},
   "outputs": [
    {
     "name": "stdout",
     "output_type": "stream",
     "text": [
      "Segue a lista com todas variáveis da base de dados: ['Carimbo de data/hora', 'LOCAL', 'NOME COMPLETO', '', 'BAIRRO', 'CEP', 'DATA DE NASCIMENTO', 'TELEFONE', 'EMAIL', 'CPF', 'NOME DO ANIMAL', 'ESPÉCIE', 'GÊNERO', 'STATUS/ATENDIMENTO', 'MOTIVO', 'ENDEREÇO COMPLETO', 'CPF', 'Como soube do Projeto de Castração de cães e gatos?']\n",
      "\n",
      "Vamos utilizar as variáveis: Carimbo de data/hora, ESPÉCIE, \n",
      "GÊNERO e STATUS/ATENDIMENTO.\n"
     ]
    }
   ],
   "source": [
    "print (f'Segue a lista com todas variáveis da base de dados: {list(df_carioca_agend.columns)}')\n",
    "print (f'''\\nVamos utilizar as variáveis: {list(df_carioca_agend.columns)[0]}, {list(df_carioca_agend.columns)[11]}, \n",
    "{list(df_carioca_agend.columns)[12]} e {list(df_carioca_agend.columns)[13]}.''')"
   ]
  },
  {
   "cell_type": "code",
   "execution_count": 66,
   "id": "b6da515f-59a7-4c89-bdb6-c5f1131bab38",
   "metadata": {},
   "outputs": [],
   "source": [
    "df_carioca_agend = df_carioca_agend.drop(0, axis=0)"
   ]
  },
  {
   "cell_type": "code",
   "execution_count": 67,
   "id": "23a53405-6463-4860-968d-a49fc571ee7a",
   "metadata": {},
   "outputs": [
    {
     "data": {
      "text/html": [
       "<div>\n",
       "<style scoped>\n",
       "    .dataframe tbody tr th:only-of-type {\n",
       "        vertical-align: middle;\n",
       "    }\n",
       "\n",
       "    .dataframe tbody tr th {\n",
       "        vertical-align: top;\n",
       "    }\n",
       "\n",
       "    .dataframe thead th {\n",
       "        text-align: right;\n",
       "    }\n",
       "</style>\n",
       "<table border=\"1\" class=\"dataframe\">\n",
       "  <thead>\n",
       "    <tr style=\"text-align: right;\">\n",
       "      <th></th>\n",
       "      <th>Carimbo de data/hora</th>\n",
       "      <th>LOCAL</th>\n",
       "      <th>NOME COMPLETO</th>\n",
       "      <th></th>\n",
       "      <th>BAIRRO</th>\n",
       "      <th>CEP</th>\n",
       "      <th>DATA DE NASCIMENTO</th>\n",
       "      <th>TELEFONE</th>\n",
       "      <th>EMAIL</th>\n",
       "      <th>CPF</th>\n",
       "      <th>NOME DO ANIMAL</th>\n",
       "      <th>ESPÉCIE</th>\n",
       "      <th>GÊNERO</th>\n",
       "      <th>STATUS/ATENDIMENTO</th>\n",
       "      <th>MOTIVO</th>\n",
       "      <th>ENDEREÇO COMPLETO</th>\n",
       "      <th>CPF</th>\n",
       "      <th>Como soube do Projeto de Castração de cães e gatos?</th>\n",
       "    </tr>\n",
       "  </thead>\n",
       "  <tbody>\n",
       "    <tr>\n",
       "      <th>1</th>\n",
       "      <td>25/02/2024 10:29:53</td>\n",
       "      <td>Adelazil Policardio de Oliveira</td>\n",
       "      <td>Av. Cidade de Deus 325 casa 3</td>\n",
       "      <td></td>\n",
       "      <td>Cidade de Deus</td>\n",
       "      <td>22773-200</td>\n",
       "      <td>28/05/1958</td>\n",
       "      <td>979467197</td>\n",
       "      <td></td>\n",
       "      <td>Gigi</td>\n",
       "      <td>21616450487</td>\n",
       "      <td>CANINO</td>\n",
       "      <td>FEMEA</td>\n",
       "      <td></td>\n",
       "      <td></td>\n",
       "      <td></td>\n",
       "      <td></td>\n",
       "      <td></td>\n",
       "    </tr>\n",
       "  </tbody>\n",
       "</table>\n",
       "</div>"
      ],
      "text/plain": [
       "  Carimbo de data/hora                            LOCAL  \\\n",
       "1  25/02/2024 10:29:53  Adelazil Policardio de Oliveira   \n",
       "\n",
       "                    NOME COMPLETO             BAIRRO         CEP  \\\n",
       "1  Av. Cidade de Deus 325 casa 3     Cidade de Deus   22773-200    \n",
       "\n",
       "  DATA DE NASCIMENTO   TELEFONE EMAIL    CPF NOME DO ANIMAL ESPÉCIE GÊNERO  \\\n",
       "1         28/05/1958  979467197        Gigi     21616450487  CANINO  FEMEA   \n",
       "\n",
       "  STATUS/ATENDIMENTO MOTIVO ENDEREÇO COMPLETO CPF  \\\n",
       "1                                                   \n",
       "\n",
       "  Como soube do Projeto de Castração de cães e gatos?  \n",
       "1                                                      "
      ]
     },
     "execution_count": 67,
     "metadata": {},
     "output_type": "execute_result"
    }
   ],
   "source": [
    "df_carioca_agend.head(1)"
   ]
  },
  {
   "cell_type": "code",
   "execution_count": 77,
   "id": "f068103c-999a-424c-a1a4-c3371f98bde4",
   "metadata": {},
   "outputs": [],
   "source": [
    "relatorio_agendamento_carioca = DataFrame(DataFrame(df_carioca_agend['Carimbo de data/hora'].str.split(' ', expand=True)[0]).join(df_carioca_agend[['ESPÉCIE','GÊNERO','STATUS/ATENDIMENTO']]).groupby(by=['STATUS/ATENDIMENTO']).value_counts()).reset_index()"
   ]
  },
  {
   "cell_type": "code",
   "execution_count": 79,
   "id": "2de0c666-cdc5-4553-b478-efc7740ef806",
   "metadata": {},
   "outputs": [
    {
     "data": {
      "text/html": [
       "<div>\n",
       "<style scoped>\n",
       "    .dataframe tbody tr th:only-of-type {\n",
       "        vertical-align: middle;\n",
       "    }\n",
       "\n",
       "    .dataframe tbody tr th {\n",
       "        vertical-align: top;\n",
       "    }\n",
       "\n",
       "    .dataframe thead th {\n",
       "        text-align: right;\n",
       "    }\n",
       "</style>\n",
       "<table border=\"1\" class=\"dataframe\">\n",
       "  <thead>\n",
       "    <tr style=\"text-align: right;\">\n",
       "      <th></th>\n",
       "      <th>STATUS/ATENDIMENTO</th>\n",
       "      <th>0</th>\n",
       "      <th>ESPÉCIE</th>\n",
       "      <th>GÊNERO</th>\n",
       "      <th>count</th>\n",
       "    </tr>\n",
       "  </thead>\n",
       "  <tbody>\n",
       "    <tr>\n",
       "      <th>0</th>\n",
       "      <td>CIRURGIA REALIZADA</td>\n",
       "      <td></td>\n",
       "      <td>FELINO</td>\n",
       "      <td>FEMEA</td>\n",
       "      <td>1</td>\n",
       "    </tr>\n",
       "    <tr>\n",
       "      <th>4</th>\n",
       "      <td>CIRURGIA REALIZADA</td>\n",
       "      <td>01/04/2024</td>\n",
       "      <td>FELINO</td>\n",
       "      <td>MACHO</td>\n",
       "      <td>8</td>\n",
       "    </tr>\n",
       "    <tr>\n",
       "      <th>5</th>\n",
       "      <td>CIRURGIA REALIZADA</td>\n",
       "      <td>01/04/2024</td>\n",
       "      <td>CANINO</td>\n",
       "      <td>MACHO</td>\n",
       "      <td>7</td>\n",
       "    </tr>\n",
       "    <tr>\n",
       "      <th>6</th>\n",
       "      <td>CIRURGIA REALIZADA</td>\n",
       "      <td>01/04/2024</td>\n",
       "      <td>FELINO</td>\n",
       "      <td>FEMEA</td>\n",
       "      <td>5</td>\n",
       "    </tr>\n",
       "    <tr>\n",
       "      <th>7</th>\n",
       "      <td>CIRURGIA REALIZADA</td>\n",
       "      <td>01/04/2024</td>\n",
       "      <td>CANINO</td>\n",
       "      <td>FEMEA</td>\n",
       "      <td>5</td>\n",
       "    </tr>\n",
       "    <tr>\n",
       "      <th>...</th>\n",
       "      <td>...</td>\n",
       "      <td>...</td>\n",
       "      <td>...</td>\n",
       "      <td>...</td>\n",
       "      <td>...</td>\n",
       "    </tr>\n",
       "    <tr>\n",
       "      <th>358</th>\n",
       "      <td>CIRURGIA REALIZADA</td>\n",
       "      <td>30/04/2024</td>\n",
       "      <td>FELINO</td>\n",
       "      <td>MACHO</td>\n",
       "      <td>1</td>\n",
       "    </tr>\n",
       "    <tr>\n",
       "      <th>359</th>\n",
       "      <td>CIRURGIA REALIZADA</td>\n",
       "      <td>31/03/2024</td>\n",
       "      <td>FELINO</td>\n",
       "      <td>FEMEA</td>\n",
       "      <td>9</td>\n",
       "    </tr>\n",
       "    <tr>\n",
       "      <th>360</th>\n",
       "      <td>CIRURGIA REALIZADA</td>\n",
       "      <td>31/03/2024</td>\n",
       "      <td>CANINO</td>\n",
       "      <td>MACHO</td>\n",
       "      <td>2</td>\n",
       "    </tr>\n",
       "    <tr>\n",
       "      <th>361</th>\n",
       "      <td>CIRURGIA REALIZADA</td>\n",
       "      <td>31/03/2024</td>\n",
       "      <td>FELINO</td>\n",
       "      <td>MACHO</td>\n",
       "      <td>2</td>\n",
       "    </tr>\n",
       "    <tr>\n",
       "      <th>362</th>\n",
       "      <td>CIRURGIA REALIZADA</td>\n",
       "      <td>31/03/2024</td>\n",
       "      <td>CANINO</td>\n",
       "      <td>FEMEA</td>\n",
       "      <td>1</td>\n",
       "    </tr>\n",
       "  </tbody>\n",
       "</table>\n",
       "<p>142 rows × 5 columns</p>\n",
       "</div>"
      ],
      "text/plain": [
       "     STATUS/ATENDIMENTO           0 ESPÉCIE GÊNERO  count\n",
       "0    CIRURGIA REALIZADA              FELINO  FEMEA      1\n",
       "4    CIRURGIA REALIZADA  01/04/2024  FELINO  MACHO      8\n",
       "5    CIRURGIA REALIZADA  01/04/2024  CANINO  MACHO      7\n",
       "6    CIRURGIA REALIZADA  01/04/2024  FELINO  FEMEA      5\n",
       "7    CIRURGIA REALIZADA  01/04/2024  CANINO  FEMEA      5\n",
       "..                  ...         ...     ...    ...    ...\n",
       "358  CIRURGIA REALIZADA  30/04/2024  FELINO  MACHO      1\n",
       "359  CIRURGIA REALIZADA  31/03/2024  FELINO  FEMEA      9\n",
       "360  CIRURGIA REALIZADA  31/03/2024  CANINO  MACHO      2\n",
       "361  CIRURGIA REALIZADA  31/03/2024  FELINO  MACHO      2\n",
       "362  CIRURGIA REALIZADA  31/03/2024  CANINO  FEMEA      1\n",
       "\n",
       "[142 rows x 5 columns]"
      ]
     },
     "execution_count": 79,
     "metadata": {},
     "output_type": "execute_result"
    }
   ],
   "source": [
    "relatorio_agendamento_carioca.loc[relatorio_agendamento_carioca['STATUS/ATENDIMENTO']== 'CIRURGIA REALIZADA']"
   ]
  },
  {
   "cell_type": "code",
   "execution_count": 78,
   "id": "f87a81e7-3595-4543-a4fe-ae0db5fad11f",
   "metadata": {},
   "outputs": [
    {
     "data": {
      "text/html": [
       "<div>\n",
       "<style scoped>\n",
       "    .dataframe tbody tr th:only-of-type {\n",
       "        vertical-align: middle;\n",
       "    }\n",
       "\n",
       "    .dataframe tbody tr th {\n",
       "        vertical-align: top;\n",
       "    }\n",
       "\n",
       "    .dataframe thead th {\n",
       "        text-align: right;\n",
       "    }\n",
       "</style>\n",
       "<table border=\"1\" class=\"dataframe\">\n",
       "  <thead>\n",
       "    <tr style=\"text-align: right;\">\n",
       "      <th></th>\n",
       "      <th>STATUS/ATENDIMENTO</th>\n",
       "      <th>0</th>\n",
       "      <th>ESPÉCIE</th>\n",
       "      <th>GÊNERO</th>\n",
       "      <th>count</th>\n",
       "    </tr>\n",
       "  </thead>\n",
       "  <tbody>\n",
       "    <tr>\n",
       "      <th>0</th>\n",
       "      <td>CIRURGIA REALIZADA</td>\n",
       "      <td></td>\n",
       "      <td>FELINO</td>\n",
       "      <td>FEMEA</td>\n",
       "      <td>1</td>\n",
       "    </tr>\n",
       "    <tr>\n",
       "      <th>1</th>\n",
       "      <td>RECUSA</td>\n",
       "      <td>01/03/2024</td>\n",
       "      <td>CANINO</td>\n",
       "      <td>MACHO</td>\n",
       "      <td>1</td>\n",
       "    </tr>\n",
       "    <tr>\n",
       "      <th>2</th>\n",
       "      <td>CIRURGIA REALIZADA</td>\n",
       "      <td>01/03/2024</td>\n",
       "      <td>FELINO</td>\n",
       "      <td>FEMEA</td>\n",
       "      <td>1</td>\n",
       "    </tr>\n",
       "    <tr>\n",
       "      <th>3</th>\n",
       "      <td>CIRURGIA REALIZADA</td>\n",
       "      <td>01/03/2024</td>\n",
       "      <td>CANINO</td>\n",
       "      <td>MACHO</td>\n",
       "      <td>1</td>\n",
       "    </tr>\n",
       "    <tr>\n",
       "      <th>4</th>\n",
       "      <td>CIRURGIA REALIZADA</td>\n",
       "      <td>01/04/2024</td>\n",
       "      <td>FELINO</td>\n",
       "      <td>MACHO</td>\n",
       "      <td>8</td>\n",
       "    </tr>\n",
       "    <tr>\n",
       "      <th>...</th>\n",
       "      <td>...</td>\n",
       "      <td>...</td>\n",
       "      <td>...</td>\n",
       "      <td>...</td>\n",
       "      <td>...</td>\n",
       "    </tr>\n",
       "    <tr>\n",
       "      <th>358</th>\n",
       "      <td>CIRURGIA REALIZADA</td>\n",
       "      <td>30/04/2024</td>\n",
       "      <td>FELINO</td>\n",
       "      <td>MACHO</td>\n",
       "      <td>1</td>\n",
       "    </tr>\n",
       "    <tr>\n",
       "      <th>359</th>\n",
       "      <td>CIRURGIA REALIZADA</td>\n",
       "      <td>31/03/2024</td>\n",
       "      <td>FELINO</td>\n",
       "      <td>FEMEA</td>\n",
       "      <td>9</td>\n",
       "    </tr>\n",
       "    <tr>\n",
       "      <th>360</th>\n",
       "      <td>CIRURGIA REALIZADA</td>\n",
       "      <td>31/03/2024</td>\n",
       "      <td>CANINO</td>\n",
       "      <td>MACHO</td>\n",
       "      <td>2</td>\n",
       "    </tr>\n",
       "    <tr>\n",
       "      <th>361</th>\n",
       "      <td>CIRURGIA REALIZADA</td>\n",
       "      <td>31/03/2024</td>\n",
       "      <td>FELINO</td>\n",
       "      <td>MACHO</td>\n",
       "      <td>2</td>\n",
       "    </tr>\n",
       "    <tr>\n",
       "      <th>362</th>\n",
       "      <td>CIRURGIA REALIZADA</td>\n",
       "      <td>31/03/2024</td>\n",
       "      <td>CANINO</td>\n",
       "      <td>FEMEA</td>\n",
       "      <td>1</td>\n",
       "    </tr>\n",
       "  </tbody>\n",
       "</table>\n",
       "<p>363 rows × 5 columns</p>\n",
       "</div>"
      ],
      "text/plain": [
       "      STATUS/ATENDIMENTO           0 ESPÉCIE GÊNERO  count\n",
       "0     CIRURGIA REALIZADA              FELINO  FEMEA      1\n",
       "1                 RECUSA  01/03/2024  CANINO  MACHO      1\n",
       "2    CIRURGIA REALIZADA   01/03/2024  FELINO  FEMEA      1\n",
       "3    CIRURGIA REALIZADA   01/03/2024  CANINO  MACHO      1\n",
       "4     CIRURGIA REALIZADA  01/04/2024  FELINO  MACHO      8\n",
       "..                   ...         ...     ...    ...    ...\n",
       "358   CIRURGIA REALIZADA  30/04/2024  FELINO  MACHO      1\n",
       "359   CIRURGIA REALIZADA  31/03/2024  FELINO  FEMEA      9\n",
       "360   CIRURGIA REALIZADA  31/03/2024  CANINO  MACHO      2\n",
       "361   CIRURGIA REALIZADA  31/03/2024  FELINO  MACHO      2\n",
       "362   CIRURGIA REALIZADA  31/03/2024  CANINO  FEMEA      1\n",
       "\n",
       "[363 rows x 5 columns]"
      ]
     },
     "execution_count": 78,
     "metadata": {},
     "output_type": "execute_result"
    }
   ],
   "source": [
    "relatorio_agendamento_carioca"
   ]
  },
  {
   "cell_type": "code",
   "execution_count": 56,
   "id": "34c14786-deed-46ca-b3d3-2ceb0926b2fd",
   "metadata": {},
   "outputs": [],
   "source": [
    "import numpy as np\n",
    "# natsort import index_natsorted\n",
    "#DataFrame(teste).reset_index().sort_values(by=[0], key=lambda x=np.argsort(ind) )"
   ]
  },
  {
   "cell_type": "markdown",
   "id": "9194ef59-8d74-4fcb-a4d9-7cb61dbffc67",
   "metadata": {},
   "source": [
    "---"
   ]
  }
 ],
 "metadata": {
  "kernelspec": {
   "display_name": "jupyter_venv",
   "language": "python",
   "name": "jupyter_venv"
  },
  "language_info": {
   "codemirror_mode": {
    "name": "ipython",
    "version": 3
   },
   "file_extension": ".py",
   "mimetype": "text/x-python",
   "name": "python",
   "nbconvert_exporter": "python",
   "pygments_lexer": "ipython3",
   "version": "3.10.12"
  }
 },
 "nbformat": 4,
 "nbformat_minor": 5
}
