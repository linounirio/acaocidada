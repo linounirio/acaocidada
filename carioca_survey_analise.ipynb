{
 "cells": [
  {
   "cell_type": "markdown",
   "id": "f4aa8c01-bd42-4c94-b85e-aef275564575",
   "metadata": {},
   "source": [
    "# CARIOCA > Formulário Socioeconômico aplicado"
   ]
  },
  {
   "cell_type": "markdown",
   "id": "5c25ca59-ff6e-44ed-a525-80852566448e",
   "metadata": {},
   "source": [
    "Esse será uma das bases de dados de buscarei desenvolver para o trabalho da disciplina"
   ]
  },
  {
   "cell_type": "markdown",
   "id": "704701d0-1b2b-41f1-8c76-4832f76f9758",
   "metadata": {},
   "source": [
    "Bibliotecas"
   ]
  },
  {
   "cell_type": "code",
   "execution_count": 47,
   "id": "345476e2-8e0f-44fa-9690-84d637e01da3",
   "metadata": {},
   "outputs": [],
   "source": [
    "import numpy as np\n",
    "from datetime import date, timedelta\n",
    "import string\n",
    "import time\n",
    "from pandas import DataFrame, unique\n",
    "from os import getcwd\n",
    "from pygsheets import authorize\n",
    "import pivottablejs"
   ]
  },
  {
   "cell_type": "markdown",
   "id": "e416de1a-afcb-46ff-a1f7-8f207c36c440",
   "metadata": {},
   "source": [
    "### integração via API - será usada biblioteca pygsheets:"
   ]
  },
  {
   "cell_type": "code",
   "execution_count": 66,
   "id": "8c068c8e-3146-4ce9-90df-5efc7df61cb1",
   "metadata": {},
   "outputs": [],
   "source": [
    "#autorizacao por credenciais\n",
    "credenciais = authorize(service_file = getcwd() + \"/keysurveycarioca.json\")"
   ]
  },
  {
   "cell_type": "code",
   "execution_count": 67,
   "id": "d2ab3ed0-5caf-4773-988a-def4e8ce9fe5",
   "metadata": {},
   "outputs": [],
   "source": [
    "link = \"https://docs.google.com/spreadsheets/d/1cEhObgXgvahMJYThuodjbXII-v-2e7FyLEOfDz00NiE/\""
   ]
  },
  {
   "cell_type": "code",
   "execution_count": 68,
   "id": "dc1f1ea2-044f-4186-a436-f910f6356045",
   "metadata": {},
   "outputs": [],
   "source": [
    "# acessando planilha\n",
    "planilha = credenciais.open_by_url(link)\n",
    "tabela = planilha.worksheet_by_title(\"Respostas ao formulário 1\")"
   ]
  },
  {
   "cell_type": "markdown",
   "id": "58cb5cf2-a899-4cb9-96e2-5a94a8d13973",
   "metadata": {},
   "source": [
    "### Criação do quadro de dados - Dataframe"
   ]
  },
  {
   "cell_type": "code",
   "execution_count": 114,
   "id": "f39c98ed-c87e-429b-b7f4-c85411d30bab",
   "metadata": {},
   "outputs": [
    {
     "name": "stdout",
     "output_type": "stream",
     "text": [
      "Na data 2024-05-28 esse quadro de dados está sendo criado.\n"
     ]
    }
   ],
   "source": [
    "# Criação\n",
    "from datetime import date\n",
    "carioca_df = DataFrame(tabela)\n",
    "print (f'Na data {date.today()} esse quadro de dados está sendo criado.')"
   ]
  },
  {
   "cell_type": "code",
   "execution_count": 115,
   "id": "44938f88-1713-48bb-a3da-6eda8d68e040",
   "metadata": {},
   "outputs": [
    {
     "name": "stdout",
     "output_type": "stream",
     "text": [
      "Até o momento informado na linha de cima, o agendamento foi aplicado em 632 pessoas.\n"
     ]
    }
   ],
   "source": [
    "print(f'Até o momento informado na linha de cima, o agendamento foi aplicado em {carioca_df.shape[0] - 1} pessoas.')"
   ]
  },
  {
   "cell_type": "code",
   "execution_count": 116,
   "id": "0a7b815d-0dab-499e-a033-b50f66631262",
   "metadata": {},
   "outputs": [
    {
     "data": {
      "text/html": [
       "<div>\n",
       "<style scoped>\n",
       "    .dataframe tbody tr th:only-of-type {\n",
       "        vertical-align: middle;\n",
       "    }\n",
       "\n",
       "    .dataframe tbody tr th {\n",
       "        vertical-align: top;\n",
       "    }\n",
       "\n",
       "    .dataframe thead th {\n",
       "        text-align: right;\n",
       "    }\n",
       "</style>\n",
       "<table border=\"1\" class=\"dataframe\">\n",
       "  <thead>\n",
       "    <tr style=\"text-align: right;\">\n",
       "      <th></th>\n",
       "      <th>0</th>\n",
       "      <th>1</th>\n",
       "      <th>2</th>\n",
       "      <th>3</th>\n",
       "      <th>4</th>\n",
       "      <th>5</th>\n",
       "      <th>6</th>\n",
       "      <th>7</th>\n",
       "      <th>8</th>\n",
       "      <th>9</th>\n",
       "      <th>...</th>\n",
       "      <th>17</th>\n",
       "      <th>18</th>\n",
       "      <th>19</th>\n",
       "      <th>20</th>\n",
       "      <th>21</th>\n",
       "      <th>22</th>\n",
       "      <th>23</th>\n",
       "      <th>24</th>\n",
       "      <th>25</th>\n",
       "      <th>26</th>\n",
       "    </tr>\n",
       "  </thead>\n",
       "  <tbody>\n",
       "    <tr>\n",
       "      <th>0</th>\n",
       "      <td>Carimbo de data/hora</td>\n",
       "      <td>LOCAL</td>\n",
       "      <td>NOME COMPLETO</td>\n",
       "      <td>CEP</td>\n",
       "      <td>Email</td>\n",
       "      <td>Como soube do Projeto de Castração de cães e g...</td>\n",
       "      <td>Possui mais animais de estimação?</td>\n",
       "      <td>Se sim. Quantos?</td>\n",
       "      <td>Já realizou castração de outro animal antes?</td>\n",
       "      <td>Se não realizou. Por que?</td>\n",
       "      <td>...</td>\n",
       "      <td>Qual a faixa de renda mensal da sua moradia (s...</td>\n",
       "      <td>Quantos banheiros sua moradia tem?</td>\n",
       "      <td>Quantos quartos tem na sua moradia?</td>\n",
       "      <td>Sobre a situação da sua moradia (sua casa)?</td>\n",
       "      <td></td>\n",
       "      <td></td>\n",
       "      <td></td>\n",
       "      <td></td>\n",
       "      <td></td>\n",
       "      <td></td>\n",
       "    </tr>\n",
       "  </tbody>\n",
       "</table>\n",
       "<p>1 rows × 27 columns</p>\n",
       "</div>"
      ],
      "text/plain": [
       "                     0      1              2    3      4   \\\n",
       "0  Carimbo de data/hora  LOCAL  NOME COMPLETO  CEP  Email   \n",
       "\n",
       "                                                  5   \\\n",
       "0  Como soube do Projeto de Castração de cães e g...   \n",
       "\n",
       "                                  6                 7   \\\n",
       "0  Possui mais animais de estimação?  Se sim. Quantos?   \n",
       "\n",
       "                                             8                          9   \\\n",
       "0  Já realizou castração de outro animal antes?  Se não realizou. Por que?   \n",
       "\n",
       "   ...                                                 17  \\\n",
       "0  ...  Qual a faixa de renda mensal da sua moradia (s...   \n",
       "\n",
       "                                   18                                   19  \\\n",
       "0  Quantos banheiros sua moradia tem?  Quantos quartos tem na sua moradia?   \n",
       "\n",
       "                                            20 21 22 23 24 25 26  \n",
       "0  Sobre a situação da sua moradia (sua casa)?                    \n",
       "\n",
       "[1 rows x 27 columns]"
      ]
     },
     "execution_count": 116,
     "metadata": {},
     "output_type": "execute_result"
    }
   ],
   "source": [
    "carioca_df.head(1)"
   ]
  },
  {
   "cell_type": "code",
   "execution_count": 117,
   "id": "68ee0659-5201-486f-9760-3600298daa5c",
   "metadata": {},
   "outputs": [],
   "source": [
    "df_carioca = carioca_df[[0,1,2,3,4,5,6,7,8,9,10,11,12,13,14,15,16,17,18,19,20]]\n",
    "df_carioca.columns = list(carioca_df[[0,1,2,3,4,5,6,7,8,9,10,11,12,13,14,15,16,17,18,19,20]].iloc[0])"
   ]
  },
  {
   "cell_type": "code",
   "execution_count": 118,
   "id": "ef5d6238-3cfb-460d-b139-0cf4ec077ded",
   "metadata": {},
   "outputs": [
    {
     "data": {
      "text/plain": [
       "(633, 21)"
      ]
     },
     "execution_count": 118,
     "metadata": {},
     "output_type": "execute_result"
    }
   ],
   "source": [
    "df_carioca.shape"
   ]
  },
  {
   "cell_type": "code",
   "execution_count": 119,
   "id": "a8829ae8-f3c5-4022-8097-ef17c8cfad76",
   "metadata": {},
   "outputs": [],
   "source": [
    "df_carioca = df_carioca.drop(0,axis=0)"
   ]
  },
  {
   "cell_type": "code",
   "execution_count": 120,
   "id": "4683a2a6-cb90-4003-896d-68b0cd67ab97",
   "metadata": {},
   "outputs": [
    {
     "name": "stdout",
     "output_type": "stream",
     "text": [
      "Index(['Carimbo de data/hora', 'LOCAL', 'NOME COMPLETO', 'CEP', 'Email',\n",
      "       'Como soube do Projeto de Castração de cães e gatos?',\n",
      "       'Possui mais animais de estimação?', 'Se sim. Quantos?',\n",
      "       'Já realizou castração de outro animal antes?',\n",
      "       'Se não realizou. Por que?', 'Qual seu sexo?', 'Qual a sua idade?',\n",
      "       'Como declara sua cor?',\n",
      "       'Está trabalhando (está com ocupação remunerada) atualmente?',\n",
      "       'Qual sua escolaridade?', 'Quantas pessoas moram com você?',\n",
      "       'Quantas pessoas que moram com você tem renda mensal ou emprego?',\n",
      "       'Qual a faixa de renda mensal da sua moradia (somando os valores de todos na casa por mês?)',\n",
      "       'Quantos banheiros sua moradia tem?',\n",
      "       'Quantos quartos tem na sua moradia?',\n",
      "       'Sobre a situação da sua moradia (sua casa)?'],\n",
      "      dtype='object')\n"
     ]
    }
   ],
   "source": [
    "df_carioca.shape\n",
    "print(df_carioca.columns)"
   ]
  },
  {
   "cell_type": "markdown",
   "id": "7f1d86aa-9b18-4039-b15e-4de715ddbd35",
   "metadata": {},
   "source": [
    "### Retirando dados pessoais da base de dados para trabalhar"
   ]
  },
  {
   "cell_type": "code",
   "execution_count": 121,
   "id": "0b5980ea-9017-4fa5-9a3f-abf3f72e54db",
   "metadata": {},
   "outputs": [],
   "source": [
    "atributos = ['Carimbo de data/hora',\n",
    "             'LOCAL',\n",
    "             'Como soube do Projeto de Castração de cães e gatos?',\n",
    "             'Possui mais animais de estimação?',\n",
    "             'Se sim. Quantos?',\n",
    "             'Já realizou castração de outro animal antes?',\n",
    "             'Se não realizou. Por que?',\n",
    "             'Qual seu sexo?',\n",
    "             'Qual a sua idade?',\n",
    "             'Como declara sua cor?',\n",
    "             'Está trabalhando (está com ocupação remunerada) atualmente?',\n",
    "             'Qual sua escolaridade?','Quantas pessoas moram com você?',\n",
    "             'Quantas pessoas que moram com você tem renda mensal ou emprego?',\n",
    "             'Qual a faixa de renda mensal da sua moradia (somando os valores de todos na casa por mês?)',\n",
    "             'Quantos banheiros sua moradia tem?',\n",
    "             'Quantos quartos tem na sua moradia?',\n",
    "             'Sobre a situação da sua moradia (sua casa)?']"
   ]
  },
  {
   "cell_type": "code",
   "execution_count": 122,
   "id": "627bdb84-0b52-4b98-b941-d99cead4d2f1",
   "metadata": {},
   "outputs": [],
   "source": [
    "df_carioca = df_carioca[atributos]"
   ]
  },
  {
   "cell_type": "code",
   "execution_count": 123,
   "id": "cab94352-61ca-4834-91b9-a61773f4c352",
   "metadata": {},
   "outputs": [],
   "source": [
    "variaveis = ['data',\n",
    "             'local',\n",
    "             'divulgacao',\n",
    "             '+ pets',\n",
    "             'quantos +',\n",
    "             'castrou antes',\n",
    "             'nao pq',\n",
    "             'sexo',\n",
    "             'idade',\n",
    "             'cor',\n",
    "             'ocupacao',\n",
    "             'escolaridade',\n",
    "             'pessoas moradia',\n",
    "             'qtde c/ renda',\n",
    "             'faixa de renda familiar',\n",
    "             'banheiros moradia',\n",
    "             'quartos moradia',\n",
    "             'situacao da moradia']"
   ]
  },
  {
   "cell_type": "code",
   "execution_count": 124,
   "id": "35a09e7b-4527-4d81-9c17-9cef4eb0759a",
   "metadata": {},
   "outputs": [],
   "source": [
    "df_carioca.columns = variaveis"
   ]
  },
  {
   "cell_type": "code",
   "execution_count": 125,
   "id": "daa59e2b-60da-4a86-9ade-96450d95b4ed",
   "metadata": {},
   "outputs": [
    {
     "data": {
      "text/html": [
       "<div>\n",
       "<style scoped>\n",
       "    .dataframe tbody tr th:only-of-type {\n",
       "        vertical-align: middle;\n",
       "    }\n",
       "\n",
       "    .dataframe tbody tr th {\n",
       "        vertical-align: top;\n",
       "    }\n",
       "\n",
       "    .dataframe thead th {\n",
       "        text-align: right;\n",
       "    }\n",
       "</style>\n",
       "<table border=\"1\" class=\"dataframe\">\n",
       "  <thead>\n",
       "    <tr style=\"text-align: right;\">\n",
       "      <th></th>\n",
       "      <th>data</th>\n",
       "      <th>local</th>\n",
       "      <th>divulgacao</th>\n",
       "      <th>+ pets</th>\n",
       "      <th>quantos +</th>\n",
       "      <th>castrou antes</th>\n",
       "      <th>nao pq</th>\n",
       "      <th>sexo</th>\n",
       "      <th>idade</th>\n",
       "      <th>cor</th>\n",
       "      <th>ocupacao</th>\n",
       "      <th>escolaridade</th>\n",
       "      <th>pessoas moradia</th>\n",
       "      <th>qtde c/ renda</th>\n",
       "      <th>faixa de renda familiar</th>\n",
       "      <th>banheiros moradia</th>\n",
       "      <th>quartos moradia</th>\n",
       "      <th>situacao da moradia</th>\n",
       "    </tr>\n",
       "  </thead>\n",
       "  <tbody>\n",
       "    <tr>\n",
       "      <th>1</th>\n",
       "      <td>05/04/2024 09:05:16</td>\n",
       "      <td>RIO GRANDE</td>\n",
       "      <td>Faixa</td>\n",
       "      <td>Não</td>\n",
       "      <td></td>\n",
       "      <td>Não</td>\n",
       "      <td>É o primeiro animal que tenho</td>\n",
       "      <td>Feminino</td>\n",
       "      <td>30 - 34</td>\n",
       "      <td>Preto</td>\n",
       "      <td>Não ocupado (a), não está procurando trabalho ...</td>\n",
       "      <td>Ensino Médio Incompleto</td>\n",
       "      <td>5</td>\n",
       "      <td>1</td>\n",
       "      <td>R$ 1.413,00 até R$ 2.824,00</td>\n",
       "      <td>1</td>\n",
       "      <td>Mais de 3 quartos</td>\n",
       "      <td>É própria (a que você mora)</td>\n",
       "    </tr>\n",
       "  </tbody>\n",
       "</table>\n",
       "</div>"
      ],
      "text/plain": [
       "                  data       local divulgacao + pets quantos + castrou antes  \\\n",
       "1  05/04/2024 09:05:16  RIO GRANDE      Faixa    Não                     Não   \n",
       "\n",
       "                          nao pq      sexo    idade    cor  \\\n",
       "1  É o primeiro animal que tenho  Feminino  30 - 34  Preto   \n",
       "\n",
       "                                            ocupacao             escolaridade  \\\n",
       "1  Não ocupado (a), não está procurando trabalho ...  Ensino Médio Incompleto   \n",
       "\n",
       "  pessoas moradia qtde c/ renda      faixa de renda familiar  \\\n",
       "1               5             1  R$ 1.413,00 até R$ 2.824,00   \n",
       "\n",
       "  banheiros moradia    quartos moradia          situacao da moradia  \n",
       "1                 1  Mais de 3 quartos  É própria (a que você mora)  "
      ]
     },
     "execution_count": 125,
     "metadata": {},
     "output_type": "execute_result"
    }
   ],
   "source": [
    "df_carioca.head(1)"
   ]
  },
  {
   "cell_type": "markdown",
   "id": "88c328fa-cbd6-42df-a76b-36b0a37f1085",
   "metadata": {},
   "source": [
    "### Formatando as datas para trabalhar com funções"
   ]
  },
  {
   "cell_type": "code",
   "execution_count": 126,
   "id": "529c8c78-45ad-452c-8776-d70f696db81b",
   "metadata": {},
   "outputs": [],
   "source": [
    "df_carioca['data'] = df_carioca['data'].str.split(' ', expand=True)[0]"
   ]
  },
  {
   "cell_type": "code",
   "execution_count": 127,
   "id": "f7508cfa-cd95-4807-9eeb-49a25431aa19",
   "metadata": {},
   "outputs": [],
   "source": [
    "from convert_datas import converte_data\n",
    "df_carioca['data'] = df_carioca['data'].map(lambda x: converte_data(x))"
   ]
  },
  {
   "cell_type": "code",
   "execution_count": 128,
   "id": "67be7a7c-edd5-4660-89f0-291c45526951",
   "metadata": {},
   "outputs": [
    {
     "data": {
      "text/html": [
       "<div>\n",
       "<style scoped>\n",
       "    .dataframe tbody tr th:only-of-type {\n",
       "        vertical-align: middle;\n",
       "    }\n",
       "\n",
       "    .dataframe tbody tr th {\n",
       "        vertical-align: top;\n",
       "    }\n",
       "\n",
       "    .dataframe thead th {\n",
       "        text-align: right;\n",
       "    }\n",
       "</style>\n",
       "<table border=\"1\" class=\"dataframe\">\n",
       "  <thead>\n",
       "    <tr style=\"text-align: right;\">\n",
       "      <th></th>\n",
       "      <th>data</th>\n",
       "      <th>local</th>\n",
       "      <th>divulgacao</th>\n",
       "      <th>+ pets</th>\n",
       "      <th>quantos +</th>\n",
       "      <th>castrou antes</th>\n",
       "      <th>nao pq</th>\n",
       "      <th>sexo</th>\n",
       "      <th>idade</th>\n",
       "      <th>cor</th>\n",
       "      <th>ocupacao</th>\n",
       "      <th>escolaridade</th>\n",
       "      <th>pessoas moradia</th>\n",
       "      <th>qtde c/ renda</th>\n",
       "      <th>faixa de renda familiar</th>\n",
       "      <th>banheiros moradia</th>\n",
       "      <th>quartos moradia</th>\n",
       "      <th>situacao da moradia</th>\n",
       "    </tr>\n",
       "  </thead>\n",
       "  <tbody>\n",
       "    <tr>\n",
       "      <th>1</th>\n",
       "      <td>2024-04-05</td>\n",
       "      <td>RIO GRANDE</td>\n",
       "      <td>Faixa</td>\n",
       "      <td>Não</td>\n",
       "      <td></td>\n",
       "      <td>Não</td>\n",
       "      <td>É o primeiro animal que tenho</td>\n",
       "      <td>Feminino</td>\n",
       "      <td>30 - 34</td>\n",
       "      <td>Preto</td>\n",
       "      <td>Não ocupado (a), não está procurando trabalho ...</td>\n",
       "      <td>Ensino Médio Incompleto</td>\n",
       "      <td>5</td>\n",
       "      <td>1</td>\n",
       "      <td>R$ 1.413,00 até R$ 2.824,00</td>\n",
       "      <td>1</td>\n",
       "      <td>Mais de 3 quartos</td>\n",
       "      <td>É própria (a que você mora)</td>\n",
       "    </tr>\n",
       "    <tr>\n",
       "      <th>2</th>\n",
       "      <td>2024-04-05</td>\n",
       "      <td>RIO GRANDE</td>\n",
       "      <td>Whatsapp (grupo de faz parte)</td>\n",
       "      <td>Não</td>\n",
       "      <td></td>\n",
       "      <td>Não</td>\n",
       "      <td>É o primeiro animal que tenho</td>\n",
       "      <td>Feminino</td>\n",
       "      <td>40 - 44</td>\n",
       "      <td>Pardo</td>\n",
       "      <td>Está ocupado (a) trabalhando no momento sem ho...</td>\n",
       "      <td>Ensino Superior Completo</td>\n",
       "      <td>3</td>\n",
       "      <td>2</td>\n",
       "      <td>R$ 4.237,00 até R$ 5.648,00</td>\n",
       "      <td>2</td>\n",
       "      <td>2</td>\n",
       "      <td>É própria (a que você mora)</td>\n",
       "    </tr>\n",
       "  </tbody>\n",
       "</table>\n",
       "</div>"
      ],
      "text/plain": [
       "        data       local                     divulgacao + pets quantos +  \\\n",
       "1 2024-04-05  RIO GRANDE                          Faixa    Não             \n",
       "2 2024-04-05  RIO GRANDE  Whatsapp (grupo de faz parte)    Não             \n",
       "\n",
       "  castrou antes                         nao pq      sexo    idade    cor  \\\n",
       "1           Não  É o primeiro animal que tenho  Feminino  30 - 34  Preto   \n",
       "2           Não  É o primeiro animal que tenho  Feminino  40 - 44  Pardo   \n",
       "\n",
       "                                            ocupacao  \\\n",
       "1  Não ocupado (a), não está procurando trabalho ...   \n",
       "2  Está ocupado (a) trabalhando no momento sem ho...   \n",
       "\n",
       "               escolaridade pessoas moradia qtde c/ renda  \\\n",
       "1   Ensino Médio Incompleto               5             1   \n",
       "2  Ensino Superior Completo               3             2   \n",
       "\n",
       "       faixa de renda familiar banheiros moradia    quartos moradia  \\\n",
       "1  R$ 1.413,00 até R$ 2.824,00                 1  Mais de 3 quartos   \n",
       "2  R$ 4.237,00 até R$ 5.648,00                 2                  2   \n",
       "\n",
       "           situacao da moradia  \n",
       "1  É própria (a que você mora)  \n",
       "2  É própria (a que você mora)  "
      ]
     },
     "execution_count": 128,
     "metadata": {},
     "output_type": "execute_result"
    }
   ],
   "source": [
    "df_carioca.head(2)"
   ]
  },
  {
   "cell_type": "markdown",
   "id": "9a33db91-40df-4275-b150-9a6b2ebd5b26",
   "metadata": {},
   "source": [
    "### Formatando atributo - \"faixa de renda familiar\" - para ordenamento correto de variáveis qualitativas ordinais. "
   ]
  },
  {
   "cell_type": "code",
   "execution_count": 129,
   "id": "7f6bb0b1-f4f1-4e70-be98-13f2acf7cfd2",
   "metadata": {},
   "outputs": [
    {
     "data": {
      "text/plain": [
       "array(['R$ 1.413,00 até R$ 2.824,00', 'R$ 4.237,00 até R$ 5.648,00',\n",
       "       'R$ 707,00 até R$ 1.412,00', 'Não se Aplica',\n",
       "       'R$ 2.825,00 até R$ 4.236,00', 'R$ 1,00 até R$ 706,00',\n",
       "       'Mais de R$ 5.648,00'], dtype=object)"
      ]
     },
     "execution_count": 129,
     "metadata": {},
     "output_type": "execute_result"
    }
   ],
   "source": [
    "df_carioca['faixa de renda familiar'].unique()"
   ]
  },
  {
   "cell_type": "code",
   "execution_count": null,
   "id": "2b8445b7-d48d-4d08-ab4e-bb0c2f016ae5",
   "metadata": {},
   "outputs": [],
   "source": [
    "df_carioca['faixa de renda familiar'].loc[df_carioca['faixa de renda familiar']=='R$ 1,00 até R$ 706,00']='1-706'"
   ]
  },
  {
   "cell_type": "code",
   "execution_count": null,
   "id": "b5fa33fd-feb1-45df-be62-b3d18b7cc492",
   "metadata": {
    "scrolled": true
   },
   "outputs": [],
   "source": [
    "df_carioca['faixa de renda familiar'].loc[df_carioca['faixa de renda familiar']=='R$ 707,00 até R$ 1.412,00']='707-1412'"
   ]
  },
  {
   "cell_type": "code",
   "execution_count": null,
   "id": "abb967a9-7aa4-4c2e-af6f-aab576ca5941",
   "metadata": {},
   "outputs": [],
   "source": [
    "df_carioca['faixa de renda familiar'].loc[df_carioca['faixa de renda familiar']=='R$ 1.413,00 até R$ 2.824,00']='1413-2824'"
   ]
  },
  {
   "cell_type": "code",
   "execution_count": null,
   "id": "76cf95cd-5598-493b-87f9-12a50301bdfb",
   "metadata": {},
   "outputs": [],
   "source": [
    "df_carioca['faixa de renda familiar'].loc[df_carioca['faixa de renda familiar']=='R$ 2.825,00 até R$ 4.236,00']='2825-4236'"
   ]
  },
  {
   "cell_type": "code",
   "execution_count": null,
   "id": "3b8d9f9f-95f7-4bac-be07-078afefd6811",
   "metadata": {},
   "outputs": [],
   "source": [
    "df_carioca['faixa de renda familiar'].loc[df_carioca['faixa de renda familiar']=='R$ 4.237,00 até R$ 5.648,00']='4237-5648'"
   ]
  },
  {
   "cell_type": "code",
   "execution_count": null,
   "id": "6a2ff754-ce22-46cb-bce8-983bc30afbca",
   "metadata": {},
   "outputs": [],
   "source": [
    "df_carioca['faixa de renda familiar'].loc[df_carioca['faixa de renda familiar']=='Mais de R$ 5.648,00']='5648 | +'"
   ]
  },
  {
   "cell_type": "code",
   "execution_count": null,
   "id": "9f262118-2ae4-4dd9-a281-d2f3e4e10302",
   "metadata": {},
   "outputs": [],
   "source": [
    "df_carioca['faixa de renda familiar'].loc[df_carioca['faixa de renda familiar']=='Não se Aplica']='00'"
   ]
  },
  {
   "cell_type": "code",
   "execution_count": 140,
   "id": "d07b14b3-adc1-409a-aaad-5e44e68eb8b3",
   "metadata": {},
   "outputs": [
    {
     "data": {
      "text/plain": [
       "array(['1413-2824', '4237-5648', '707-1412', '00', '2825-4236', '1-706',\n",
       "       '5648 | +'], dtype=object)"
      ]
     },
     "execution_count": 140,
     "metadata": {},
     "output_type": "execute_result"
    }
   ],
   "source": [
    "df_carioca['faixa de renda familiar'].unique()"
   ]
  },
  {
   "cell_type": "code",
   "execution_count": 138,
   "id": "763fc5b1-f7fe-4145-b246-7312259b5b2b",
   "metadata": {},
   "outputs": [
    {
     "data": {
      "text/html": [
       "<div>\n",
       "<style scoped>\n",
       "    .dataframe tbody tr th:only-of-type {\n",
       "        vertical-align: middle;\n",
       "    }\n",
       "\n",
       "    .dataframe tbody tr th {\n",
       "        vertical-align: top;\n",
       "    }\n",
       "\n",
       "    .dataframe thead th {\n",
       "        text-align: right;\n",
       "    }\n",
       "</style>\n",
       "<table border=\"1\" class=\"dataframe\">\n",
       "  <thead>\n",
       "    <tr style=\"text-align: right;\">\n",
       "      <th></th>\n",
       "      <th>data</th>\n",
       "      <th>local</th>\n",
       "      <th>divulgacao</th>\n",
       "      <th>+ pets</th>\n",
       "      <th>quantos +</th>\n",
       "      <th>castrou antes</th>\n",
       "      <th>nao pq</th>\n",
       "      <th>sexo</th>\n",
       "      <th>idade</th>\n",
       "      <th>cor</th>\n",
       "      <th>ocupacao</th>\n",
       "      <th>escolaridade</th>\n",
       "      <th>pessoas moradia</th>\n",
       "      <th>qtde c/ renda</th>\n",
       "      <th>faixa de renda familiar</th>\n",
       "      <th>banheiros moradia</th>\n",
       "      <th>quartos moradia</th>\n",
       "      <th>situacao da moradia</th>\n",
       "    </tr>\n",
       "  </thead>\n",
       "  <tbody>\n",
       "    <tr>\n",
       "      <th>1</th>\n",
       "      <td>2024-04-05</td>\n",
       "      <td>RIO GRANDE</td>\n",
       "      <td>Faixa</td>\n",
       "      <td>Não</td>\n",
       "      <td></td>\n",
       "      <td>Não</td>\n",
       "      <td>É o primeiro animal que tenho</td>\n",
       "      <td>Feminino</td>\n",
       "      <td>30 - 34</td>\n",
       "      <td>Preto</td>\n",
       "      <td>Não ocupado (a), não está procurando trabalho ...</td>\n",
       "      <td>Ensino Médio Incompleto</td>\n",
       "      <td>5</td>\n",
       "      <td>1</td>\n",
       "      <td>1413-2824</td>\n",
       "      <td>1</td>\n",
       "      <td>Mais de 3 quartos</td>\n",
       "      <td>É própria (a que você mora)</td>\n",
       "    </tr>\n",
       "    <tr>\n",
       "      <th>2</th>\n",
       "      <td>2024-04-05</td>\n",
       "      <td>RIO GRANDE</td>\n",
       "      <td>Whatsapp (grupo de faz parte)</td>\n",
       "      <td>Não</td>\n",
       "      <td></td>\n",
       "      <td>Não</td>\n",
       "      <td>É o primeiro animal que tenho</td>\n",
       "      <td>Feminino</td>\n",
       "      <td>40 - 44</td>\n",
       "      <td>Pardo</td>\n",
       "      <td>Está ocupado (a) trabalhando no momento sem ho...</td>\n",
       "      <td>Ensino Superior Completo</td>\n",
       "      <td>3</td>\n",
       "      <td>2</td>\n",
       "      <td>4237-5648</td>\n",
       "      <td>2</td>\n",
       "      <td>2</td>\n",
       "      <td>É própria (a que você mora)</td>\n",
       "    </tr>\n",
       "  </tbody>\n",
       "</table>\n",
       "</div>"
      ],
      "text/plain": [
       "        data       local                     divulgacao + pets quantos +  \\\n",
       "1 2024-04-05  RIO GRANDE                          Faixa    Não             \n",
       "2 2024-04-05  RIO GRANDE  Whatsapp (grupo de faz parte)    Não             \n",
       "\n",
       "  castrou antes                         nao pq      sexo    idade    cor  \\\n",
       "1           Não  É o primeiro animal que tenho  Feminino  30 - 34  Preto   \n",
       "2           Não  É o primeiro animal que tenho  Feminino  40 - 44  Pardo   \n",
       "\n",
       "                                            ocupacao  \\\n",
       "1  Não ocupado (a), não está procurando trabalho ...   \n",
       "2  Está ocupado (a) trabalhando no momento sem ho...   \n",
       "\n",
       "               escolaridade pessoas moradia qtde c/ renda  \\\n",
       "1   Ensino Médio Incompleto               5             1   \n",
       "2  Ensino Superior Completo               3             2   \n",
       "\n",
       "  faixa de renda familiar banheiros moradia    quartos moradia  \\\n",
       "1               1413-2824                 1  Mais de 3 quartos   \n",
       "2               4237-5648                 2                  2   \n",
       "\n",
       "           situacao da moradia  \n",
       "1  É própria (a que você mora)  \n",
       "2  É própria (a que você mora)  "
      ]
     },
     "execution_count": 138,
     "metadata": {},
     "output_type": "execute_result"
    }
   ],
   "source": [
    "df_carioca.head(2)"
   ]
  },
  {
   "cell_type": "markdown",
   "id": "939b307d-cf82-407b-a906-b736b4cef74b",
   "metadata": {},
   "source": [
    "### Relatórios rápidos"
   ]
  },
  {
   "cell_type": "code",
   "execution_count": 108,
   "id": "5cda32c1-ae51-4281-a2ed-ff2c0534ec4c",
   "metadata": {},
   "outputs": [
    {
     "name": "stdout",
     "output_type": "stream",
     "text": [
      "/home/lino/Área de Trabalho/acaocidada/note_acaocidada\n"
     ]
    }
   ],
   "source": [
    "!pwd"
   ]
  },
  {
   "cell_type": "code",
   "execution_count": 139,
   "id": "c21f287f-b91a-4d50-866d-4ec6487a9d36",
   "metadata": {
    "scrolled": true
   },
   "outputs": [
    {
     "data": {
      "text/html": [
       "\n",
       "        <iframe\n",
       "            width=\"100%\"\n",
       "            height=\"500\"\n",
       "            src=\"http://localhost/carioca2805.html\"\n",
       "            frameborder=\"0\"\n",
       "            allowfullscreen\n",
       "            \n",
       "        ></iframe>\n",
       "        "
      ],
      "text/plain": [
       "<IPython.lib.display.IFrame at 0x7ab5b89323e0>"
      ]
     },
     "execution_count": 139,
     "metadata": {},
     "output_type": "execute_result"
    }
   ],
   "source": [
    "from pivottablejs import pivot_ui\n",
    "\n",
    "pivot_ui(df_carioca, outfile_path='/home/lino/Área de Trabalho/acaocidada/note_acaocidada/carioca_28_05.html', url='http://localhost/carioca2805.html')"
   ]
  }
 ],
 "metadata": {
  "kernelspec": {
   "display_name": "Python 3 (ipykernel)",
   "language": "python",
   "name": "python3"
  },
  "language_info": {
   "codemirror_mode": {
    "name": "ipython",
    "version": 3
   },
   "file_extension": ".py",
   "mimetype": "text/x-python",
   "name": "python",
   "nbconvert_exporter": "python",
   "pygments_lexer": "ipython3",
   "version": "3.10.12"
  }
 },
 "nbformat": 4,
 "nbformat_minor": 5
}
