{
 "cells": [
  {
   "cell_type": "markdown",
   "id": "e9a030d5-374a-4afc-bae4-f0cc1b180d06",
   "metadata": {},
   "source": [
    "# Relatório com resumo dos resultados da fase 01 do projeto, no intervalo \n",
    "\n",
    "### fevereiro a julho"
   ]
  },
  {
   "cell_type": "code",
   "execution_count": 221,
   "id": "6f42d31c-aa99-4aac-a4aa-95f784a18932",
   "metadata": {},
   "outputs": [],
   "source": [
    "import numpy as np\n",
    "from datetime import datetime, date, timedelta\n",
    "import datetime\n",
    "import string\n",
    "import time\n",
    "from csv import reader\n",
    "from pandas import DataFrame, read_csv,unique, to_datetime, Series, get_dummies, concat, ExcelWriter\n",
    "import matplotlib.pyplot as plt\n",
    "from os import getcwd, path\n",
    "from convert import converte_data,datetime,formata,minuscula\n",
    "import pivottablejs\n",
    "import openpyxl"
   ]
  },
  {
   "cell_type": "markdown",
   "id": "ac99936b-fcb5-40a4-b6e2-4b7575c3641a",
   "metadata": {},
   "source": [
    "#### Criação das funções que serão usadas nas três bases de dados."
   ]
  },
  {
   "cell_type": "markdown",
   "id": "9e7bc1a8-c470-4d79-a3d2-a75d661deb5a",
   "metadata": {},
   "source": [
    "As Funções precisam automatizar as tarefas:\n",
    "\n",
    "1. formatar a data do atributo 'Carimbo de data/hora' para o formato que o python utiliza\n",
    "2. juntar os atributos 'especie' e 'genero'\n",
    "3. criar o atributo mês\n",
    "4. criar o atributo do indicador de eficácia do projeto\n",
    "5. formatar o null do atributo 'status/atendimento' para obter informações dos pets que não realizaram a cirurgia.\n",
    "6. não lembro"
   ]
  },
  {
   "cell_type": "markdown",
   "id": "cf455fe1-4d0b-4fbd-ac1c-796295cfdee8",
   "metadata": {},
   "source": [
    "# Juntando as Bases prontas:"
   ]
  },
  {
   "cell_type": "markdown",
   "id": "bd5dcf09-3b48-4f98-bfdc-7fdd4d44f221",
   "metadata": {},
   "source": [
    "### Genero"
   ]
  },
  {
   "cell_type": "code",
   "execution_count": null,
   "id": "05312a8b-c093-46c5-aeda-7f760513d839",
   "metadata": {},
   "outputs": [],
   "source": [
    "carioca_genero = relat_fs01[['canino_f','canino_m','felino_f','felino_m']]\n",
    "carioca_genero['total'] = carioca_genero.sum(axis=1)"
   ]
  },
  {
   "cell_type": "code",
   "execution_count": 100,
   "id": "dd72fde8-efe4-4397-bda5-19a818bf9829",
   "metadata": {},
   "outputs": [
    {
     "data": {
      "text/html": [
       "<div>\n",
       "<style scoped>\n",
       "    .dataframe tbody tr th:only-of-type {\n",
       "        vertical-align: middle;\n",
       "    }\n",
       "\n",
       "    .dataframe tbody tr th {\n",
       "        vertical-align: top;\n",
       "    }\n",
       "\n",
       "    .dataframe thead th {\n",
       "        text-align: right;\n",
       "    }\n",
       "</style>\n",
       "<table border=\"1\" class=\"dataframe\">\n",
       "  <thead>\n",
       "    <tr style=\"text-align: right;\">\n",
       "      <th></th>\n",
       "      <th>canino_f</th>\n",
       "      <th>canino_m</th>\n",
       "      <th>felino_f</th>\n",
       "      <th>felino_m</th>\n",
       "      <th>total</th>\n",
       "    </tr>\n",
       "    <tr>\n",
       "      <th>trailer</th>\n",
       "      <th></th>\n",
       "      <th></th>\n",
       "      <th></th>\n",
       "      <th></th>\n",
       "      <th></th>\n",
       "    </tr>\n",
       "  </thead>\n",
       "  <tbody>\n",
       "    <tr>\n",
       "      <th>carioca</th>\n",
       "      <td>576</td>\n",
       "      <td>406</td>\n",
       "      <td>467</td>\n",
       "      <td>335</td>\n",
       "      <td>1784</td>\n",
       "    </tr>\n",
       "  </tbody>\n",
       "</table>\n",
       "</div>"
      ],
      "text/plain": [
       "         canino_f  canino_m  felino_f  felino_m  total\n",
       "trailer                                               \n",
       "carioca       576       406       467       335   1784"
      ]
     },
     "execution_count": 100,
     "metadata": {},
     "output_type": "execute_result"
    }
   ],
   "source": [
    "carioca_genero"
   ]
  },
  {
   "cell_type": "code",
   "execution_count": null,
   "id": "994c259e-9148-4ea5-9e9f-bffdb3f8e91f",
   "metadata": {},
   "outputs": [],
   "source": [
    "rio_2_genero = tbl_rio_2[['canino_f','canino_m','felino_f','felino_m']]\n",
    "rio_2_genero['total'] = rio_2_genero.sum(axis=1)"
   ]
  },
  {
   "cell_type": "code",
   "execution_count": 104,
   "id": "0c1683de-2451-48d8-88e5-dd1ac2d34f50",
   "metadata": {},
   "outputs": [
    {
     "data": {
      "text/html": [
       "<div>\n",
       "<style scoped>\n",
       "    .dataframe tbody tr th:only-of-type {\n",
       "        vertical-align: middle;\n",
       "    }\n",
       "\n",
       "    .dataframe tbody tr th {\n",
       "        vertical-align: top;\n",
       "    }\n",
       "\n",
       "    .dataframe thead th {\n",
       "        text-align: right;\n",
       "    }\n",
       "</style>\n",
       "<table border=\"1\" class=\"dataframe\">\n",
       "  <thead>\n",
       "    <tr style=\"text-align: right;\">\n",
       "      <th></th>\n",
       "      <th>canino_f</th>\n",
       "      <th>canino_m</th>\n",
       "      <th>felino_f</th>\n",
       "      <th>felino_m</th>\n",
       "      <th>total</th>\n",
       "    </tr>\n",
       "    <tr>\n",
       "      <th>trailer</th>\n",
       "      <th></th>\n",
       "      <th></th>\n",
       "      <th></th>\n",
       "      <th></th>\n",
       "      <th></th>\n",
       "    </tr>\n",
       "  </thead>\n",
       "  <tbody>\n",
       "    <tr>\n",
       "      <th>rio_2</th>\n",
       "      <td>105</td>\n",
       "      <td>82</td>\n",
       "      <td>89</td>\n",
       "      <td>95</td>\n",
       "      <td>371</td>\n",
       "    </tr>\n",
       "  </tbody>\n",
       "</table>\n",
       "</div>"
      ],
      "text/plain": [
       "         canino_f  canino_m  felino_f  felino_m  total\n",
       "trailer                                               \n",
       "rio_2         105        82        89        95    371"
      ]
     },
     "execution_count": 104,
     "metadata": {},
     "output_type": "execute_result"
    }
   ],
   "source": [
    "rio_2_genero"
   ]
  },
  {
   "cell_type": "code",
   "execution_count": null,
   "id": "c3433e2f-e794-41b0-a898-c02014cb3784",
   "metadata": {},
   "outputs": [],
   "source": [
    "rio_genero = tbl_rio[['canino_f','canino_m','felino_f','felino_m']]\n",
    "rio_genero['total'] = rio_genero.sum(axis=1)"
   ]
  },
  {
   "cell_type": "code",
   "execution_count": 151,
   "id": "369751aa-188b-4a18-bb83-ffc1590eb6cd",
   "metadata": {},
   "outputs": [
    {
     "data": {
      "text/html": [
       "<div>\n",
       "<style scoped>\n",
       "    .dataframe tbody tr th:only-of-type {\n",
       "        vertical-align: middle;\n",
       "    }\n",
       "\n",
       "    .dataframe tbody tr th {\n",
       "        vertical-align: top;\n",
       "    }\n",
       "\n",
       "    .dataframe thead th {\n",
       "        text-align: right;\n",
       "    }\n",
       "</style>\n",
       "<table border=\"1\" class=\"dataframe\">\n",
       "  <thead>\n",
       "    <tr style=\"text-align: right;\">\n",
       "      <th></th>\n",
       "      <th>canino_f</th>\n",
       "      <th>canino_m</th>\n",
       "      <th>felino_f</th>\n",
       "      <th>felino_m</th>\n",
       "      <th>total</th>\n",
       "    </tr>\n",
       "    <tr>\n",
       "      <th>trailer</th>\n",
       "      <th></th>\n",
       "      <th></th>\n",
       "      <th></th>\n",
       "      <th></th>\n",
       "      <th></th>\n",
       "    </tr>\n",
       "  </thead>\n",
       "  <tbody>\n",
       "    <tr>\n",
       "      <th>rio</th>\n",
       "      <td>360</td>\n",
       "      <td>305</td>\n",
       "      <td>359</td>\n",
       "      <td>413</td>\n",
       "      <td>1437</td>\n",
       "    </tr>\n",
       "  </tbody>\n",
       "</table>\n",
       "</div>"
      ],
      "text/plain": [
       "         canino_f  canino_m  felino_f  felino_m  total\n",
       "trailer                                               \n",
       "rio           360       305       359       413   1437"
      ]
     },
     "execution_count": 151,
     "metadata": {},
     "output_type": "execute_result"
    }
   ],
   "source": [
    "rio_genero"
   ]
  },
  {
   "cell_type": "code",
   "execution_count": 169,
   "id": "b37a3b77-391a-4f6a-8ec0-38a59475021a",
   "metadata": {},
   "outputs": [],
   "source": [
    "frames_genero = [carioca_genero,rio_genero,rio_2_genero]"
   ]
  },
  {
   "cell_type": "code",
   "execution_count": 170,
   "id": "1f487615-ea94-451e-80eb-de58645d65ff",
   "metadata": {},
   "outputs": [],
   "source": [
    "genero = concat(frames_genero)"
   ]
  },
  {
   "cell_type": "code",
   "execution_count": 171,
   "id": "73a6de8a-cadf-4eb1-a834-2f0ca3467b13",
   "metadata": {},
   "outputs": [],
   "source": [
    "genero.loc['total'] = list(genero.sum(axis=0))"
   ]
  },
  {
   "cell_type": "code",
   "execution_count": 172,
   "id": "bbccacbd-d199-48d3-a6f6-9c53e1437b9e",
   "metadata": {},
   "outputs": [
    {
     "data": {
      "text/html": [
       "<div>\n",
       "<style scoped>\n",
       "    .dataframe tbody tr th:only-of-type {\n",
       "        vertical-align: middle;\n",
       "    }\n",
       "\n",
       "    .dataframe tbody tr th {\n",
       "        vertical-align: top;\n",
       "    }\n",
       "\n",
       "    .dataframe thead th {\n",
       "        text-align: right;\n",
       "    }\n",
       "</style>\n",
       "<table border=\"1\" class=\"dataframe\">\n",
       "  <thead>\n",
       "    <tr style=\"text-align: right;\">\n",
       "      <th></th>\n",
       "      <th>canino_f</th>\n",
       "      <th>canino_m</th>\n",
       "      <th>felino_f</th>\n",
       "      <th>felino_m</th>\n",
       "      <th>total</th>\n",
       "    </tr>\n",
       "    <tr>\n",
       "      <th>trailer</th>\n",
       "      <th></th>\n",
       "      <th></th>\n",
       "      <th></th>\n",
       "      <th></th>\n",
       "      <th></th>\n",
       "    </tr>\n",
       "  </thead>\n",
       "  <tbody>\n",
       "    <tr>\n",
       "      <th>carioca</th>\n",
       "      <td>576</td>\n",
       "      <td>406</td>\n",
       "      <td>467</td>\n",
       "      <td>335</td>\n",
       "      <td>1784</td>\n",
       "    </tr>\n",
       "    <tr>\n",
       "      <th>rio</th>\n",
       "      <td>360</td>\n",
       "      <td>305</td>\n",
       "      <td>359</td>\n",
       "      <td>413</td>\n",
       "      <td>1437</td>\n",
       "    </tr>\n",
       "    <tr>\n",
       "      <th>rio_2</th>\n",
       "      <td>105</td>\n",
       "      <td>82</td>\n",
       "      <td>89</td>\n",
       "      <td>95</td>\n",
       "      <td>371</td>\n",
       "    </tr>\n",
       "    <tr>\n",
       "      <th>total</th>\n",
       "      <td>1041</td>\n",
       "      <td>793</td>\n",
       "      <td>915</td>\n",
       "      <td>843</td>\n",
       "      <td>3592</td>\n",
       "    </tr>\n",
       "  </tbody>\n",
       "</table>\n",
       "</div>"
      ],
      "text/plain": [
       "         canino_f  canino_m  felino_f  felino_m  total\n",
       "trailer                                               \n",
       "carioca       576       406       467       335   1784\n",
       "rio           360       305       359       413   1437\n",
       "rio_2         105        82        89        95    371\n",
       "total        1041       793       915       843   3592"
      ]
     },
     "execution_count": 172,
     "metadata": {},
     "output_type": "execute_result"
    }
   ],
   "source": [
    "genero"
   ]
  },
  {
   "cell_type": "markdown",
   "id": "4ca8ba8f-e917-40d0-a9d9-1fa64d992f9d",
   "metadata": {},
   "source": [
    "# STATUS"
   ]
  },
  {
   "cell_type": "code",
   "execution_count": null,
   "id": "d03cc4f9-5fe7-4b81-9c3e-066dee8424b8",
   "metadata": {},
   "outputs": [],
   "source": [
    "carioca_status = relat_fs01[['cirurg_realizada','cirurg_n_realizada','endereço não encontrado']]\n",
    "carioca_status['total'] = carioca_status.sum(axis=1)"
   ]
  },
  {
   "cell_type": "code",
   "execution_count": 181,
   "id": "95800156-9182-4b2a-a818-9b804501de03",
   "metadata": {},
   "outputs": [
    {
     "data": {
      "text/html": [
       "<div>\n",
       "<style scoped>\n",
       "    .dataframe tbody tr th:only-of-type {\n",
       "        vertical-align: middle;\n",
       "    }\n",
       "\n",
       "    .dataframe tbody tr th {\n",
       "        vertical-align: top;\n",
       "    }\n",
       "\n",
       "    .dataframe thead th {\n",
       "        text-align: right;\n",
       "    }\n",
       "</style>\n",
       "<table border=\"1\" class=\"dataframe\">\n",
       "  <thead>\n",
       "    <tr style=\"text-align: right;\">\n",
       "      <th></th>\n",
       "      <th>cirurg_realizada</th>\n",
       "      <th>cirurg_n_realizada</th>\n",
       "      <th>endereço não encontrado</th>\n",
       "      <th>total</th>\n",
       "    </tr>\n",
       "    <tr>\n",
       "      <th>trailer</th>\n",
       "      <th></th>\n",
       "      <th></th>\n",
       "      <th></th>\n",
       "      <th></th>\n",
       "    </tr>\n",
       "  </thead>\n",
       "  <tbody>\n",
       "    <tr>\n",
       "      <th>carioca</th>\n",
       "      <td>1118</td>\n",
       "      <td>665</td>\n",
       "      <td>1</td>\n",
       "      <td>1784</td>\n",
       "    </tr>\n",
       "  </tbody>\n",
       "</table>\n",
       "</div>"
      ],
      "text/plain": [
       "         cirurg_realizada  cirurg_n_realizada  endereço não encontrado  total\n",
       "trailer                                                                      \n",
       "carioca              1118                 665                        1   1784"
      ]
     },
     "execution_count": 181,
     "metadata": {},
     "output_type": "execute_result"
    }
   ],
   "source": [
    "carioca_status"
   ]
  },
  {
   "cell_type": "code",
   "execution_count": null,
   "id": "e7c82a40-eeff-4d8c-99c5-96db4b492952",
   "metadata": {},
   "outputs": [],
   "source": [
    "rio_status = tbl_rio[['cirurg_realizada','cirurg_n_realizada','chipagem']]\n",
    "rio_status['total'] = rio_status.sum(axis=1)"
   ]
  },
  {
   "cell_type": "code",
   "execution_count": 180,
   "id": "08140055-83dd-45ec-9c49-dbd4c526b60f",
   "metadata": {},
   "outputs": [
    {
     "data": {
      "text/html": [
       "<div>\n",
       "<style scoped>\n",
       "    .dataframe tbody tr th:only-of-type {\n",
       "        vertical-align: middle;\n",
       "    }\n",
       "\n",
       "    .dataframe tbody tr th {\n",
       "        vertical-align: top;\n",
       "    }\n",
       "\n",
       "    .dataframe thead th {\n",
       "        text-align: right;\n",
       "    }\n",
       "</style>\n",
       "<table border=\"1\" class=\"dataframe\">\n",
       "  <thead>\n",
       "    <tr style=\"text-align: right;\">\n",
       "      <th></th>\n",
       "      <th>cirurg_realizada</th>\n",
       "      <th>cirurg_n_realizada</th>\n",
       "      <th>chipagem</th>\n",
       "      <th>total</th>\n",
       "    </tr>\n",
       "    <tr>\n",
       "      <th>trailer</th>\n",
       "      <th></th>\n",
       "      <th></th>\n",
       "      <th></th>\n",
       "      <th></th>\n",
       "    </tr>\n",
       "  </thead>\n",
       "  <tbody>\n",
       "    <tr>\n",
       "      <th>rio</th>\n",
       "      <td>852</td>\n",
       "      <td>548</td>\n",
       "      <td>37</td>\n",
       "      <td>1437</td>\n",
       "    </tr>\n",
       "  </tbody>\n",
       "</table>\n",
       "</div>"
      ],
      "text/plain": [
       "         cirurg_realizada  cirurg_n_realizada  chipagem  total\n",
       "trailer                                                       \n",
       "rio                   852                 548        37   1437"
      ]
     },
     "execution_count": 180,
     "metadata": {},
     "output_type": "execute_result"
    }
   ],
   "source": [
    "rio_status"
   ]
  },
  {
   "cell_type": "code",
   "execution_count": null,
   "id": "deae8305-c058-4924-a1b5-1f6bd89d26b2",
   "metadata": {},
   "outputs": [],
   "source": [
    "rio_2_status = tbl_rio_2[['cirurg_realizada','cirurg_n_realizada']]\n",
    "rio_2_status['total'] = rio_2_status.sum(axis=1)"
   ]
  },
  {
   "cell_type": "code",
   "execution_count": 183,
   "id": "16d380e4-9610-4159-b77c-6c1448bd24ee",
   "metadata": {},
   "outputs": [
    {
     "data": {
      "text/html": [
       "<div>\n",
       "<style scoped>\n",
       "    .dataframe tbody tr th:only-of-type {\n",
       "        vertical-align: middle;\n",
       "    }\n",
       "\n",
       "    .dataframe tbody tr th {\n",
       "        vertical-align: top;\n",
       "    }\n",
       "\n",
       "    .dataframe thead th {\n",
       "        text-align: right;\n",
       "    }\n",
       "</style>\n",
       "<table border=\"1\" class=\"dataframe\">\n",
       "  <thead>\n",
       "    <tr style=\"text-align: right;\">\n",
       "      <th></th>\n",
       "      <th>cirurg_realizada</th>\n",
       "      <th>cirurg_n_realizada</th>\n",
       "      <th>total</th>\n",
       "    </tr>\n",
       "    <tr>\n",
       "      <th>trailer</th>\n",
       "      <th></th>\n",
       "      <th></th>\n",
       "      <th></th>\n",
       "    </tr>\n",
       "  </thead>\n",
       "  <tbody>\n",
       "    <tr>\n",
       "      <th>rio_2</th>\n",
       "      <td>288</td>\n",
       "      <td>83</td>\n",
       "      <td>371</td>\n",
       "    </tr>\n",
       "  </tbody>\n",
       "</table>\n",
       "</div>"
      ],
      "text/plain": [
       "         cirurg_realizada  cirurg_n_realizada  total\n",
       "trailer                                             \n",
       "rio_2                 288                  83    371"
      ]
     },
     "execution_count": 183,
     "metadata": {},
     "output_type": "execute_result"
    }
   ],
   "source": [
    "rio_2_status"
   ]
  },
  {
   "cell_type": "code",
   "execution_count": 184,
   "id": "1a18c2f2-9989-493a-800d-c23f49bdfcac",
   "metadata": {},
   "outputs": [],
   "source": [
    "frames_status = [carioca_status,rio_status,rio_2_status]"
   ]
  },
  {
   "cell_type": "code",
   "execution_count": 185,
   "id": "7efd189d-c3e1-4c8f-9a7e-6ace8a7ff60a",
   "metadata": {},
   "outputs": [],
   "source": [
    "status = concat(frames_status)"
   ]
  },
  {
   "cell_type": "code",
   "execution_count": 187,
   "id": "a4ff2027-c427-4057-999b-43e10cf4cf73",
   "metadata": {},
   "outputs": [],
   "source": [
    "status = status[['cirurg_realizada','cirurg_n_realizada','endereço não encontrado','chipagem','total']]"
   ]
  },
  {
   "cell_type": "code",
   "execution_count": null,
   "id": "e3eb2778-4130-45bf-9ff5-afcbbef22c39",
   "metadata": {},
   "outputs": [],
   "source": [
    "status.loc['total'] = list(status.sum(axis=0))"
   ]
  },
  {
   "cell_type": "code",
   "execution_count": 191,
   "id": "dfe8d23c-235e-42e7-a129-f48697824e38",
   "metadata": {},
   "outputs": [
    {
     "data": {
      "text/html": [
       "<div>\n",
       "<style scoped>\n",
       "    .dataframe tbody tr th:only-of-type {\n",
       "        vertical-align: middle;\n",
       "    }\n",
       "\n",
       "    .dataframe tbody tr th {\n",
       "        vertical-align: top;\n",
       "    }\n",
       "\n",
       "    .dataframe thead th {\n",
       "        text-align: right;\n",
       "    }\n",
       "</style>\n",
       "<table border=\"1\" class=\"dataframe\">\n",
       "  <thead>\n",
       "    <tr style=\"text-align: right;\">\n",
       "      <th></th>\n",
       "      <th>cirurg_realizada</th>\n",
       "      <th>cirurg_n_realizada</th>\n",
       "      <th>endereço não encontrado</th>\n",
       "      <th>chipagem</th>\n",
       "      <th>total</th>\n",
       "    </tr>\n",
       "    <tr>\n",
       "      <th>trailer</th>\n",
       "      <th></th>\n",
       "      <th></th>\n",
       "      <th></th>\n",
       "      <th></th>\n",
       "      <th></th>\n",
       "    </tr>\n",
       "  </thead>\n",
       "  <tbody>\n",
       "    <tr>\n",
       "      <th>carioca</th>\n",
       "      <td>1118.0</td>\n",
       "      <td>665.0</td>\n",
       "      <td>1.0</td>\n",
       "      <td>NaN</td>\n",
       "      <td>1784.0</td>\n",
       "    </tr>\n",
       "    <tr>\n",
       "      <th>rio</th>\n",
       "      <td>852.0</td>\n",
       "      <td>548.0</td>\n",
       "      <td>NaN</td>\n",
       "      <td>37.0</td>\n",
       "      <td>1437.0</td>\n",
       "    </tr>\n",
       "    <tr>\n",
       "      <th>rio_2</th>\n",
       "      <td>288.0</td>\n",
       "      <td>83.0</td>\n",
       "      <td>NaN</td>\n",
       "      <td>NaN</td>\n",
       "      <td>371.0</td>\n",
       "    </tr>\n",
       "    <tr>\n",
       "      <th>total</th>\n",
       "      <td>2258.0</td>\n",
       "      <td>1296.0</td>\n",
       "      <td>1.0</td>\n",
       "      <td>37.0</td>\n",
       "      <td>3592.0</td>\n",
       "    </tr>\n",
       "  </tbody>\n",
       "</table>\n",
       "</div>"
      ],
      "text/plain": [
       "         cirurg_realizada  cirurg_n_realizada  endereço não encontrado  \\\n",
       "trailer                                                                  \n",
       "carioca            1118.0               665.0                      1.0   \n",
       "rio                 852.0               548.0                      NaN   \n",
       "rio_2               288.0                83.0                      NaN   \n",
       "total              2258.0              1296.0                      1.0   \n",
       "\n",
       "         chipagem   total  \n",
       "trailer                    \n",
       "carioca       NaN  1784.0  \n",
       "rio          37.0  1437.0  \n",
       "rio_2         NaN   371.0  \n",
       "total        37.0  3592.0  "
      ]
     },
     "execution_count": 191,
     "metadata": {},
     "output_type": "execute_result"
    }
   ],
   "source": [
    "status"
   ]
  },
  {
   "cell_type": "markdown",
   "id": "198ecd4d-b6cc-4850-86d3-ca785f29c6b6",
   "metadata": {},
   "source": [
    "# Meses"
   ]
  },
  {
   "cell_type": "code",
   "execution_count": null,
   "id": "fc488fb6-dff4-4d1e-af9e-337a40cbbfc4",
   "metadata": {},
   "outputs": [],
   "source": [
    "carioca_meses = relat_fs01[['February', 'March','April', 'May', 'June', 'July']]\n",
    "carioca_meses['total'] = carioca_meses.sum(axis=1)"
   ]
  },
  {
   "cell_type": "code",
   "execution_count": null,
   "id": "fa97495f-3372-42be-adc4-29245e828a30",
   "metadata": {},
   "outputs": [],
   "source": [
    "carioca_meses['inicio_fase-01'] = dia_inicio_carioca\n",
    "carioca_meses['fim_fase-01'] = ultimo_dia_carioca  "
   ]
  },
  {
   "cell_type": "code",
   "execution_count": 196,
   "id": "3e0ea3e7-4a96-4a9f-b783-adb064d4351d",
   "metadata": {},
   "outputs": [
    {
     "data": {
      "text/html": [
       "<div>\n",
       "<style scoped>\n",
       "    .dataframe tbody tr th:only-of-type {\n",
       "        vertical-align: middle;\n",
       "    }\n",
       "\n",
       "    .dataframe tbody tr th {\n",
       "        vertical-align: top;\n",
       "    }\n",
       "\n",
       "    .dataframe thead th {\n",
       "        text-align: right;\n",
       "    }\n",
       "</style>\n",
       "<table border=\"1\" class=\"dataframe\">\n",
       "  <thead>\n",
       "    <tr style=\"text-align: right;\">\n",
       "      <th></th>\n",
       "      <th>February</th>\n",
       "      <th>March</th>\n",
       "      <th>April</th>\n",
       "      <th>May</th>\n",
       "      <th>June</th>\n",
       "      <th>July</th>\n",
       "      <th>total</th>\n",
       "      <th>inicio_fase-01</th>\n",
       "      <th>fim_fase-01</th>\n",
       "    </tr>\n",
       "    <tr>\n",
       "      <th>trailer</th>\n",
       "      <th></th>\n",
       "      <th></th>\n",
       "      <th></th>\n",
       "      <th></th>\n",
       "      <th></th>\n",
       "      <th></th>\n",
       "      <th></th>\n",
       "      <th></th>\n",
       "      <th></th>\n",
       "    </tr>\n",
       "  </thead>\n",
       "  <tbody>\n",
       "    <tr>\n",
       "      <th>carioca</th>\n",
       "      <td>266</td>\n",
       "      <td>588</td>\n",
       "      <td>650</td>\n",
       "      <td>255</td>\n",
       "      <td>24</td>\n",
       "      <td>1</td>\n",
       "      <td>1784</td>\n",
       "      <td>2024-02-25</td>\n",
       "      <td>2024-07-01</td>\n",
       "    </tr>\n",
       "  </tbody>\n",
       "</table>\n",
       "</div>"
      ],
      "text/plain": [
       "         February  March  April  May  June  July  total inicio_fase-01  \\\n",
       "trailer                                                                  \n",
       "carioca       266    588    650  255    24     1   1784     2024-02-25   \n",
       "\n",
       "        fim_fase-01  \n",
       "trailer              \n",
       "carioca  2024-07-01  "
      ]
     },
     "execution_count": 196,
     "metadata": {},
     "output_type": "execute_result"
    }
   ],
   "source": [
    "carioca_meses"
   ]
  },
  {
   "cell_type": "code",
   "execution_count": null,
   "id": "0799b5ac-2ac7-4174-8171-796eff0f3408",
   "metadata": {},
   "outputs": [],
   "source": [
    "rio_meses = tbl_rio[['February', 'March', 'April', 'May']]\n",
    "rio_meses['total'] = rio_meses.sum(axis=1)"
   ]
  },
  {
   "cell_type": "code",
   "execution_count": null,
   "id": "1041825c-5773-4f70-91da-679b45a89ab4",
   "metadata": {},
   "outputs": [],
   "source": [
    "rio_meses['inicio_fase-01'] = dia_inicio_rio\n",
    "rio_meses['fim_fase-01'] = ultimo_dia_rio"
   ]
  },
  {
   "cell_type": "code",
   "execution_count": 201,
   "id": "679796e9-69f0-4dc9-896a-a114db7d5c6d",
   "metadata": {},
   "outputs": [
    {
     "data": {
      "text/html": [
       "<div>\n",
       "<style scoped>\n",
       "    .dataframe tbody tr th:only-of-type {\n",
       "        vertical-align: middle;\n",
       "    }\n",
       "\n",
       "    .dataframe tbody tr th {\n",
       "        vertical-align: top;\n",
       "    }\n",
       "\n",
       "    .dataframe thead th {\n",
       "        text-align: right;\n",
       "    }\n",
       "</style>\n",
       "<table border=\"1\" class=\"dataframe\">\n",
       "  <thead>\n",
       "    <tr style=\"text-align: right;\">\n",
       "      <th></th>\n",
       "      <th>February</th>\n",
       "      <th>March</th>\n",
       "      <th>April</th>\n",
       "      <th>May</th>\n",
       "      <th>total</th>\n",
       "      <th>inicio_fase-01</th>\n",
       "      <th>fim_fase-01</th>\n",
       "    </tr>\n",
       "    <tr>\n",
       "      <th>trailer</th>\n",
       "      <th></th>\n",
       "      <th></th>\n",
       "      <th></th>\n",
       "      <th></th>\n",
       "      <th></th>\n",
       "      <th></th>\n",
       "      <th></th>\n",
       "    </tr>\n",
       "  </thead>\n",
       "  <tbody>\n",
       "    <tr>\n",
       "      <th>rio</th>\n",
       "      <td>370</td>\n",
       "      <td>399</td>\n",
       "      <td>372</td>\n",
       "      <td>296</td>\n",
       "      <td>1437</td>\n",
       "      <td>2024-02-18</td>\n",
       "      <td>2024-05-31</td>\n",
       "    </tr>\n",
       "  </tbody>\n",
       "</table>\n",
       "</div>"
      ],
      "text/plain": [
       "         February  March  April  May  total inicio_fase-01 fim_fase-01\n",
       "trailer                                                               \n",
       "rio           370    399    372  296   1437     2024-02-18  2024-05-31"
      ]
     },
     "execution_count": 201,
     "metadata": {},
     "output_type": "execute_result"
    }
   ],
   "source": [
    "rio_meses"
   ]
  },
  {
   "cell_type": "code",
   "execution_count": null,
   "id": "afb6a727-a221-4733-91ab-a84ea7cc243d",
   "metadata": {},
   "outputs": [],
   "source": [
    "rio_2_meses = tbl_rio_2[['March', 'April', 'May', 'June']]\n",
    "rio_2_meses['total'] = rio_2_meses.sum(axis=1)"
   ]
  },
  {
   "cell_type": "code",
   "execution_count": null,
   "id": "a8dbb559-d873-4911-8922-e01c0edbb22f",
   "metadata": {},
   "outputs": [],
   "source": [
    "rio_2_meses['inicio_fase-01'] = dia_inicio_rio_2\n",
    "rio_2_meses['fim_fase-01'] = ultimo_dia_rio_2"
   ]
  },
  {
   "cell_type": "code",
   "execution_count": 206,
   "id": "5770a1ee-52f1-4063-b15c-740c27704bf4",
   "metadata": {},
   "outputs": [
    {
     "data": {
      "text/html": [
       "<div>\n",
       "<style scoped>\n",
       "    .dataframe tbody tr th:only-of-type {\n",
       "        vertical-align: middle;\n",
       "    }\n",
       "\n",
       "    .dataframe tbody tr th {\n",
       "        vertical-align: top;\n",
       "    }\n",
       "\n",
       "    .dataframe thead th {\n",
       "        text-align: right;\n",
       "    }\n",
       "</style>\n",
       "<table border=\"1\" class=\"dataframe\">\n",
       "  <thead>\n",
       "    <tr style=\"text-align: right;\">\n",
       "      <th></th>\n",
       "      <th>March</th>\n",
       "      <th>April</th>\n",
       "      <th>May</th>\n",
       "      <th>June</th>\n",
       "      <th>total</th>\n",
       "      <th>inicio_fase-01</th>\n",
       "      <th>fim_fase-01</th>\n",
       "    </tr>\n",
       "    <tr>\n",
       "      <th>trailer</th>\n",
       "      <th></th>\n",
       "      <th></th>\n",
       "      <th></th>\n",
       "      <th></th>\n",
       "      <th></th>\n",
       "      <th></th>\n",
       "      <th></th>\n",
       "    </tr>\n",
       "  </thead>\n",
       "  <tbody>\n",
       "    <tr>\n",
       "      <th>rio_2</th>\n",
       "      <td>145</td>\n",
       "      <td>176</td>\n",
       "      <td>48</td>\n",
       "      <td>2</td>\n",
       "      <td>371</td>\n",
       "      <td>2024-03-30</td>\n",
       "      <td>2027-06-07</td>\n",
       "    </tr>\n",
       "  </tbody>\n",
       "</table>\n",
       "</div>"
      ],
      "text/plain": [
       "         March  April  May  June  total inicio_fase-01 fim_fase-01\n",
       "trailer                                                           \n",
       "rio_2      145    176   48     2    371     2024-03-30  2027-06-07"
      ]
     },
     "execution_count": 206,
     "metadata": {},
     "output_type": "execute_result"
    }
   ],
   "source": [
    "rio_2_meses"
   ]
  },
  {
   "cell_type": "code",
   "execution_count": 207,
   "id": "c4d1525f-c70e-4390-b979-72b38b2bc1f9",
   "metadata": {},
   "outputs": [],
   "source": [
    "rio_2_meses.loc[(rio_2_meses['fim_fase-01']=='2027-06-07'),['fim_fase-01']]='2024-06-07'"
   ]
  },
  {
   "cell_type": "code",
   "execution_count": 208,
   "id": "148a91d8-626d-43c2-890b-20b368368ebb",
   "metadata": {},
   "outputs": [
    {
     "data": {
      "text/html": [
       "<div>\n",
       "<style scoped>\n",
       "    .dataframe tbody tr th:only-of-type {\n",
       "        vertical-align: middle;\n",
       "    }\n",
       "\n",
       "    .dataframe tbody tr th {\n",
       "        vertical-align: top;\n",
       "    }\n",
       "\n",
       "    .dataframe thead th {\n",
       "        text-align: right;\n",
       "    }\n",
       "</style>\n",
       "<table border=\"1\" class=\"dataframe\">\n",
       "  <thead>\n",
       "    <tr style=\"text-align: right;\">\n",
       "      <th></th>\n",
       "      <th>March</th>\n",
       "      <th>April</th>\n",
       "      <th>May</th>\n",
       "      <th>June</th>\n",
       "      <th>total</th>\n",
       "      <th>inicio_fase-01</th>\n",
       "      <th>fim_fase-01</th>\n",
       "    </tr>\n",
       "    <tr>\n",
       "      <th>trailer</th>\n",
       "      <th></th>\n",
       "      <th></th>\n",
       "      <th></th>\n",
       "      <th></th>\n",
       "      <th></th>\n",
       "      <th></th>\n",
       "      <th></th>\n",
       "    </tr>\n",
       "  </thead>\n",
       "  <tbody>\n",
       "    <tr>\n",
       "      <th>rio_2</th>\n",
       "      <td>145</td>\n",
       "      <td>176</td>\n",
       "      <td>48</td>\n",
       "      <td>2</td>\n",
       "      <td>371</td>\n",
       "      <td>2024-03-30</td>\n",
       "      <td>2024-06-07</td>\n",
       "    </tr>\n",
       "  </tbody>\n",
       "</table>\n",
       "</div>"
      ],
      "text/plain": [
       "         March  April  May  June  total inicio_fase-01 fim_fase-01\n",
       "trailer                                                           \n",
       "rio_2      145    176   48     2    371     2024-03-30  2024-06-07"
      ]
     },
     "execution_count": 208,
     "metadata": {},
     "output_type": "execute_result"
    }
   ],
   "source": [
    "rio_2_meses"
   ]
  },
  {
   "cell_type": "code",
   "execution_count": 209,
   "id": "ce01a5f0-2534-4665-a475-587b43df051d",
   "metadata": {},
   "outputs": [],
   "source": [
    "frames_meses = [carioca_meses, rio_meses, rio_2_meses]"
   ]
  },
  {
   "cell_type": "code",
   "execution_count": 210,
   "id": "b9d4c3e9-a994-4130-b4bb-befc57143d60",
   "metadata": {},
   "outputs": [],
   "source": [
    "meses = concat(frames_meses)"
   ]
  },
  {
   "cell_type": "code",
   "execution_count": 214,
   "id": "47bb33fe-a279-4b3d-830b-9e61365337ee",
   "metadata": {},
   "outputs": [],
   "source": [
    "#criação da linha de totais\n",
    "meses.loc[['total'],['inicio_fase-01','fim_fase-01']]= '-' "
   ]
  },
  {
   "cell_type": "code",
   "execution_count": 218,
   "id": "33319bd5-b136-4538-83e5-bff43f2b6cb6",
   "metadata": {},
   "outputs": [],
   "source": [
    "meses.loc['total'] = list(meses[['February', 'March','April', 'May', 'June', 'July','total']].sum(axis=0))+['-','-']"
   ]
  },
  {
   "cell_type": "code",
   "execution_count": 219,
   "id": "73dbfe68-2c13-41e2-a498-9dc2cb090a08",
   "metadata": {},
   "outputs": [
    {
     "data": {
      "text/html": [
       "<div>\n",
       "<style scoped>\n",
       "    .dataframe tbody tr th:only-of-type {\n",
       "        vertical-align: middle;\n",
       "    }\n",
       "\n",
       "    .dataframe tbody tr th {\n",
       "        vertical-align: top;\n",
       "    }\n",
       "\n",
       "    .dataframe thead th {\n",
       "        text-align: right;\n",
       "    }\n",
       "</style>\n",
       "<table border=\"1\" class=\"dataframe\">\n",
       "  <thead>\n",
       "    <tr style=\"text-align: right;\">\n",
       "      <th></th>\n",
       "      <th>February</th>\n",
       "      <th>March</th>\n",
       "      <th>April</th>\n",
       "      <th>May</th>\n",
       "      <th>June</th>\n",
       "      <th>July</th>\n",
       "      <th>total</th>\n",
       "      <th>inicio_fase-01</th>\n",
       "      <th>fim_fase-01</th>\n",
       "    </tr>\n",
       "    <tr>\n",
       "      <th>trailer</th>\n",
       "      <th></th>\n",
       "      <th></th>\n",
       "      <th></th>\n",
       "      <th></th>\n",
       "      <th></th>\n",
       "      <th></th>\n",
       "      <th></th>\n",
       "      <th></th>\n",
       "      <th></th>\n",
       "    </tr>\n",
       "  </thead>\n",
       "  <tbody>\n",
       "    <tr>\n",
       "      <th>carioca</th>\n",
       "      <td>266.0</td>\n",
       "      <td>588</td>\n",
       "      <td>650</td>\n",
       "      <td>255</td>\n",
       "      <td>24.0</td>\n",
       "      <td>1.0</td>\n",
       "      <td>1784</td>\n",
       "      <td>2024-02-25 00:00:00</td>\n",
       "      <td>2024-07-01 00:00:00</td>\n",
       "    </tr>\n",
       "    <tr>\n",
       "      <th>rio</th>\n",
       "      <td>370.0</td>\n",
       "      <td>399</td>\n",
       "      <td>372</td>\n",
       "      <td>296</td>\n",
       "      <td>NaN</td>\n",
       "      <td>NaN</td>\n",
       "      <td>1437</td>\n",
       "      <td>2024-02-18 00:00:00</td>\n",
       "      <td>2024-05-31 00:00:00</td>\n",
       "    </tr>\n",
       "    <tr>\n",
       "      <th>rio_2</th>\n",
       "      <td>NaN</td>\n",
       "      <td>145</td>\n",
       "      <td>176</td>\n",
       "      <td>48</td>\n",
       "      <td>2.0</td>\n",
       "      <td>NaN</td>\n",
       "      <td>371</td>\n",
       "      <td>2024-03-30 00:00:00</td>\n",
       "      <td>2024-06-07 00:00:00</td>\n",
       "    </tr>\n",
       "    <tr>\n",
       "      <th>total</th>\n",
       "      <td>636.0</td>\n",
       "      <td>1132</td>\n",
       "      <td>1198</td>\n",
       "      <td>599</td>\n",
       "      <td>26.0</td>\n",
       "      <td>1.0</td>\n",
       "      <td>3592</td>\n",
       "      <td>-</td>\n",
       "      <td>-</td>\n",
       "    </tr>\n",
       "  </tbody>\n",
       "</table>\n",
       "</div>"
      ],
      "text/plain": [
       "         February  March  April  May  June  July  total       inicio_fase-01  \\\n",
       "trailer                                                                        \n",
       "carioca     266.0    588    650  255  24.0   1.0   1784  2024-02-25 00:00:00   \n",
       "rio         370.0    399    372  296   NaN   NaN   1437  2024-02-18 00:00:00   \n",
       "rio_2         NaN    145    176   48   2.0   NaN    371  2024-03-30 00:00:00   \n",
       "total       636.0   1132   1198  599  26.0   1.0   3592                    -   \n",
       "\n",
       "                 fim_fase-01  \n",
       "trailer                       \n",
       "carioca  2024-07-01 00:00:00  \n",
       "rio      2024-05-31 00:00:00  \n",
       "rio_2    2024-06-07 00:00:00  \n",
       "total                      -  "
      ]
     },
     "execution_count": 219,
     "metadata": {},
     "output_type": "execute_result"
    }
   ],
   "source": [
    "meses"
   ]
  },
  {
   "cell_type": "markdown",
   "id": "50467a72-e09d-452e-9711-7f523b743722",
   "metadata": {},
   "source": [
    "## Gerar arquivo dos quadros de dados conforme solicitado."
   ]
  },
  {
   "cell_type": "code",
   "execution_count": 222,
   "id": "89d99142-53a7-4b9f-bbfa-6b15a8dd3bfe",
   "metadata": {},
   "outputs": [],
   "source": [
    "with ExcelWriter('relatorio_fase01_acaocidada.xlsx') as abas:\n",
    "    status.to_excel(abas, sheet_name='resultados_atendimentos_fase01')\n",
    "    genero.to_excel(abas, sheet_name='resultados_generos_fase01')\n",
    "    meses.to_excel(abas,sheet_name='resultados_meses_fase01')"
   ]
  },
  {
   "cell_type": "markdown",
   "id": "59da2fe9-b395-4b70-b2c4-377c6db8928e",
   "metadata": {},
   "source": [
    "# Relatório Fase 01 - CARIOCA"
   ]
  },
  {
   "cell_type": "markdown",
   "id": "732a340e-497e-49d8-bd3f-83c131fdf6b6",
   "metadata": {
    "jp-MarkdownHeadingCollapsed": true
   },
   "source": [
    "### Arquivos localmente do projeto"
   ]
  },
  {
   "cell_type": "code",
   "execution_count": 4,
   "id": "db4b3b56-e85a-49d0-962f-af634dcac1d4",
   "metadata": {},
   "outputs": [
    {
     "name": "stdout",
     "output_type": "stream",
     "text": [
      "/home/lino/Área de Trabalho/acaocidada/note_acaocidada/note_fs01/AGENDAMENTO_CARIOCA.csv\n"
     ]
    }
   ],
   "source": [
    "caminhocarioca = path.abspath('AGENDAMENTO_CARIOCA.csv')\n",
    "print (caminhocarioca)"
   ]
  },
  {
   "cell_type": "markdown",
   "id": "94df1bad-fbe2-4e71-b0e6-829cd9a4c198",
   "metadata": {
    "jp-MarkdownHeadingCollapsed": true
   },
   "source": [
    "### Utlizando a biblioteca original do python para uma variável da aplicação"
   ]
  },
  {
   "cell_type": "code",
   "execution_count": 5,
   "id": "d6e9256e-8d74-4105-95d5-97c220577524",
   "metadata": {},
   "outputs": [],
   "source": [
    "with open(caminhocarioca, mode='r') as csv:\n",
    "    csv_carioca = reader(csv, delimiter=',')"
   ]
  },
  {
   "cell_type": "markdown",
   "id": "db4183dc-af11-45af-94e8-279f903cb77d",
   "metadata": {
    "jp-MarkdownHeadingCollapsed": true
   },
   "source": [
    "### Utilizando a biblioteca do PANDAS p/ uma variável local da aplicação, escolheremos essa opção."
   ]
  },
  {
   "cell_type": "code",
   "execution_count": 56,
   "id": "cdc0af30-c7c9-45e6-bd41-c728789740bc",
   "metadata": {},
   "outputs": [],
   "source": [
    "carioca_csv_pd = read_csv('AGENDAMENTO_CARIOCA.csv')"
   ]
  },
  {
   "cell_type": "markdown",
   "id": "1e048aad-7d47-450a-a685-518afaece180",
   "metadata": {
    "jp-MarkdownHeadingCollapsed": true
   },
   "source": [
    "### Baixando as bases para dentro de uma variável"
   ]
  },
  {
   "cell_type": "code",
   "execution_count": 57,
   "id": "03b5e684-0534-4ef1-ba9f-c4bf11757a19",
   "metadata": {},
   "outputs": [
    {
     "name": "stdout",
     "output_type": "stream",
     "text": [
      "Index(['Carimbo de data/hora', 'LOCAL', 'NOME COMPLETO', 'Unnamed: 3',\n",
      "       'BAIRRO', 'CEP', 'DATA DE NASCIMENTO', 'TELEFONE', 'EMAIL',\n",
      "       'NOME DO ANIMA', 'NOME DO ANIMAL', 'ESPÉCIE', 'GÊNERO',\n",
      "       'STATUS/ATENDIMENTO', 'MOTIVO', 'ENDEREÇO COMPLETO', 'CPF',\n",
      "       'Como soube do Projeto de Castração de cães e gatos?',\n",
      "       'Como soube do Projeto de Castração de cães e gatos?.1', 'Unnamed: 19',\n",
      "       'Unnamed: 20', 'LOCAL.1', 'Unnamed: 22', 'Unnamed: 23', 'Unnamed: 24'],\n",
      "      dtype='object')\n"
     ]
    }
   ],
   "source": [
    "carioca_df = DataFrame(carioca_csv_pd)\n",
    "print (carioca_df.columns)"
   ]
  },
  {
   "cell_type": "code",
   "execution_count": 58,
   "id": "f2069449-82ff-45b4-92c3-74d6d75e3552",
   "metadata": {},
   "outputs": [],
   "source": [
    "atributos = ['Carimbo de data/hora', 'ESPÉCIE', 'GÊNERO', 'STATUS/ATENDIMENTO']"
   ]
  },
  {
   "cell_type": "code",
   "execution_count": 59,
   "id": "450f324d-68f5-457d-8f64-e7744224ef4b",
   "metadata": {},
   "outputs": [],
   "source": [
    "carioca_df = carioca_df[atributos]"
   ]
  },
  {
   "cell_type": "code",
   "execution_count": 60,
   "id": "f9fd5cae-e4f8-4ddc-bf97-9327245ccaf9",
   "metadata": {},
   "outputs": [],
   "source": [
    "carioca_df['trailer'] = 'carioca'"
   ]
  },
  {
   "cell_type": "markdown",
   "id": "0999fae4-a9e7-4e2a-a5bc-e80ab5e056c9",
   "metadata": {
    "jp-MarkdownHeadingCollapsed": true
   },
   "source": [
    "### Formatação da Data para adequação das funções internas do Python"
   ]
  },
  {
   "cell_type": "code",
   "execution_count": 61,
   "id": "ac063489-faad-4d4d-805c-e3f8b652d383",
   "metadata": {},
   "outputs": [],
   "source": [
    "carioca_df['Carimbo de data/hora']=carioca_df['Carimbo de data/hora'].str.split(' ', expand=True)[0]"
   ]
  },
  {
   "cell_type": "code",
   "execution_count": 62,
   "id": "1cd77734-6c90-4eb2-addd-c5898d772680",
   "metadata": {},
   "outputs": [],
   "source": [
    "carioca_df['Carimbo de data/hora']=DataFrame(to_datetime(list(carioca_df['Carimbo de data/hora']), dayfirst=True))"
   ]
  },
  {
   "cell_type": "code",
   "execution_count": 63,
   "id": "1f5b3261-f644-4fa2-a2c6-9d8614a8c7d1",
   "metadata": {},
   "outputs": [],
   "source": [
    "carioca_df['meses']= Series(carioca_df['Carimbo de data/hora']).dt.month_name()"
   ]
  },
  {
   "cell_type": "markdown",
   "id": "bb9f14b1-96bd-4214-8c54-5b78395c832b",
   "metadata": {
    "jp-MarkdownHeadingCollapsed": true
   },
   "source": [
    "### Formatação dos Atributos ESPÉCIE e GÊNERO por falta de governança e também para informar de maneira direta as estatísticas descritivas solicitadas da primeira fase do projeto."
   ]
  },
  {
   "cell_type": "code",
   "execution_count": 64,
   "id": "8e19658e-1fa5-4366-a5d0-e2187c1e932d",
   "metadata": {},
   "outputs": [],
   "source": [
    "carioca_df['ESPÉCIE'] = carioca_df['ESPÉCIE'].str.casefold()"
   ]
  },
  {
   "cell_type": "code",
   "execution_count": 65,
   "id": "074b08f7-def9-4159-bf88-20f3b4ee3b0e",
   "metadata": {},
   "outputs": [],
   "source": [
    "carioca_df['GÊNERO']=carioca_df['GÊNERO'].str.casefold()\n",
    "carioca_df['GÊNERO']=carioca_df['GÊNERO'].str.rstrip()"
   ]
  },
  {
   "cell_type": "code",
   "execution_count": 66,
   "id": "f74e6318-13f8-4437-b45b-9d31adae137a",
   "metadata": {},
   "outputs": [
    {
     "data": {
      "text/plain": [
       "array(['femea', 'macho', 'fêmea', 'gata'], dtype=object)"
      ]
     },
     "execution_count": 66,
     "metadata": {},
     "output_type": "execute_result"
    }
   ],
   "source": [
    "carioca_df['GÊNERO'].unique()"
   ]
  },
  {
   "cell_type": "code",
   "execution_count": 67,
   "id": "39376cd8-00c9-40a6-a726-13cf6920e983",
   "metadata": {},
   "outputs": [],
   "source": [
    "#Caninos\n",
    "carioca_df.loc[(carioca_df['ESPÉCIE']=='canino') & (carioca_df['GÊNERO']=='macho'),['GÊNERO']]='canino_m'\n",
    "carioca_df.loc[(carioca_df['ESPÉCIE']=='canino') & (carioca_df['GÊNERO']=='femea'),['GÊNERO']]='canino_f'\n",
    "carioca_df.loc[(carioca_df['ESPÉCIE']=='canino') & (carioca_df['GÊNERO']=='fêmea'),['GÊNERO']]='canino_f'\n",
    "carioca_df.loc[(carioca_df['ESPÉCIE']=='canino') & (carioca_df['GÊNERO']=='gata'),['GÊNERO']]='canino_f'\n",
    "#felinos\n",
    "carioca_df.loc[(carioca_df['ESPÉCIE']=='felino') & (carioca_df['GÊNERO']=='macho'),['GÊNERO']]='felino_m'\n",
    "carioca_df.loc[(carioca_df['ESPÉCIE']=='felino') & (carioca_df['GÊNERO']=='femea'),['GÊNERO']]='felino_f'\n",
    "carioca_df.loc[(carioca_df['ESPÉCIE']=='felino') & (carioca_df['GÊNERO']=='fêmea'),['GÊNERO']]='felino_f'\n",
    "carioca_df.loc[(carioca_df['ESPÉCIE']=='felino') & (carioca_df['GÊNERO']=='gata'),['GÊNERO']]='felino_f'"
   ]
  },
  {
   "cell_type": "code",
   "execution_count": 68,
   "id": "6f3b5257-f726-4a9b-888e-81d9fcaa9f37",
   "metadata": {},
   "outputs": [
    {
     "data": {
      "text/plain": [
       "array(['canino_f', 'felino_f', 'canino_m', 'felino_m'], dtype=object)"
      ]
     },
     "execution_count": 68,
     "metadata": {},
     "output_type": "execute_result"
    }
   ],
   "source": [
    "carioca_df['GÊNERO'].unique()"
   ]
  },
  {
   "cell_type": "markdown",
   "id": "96646fa4-24ed-4a8d-a751-880993fe80de",
   "metadata": {
    "jp-MarkdownHeadingCollapsed": true
   },
   "source": [
    "### Formatação do atributo STATUS/ATENDIMENTO"
   ]
  },
  {
   "cell_type": "code",
   "execution_count": 69,
   "id": "6ba686ad-cb39-4da8-9c37-247153198291",
   "metadata": {},
   "outputs": [
    {
     "data": {
      "text/plain": [
       "array([nan, 'CIRURGIA  REALIZADA ', 'CIRURGIA REALIZADA ',\n",
       "       'CIRURGIA REALIZADA', 'RECUSA ', 'DESISTÊNCIA ', 'FALTA', 'RECUSA',\n",
       "       'FALTA ', 'CIRURGIA REALIAZADA ', 'CIEURGIA REALIZADA ',\n",
       "       'Realizada ', 'FALTO', 'CIRURGIA RELIZADA', 'CIRURGIA RECUSADA',\n",
       "       'CIRURGIA RECUSADA ', 'endereço não encontrado',\n",
       "       'CIRURGIA REALIZADO', 'FATOU', ' CIRURGIA REALIZADA',\n",
       "       'CIRURGIA NÃO REALIZADA ', 'CIRURGIA NÃO REALIZADA',\n",
       "       'CIRURGIA RECUSADO', 'Desistência ', 'CIRURIGA REALIZADA ',\n",
       "       'CIRURGIA REA', 'NAO REALIZADA '], dtype=object)"
      ]
     },
     "execution_count": 69,
     "metadata": {},
     "output_type": "execute_result"
    }
   ],
   "source": [
    "carioca_df['STATUS/ATENDIMENTO'].unique()"
   ]
  },
  {
   "cell_type": "code",
   "execution_count": 70,
   "id": "f21a4548-2939-4fbe-bd11-e05e8230b85a",
   "metadata": {},
   "outputs": [],
   "source": [
    "carioca_df['STATUS/ATENDIMENTO'] = carioca_df['STATUS/ATENDIMENTO'].str.casefold()\n",
    "carioca_df['STATUS/ATENDIMENTO'] = carioca_df['STATUS/ATENDIMENTO'].str.rstrip()\n",
    "carioca_df['STATUS/ATENDIMENTO'] = carioca_df['STATUS/ATENDIMENTO'].str.lstrip()"
   ]
  },
  {
   "cell_type": "code",
   "execution_count": 71,
   "id": "95be8724-f53e-40b6-b025-95996c4878f9",
   "metadata": {},
   "outputs": [],
   "source": [
    "carioca_df['STATUS/ATENDIMENTO']=carioca_df['STATUS/ATENDIMENTO'].fillna('cirurg_n_realizada')"
   ]
  },
  {
   "cell_type": "code",
   "execution_count": 72,
   "id": "43246a34-e0b2-4dd3-b434-c7aaed237324",
   "metadata": {},
   "outputs": [],
   "source": [
    "# Variações de CIRURGIA NÃO REALIZADA\n",
    "carioca_df.loc[(carioca_df['STATUS/ATENDIMENTO']=='cirurgia não realizada'),['STATUS/ATENDIMENTO']]='cirurg_n_realizada'\n",
    "carioca_df.loc[(carioca_df['STATUS/ATENDIMENTO']=='recusa'),['STATUS/ATENDIMENTO']]='cirurg_n_realizada'\n",
    "carioca_df.loc[(carioca_df['STATUS/ATENDIMENTO']=='desistencia'),['STATUS/ATENDIMENTO']]='cirurg_n_realizada'\n",
    "carioca_df.loc[(carioca_df['STATUS/ATENDIMENTO']=='falta'),['STATUS/ATENDIMENTO']]='cirurg_n_realizada'\n",
    "carioca_df.loc[(carioca_df['STATUS/ATENDIMENTO']=='falto'),['STATUS/ATENDIMENTO']]='cirurg_n_realizada'\n",
    "carioca_df.loc[(carioca_df['STATUS/ATENDIMENTO']=='cirurgia recusada'),['STATUS/ATENDIMENTO']]='cirurg_n_realizada'\n",
    "carioca_df.loc[(carioca_df['STATUS/ATENDIMENTO']=='cirurgia recusado'),['STATUS/ATENDIMENTO']]='cirurg_n_realizada'\n",
    "carioca_df.loc[(carioca_df['STATUS/ATENDIMENTO']=='não realizada'),['STATUS/ATENDIMENTO']]='cirurg_n_realizada'\n",
    "carioca_df.loc[(carioca_df['STATUS/ATENDIMENTO']=='nao realizada'),['STATUS/ATENDIMENTO']]='cirurg_n_realizada'\n",
    "carioca_df.loc[(carioca_df['STATUS/ATENDIMENTO']=='fatou'),['STATUS/ATENDIMENTO']]='cirurg_n_realizada'\n",
    "carioca_df.loc[(carioca_df['STATUS/ATENDIMENTO']=='desistência'),['STATUS/ATENDIMENTO']]='cirurg_n_realizada'\n",
    "# Variações de CIRURGIA REALIZADA\n",
    "carioca_df.loc[(carioca_df['STATUS/ATENDIMENTO']=='cirurgia realizada'),['STATUS/ATENDIMENTO']]='cirurg_realizada'\n",
    "carioca_df.loc[(carioca_df['STATUS/ATENDIMENTO']=='cirurgia  realizada'),['STATUS/ATENDIMENTO']]='cirurg_realizada'\n",
    "carioca_df.loc[(carioca_df['STATUS/ATENDIMENTO']=='cirurgia realiazada'),['STATUS/ATENDIMENTO']]='cirurg_realizada'\n",
    "carioca_df.loc[(carioca_df['STATUS/ATENDIMENTO']=='cieurgia realizada'),['STATUS/ATENDIMENTO']]='cirurg_realizada'\n",
    "carioca_df.loc[(carioca_df['STATUS/ATENDIMENTO']=='realizada'),['STATUS/ATENDIMENTO']]='cirurg_realizada'\n",
    "carioca_df.loc[(carioca_df['STATUS/ATENDIMENTO']=='cirurgia relizada'),['STATUS/ATENDIMENTO']]='cirurg_realizada'\n",
    "carioca_df.loc[(carioca_df['STATUS/ATENDIMENTO']=='cirurgia realizada'),['STATUS/ATENDIMENTO']]='cirurg_realizada'\n",
    "carioca_df.loc[(carioca_df['STATUS/ATENDIMENTO']=='cirurgia realizado'),['STATUS/ATENDIMENTO']]='cirurg_realizada'\n",
    "carioca_df.loc[(carioca_df['STATUS/ATENDIMENTO']=='ciruriga realizada'),['STATUS/ATENDIMENTO']]='cirurg_realizada'\n",
    "carioca_df.loc[(carioca_df['STATUS/ATENDIMENTO']=='cirurgia rea'),['STATUS/ATENDIMENTO']]='cirurg_realizada'"
   ]
  },
  {
   "cell_type": "code",
   "execution_count": 73,
   "id": "c2cf1999-ee08-4e54-b565-a86001eaa1ec",
   "metadata": {},
   "outputs": [
    {
     "data": {
      "text/plain": [
       "array(['cirurg_n_realizada', 'cirurg_realizada',\n",
       "       'endereço não encontrado'], dtype=object)"
      ]
     },
     "execution_count": 73,
     "metadata": {},
     "output_type": "execute_result"
    }
   ],
   "source": [
    "carioca_df['STATUS/ATENDIMENTO'].unique()"
   ]
  },
  {
   "cell_type": "markdown",
   "id": "0892554f-b3ef-4881-8275-bac5a21afb27",
   "metadata": {
    "jp-MarkdownHeadingCollapsed": true
   },
   "source": [
    "## Retirar o atributo ESPÉCIE e criar os atributos a partir da função dummies"
   ]
  },
  {
   "cell_type": "code",
   "execution_count": 74,
   "id": "b917d740-5978-4c09-92f1-364ee17ed80a",
   "metadata": {},
   "outputs": [],
   "source": [
    "carioca_df = carioca_df.drop(['ESPÉCIE'], axis=1)"
   ]
  },
  {
   "cell_type": "code",
   "execution_count": 75,
   "id": "37afc7e8-0f8b-4a15-9a86-117d94ca1308",
   "metadata": {},
   "outputs": [],
   "source": [
    "carioca_df = carioca_df.dropna()"
   ]
  },
  {
   "cell_type": "markdown",
   "id": "a06559d9-d67c-4d30-aaef-43cdc003ce4a",
   "metadata": {},
   "source": [
    "#### Criação dos atributos a partir do GÊNERO e retirando o mesmo original"
   ]
  },
  {
   "cell_type": "code",
   "execution_count": 76,
   "id": "695e42f6-9aef-4fda-a0e0-d1e9dd438193",
   "metadata": {},
   "outputs": [],
   "source": [
    "carioca_df = carioca_df.join(get_dummies(carioca_df['GÊNERO'], dtype=int))"
   ]
  },
  {
   "cell_type": "code",
   "execution_count": 77,
   "id": "de1462b6-34e8-4618-906e-865ad3245761",
   "metadata": {},
   "outputs": [],
   "source": [
    "carioca_df = carioca_df.drop(['GÊNERO'], axis=1)"
   ]
  },
  {
   "cell_type": "markdown",
   "id": "ba9f5411-7eb2-4172-ae69-ea6cebff8e58",
   "metadata": {},
   "source": [
    "#### Criação dos atributos a partir do STATUS/ATENDIMENTO e retirando o mesmo original"
   ]
  },
  {
   "cell_type": "code",
   "execution_count": 78,
   "id": "287e5339-5ecf-4868-9aaf-888ef7826a60",
   "metadata": {},
   "outputs": [],
   "source": [
    "carioca_df = carioca_df.join(get_dummies(carioca_df['STATUS/ATENDIMENTO'], dtype=int))"
   ]
  },
  {
   "cell_type": "code",
   "execution_count": 79,
   "id": "8749bb3b-7d75-48f5-a8fe-8cd2a6182f44",
   "metadata": {},
   "outputs": [],
   "source": [
    "carioca_df = carioca_df.drop(['STATUS/ATENDIMENTO'], axis=1)"
   ]
  },
  {
   "cell_type": "markdown",
   "id": "f45822bd-0dc4-496b-9377-e4a4aa11b3ed",
   "metadata": {},
   "source": [
    "#### Criação dos atributos a partir de meses e retirando o mesmo original"
   ]
  },
  {
   "cell_type": "code",
   "execution_count": 80,
   "id": "8699e81b-76bc-4a7b-95f3-12ccc09e6d8c",
   "metadata": {},
   "outputs": [],
   "source": [
    "carioca_df = carioca_df.join(get_dummies(carioca_df['meses'], dtype=int))"
   ]
  },
  {
   "cell_type": "code",
   "execution_count": 81,
   "id": "66406eac-f246-4a3c-b531-3523b09cf501",
   "metadata": {},
   "outputs": [],
   "source": [
    "carioca_df = carioca_df.drop(['meses'], axis=1)"
   ]
  },
  {
   "cell_type": "code",
   "execution_count": 82,
   "id": "0207c9d8-9fc4-4a43-ad7b-7eb8b0e7d1c7",
   "metadata": {
    "scrolled": true
   },
   "outputs": [
    {
     "data": {
      "text/html": [
       "<div>\n",
       "<style scoped>\n",
       "    .dataframe tbody tr th:only-of-type {\n",
       "        vertical-align: middle;\n",
       "    }\n",
       "\n",
       "    .dataframe tbody tr th {\n",
       "        vertical-align: top;\n",
       "    }\n",
       "\n",
       "    .dataframe thead th {\n",
       "        text-align: right;\n",
       "    }\n",
       "</style>\n",
       "<table border=\"1\" class=\"dataframe\">\n",
       "  <thead>\n",
       "    <tr style=\"text-align: right;\">\n",
       "      <th></th>\n",
       "      <th>Carimbo de data/hora</th>\n",
       "      <th>trailer</th>\n",
       "      <th>canino_f</th>\n",
       "      <th>canino_m</th>\n",
       "      <th>felino_f</th>\n",
       "      <th>felino_m</th>\n",
       "      <th>cirurg_n_realizada</th>\n",
       "      <th>cirurg_realizada</th>\n",
       "      <th>endereço não encontrado</th>\n",
       "      <th>April</th>\n",
       "      <th>February</th>\n",
       "      <th>July</th>\n",
       "      <th>June</th>\n",
       "      <th>March</th>\n",
       "      <th>May</th>\n",
       "    </tr>\n",
       "  </thead>\n",
       "  <tbody>\n",
       "    <tr>\n",
       "      <th>1780</th>\n",
       "      <td>2024-06-03</td>\n",
       "      <td>carioca</td>\n",
       "      <td>0</td>\n",
       "      <td>0</td>\n",
       "      <td>1</td>\n",
       "      <td>0</td>\n",
       "      <td>0</td>\n",
       "      <td>1</td>\n",
       "      <td>0</td>\n",
       "      <td>0</td>\n",
       "      <td>0</td>\n",
       "      <td>0</td>\n",
       "      <td>1</td>\n",
       "      <td>0</td>\n",
       "      <td>0</td>\n",
       "    </tr>\n",
       "    <tr>\n",
       "      <th>1781</th>\n",
       "      <td>2024-06-03</td>\n",
       "      <td>carioca</td>\n",
       "      <td>0</td>\n",
       "      <td>1</td>\n",
       "      <td>0</td>\n",
       "      <td>0</td>\n",
       "      <td>1</td>\n",
       "      <td>0</td>\n",
       "      <td>0</td>\n",
       "      <td>0</td>\n",
       "      <td>0</td>\n",
       "      <td>0</td>\n",
       "      <td>1</td>\n",
       "      <td>0</td>\n",
       "      <td>0</td>\n",
       "    </tr>\n",
       "    <tr>\n",
       "      <th>1782</th>\n",
       "      <td>2024-06-03</td>\n",
       "      <td>carioca</td>\n",
       "      <td>0</td>\n",
       "      <td>0</td>\n",
       "      <td>0</td>\n",
       "      <td>1</td>\n",
       "      <td>0</td>\n",
       "      <td>1</td>\n",
       "      <td>0</td>\n",
       "      <td>0</td>\n",
       "      <td>0</td>\n",
       "      <td>0</td>\n",
       "      <td>1</td>\n",
       "      <td>0</td>\n",
       "      <td>0</td>\n",
       "    </tr>\n",
       "    <tr>\n",
       "      <th>1783</th>\n",
       "      <td>2024-06-03</td>\n",
       "      <td>carioca</td>\n",
       "      <td>0</td>\n",
       "      <td>0</td>\n",
       "      <td>1</td>\n",
       "      <td>0</td>\n",
       "      <td>0</td>\n",
       "      <td>1</td>\n",
       "      <td>0</td>\n",
       "      <td>0</td>\n",
       "      <td>0</td>\n",
       "      <td>0</td>\n",
       "      <td>1</td>\n",
       "      <td>0</td>\n",
       "      <td>0</td>\n",
       "    </tr>\n",
       "    <tr>\n",
       "      <th>1784</th>\n",
       "      <td>2024-06-03</td>\n",
       "      <td>carioca</td>\n",
       "      <td>0</td>\n",
       "      <td>0</td>\n",
       "      <td>1</td>\n",
       "      <td>0</td>\n",
       "      <td>0</td>\n",
       "      <td>1</td>\n",
       "      <td>0</td>\n",
       "      <td>0</td>\n",
       "      <td>0</td>\n",
       "      <td>0</td>\n",
       "      <td>1</td>\n",
       "      <td>0</td>\n",
       "      <td>0</td>\n",
       "    </tr>\n",
       "  </tbody>\n",
       "</table>\n",
       "</div>"
      ],
      "text/plain": [
       "     Carimbo de data/hora  trailer  canino_f  canino_m  felino_f  felino_m  \\\n",
       "1780           2024-06-03  carioca         0         0         1         0   \n",
       "1781           2024-06-03  carioca         0         1         0         0   \n",
       "1782           2024-06-03  carioca         0         0         0         1   \n",
       "1783           2024-06-03  carioca         0         0         1         0   \n",
       "1784           2024-06-03  carioca         0         0         1         0   \n",
       "\n",
       "      cirurg_n_realizada  cirurg_realizada  endereço não encontrado  April  \\\n",
       "1780                   0                 1                        0      0   \n",
       "1781                   1                 0                        0      0   \n",
       "1782                   0                 1                        0      0   \n",
       "1783                   0                 1                        0      0   \n",
       "1784                   0                 1                        0      0   \n",
       "\n",
       "      February  July  June  March  May  \n",
       "1780         0     0     1      0    0  \n",
       "1781         0     0     1      0    0  \n",
       "1782         0     0     1      0    0  \n",
       "1783         0     0     1      0    0  \n",
       "1784         0     0     1      0    0  "
      ]
     },
     "execution_count": 82,
     "metadata": {},
     "output_type": "execute_result"
    }
   ],
   "source": [
    "carioca_df.tail()"
   ]
  },
  {
   "cell_type": "markdown",
   "id": "43318b9f-33d3-44e6-aa78-93ef8f8f1d62",
   "metadata": {},
   "source": [
    "### Ordenando a base de dados pela data"
   ]
  },
  {
   "cell_type": "code",
   "execution_count": 84,
   "id": "d42a5ecd-0efc-4e1c-942b-8ad8c18cd1c5",
   "metadata": {},
   "outputs": [
    {
     "data": {
      "text/html": [
       "<div>\n",
       "<style scoped>\n",
       "    .dataframe tbody tr th:only-of-type {\n",
       "        vertical-align: middle;\n",
       "    }\n",
       "\n",
       "    .dataframe tbody tr th {\n",
       "        vertical-align: top;\n",
       "    }\n",
       "\n",
       "    .dataframe thead th {\n",
       "        text-align: right;\n",
       "    }\n",
       "</style>\n",
       "<table border=\"1\" class=\"dataframe\">\n",
       "  <thead>\n",
       "    <tr style=\"text-align: right;\">\n",
       "      <th></th>\n",
       "      <th>Carimbo de data/hora</th>\n",
       "      <th>trailer</th>\n",
       "      <th>canino_f</th>\n",
       "      <th>canino_m</th>\n",
       "      <th>felino_f</th>\n",
       "      <th>felino_m</th>\n",
       "      <th>cirurg_n_realizada</th>\n",
       "      <th>cirurg_realizada</th>\n",
       "      <th>endereço não encontrado</th>\n",
       "      <th>April</th>\n",
       "      <th>February</th>\n",
       "      <th>July</th>\n",
       "      <th>June</th>\n",
       "      <th>March</th>\n",
       "      <th>May</th>\n",
       "    </tr>\n",
       "  </thead>\n",
       "  <tbody>\n",
       "    <tr>\n",
       "      <th>0</th>\n",
       "      <td>2024-02-25</td>\n",
       "      <td>carioca</td>\n",
       "      <td>1</td>\n",
       "      <td>0</td>\n",
       "      <td>0</td>\n",
       "      <td>0</td>\n",
       "      <td>1</td>\n",
       "      <td>0</td>\n",
       "      <td>0</td>\n",
       "      <td>0</td>\n",
       "      <td>1</td>\n",
       "      <td>0</td>\n",
       "      <td>0</td>\n",
       "      <td>0</td>\n",
       "      <td>0</td>\n",
       "    </tr>\n",
       "    <tr>\n",
       "      <th>1</th>\n",
       "      <td>2024-02-25</td>\n",
       "      <td>carioca</td>\n",
       "      <td>1</td>\n",
       "      <td>0</td>\n",
       "      <td>0</td>\n",
       "      <td>0</td>\n",
       "      <td>1</td>\n",
       "      <td>0</td>\n",
       "      <td>0</td>\n",
       "      <td>0</td>\n",
       "      <td>1</td>\n",
       "      <td>0</td>\n",
       "      <td>0</td>\n",
       "      <td>0</td>\n",
       "      <td>0</td>\n",
       "    </tr>\n",
       "    <tr>\n",
       "      <th>2</th>\n",
       "      <td>2024-02-25</td>\n",
       "      <td>carioca</td>\n",
       "      <td>0</td>\n",
       "      <td>0</td>\n",
       "      <td>1</td>\n",
       "      <td>0</td>\n",
       "      <td>0</td>\n",
       "      <td>1</td>\n",
       "      <td>0</td>\n",
       "      <td>0</td>\n",
       "      <td>1</td>\n",
       "      <td>0</td>\n",
       "      <td>0</td>\n",
       "      <td>0</td>\n",
       "      <td>0</td>\n",
       "    </tr>\n",
       "    <tr>\n",
       "      <th>3</th>\n",
       "      <td>2024-02-25</td>\n",
       "      <td>carioca</td>\n",
       "      <td>0</td>\n",
       "      <td>1</td>\n",
       "      <td>0</td>\n",
       "      <td>0</td>\n",
       "      <td>0</td>\n",
       "      <td>1</td>\n",
       "      <td>0</td>\n",
       "      <td>0</td>\n",
       "      <td>1</td>\n",
       "      <td>0</td>\n",
       "      <td>0</td>\n",
       "      <td>0</td>\n",
       "      <td>0</td>\n",
       "    </tr>\n",
       "    <tr>\n",
       "      <th>4</th>\n",
       "      <td>2024-02-25</td>\n",
       "      <td>carioca</td>\n",
       "      <td>0</td>\n",
       "      <td>1</td>\n",
       "      <td>0</td>\n",
       "      <td>0</td>\n",
       "      <td>1</td>\n",
       "      <td>0</td>\n",
       "      <td>0</td>\n",
       "      <td>0</td>\n",
       "      <td>1</td>\n",
       "      <td>0</td>\n",
       "      <td>0</td>\n",
       "      <td>0</td>\n",
       "      <td>0</td>\n",
       "    </tr>\n",
       "    <tr>\n",
       "      <th>...</th>\n",
       "      <td>...</td>\n",
       "      <td>...</td>\n",
       "      <td>...</td>\n",
       "      <td>...</td>\n",
       "      <td>...</td>\n",
       "      <td>...</td>\n",
       "      <td>...</td>\n",
       "      <td>...</td>\n",
       "      <td>...</td>\n",
       "      <td>...</td>\n",
       "      <td>...</td>\n",
       "      <td>...</td>\n",
       "      <td>...</td>\n",
       "      <td>...</td>\n",
       "      <td>...</td>\n",
       "    </tr>\n",
       "    <tr>\n",
       "      <th>1779</th>\n",
       "      <td>2024-06-03</td>\n",
       "      <td>carioca</td>\n",
       "      <td>0</td>\n",
       "      <td>0</td>\n",
       "      <td>0</td>\n",
       "      <td>1</td>\n",
       "      <td>0</td>\n",
       "      <td>1</td>\n",
       "      <td>0</td>\n",
       "      <td>0</td>\n",
       "      <td>0</td>\n",
       "      <td>0</td>\n",
       "      <td>1</td>\n",
       "      <td>0</td>\n",
       "      <td>0</td>\n",
       "    </tr>\n",
       "    <tr>\n",
       "      <th>1780</th>\n",
       "      <td>2024-06-03</td>\n",
       "      <td>carioca</td>\n",
       "      <td>0</td>\n",
       "      <td>0</td>\n",
       "      <td>1</td>\n",
       "      <td>0</td>\n",
       "      <td>0</td>\n",
       "      <td>1</td>\n",
       "      <td>0</td>\n",
       "      <td>0</td>\n",
       "      <td>0</td>\n",
       "      <td>0</td>\n",
       "      <td>1</td>\n",
       "      <td>0</td>\n",
       "      <td>0</td>\n",
       "    </tr>\n",
       "    <tr>\n",
       "      <th>1781</th>\n",
       "      <td>2024-06-03</td>\n",
       "      <td>carioca</td>\n",
       "      <td>0</td>\n",
       "      <td>0</td>\n",
       "      <td>1</td>\n",
       "      <td>0</td>\n",
       "      <td>0</td>\n",
       "      <td>1</td>\n",
       "      <td>0</td>\n",
       "      <td>0</td>\n",
       "      <td>0</td>\n",
       "      <td>0</td>\n",
       "      <td>1</td>\n",
       "      <td>0</td>\n",
       "      <td>0</td>\n",
       "    </tr>\n",
       "    <tr>\n",
       "      <th>1782</th>\n",
       "      <td>2024-06-03</td>\n",
       "      <td>carioca</td>\n",
       "      <td>0</td>\n",
       "      <td>0</td>\n",
       "      <td>1</td>\n",
       "      <td>0</td>\n",
       "      <td>0</td>\n",
       "      <td>1</td>\n",
       "      <td>0</td>\n",
       "      <td>0</td>\n",
       "      <td>0</td>\n",
       "      <td>0</td>\n",
       "      <td>1</td>\n",
       "      <td>0</td>\n",
       "      <td>0</td>\n",
       "    </tr>\n",
       "    <tr>\n",
       "      <th>1783</th>\n",
       "      <td>2024-07-01</td>\n",
       "      <td>carioca</td>\n",
       "      <td>0</td>\n",
       "      <td>1</td>\n",
       "      <td>0</td>\n",
       "      <td>0</td>\n",
       "      <td>1</td>\n",
       "      <td>0</td>\n",
       "      <td>0</td>\n",
       "      <td>0</td>\n",
       "      <td>0</td>\n",
       "      <td>1</td>\n",
       "      <td>0</td>\n",
       "      <td>0</td>\n",
       "      <td>0</td>\n",
       "    </tr>\n",
       "  </tbody>\n",
       "</table>\n",
       "<p>1784 rows × 15 columns</p>\n",
       "</div>"
      ],
      "text/plain": [
       "     Carimbo de data/hora  trailer  canino_f  canino_m  felino_f  felino_m  \\\n",
       "0              2024-02-25  carioca         1         0         0         0   \n",
       "1              2024-02-25  carioca         1         0         0         0   \n",
       "2              2024-02-25  carioca         0         0         1         0   \n",
       "3              2024-02-25  carioca         0         1         0         0   \n",
       "4              2024-02-25  carioca         0         1         0         0   \n",
       "...                   ...      ...       ...       ...       ...       ...   \n",
       "1779           2024-06-03  carioca         0         0         0         1   \n",
       "1780           2024-06-03  carioca         0         0         1         0   \n",
       "1781           2024-06-03  carioca         0         0         1         0   \n",
       "1782           2024-06-03  carioca         0         0         1         0   \n",
       "1783           2024-07-01  carioca         0         1         0         0   \n",
       "\n",
       "      cirurg_n_realizada  cirurg_realizada  endereço não encontrado  April  \\\n",
       "0                      1                 0                        0      0   \n",
       "1                      1                 0                        0      0   \n",
       "2                      0                 1                        0      0   \n",
       "3                      0                 1                        0      0   \n",
       "4                      1                 0                        0      0   \n",
       "...                  ...               ...                      ...    ...   \n",
       "1779                   0                 1                        0      0   \n",
       "1780                   0                 1                        0      0   \n",
       "1781                   0                 1                        0      0   \n",
       "1782                   0                 1                        0      0   \n",
       "1783                   1                 0                        0      0   \n",
       "\n",
       "      February  July  June  March  May  \n",
       "0            1     0     0      0    0  \n",
       "1            1     0     0      0    0  \n",
       "2            1     0     0      0    0  \n",
       "3            1     0     0      0    0  \n",
       "4            1     0     0      0    0  \n",
       "...        ...   ...   ...    ...  ...  \n",
       "1779         0     0     1      0    0  \n",
       "1780         0     0     1      0    0  \n",
       "1781         0     0     1      0    0  \n",
       "1782         0     0     1      0    0  \n",
       "1783         0     1     0      0    0  \n",
       "\n",
       "[1784 rows x 15 columns]"
      ]
     },
     "execution_count": 84,
     "metadata": {},
     "output_type": "execute_result"
    }
   ],
   "source": [
    "carioca_df.sort_values(by=['Carimbo de data/hora']).reset_index(drop=True)"
   ]
  },
  {
   "cell_type": "code",
   "execution_count": 85,
   "id": "a19f6cf6-d5e0-44b9-a941-f9f49e833901",
   "metadata": {},
   "outputs": [
    {
     "name": "stdout",
     "output_type": "stream",
     "text": [
      "2024-02-25 00:00:00\n",
      "2024-07-01 00:00:00\n"
     ]
    }
   ],
   "source": [
    "dia_inicio_carioca = carioca_df['Carimbo de data/hora'].min()\n",
    "ultimo_dia_carioca = carioca_df['Carimbo de data/hora'].max()\n",
    "print (dia_inicio_carioca)\n",
    "print (ultimo_dia_carioca)"
   ]
  },
  {
   "cell_type": "code",
   "execution_count": 86,
   "id": "9ee7c53b-4468-473c-a162-1b3b917119fa",
   "metadata": {},
   "outputs": [
    {
     "data": {
      "text/plain": [
       "Index(['Carimbo de data/hora', 'trailer', 'canino_f', 'canino_m', 'felino_f',\n",
       "       'felino_m', 'cirurg_n_realizada', 'cirurg_realizada',\n",
       "       'endereço não encontrado', 'April', 'February', 'July', 'June', 'March',\n",
       "       'May'],\n",
       "      dtype='object')"
      ]
     },
     "execution_count": 86,
     "metadata": {},
     "output_type": "execute_result"
    }
   ],
   "source": [
    "carioca_df.columns"
   ]
  },
  {
   "cell_type": "code",
   "execution_count": 87,
   "id": "2c98fc62-d2d3-452f-b0cf-04f292055ae3",
   "metadata": {},
   "outputs": [],
   "source": [
    "tbl_carioca = carioca_df[['trailer', 'canino_f', 'canino_m', 'felino_f',\n",
    "       'felino_m', 'cirurg_n_realizada', 'cirurg_realizada',\n",
    "       'endereço não encontrado', 'February', 'March', 'April',\n",
    "       'May', 'June', 'July']]"
   ]
  },
  {
   "cell_type": "markdown",
   "id": "60abdc7f-7e5f-4025-a492-b2c83e2865d5",
   "metadata": {},
   "source": [
    "## Tabela de contingência com o total de cada um dos atributos da fase 01"
   ]
  },
  {
   "cell_type": "code",
   "execution_count": 88,
   "id": "c6b50a13-f09e-425a-9be5-55367badbd27",
   "metadata": {},
   "outputs": [],
   "source": [
    "relat_fs01 = tbl_carioca.groupby(by=['trailer']).sum()"
   ]
  },
  {
   "cell_type": "code",
   "execution_count": 90,
   "id": "32dc0e2c-4e83-4286-8cec-91eff5f6b763",
   "metadata": {},
   "outputs": [],
   "source": [
    "relat_fs01['total'] = relat_fs01['cirurg_n_realizada']+relat_fs01['cirurg_realizada']+relat_fs01['endereço não encontrado']"
   ]
  },
  {
   "cell_type": "code",
   "execution_count": 91,
   "id": "34b80735-feb2-4452-bd31-f1370328188d",
   "metadata": {},
   "outputs": [
    {
     "data": {
      "text/html": [
       "<div>\n",
       "<style scoped>\n",
       "    .dataframe tbody tr th:only-of-type {\n",
       "        vertical-align: middle;\n",
       "    }\n",
       "\n",
       "    .dataframe tbody tr th {\n",
       "        vertical-align: top;\n",
       "    }\n",
       "\n",
       "    .dataframe thead th {\n",
       "        text-align: right;\n",
       "    }\n",
       "</style>\n",
       "<table border=\"1\" class=\"dataframe\">\n",
       "  <thead>\n",
       "    <tr style=\"text-align: right;\">\n",
       "      <th></th>\n",
       "      <th>canino_f</th>\n",
       "      <th>canino_m</th>\n",
       "      <th>felino_f</th>\n",
       "      <th>felino_m</th>\n",
       "      <th>cirurg_n_realizada</th>\n",
       "      <th>cirurg_realizada</th>\n",
       "      <th>endereço não encontrado</th>\n",
       "      <th>February</th>\n",
       "      <th>March</th>\n",
       "      <th>April</th>\n",
       "      <th>May</th>\n",
       "      <th>June</th>\n",
       "      <th>July</th>\n",
       "      <th>total</th>\n",
       "    </tr>\n",
       "    <tr>\n",
       "      <th>trailer</th>\n",
       "      <th></th>\n",
       "      <th></th>\n",
       "      <th></th>\n",
       "      <th></th>\n",
       "      <th></th>\n",
       "      <th></th>\n",
       "      <th></th>\n",
       "      <th></th>\n",
       "      <th></th>\n",
       "      <th></th>\n",
       "      <th></th>\n",
       "      <th></th>\n",
       "      <th></th>\n",
       "      <th></th>\n",
       "    </tr>\n",
       "  </thead>\n",
       "  <tbody>\n",
       "    <tr>\n",
       "      <th>carioca</th>\n",
       "      <td>576</td>\n",
       "      <td>406</td>\n",
       "      <td>467</td>\n",
       "      <td>335</td>\n",
       "      <td>665</td>\n",
       "      <td>1118</td>\n",
       "      <td>1</td>\n",
       "      <td>266</td>\n",
       "      <td>588</td>\n",
       "      <td>650</td>\n",
       "      <td>255</td>\n",
       "      <td>24</td>\n",
       "      <td>1</td>\n",
       "      <td>1784</td>\n",
       "    </tr>\n",
       "  </tbody>\n",
       "</table>\n",
       "</div>"
      ],
      "text/plain": [
       "         canino_f  canino_m  felino_f  felino_m  cirurg_n_realizada  \\\n",
       "trailer                                                               \n",
       "carioca       576       406       467       335                 665   \n",
       "\n",
       "         cirurg_realizada  endereço não encontrado  February  March  April  \\\n",
       "trailer                                                                      \n",
       "carioca              1118                        1       266    588    650   \n",
       "\n",
       "         May  June  July  total  \n",
       "trailer                          \n",
       "carioca  255    24     1   1784  "
      ]
     },
     "execution_count": 91,
     "metadata": {},
     "output_type": "execute_result"
    }
   ],
   "source": [
    "relat_fs01"
   ]
  },
  {
   "cell_type": "code",
   "execution_count": 242,
   "id": "e1d836d7-a956-4d7e-a3cb-a538824e8f0e",
   "metadata": {},
   "outputs": [
    {
     "data": {
      "text/html": [
       "<div>\n",
       "<style scoped>\n",
       "    .dataframe tbody tr th:only-of-type {\n",
       "        vertical-align: middle;\n",
       "    }\n",
       "\n",
       "    .dataframe tbody tr th {\n",
       "        vertical-align: top;\n",
       "    }\n",
       "\n",
       "    .dataframe thead th {\n",
       "        text-align: right;\n",
       "    }\n",
       "</style>\n",
       "<table border=\"1\" class=\"dataframe\">\n",
       "  <thead>\n",
       "    <tr style=\"text-align: right;\">\n",
       "      <th>trailer</th>\n",
       "      <th>carioca</th>\n",
       "    </tr>\n",
       "    <tr>\n",
       "      <th>variaveis</th>\n",
       "      <th></th>\n",
       "    </tr>\n",
       "  </thead>\n",
       "  <tbody>\n",
       "    <tr>\n",
       "      <th>canino_f</th>\n",
       "      <td>576</td>\n",
       "    </tr>\n",
       "    <tr>\n",
       "      <th>canino_m</th>\n",
       "      <td>406</td>\n",
       "    </tr>\n",
       "    <tr>\n",
       "      <th>felino_f</th>\n",
       "      <td>467</td>\n",
       "    </tr>\n",
       "    <tr>\n",
       "      <th>felino_m</th>\n",
       "      <td>335</td>\n",
       "    </tr>\n",
       "    <tr>\n",
       "      <th>cirurg_n_realizada</th>\n",
       "      <td>665</td>\n",
       "    </tr>\n",
       "    <tr>\n",
       "      <th>cirurg_realizada</th>\n",
       "      <td>1118</td>\n",
       "    </tr>\n",
       "    <tr>\n",
       "      <th>endereço não encontrado</th>\n",
       "      <td>1</td>\n",
       "    </tr>\n",
       "    <tr>\n",
       "      <th>February</th>\n",
       "      <td>266</td>\n",
       "    </tr>\n",
       "    <tr>\n",
       "      <th>March</th>\n",
       "      <td>588</td>\n",
       "    </tr>\n",
       "    <tr>\n",
       "      <th>April</th>\n",
       "      <td>650</td>\n",
       "    </tr>\n",
       "    <tr>\n",
       "      <th>May</th>\n",
       "      <td>255</td>\n",
       "    </tr>\n",
       "    <tr>\n",
       "      <th>June</th>\n",
       "      <td>24</td>\n",
       "    </tr>\n",
       "    <tr>\n",
       "      <th>July</th>\n",
       "      <td>1</td>\n",
       "    </tr>\n",
       "    <tr>\n",
       "      <th>total</th>\n",
       "      <td>1784</td>\n",
       "    </tr>\n",
       "  </tbody>\n",
       "</table>\n",
       "</div>"
      ],
      "text/plain": [
       "trailer                  carioca\n",
       "variaveis                       \n",
       "canino_f                     576\n",
       "canino_m                     406\n",
       "felino_f                     467\n",
       "felino_m                     335\n",
       "cirurg_n_realizada           665\n",
       "cirurg_realizada            1118\n",
       "endereço não encontrado        1\n",
       "February                     266\n",
       "March                        588\n",
       "April                        650\n",
       "May                          255\n",
       "June                          24\n",
       "July                           1\n",
       "total                       1784"
      ]
     },
     "execution_count": 242,
     "metadata": {},
     "output_type": "execute_result"
    }
   ],
   "source": [
    "relat_fs01.T.rename_axis('variaveis')"
   ]
  },
  {
   "cell_type": "markdown",
   "id": "8c68af3b-5fa5-4249-a7ca-f82c8e7bbd05",
   "metadata": {},
   "source": [
    "# Relatório Fase 01 RIO"
   ]
  },
  {
   "cell_type": "markdown",
   "id": "06b3def7-76a3-4a19-8213-40c3f82eb4cb",
   "metadata": {},
   "source": [
    "### atribuição da base a uma variavel chamada rio_csv_pd"
   ]
  },
  {
   "cell_type": "code",
   "execution_count": 105,
   "id": "1f2560d0-b2c8-470b-9701-dbdc5ba0534e",
   "metadata": {},
   "outputs": [],
   "source": [
    "rio_csv_pd = read_csv('AGENDAMENTO_RIO.csv')"
   ]
  },
  {
   "cell_type": "markdown",
   "id": "300172b7-587c-4088-8e9f-3d1143dece44",
   "metadata": {},
   "source": [
    "### criação do quadro de dados (DataFrame) da variável RIO"
   ]
  },
  {
   "cell_type": "code",
   "execution_count": 106,
   "id": "e49443fc-548c-4b59-a7f6-fc1ef0ab176c",
   "metadata": {},
   "outputs": [
    {
     "name": "stdout",
     "output_type": "stream",
     "text": [
      "Index(['Carimbo de data/hora', 'NOME COMPLETO', 'ENDEREÇO COMPLETO', 'BAIRRO',\n",
      "       'CEP', 'DATA DE NASCIMENTO', 'TELEFONE', 'EMAIL', 'NOME DO ANIMAL',\n",
      "       'CPF', 'ESPECIE', 'GENERO', 'STATUS/ATENDIMENTOS', 'MOTIVO DA RECUSA',\n",
      "       'ÓBITO/INTERCORRÊNCIA', 'LOCAL', 'NOME DO ANIMAL.1', 'RAÇA',\n",
      "       'Nº DO CHIP', 'ENDEREÇO', 'Unnamed: 20', 'Unnamed: 21'],\n",
      "      dtype='object')\n"
     ]
    }
   ],
   "source": [
    "rio_df = DataFrame(rio_csv_pd)\n",
    "print (rio_df.columns)"
   ]
  },
  {
   "cell_type": "markdown",
   "id": "c10ca007-88ab-4b74-bfb4-cb9e45c1b0a0",
   "metadata": {},
   "source": [
    "#### Criação do quadro de dados de trabalho - subconjunto do conjunto original"
   ]
  },
  {
   "cell_type": "code",
   "execution_count": 107,
   "id": "5c049986-302f-4bed-b27d-145be84e344d",
   "metadata": {},
   "outputs": [],
   "source": [
    "atributos_rio = ['Carimbo de data/hora', 'ESPECIE', 'GENERO', 'STATUS/ATENDIMENTOS']"
   ]
  },
  {
   "cell_type": "code",
   "execution_count": 108,
   "id": "f46ece98-991f-43eb-aede-b54b35e041a1",
   "metadata": {},
   "outputs": [],
   "source": [
    "rio_df = rio_df[atributos_rio]"
   ]
  },
  {
   "cell_type": "code",
   "execution_count": 109,
   "id": "1237082c-73ec-46b6-a7ae-c04d6fd7ae5a",
   "metadata": {},
   "outputs": [],
   "source": [
    "rio_df['trailer']= 'rio'"
   ]
  },
  {
   "cell_type": "code",
   "execution_count": 110,
   "id": "0b6bcb74-1913-417a-84cc-6db2c9b6ac2e",
   "metadata": {},
   "outputs": [
    {
     "data": {
      "text/html": [
       "<div>\n",
       "<style scoped>\n",
       "    .dataframe tbody tr th:only-of-type {\n",
       "        vertical-align: middle;\n",
       "    }\n",
       "\n",
       "    .dataframe tbody tr th {\n",
       "        vertical-align: top;\n",
       "    }\n",
       "\n",
       "    .dataframe thead th {\n",
       "        text-align: right;\n",
       "    }\n",
       "</style>\n",
       "<table border=\"1\" class=\"dataframe\">\n",
       "  <thead>\n",
       "    <tr style=\"text-align: right;\">\n",
       "      <th></th>\n",
       "      <th>Carimbo de data/hora</th>\n",
       "      <th>ESPECIE</th>\n",
       "      <th>GENERO</th>\n",
       "      <th>STATUS/ATENDIMENTOS</th>\n",
       "      <th>trailer</th>\n",
       "    </tr>\n",
       "  </thead>\n",
       "  <tbody>\n",
       "    <tr>\n",
       "      <th>0</th>\n",
       "      <td>18/02/2024 20:23:21</td>\n",
       "      <td>CANINO</td>\n",
       "      <td>MACHO</td>\n",
       "      <td>RECUSA</td>\n",
       "      <td>rio</td>\n",
       "    </tr>\n",
       "    <tr>\n",
       "      <th>1</th>\n",
       "      <td>19/02/2024 15:28:33</td>\n",
       "      <td>CANINO</td>\n",
       "      <td>MACHO</td>\n",
       "      <td>REALIZADA</td>\n",
       "      <td>rio</td>\n",
       "    </tr>\n",
       "  </tbody>\n",
       "</table>\n",
       "</div>"
      ],
      "text/plain": [
       "  Carimbo de data/hora ESPECIE GENERO STATUS/ATENDIMENTOS trailer\n",
       "0  18/02/2024 20:23:21  CANINO  MACHO              RECUSA     rio\n",
       "1  19/02/2024 15:28:33  CANINO  MACHO           REALIZADA     rio"
      ]
     },
     "execution_count": 110,
     "metadata": {},
     "output_type": "execute_result"
    }
   ],
   "source": [
    "rio_df.head(2)"
   ]
  },
  {
   "cell_type": "markdown",
   "id": "85c53692-8f00-4393-ae39-2addc9708045",
   "metadata": {},
   "source": [
    "#### Formatação do atributo Carimbo de data para adequação da data as funções do python "
   ]
  },
  {
   "cell_type": "code",
   "execution_count": 111,
   "id": "093366d9-f454-40ee-afea-a75645658488",
   "metadata": {},
   "outputs": [
    {
     "data": {
      "text/html": [
       "<div>\n",
       "<style scoped>\n",
       "    .dataframe tbody tr th:only-of-type {\n",
       "        vertical-align: middle;\n",
       "    }\n",
       "\n",
       "    .dataframe tbody tr th {\n",
       "        vertical-align: top;\n",
       "    }\n",
       "\n",
       "    .dataframe thead th {\n",
       "        text-align: right;\n",
       "    }\n",
       "</style>\n",
       "<table border=\"1\" class=\"dataframe\">\n",
       "  <thead>\n",
       "    <tr style=\"text-align: right;\">\n",
       "      <th></th>\n",
       "      <th>Carimbo de data/hora</th>\n",
       "      <th>ESPECIE</th>\n",
       "      <th>GENERO</th>\n",
       "      <th>STATUS/ATENDIMENTOS</th>\n",
       "      <th>trailer</th>\n",
       "    </tr>\n",
       "  </thead>\n",
       "  <tbody>\n",
       "    <tr>\n",
       "      <th>0</th>\n",
       "      <td>18/02/2024 20:23:21</td>\n",
       "      <td>CANINO</td>\n",
       "      <td>MACHO</td>\n",
       "      <td>RECUSA</td>\n",
       "      <td>rio</td>\n",
       "    </tr>\n",
       "  </tbody>\n",
       "</table>\n",
       "</div>"
      ],
      "text/plain": [
       "  Carimbo de data/hora ESPECIE GENERO STATUS/ATENDIMENTOS trailer\n",
       "0  18/02/2024 20:23:21  CANINO  MACHO              RECUSA     rio"
      ]
     },
     "execution_count": 111,
     "metadata": {},
     "output_type": "execute_result"
    }
   ],
   "source": [
    "rio_df.head(1)"
   ]
  },
  {
   "cell_type": "code",
   "execution_count": 112,
   "id": "469bb29c-db27-42b3-9caa-b756ae308429",
   "metadata": {},
   "outputs": [],
   "source": [
    "rio_df['Carimbo de data/hora']=rio_df['Carimbo de data/hora'].str.split(' ', expand=True)[0]"
   ]
  },
  {
   "cell_type": "code",
   "execution_count": 113,
   "id": "f951970a-5f9c-44e6-86f4-869e604bed34",
   "metadata": {},
   "outputs": [],
   "source": [
    "rio_df['Carimbo de data/hora']=DataFrame(to_datetime(list(rio_df['Carimbo de data/hora']), dayfirst=True))"
   ]
  },
  {
   "cell_type": "markdown",
   "id": "e581212b-63e7-4d25-82e8-b019c32238b2",
   "metadata": {},
   "source": [
    "#### Criação do atributo dos meses"
   ]
  },
  {
   "cell_type": "code",
   "execution_count": 114,
   "id": "91b84650-d042-4638-9a41-826454daa2b4",
   "metadata": {},
   "outputs": [
    {
     "data": {
      "text/html": [
       "<div>\n",
       "<style scoped>\n",
       "    .dataframe tbody tr th:only-of-type {\n",
       "        vertical-align: middle;\n",
       "    }\n",
       "\n",
       "    .dataframe tbody tr th {\n",
       "        vertical-align: top;\n",
       "    }\n",
       "\n",
       "    .dataframe thead th {\n",
       "        text-align: right;\n",
       "    }\n",
       "</style>\n",
       "<table border=\"1\" class=\"dataframe\">\n",
       "  <thead>\n",
       "    <tr style=\"text-align: right;\">\n",
       "      <th></th>\n",
       "      <th>Carimbo de data/hora</th>\n",
       "      <th>ESPECIE</th>\n",
       "      <th>GENERO</th>\n",
       "      <th>STATUS/ATENDIMENTOS</th>\n",
       "      <th>trailer</th>\n",
       "    </tr>\n",
       "  </thead>\n",
       "  <tbody>\n",
       "    <tr>\n",
       "      <th>0</th>\n",
       "      <td>2024-02-18</td>\n",
       "      <td>CANINO</td>\n",
       "      <td>MACHO</td>\n",
       "      <td>RECUSA</td>\n",
       "      <td>rio</td>\n",
       "    </tr>\n",
       "  </tbody>\n",
       "</table>\n",
       "</div>"
      ],
      "text/plain": [
       "  Carimbo de data/hora ESPECIE GENERO STATUS/ATENDIMENTOS trailer\n",
       "0           2024-02-18  CANINO  MACHO              RECUSA     rio"
      ]
     },
     "execution_count": 114,
     "metadata": {},
     "output_type": "execute_result"
    }
   ],
   "source": [
    "rio_df.head(1)"
   ]
  },
  {
   "cell_type": "code",
   "execution_count": 115,
   "id": "24c4b789-8e91-4d67-a12c-ec7a1090bde4",
   "metadata": {},
   "outputs": [],
   "source": [
    "rio_df['meses']= Series(rio_df['Carimbo de data/hora']).dt.month_name()"
   ]
  },
  {
   "cell_type": "markdown",
   "id": "f7d39c3c-a920-4600-a276-6228fb685260",
   "metadata": {},
   "source": [
    "#### Formatação do Atributo ESPECIE para governança dos dados"
   ]
  },
  {
   "cell_type": "code",
   "execution_count": 116,
   "id": "ff4607c9-1147-4b3d-b3b9-f1d1c5c7ff5e",
   "metadata": {},
   "outputs": [
    {
     "data": {
      "text/html": [
       "<div>\n",
       "<style scoped>\n",
       "    .dataframe tbody tr th:only-of-type {\n",
       "        vertical-align: middle;\n",
       "    }\n",
       "\n",
       "    .dataframe tbody tr th {\n",
       "        vertical-align: top;\n",
       "    }\n",
       "\n",
       "    .dataframe thead th {\n",
       "        text-align: right;\n",
       "    }\n",
       "</style>\n",
       "<table border=\"1\" class=\"dataframe\">\n",
       "  <thead>\n",
       "    <tr style=\"text-align: right;\">\n",
       "      <th></th>\n",
       "      <th>Carimbo de data/hora</th>\n",
       "      <th>ESPECIE</th>\n",
       "      <th>GENERO</th>\n",
       "      <th>STATUS/ATENDIMENTOS</th>\n",
       "      <th>trailer</th>\n",
       "      <th>meses</th>\n",
       "    </tr>\n",
       "  </thead>\n",
       "  <tbody>\n",
       "    <tr>\n",
       "      <th>0</th>\n",
       "      <td>2024-02-18</td>\n",
       "      <td>CANINO</td>\n",
       "      <td>MACHO</td>\n",
       "      <td>RECUSA</td>\n",
       "      <td>rio</td>\n",
       "      <td>February</td>\n",
       "    </tr>\n",
       "  </tbody>\n",
       "</table>\n",
       "</div>"
      ],
      "text/plain": [
       "  Carimbo de data/hora ESPECIE GENERO STATUS/ATENDIMENTOS trailer     meses\n",
       "0           2024-02-18  CANINO  MACHO              RECUSA     rio  February"
      ]
     },
     "execution_count": 116,
     "metadata": {},
     "output_type": "execute_result"
    }
   ],
   "source": [
    "rio_df.head(1)"
   ]
  },
  {
   "cell_type": "code",
   "execution_count": 117,
   "id": "efefaae9-1fb9-4ad6-bae4-ee5c8b63bba4",
   "metadata": {},
   "outputs": [
    {
     "data": {
      "text/plain": [
       "array(['CANINO', 'FELINO', nan], dtype=object)"
      ]
     },
     "execution_count": 117,
     "metadata": {},
     "output_type": "execute_result"
    }
   ],
   "source": [
    "rio_df['ESPECIE'].unique()"
   ]
  },
  {
   "cell_type": "code",
   "execution_count": 118,
   "id": "edd4b7ad-6ed0-4d94-989b-72896ca3fe6a",
   "metadata": {},
   "outputs": [],
   "source": [
    "rio_df['ESPECIE'] = rio_df['ESPECIE'].str.casefold()\n",
    "rio_df['ESPECIE'] = rio_df['ESPECIE'].str.strip()"
   ]
  },
  {
   "cell_type": "code",
   "execution_count": 119,
   "id": "6d289ad5-c959-463d-9e55-fa468e78222a",
   "metadata": {},
   "outputs": [
    {
     "data": {
      "text/plain": [
       "ESPECIE\n",
       "False    1441\n",
       "True       11\n",
       "Name: count, dtype: int64"
      ]
     },
     "execution_count": 119,
     "metadata": {},
     "output_type": "execute_result"
    }
   ],
   "source": [
    "rio_df['ESPECIE'].isna().value_counts()"
   ]
  },
  {
   "cell_type": "code",
   "execution_count": 120,
   "id": "f3b05cf5-8372-4ea9-8c70-4f2f805ddb40",
   "metadata": {},
   "outputs": [
    {
     "data": {
      "text/plain": [
       "ESPECIE\n",
       "False    1437\n",
       "Name: count, dtype: int64"
      ]
     },
     "execution_count": 120,
     "metadata": {},
     "output_type": "execute_result"
    }
   ],
   "source": [
    "rio_df = rio_df.dropna()\n",
    "rio_df['ESPECIE'].isna().value_counts()"
   ]
  },
  {
   "cell_type": "code",
   "execution_count": 121,
   "id": "cb43bd45-7f8f-4c77-ac01-507e3469cc30",
   "metadata": {},
   "outputs": [
    {
     "data": {
      "text/plain": [
       "array(['canino', 'felino'], dtype=object)"
      ]
     },
     "execution_count": 121,
     "metadata": {},
     "output_type": "execute_result"
    }
   ],
   "source": [
    "rio_df['ESPECIE'].unique()"
   ]
  },
  {
   "cell_type": "markdown",
   "id": "0898aa81-7dfe-449a-b7b9-7aa5311a36cb",
   "metadata": {},
   "source": [
    "#### Formatação do Atributo GENERO para governança dos dados"
   ]
  },
  {
   "cell_type": "code",
   "execution_count": 122,
   "id": "459d70dd-3545-4e37-8742-5876714ec0cf",
   "metadata": {},
   "outputs": [
    {
     "data": {
      "text/plain": [
       "array(['MACHO', 'FEMEA'], dtype=object)"
      ]
     },
     "execution_count": 122,
     "metadata": {},
     "output_type": "execute_result"
    }
   ],
   "source": [
    "rio_df['GENERO'].unique()"
   ]
  },
  {
   "cell_type": "code",
   "execution_count": 123,
   "id": "641d7be4-5e8e-4e5a-a77c-7d350b17f354",
   "metadata": {},
   "outputs": [],
   "source": [
    "rio_df['GENERO'] = rio_df['GENERO'].str.casefold()"
   ]
  },
  {
   "cell_type": "code",
   "execution_count": 124,
   "id": "d84df6f9-bcf3-4210-8441-3633ddf2dc04",
   "metadata": {},
   "outputs": [
    {
     "data": {
      "text/plain": [
       "array(['macho', 'femea'], dtype=object)"
      ]
     },
     "execution_count": 124,
     "metadata": {},
     "output_type": "execute_result"
    }
   ],
   "source": [
    "rio_df['GENERO'].unique()"
   ]
  },
  {
   "cell_type": "markdown",
   "id": "1805b79c-9aca-4288-a1e5-02e2bd10942a",
   "metadata": {},
   "source": [
    "### Formatação do Atributo STATUS/ATENDIMENTOS pra govenança de dados"
   ]
  },
  {
   "cell_type": "code",
   "execution_count": 125,
   "id": "385ad318-0f61-4c9d-a10b-8b453dceda21",
   "metadata": {},
   "outputs": [
    {
     "data": {
      "text/plain": [
       "array(['RECUSA', 'REALIZADA', 'CIRURGIA REALIZADA', 'FALTA',\n",
       "       'CIRURGIA REALIZADA ', 'CHIPAGEM', 'RECUSA '], dtype=object)"
      ]
     },
     "execution_count": 125,
     "metadata": {},
     "output_type": "execute_result"
    }
   ],
   "source": [
    "rio_df['STATUS/ATENDIMENTOS'].unique()"
   ]
  },
  {
   "cell_type": "code",
   "execution_count": 126,
   "id": "1bb6914d-cc0c-4c76-822d-948b99ecf956",
   "metadata": {},
   "outputs": [],
   "source": [
    "rio_df['STATUS/ATENDIMENTOS'] = rio_df['STATUS/ATENDIMENTOS'].str.casefold()\n",
    "rio_df['STATUS/ATENDIMENTOS'] = rio_df['STATUS/ATENDIMENTOS'].str.strip()"
   ]
  },
  {
   "cell_type": "code",
   "execution_count": 127,
   "id": "b004f0f1-4a68-436a-a91e-7b049e5a56ee",
   "metadata": {},
   "outputs": [
    {
     "data": {
      "text/plain": [
       "array(['recusa', 'realizada', 'cirurgia realizada', 'falta', 'chipagem'],\n",
       "      dtype=object)"
      ]
     },
     "execution_count": 127,
     "metadata": {},
     "output_type": "execute_result"
    }
   ],
   "source": [
    "rio_df['STATUS/ATENDIMENTOS'].unique()"
   ]
  },
  {
   "cell_type": "code",
   "execution_count": 128,
   "id": "7f4b3668-acfb-49a7-86f1-491d1b794254",
   "metadata": {},
   "outputs": [
    {
     "data": {
      "text/html": [
       "<div>\n",
       "<style scoped>\n",
       "    .dataframe tbody tr th:only-of-type {\n",
       "        vertical-align: middle;\n",
       "    }\n",
       "\n",
       "    .dataframe tbody tr th {\n",
       "        vertical-align: top;\n",
       "    }\n",
       "\n",
       "    .dataframe thead th {\n",
       "        text-align: right;\n",
       "    }\n",
       "</style>\n",
       "<table border=\"1\" class=\"dataframe\">\n",
       "  <thead>\n",
       "    <tr style=\"text-align: right;\">\n",
       "      <th></th>\n",
       "      <th>Carimbo de data/hora</th>\n",
       "      <th>ESPECIE</th>\n",
       "      <th>GENERO</th>\n",
       "      <th>STATUS/ATENDIMENTOS</th>\n",
       "      <th>trailer</th>\n",
       "      <th>meses</th>\n",
       "    </tr>\n",
       "  </thead>\n",
       "  <tbody>\n",
       "    <tr>\n",
       "      <th>0</th>\n",
       "      <td>2024-02-18</td>\n",
       "      <td>canino</td>\n",
       "      <td>macho</td>\n",
       "      <td>recusa</td>\n",
       "      <td>rio</td>\n",
       "      <td>February</td>\n",
       "    </tr>\n",
       "    <tr>\n",
       "      <th>1</th>\n",
       "      <td>2024-02-19</td>\n",
       "      <td>canino</td>\n",
       "      <td>macho</td>\n",
       "      <td>realizada</td>\n",
       "      <td>rio</td>\n",
       "      <td>February</td>\n",
       "    </tr>\n",
       "  </tbody>\n",
       "</table>\n",
       "</div>"
      ],
      "text/plain": [
       "  Carimbo de data/hora ESPECIE GENERO STATUS/ATENDIMENTOS trailer     meses\n",
       "0           2024-02-18  canino  macho              recusa     rio  February\n",
       "1           2024-02-19  canino  macho           realizada     rio  February"
      ]
     },
     "execution_count": 128,
     "metadata": {},
     "output_type": "execute_result"
    }
   ],
   "source": [
    "rio_df.head(2)"
   ]
  },
  {
   "cell_type": "markdown",
   "id": "e9daa22f-187b-4205-a63c-d04a32bd5f45",
   "metadata": {},
   "source": [
    "### Formatar os atributos para que se transformem nas próximas etapas em variáveis de trabalho."
   ]
  },
  {
   "cell_type": "code",
   "execution_count": 129,
   "id": "6d182fe2-188b-4b79-a330-7e26e518e659",
   "metadata": {},
   "outputs": [
    {
     "name": "stdout",
     "output_type": "stream",
     "text": [
      "['canino' 'felino']\n",
      "['macho' 'femea']\n",
      "['recusa' 'realizada' 'cirurgia realizada' 'falta' 'chipagem']\n",
      "['February' 'March' 'April' 'May']\n"
     ]
    }
   ],
   "source": [
    "print(rio_df['ESPECIE'].unique())\n",
    "print(rio_df['GENERO'].unique())\n",
    "print(rio_df['STATUS/ATENDIMENTOS'].unique())\n",
    "print(rio_df['meses'].unique())"
   ]
  },
  {
   "cell_type": "markdown",
   "id": "f9c6c51e-96ab-4f1b-941f-1ecf408234bc",
   "metadata": {},
   "source": [
    "#### Juntando GENERO e ESPECIE em GENERO"
   ]
  },
  {
   "cell_type": "code",
   "execution_count": 130,
   "id": "7dd8256e-62be-42a6-b5e9-bdc32276d6bd",
   "metadata": {},
   "outputs": [],
   "source": [
    "# Caninos\n",
    "rio_df.loc[(rio_df['ESPECIE']=='canino') & (rio_df['GENERO']=='macho'),['GENERO']]='canino_m'\n",
    "rio_df.loc[(rio_df['ESPECIE']=='canino') & (rio_df['GENERO']=='femea'),['GENERO']]='canino_f'\n",
    "# Felinos\n",
    "rio_df.loc[(rio_df['ESPECIE']=='felino') & (rio_df['GENERO']=='macho'),['GENERO']]='felino_m'\n",
    "rio_df.loc[(rio_df['ESPECIE']=='felino') & (rio_df['GENERO']=='femea'),['GENERO']]='felino_f'"
   ]
  },
  {
   "cell_type": "markdown",
   "id": "547fe5fe-16de-42fb-ac73-488a1e2651a6",
   "metadata": {},
   "source": [
    "#### Ajustando a Governança do atributo STATUS para que se transformem em variáveis nas próximas etapas"
   ]
  },
  {
   "cell_type": "code",
   "execution_count": 131,
   "id": "2f89ab9b-4ccd-425b-82e3-4e65263702f6",
   "metadata": {},
   "outputs": [],
   "source": [
    "# Cirurgia não realizada\n",
    "rio_df.loc[(rio_df['STATUS/ATENDIMENTOS']=='recusa'),['STATUS/ATENDIMENTOS']]='cirurg_n_realizada'\n",
    "rio_df.loc[(rio_df['STATUS/ATENDIMENTOS']=='falta'),['STATUS/ATENDIMENTOS']]='cirurg_n_realizada'\n",
    "# Cirurgia realizada\n",
    "rio_df.loc[(rio_df['STATUS/ATENDIMENTOS']=='realizada'),['STATUS/ATENDIMENTOS']]='cirurg_realizada'\n",
    "rio_df.loc[(rio_df['STATUS/ATENDIMENTOS']=='cirurgia realizada'),['STATUS/ATENDIMENTOS']]='cirurg_realizada'"
   ]
  },
  {
   "cell_type": "code",
   "execution_count": 132,
   "id": "e4a045ff-fcb2-434e-9168-1546077691b1",
   "metadata": {},
   "outputs": [
    {
     "data": {
      "text/html": [
       "<div>\n",
       "<style scoped>\n",
       "    .dataframe tbody tr th:only-of-type {\n",
       "        vertical-align: middle;\n",
       "    }\n",
       "\n",
       "    .dataframe tbody tr th {\n",
       "        vertical-align: top;\n",
       "    }\n",
       "\n",
       "    .dataframe thead th {\n",
       "        text-align: right;\n",
       "    }\n",
       "</style>\n",
       "<table border=\"1\" class=\"dataframe\">\n",
       "  <thead>\n",
       "    <tr style=\"text-align: right;\">\n",
       "      <th></th>\n",
       "      <th>Carimbo de data/hora</th>\n",
       "      <th>ESPECIE</th>\n",
       "      <th>GENERO</th>\n",
       "      <th>STATUS/ATENDIMENTOS</th>\n",
       "      <th>trailer</th>\n",
       "      <th>meses</th>\n",
       "    </tr>\n",
       "  </thead>\n",
       "  <tbody>\n",
       "    <tr>\n",
       "      <th>0</th>\n",
       "      <td>2024-02-18</td>\n",
       "      <td>canino</td>\n",
       "      <td>canino_m</td>\n",
       "      <td>cirurg_n_realizada</td>\n",
       "      <td>rio</td>\n",
       "      <td>February</td>\n",
       "    </tr>\n",
       "    <tr>\n",
       "      <th>1</th>\n",
       "      <td>2024-02-19</td>\n",
       "      <td>canino</td>\n",
       "      <td>canino_m</td>\n",
       "      <td>cirurg_realizada</td>\n",
       "      <td>rio</td>\n",
       "      <td>February</td>\n",
       "    </tr>\n",
       "    <tr>\n",
       "      <th>2</th>\n",
       "      <td>2024-02-19</td>\n",
       "      <td>felino</td>\n",
       "      <td>felino_f</td>\n",
       "      <td>cirurg_n_realizada</td>\n",
       "      <td>rio</td>\n",
       "      <td>February</td>\n",
       "    </tr>\n",
       "    <tr>\n",
       "      <th>3</th>\n",
       "      <td>2024-02-19</td>\n",
       "      <td>canino</td>\n",
       "      <td>canino_f</td>\n",
       "      <td>cirurg_realizada</td>\n",
       "      <td>rio</td>\n",
       "      <td>February</td>\n",
       "    </tr>\n",
       "    <tr>\n",
       "      <th>4</th>\n",
       "      <td>2024-02-19</td>\n",
       "      <td>felino</td>\n",
       "      <td>felino_f</td>\n",
       "      <td>cirurg_realizada</td>\n",
       "      <td>rio</td>\n",
       "      <td>February</td>\n",
       "    </tr>\n",
       "  </tbody>\n",
       "</table>\n",
       "</div>"
      ],
      "text/plain": [
       "  Carimbo de data/hora ESPECIE    GENERO STATUS/ATENDIMENTOS trailer     meses\n",
       "0           2024-02-18  canino  canino_m  cirurg_n_realizada     rio  February\n",
       "1           2024-02-19  canino  canino_m    cirurg_realizada     rio  February\n",
       "2           2024-02-19  felino  felino_f  cirurg_n_realizada     rio  February\n",
       "3           2024-02-19  canino  canino_f    cirurg_realizada     rio  February\n",
       "4           2024-02-19  felino  felino_f    cirurg_realizada     rio  February"
      ]
     },
     "execution_count": 132,
     "metadata": {},
     "output_type": "execute_result"
    }
   ],
   "source": [
    "rio_df.head()"
   ]
  },
  {
   "cell_type": "markdown",
   "id": "d61e5aab-31be-4ecb-b515-a021819c63ba",
   "metadata": {},
   "source": [
    "### Criação das variáveis de trabalho"
   ]
  },
  {
   "cell_type": "code",
   "execution_count": 133,
   "id": "42dcd19a-e56a-431f-bc48-f23a3b9c113a",
   "metadata": {},
   "outputs": [],
   "source": [
    "rio_df = rio_df.join(get_dummies(rio_df['GENERO'],dtype=int))"
   ]
  },
  {
   "cell_type": "code",
   "execution_count": 134,
   "id": "2bb6a7c9-bfaf-4b07-b2f3-59695f64c267",
   "metadata": {},
   "outputs": [],
   "source": [
    "rio_df = rio_df.join(get_dummies(rio_df['STATUS/ATENDIMENTOS'],dtype=int))"
   ]
  },
  {
   "cell_type": "code",
   "execution_count": 135,
   "id": "bc097ab1-7018-4eea-bde3-9a1a4c5ee43f",
   "metadata": {},
   "outputs": [],
   "source": [
    "rio_df = rio_df.join(get_dummies(rio_df['meses'],dtype=int))"
   ]
  },
  {
   "cell_type": "code",
   "execution_count": 136,
   "id": "6a247b5d-bc27-4d57-abbc-80509a591c58",
   "metadata": {},
   "outputs": [
    {
     "data": {
      "text/plain": [
       "Index(['Carimbo de data/hora', 'ESPECIE', 'GENERO', 'STATUS/ATENDIMENTOS',\n",
       "       'trailer', 'meses', 'canino_f', 'canino_m', 'felino_f', 'felino_m',\n",
       "       'chipagem', 'cirurg_n_realizada', 'cirurg_realizada', 'April',\n",
       "       'February', 'March', 'May'],\n",
       "      dtype='object')"
      ]
     },
     "execution_count": 136,
     "metadata": {},
     "output_type": "execute_result"
    }
   ],
   "source": [
    "rio_df.columns"
   ]
  },
  {
   "cell_type": "code",
   "execution_count": 140,
   "id": "50c1b750-11cd-4283-a4e0-5f2380899a7e",
   "metadata": {},
   "outputs": [],
   "source": [
    "rio_df = rio_df.sort_values(by=['Carimbo de data/hora']).reset_index(drop=True)"
   ]
  },
  {
   "cell_type": "code",
   "execution_count": 141,
   "id": "6ee9a6a6-3db9-4126-ad2a-5246a1f263bf",
   "metadata": {},
   "outputs": [
    {
     "name": "stdout",
     "output_type": "stream",
     "text": [
      "2024-02-18 00:00:00\n",
      "2024-05-31 00:00:00\n"
     ]
    }
   ],
   "source": [
    "dia_inicio_rio = rio_df['Carimbo de data/hora'].min()\n",
    "ultimo_dia_rio = rio_df['Carimbo de data/hora'].max()\n",
    "print (dia_inicio_rio)\n",
    "print (ultimo_dia_rio)"
   ]
  },
  {
   "cell_type": "markdown",
   "id": "3676fa1a-672c-4cd8-8eb8-05f8fe4f696c",
   "metadata": {},
   "source": [
    "#### Retirada dos atributos que são redundantes ou não serão analisados"
   ]
  },
  {
   "cell_type": "code",
   "execution_count": 142,
   "id": "3e226d90-e461-42cf-9e8e-9ec7beebed28",
   "metadata": {},
   "outputs": [],
   "source": [
    "rio_df = rio_df.drop(['Carimbo de data/hora', 'ESPECIE', 'GENERO', 'STATUS/ATENDIMENTOS','meses'],axis=1)"
   ]
  },
  {
   "cell_type": "code",
   "execution_count": 143,
   "id": "44af8cfe-ad2e-4257-9b16-9fedb6b1f0f7",
   "metadata": {},
   "outputs": [
    {
     "data": {
      "text/plain": [
       "Index(['trailer', 'canino_f', 'canino_m', 'felino_f', 'felino_m', 'chipagem',\n",
       "       'cirurg_n_realizada', 'cirurg_realizada', 'April', 'February', 'March',\n",
       "       'May'],\n",
       "      dtype='object')"
      ]
     },
     "execution_count": 143,
     "metadata": {},
     "output_type": "execute_result"
    }
   ],
   "source": [
    "rio_df.columns"
   ]
  },
  {
   "cell_type": "code",
   "execution_count": 144,
   "id": "c30d2c06-2911-443b-ba5b-419f1b64d8dd",
   "metadata": {},
   "outputs": [],
   "source": [
    "rio_df = rio_df[['trailer', 'canino_f', 'canino_m', 'felino_f', 'felino_m', 'chipagem',\n",
    "       'cirurg_n_realizada', 'cirurg_realizada', 'February', 'March', 'April','May']]"
   ]
  },
  {
   "cell_type": "code",
   "execution_count": 145,
   "id": "e5574b3f-bf0a-4e63-aa52-a6efc5676482",
   "metadata": {},
   "outputs": [
    {
     "data": {
      "text/html": [
       "<div>\n",
       "<style scoped>\n",
       "    .dataframe tbody tr th:only-of-type {\n",
       "        vertical-align: middle;\n",
       "    }\n",
       "\n",
       "    .dataframe tbody tr th {\n",
       "        vertical-align: top;\n",
       "    }\n",
       "\n",
       "    .dataframe thead th {\n",
       "        text-align: right;\n",
       "    }\n",
       "</style>\n",
       "<table border=\"1\" class=\"dataframe\">\n",
       "  <thead>\n",
       "    <tr style=\"text-align: right;\">\n",
       "      <th></th>\n",
       "      <th>trailer</th>\n",
       "      <th>canino_f</th>\n",
       "      <th>canino_m</th>\n",
       "      <th>felino_f</th>\n",
       "      <th>felino_m</th>\n",
       "      <th>chipagem</th>\n",
       "      <th>cirurg_n_realizada</th>\n",
       "      <th>cirurg_realizada</th>\n",
       "      <th>February</th>\n",
       "      <th>March</th>\n",
       "      <th>April</th>\n",
       "      <th>May</th>\n",
       "    </tr>\n",
       "  </thead>\n",
       "  <tbody>\n",
       "    <tr>\n",
       "      <th>1432</th>\n",
       "      <td>rio</td>\n",
       "      <td>0</td>\n",
       "      <td>1</td>\n",
       "      <td>0</td>\n",
       "      <td>0</td>\n",
       "      <td>0</td>\n",
       "      <td>0</td>\n",
       "      <td>1</td>\n",
       "      <td>0</td>\n",
       "      <td>0</td>\n",
       "      <td>0</td>\n",
       "      <td>1</td>\n",
       "    </tr>\n",
       "    <tr>\n",
       "      <th>1433</th>\n",
       "      <td>rio</td>\n",
       "      <td>0</td>\n",
       "      <td>1</td>\n",
       "      <td>0</td>\n",
       "      <td>0</td>\n",
       "      <td>0</td>\n",
       "      <td>1</td>\n",
       "      <td>0</td>\n",
       "      <td>0</td>\n",
       "      <td>0</td>\n",
       "      <td>0</td>\n",
       "      <td>1</td>\n",
       "    </tr>\n",
       "    <tr>\n",
       "      <th>1434</th>\n",
       "      <td>rio</td>\n",
       "      <td>0</td>\n",
       "      <td>0</td>\n",
       "      <td>0</td>\n",
       "      <td>1</td>\n",
       "      <td>0</td>\n",
       "      <td>0</td>\n",
       "      <td>1</td>\n",
       "      <td>0</td>\n",
       "      <td>0</td>\n",
       "      <td>0</td>\n",
       "      <td>1</td>\n",
       "    </tr>\n",
       "    <tr>\n",
       "      <th>1435</th>\n",
       "      <td>rio</td>\n",
       "      <td>0</td>\n",
       "      <td>0</td>\n",
       "      <td>0</td>\n",
       "      <td>1</td>\n",
       "      <td>0</td>\n",
       "      <td>1</td>\n",
       "      <td>0</td>\n",
       "      <td>0</td>\n",
       "      <td>0</td>\n",
       "      <td>0</td>\n",
       "      <td>1</td>\n",
       "    </tr>\n",
       "    <tr>\n",
       "      <th>1436</th>\n",
       "      <td>rio</td>\n",
       "      <td>0</td>\n",
       "      <td>0</td>\n",
       "      <td>0</td>\n",
       "      <td>1</td>\n",
       "      <td>0</td>\n",
       "      <td>0</td>\n",
       "      <td>1</td>\n",
       "      <td>0</td>\n",
       "      <td>0</td>\n",
       "      <td>0</td>\n",
       "      <td>1</td>\n",
       "    </tr>\n",
       "  </tbody>\n",
       "</table>\n",
       "</div>"
      ],
      "text/plain": [
       "     trailer  canino_f  canino_m  felino_f  felino_m  chipagem  \\\n",
       "1432     rio         0         1         0         0         0   \n",
       "1433     rio         0         1         0         0         0   \n",
       "1434     rio         0         0         0         1         0   \n",
       "1435     rio         0         0         0         1         0   \n",
       "1436     rio         0         0         0         1         0   \n",
       "\n",
       "      cirurg_n_realizada  cirurg_realizada  February  March  April  May  \n",
       "1432                   0                 1         0      0      0    1  \n",
       "1433                   1                 0         0      0      0    1  \n",
       "1434                   0                 1         0      0      0    1  \n",
       "1435                   1                 0         0      0      0    1  \n",
       "1436                   0                 1         0      0      0    1  "
      ]
     },
     "execution_count": 145,
     "metadata": {},
     "output_type": "execute_result"
    }
   ],
   "source": [
    "rio_df.tail()"
   ]
  },
  {
   "cell_type": "markdown",
   "id": "f3fb26b9-b54b-4402-b72e-ee3db5f95222",
   "metadata": {},
   "source": [
    "# Construção da Tabela de Contingência RIO"
   ]
  },
  {
   "cell_type": "code",
   "execution_count": 146,
   "id": "a7a6fff4-f4f2-4ec3-a249-c81dce96fda6",
   "metadata": {},
   "outputs": [],
   "source": [
    "tbl_rio = rio_df.groupby(by=['trailer']).sum()"
   ]
  },
  {
   "cell_type": "code",
   "execution_count": 147,
   "id": "4137c1c9-21de-43a8-ad95-c695c4213b83",
   "metadata": {},
   "outputs": [],
   "source": [
    "tbl_rio['total'] = tbl_rio['chipagem']+tbl_rio['cirurg_n_realizada']+tbl_rio['cirurg_realizada']"
   ]
  },
  {
   "cell_type": "code",
   "execution_count": 148,
   "id": "23cfe4c0-4482-4eec-b682-92133170a7ea",
   "metadata": {},
   "outputs": [
    {
     "data": {
      "text/html": [
       "<div>\n",
       "<style scoped>\n",
       "    .dataframe tbody tr th:only-of-type {\n",
       "        vertical-align: middle;\n",
       "    }\n",
       "\n",
       "    .dataframe tbody tr th {\n",
       "        vertical-align: top;\n",
       "    }\n",
       "\n",
       "    .dataframe thead th {\n",
       "        text-align: right;\n",
       "    }\n",
       "</style>\n",
       "<table border=\"1\" class=\"dataframe\">\n",
       "  <thead>\n",
       "    <tr style=\"text-align: right;\">\n",
       "      <th></th>\n",
       "      <th>canino_f</th>\n",
       "      <th>canino_m</th>\n",
       "      <th>felino_f</th>\n",
       "      <th>felino_m</th>\n",
       "      <th>chipagem</th>\n",
       "      <th>cirurg_n_realizada</th>\n",
       "      <th>cirurg_realizada</th>\n",
       "      <th>February</th>\n",
       "      <th>March</th>\n",
       "      <th>April</th>\n",
       "      <th>May</th>\n",
       "      <th>total</th>\n",
       "    </tr>\n",
       "    <tr>\n",
       "      <th>trailer</th>\n",
       "      <th></th>\n",
       "      <th></th>\n",
       "      <th></th>\n",
       "      <th></th>\n",
       "      <th></th>\n",
       "      <th></th>\n",
       "      <th></th>\n",
       "      <th></th>\n",
       "      <th></th>\n",
       "      <th></th>\n",
       "      <th></th>\n",
       "      <th></th>\n",
       "    </tr>\n",
       "  </thead>\n",
       "  <tbody>\n",
       "    <tr>\n",
       "      <th>rio</th>\n",
       "      <td>360</td>\n",
       "      <td>305</td>\n",
       "      <td>359</td>\n",
       "      <td>413</td>\n",
       "      <td>37</td>\n",
       "      <td>548</td>\n",
       "      <td>852</td>\n",
       "      <td>370</td>\n",
       "      <td>399</td>\n",
       "      <td>372</td>\n",
       "      <td>296</td>\n",
       "      <td>1437</td>\n",
       "    </tr>\n",
       "  </tbody>\n",
       "</table>\n",
       "</div>"
      ],
      "text/plain": [
       "         canino_f  canino_m  felino_f  felino_m  chipagem  cirurg_n_realizada  \\\n",
       "trailer                                                                         \n",
       "rio           360       305       359       413        37                 548   \n",
       "\n",
       "         cirurg_realizada  February  March  April  May  total  \n",
       "trailer                                                        \n",
       "rio                   852       370    399    372  296   1437  "
      ]
     },
     "execution_count": 148,
     "metadata": {},
     "output_type": "execute_result"
    }
   ],
   "source": [
    "tbl_rio"
   ]
  },
  {
   "cell_type": "code",
   "execution_count": 297,
   "id": "ba012700-709c-4daf-8618-6e325088d003",
   "metadata": {},
   "outputs": [
    {
     "data": {
      "text/html": [
       "<div>\n",
       "<style scoped>\n",
       "    .dataframe tbody tr th:only-of-type {\n",
       "        vertical-align: middle;\n",
       "    }\n",
       "\n",
       "    .dataframe tbody tr th {\n",
       "        vertical-align: top;\n",
       "    }\n",
       "\n",
       "    .dataframe thead th {\n",
       "        text-align: right;\n",
       "    }\n",
       "</style>\n",
       "<table border=\"1\" class=\"dataframe\">\n",
       "  <thead>\n",
       "    <tr style=\"text-align: right;\">\n",
       "      <th>trailer</th>\n",
       "      <th>rio</th>\n",
       "    </tr>\n",
       "    <tr>\n",
       "      <th>variaveis</th>\n",
       "      <th></th>\n",
       "    </tr>\n",
       "  </thead>\n",
       "  <tbody>\n",
       "    <tr>\n",
       "      <th>canino_f</th>\n",
       "      <td>360</td>\n",
       "    </tr>\n",
       "    <tr>\n",
       "      <th>canino_m</th>\n",
       "      <td>305</td>\n",
       "    </tr>\n",
       "    <tr>\n",
       "      <th>felino_f</th>\n",
       "      <td>359</td>\n",
       "    </tr>\n",
       "    <tr>\n",
       "      <th>felino_m</th>\n",
       "      <td>413</td>\n",
       "    </tr>\n",
       "    <tr>\n",
       "      <th>chipagem</th>\n",
       "      <td>37</td>\n",
       "    </tr>\n",
       "    <tr>\n",
       "      <th>cirurg_n_realizada</th>\n",
       "      <td>548</td>\n",
       "    </tr>\n",
       "    <tr>\n",
       "      <th>cirurg_realizada</th>\n",
       "      <td>852</td>\n",
       "    </tr>\n",
       "    <tr>\n",
       "      <th>February</th>\n",
       "      <td>370</td>\n",
       "    </tr>\n",
       "    <tr>\n",
       "      <th>March</th>\n",
       "      <td>399</td>\n",
       "    </tr>\n",
       "    <tr>\n",
       "      <th>April</th>\n",
       "      <td>372</td>\n",
       "    </tr>\n",
       "    <tr>\n",
       "      <th>May</th>\n",
       "      <td>296</td>\n",
       "    </tr>\n",
       "    <tr>\n",
       "      <th>total</th>\n",
       "      <td>1437</td>\n",
       "    </tr>\n",
       "  </tbody>\n",
       "</table>\n",
       "</div>"
      ],
      "text/plain": [
       "trailer              rio\n",
       "variaveis               \n",
       "canino_f             360\n",
       "canino_m             305\n",
       "felino_f             359\n",
       "felino_m             413\n",
       "chipagem              37\n",
       "cirurg_n_realizada   548\n",
       "cirurg_realizada     852\n",
       "February             370\n",
       "March                399\n",
       "April                372\n",
       "May                  296\n",
       "total               1437"
      ]
     },
     "execution_count": 297,
     "metadata": {},
     "output_type": "execute_result"
    }
   ],
   "source": [
    "tbl_rio.T.rename_axis('variaveis')"
   ]
  },
  {
   "cell_type": "markdown",
   "id": "805b751d-12d5-49a8-a1a2-5d317bef74ed",
   "metadata": {},
   "source": [
    "# Relatório Fase 01 - RIO 02"
   ]
  },
  {
   "cell_type": "markdown",
   "id": "4394fce2-d598-47ea-8649-227ca624fdc0",
   "metadata": {
    "jp-MarkdownHeadingCollapsed": true
   },
   "source": [
    "### Atribuição da Base a uma variável chamada \"rio_2_csv_pd\""
   ]
  },
  {
   "cell_type": "code",
   "execution_count": 2,
   "id": "c71706a9-c0ec-445a-b23e-deba7d07414f",
   "metadata": {},
   "outputs": [],
   "source": [
    "rio_2_csv_pd = read_csv('AGENDAMENTO_RIO _2.csv')"
   ]
  },
  {
   "cell_type": "markdown",
   "id": "d3c57243-8889-4eb9-83cb-5872371e1557",
   "metadata": {
    "jp-MarkdownHeadingCollapsed": true
   },
   "source": [
    "### Criação do Quadro de dados (DataFrame) da Base Rio 02"
   ]
  },
  {
   "cell_type": "code",
   "execution_count": 4,
   "id": "d62d4dde-79eb-4ddc-b3bc-50c40e6ec853",
   "metadata": {},
   "outputs": [
    {
     "name": "stdout",
     "output_type": "stream",
     "text": [
      "Index(['Carimbo de data/hora', 'LOCAL', 'NOME COMPLETO', 'ENDEREÇO COMPLETO',\n",
      "       'BAIRRO', 'CEP', 'DATA DE NASCIMENTO', 'TELEFONE', 'EMAIL', 'CPF',\n",
      "       'NOME DO ANIMAL', 'ESPÉCIE', 'GÊNERO', 'STATUS/ATENDIMENTOS',\n",
      "       'MOTIVO DA RECUSA', 'ÓBITO/INTERCORRENCIA'],\n",
      "      dtype='object')\n"
     ]
    }
   ],
   "source": [
    "rio_2_df = DataFrame(rio_2_csv_pd)\n",
    "print (rio_2_df.columns)"
   ]
  },
  {
   "cell_type": "markdown",
   "id": "632b26bc-d355-494e-8a8f-f39d24f5b88e",
   "metadata": {
    "jp-MarkdownHeadingCollapsed": true
   },
   "source": [
    "#### Criação do quadro de dados de trabalho - subconjunto do conjunto original"
   ]
  },
  {
   "cell_type": "code",
   "execution_count": 5,
   "id": "d608e57a-b7c6-43c5-ac09-c30f33cc94aa",
   "metadata": {},
   "outputs": [],
   "source": [
    "atributos_rio_2 = ['Carimbo de data/hora', 'ESPÉCIE', 'GÊNERO', 'STATUS/ATENDIMENTOS']"
   ]
  },
  {
   "cell_type": "code",
   "execution_count": 6,
   "id": "aa3be5f1-20a6-4583-8737-358b3dfa6858",
   "metadata": {},
   "outputs": [],
   "source": [
    "rio_2_df = rio_2_df[atributos_rio_2]"
   ]
  },
  {
   "cell_type": "code",
   "execution_count": null,
   "id": "146a64b0-39ff-4697-b278-340c92406ae5",
   "metadata": {},
   "outputs": [],
   "source": [
    "rio_2_df['trailer'] = 'rio_2'"
   ]
  },
  {
   "cell_type": "code",
   "execution_count": 8,
   "id": "841fd502-3cbe-423e-9c2f-ba973378ac97",
   "metadata": {},
   "outputs": [
    {
     "data": {
      "text/html": [
       "<div>\n",
       "<style scoped>\n",
       "    .dataframe tbody tr th:only-of-type {\n",
       "        vertical-align: middle;\n",
       "    }\n",
       "\n",
       "    .dataframe tbody tr th {\n",
       "        vertical-align: top;\n",
       "    }\n",
       "\n",
       "    .dataframe thead th {\n",
       "        text-align: right;\n",
       "    }\n",
       "</style>\n",
       "<table border=\"1\" class=\"dataframe\">\n",
       "  <thead>\n",
       "    <tr style=\"text-align: right;\">\n",
       "      <th></th>\n",
       "      <th>Carimbo de data/hora</th>\n",
       "      <th>ESPÉCIE</th>\n",
       "      <th>GÊNERO</th>\n",
       "      <th>STATUS/ATENDIMENTOS</th>\n",
       "      <th>trailer</th>\n",
       "    </tr>\n",
       "  </thead>\n",
       "  <tbody>\n",
       "    <tr>\n",
       "      <th>0</th>\n",
       "      <td>07/06/2024 12:13:42</td>\n",
       "      <td>FELINO</td>\n",
       "      <td>FÊMEA</td>\n",
       "      <td>CIRURGIA REALIZADA</td>\n",
       "      <td>rio_2</td>\n",
       "    </tr>\n",
       "    <tr>\n",
       "      <th>1</th>\n",
       "      <td>07/06/2027 11:35:58</td>\n",
       "      <td>FELINO</td>\n",
       "      <td>MACHO</td>\n",
       "      <td>CIRURGIA REALIZADA</td>\n",
       "      <td>rio_2</td>\n",
       "    </tr>\n",
       "  </tbody>\n",
       "</table>\n",
       "</div>"
      ],
      "text/plain": [
       "  Carimbo de data/hora ESPÉCIE GÊNERO STATUS/ATENDIMENTOS trailer\n",
       "0  07/06/2024 12:13:42  FELINO  FÊMEA  CIRURGIA REALIZADA   rio_2\n",
       "1  07/06/2027 11:35:58  FELINO  MACHO  CIRURGIA REALIZADA   rio_2"
      ]
     },
     "execution_count": 8,
     "metadata": {},
     "output_type": "execute_result"
    }
   ],
   "source": [
    "rio_2_df.head(2)"
   ]
  },
  {
   "cell_type": "markdown",
   "id": "7be8bd67-5571-4e16-85dc-24f20a4e3b42",
   "metadata": {
    "jp-MarkdownHeadingCollapsed": true
   },
   "source": [
    "### Formatação do atributo Carimbo de data para adequação da data as funções do python"
   ]
  },
  {
   "cell_type": "code",
   "execution_count": 15,
   "id": "4f1c1c31-cb5e-48bd-8098-d53eff6f2d8f",
   "metadata": {},
   "outputs": [
    {
     "data": {
      "text/html": [
       "<div>\n",
       "<style scoped>\n",
       "    .dataframe tbody tr th:only-of-type {\n",
       "        vertical-align: middle;\n",
       "    }\n",
       "\n",
       "    .dataframe tbody tr th {\n",
       "        vertical-align: top;\n",
       "    }\n",
       "\n",
       "    .dataframe thead th {\n",
       "        text-align: right;\n",
       "    }\n",
       "</style>\n",
       "<table border=\"1\" class=\"dataframe\">\n",
       "  <thead>\n",
       "    <tr style=\"text-align: right;\">\n",
       "      <th></th>\n",
       "      <th>Carimbo de data/hora</th>\n",
       "      <th>ESPÉCIE</th>\n",
       "      <th>GÊNERO</th>\n",
       "      <th>STATUS/ATENDIMENTOS</th>\n",
       "      <th>trailer</th>\n",
       "      <th>meses</th>\n",
       "    </tr>\n",
       "  </thead>\n",
       "  <tbody>\n",
       "    <tr>\n",
       "      <th>0</th>\n",
       "      <td>2024-06-07</td>\n",
       "      <td>FELINO</td>\n",
       "      <td>FÊMEA</td>\n",
       "      <td>CIRURGIA REALIZADA</td>\n",
       "      <td>rio_2</td>\n",
       "      <td>June</td>\n",
       "    </tr>\n",
       "    <tr>\n",
       "      <th>1</th>\n",
       "      <td>2027-06-07</td>\n",
       "      <td>FELINO</td>\n",
       "      <td>MACHO</td>\n",
       "      <td>CIRURGIA REALIZADA</td>\n",
       "      <td>rio_2</td>\n",
       "      <td>June</td>\n",
       "    </tr>\n",
       "  </tbody>\n",
       "</table>\n",
       "</div>"
      ],
      "text/plain": [
       "  Carimbo de data/hora ESPÉCIE GÊNERO STATUS/ATENDIMENTOS trailer meses\n",
       "0           2024-06-07  FELINO  FÊMEA  CIRURGIA REALIZADA   rio_2  June\n",
       "1           2027-06-07  FELINO  MACHO  CIRURGIA REALIZADA   rio_2  June"
      ]
     },
     "execution_count": 15,
     "metadata": {},
     "output_type": "execute_result"
    }
   ],
   "source": [
    "rio_2_df.head(2)"
   ]
  },
  {
   "cell_type": "code",
   "execution_count": null,
   "id": "d272e19e-f1c6-46a1-84d1-2675b58db96d",
   "metadata": {},
   "outputs": [],
   "source": [
    "rio_2_df['Carimbo de data/hora'] = rio_2_df['Carimbo de data/hora'].str.split(' ', expand=True)[0]"
   ]
  },
  {
   "cell_type": "code",
   "execution_count": null,
   "id": "ec845a9b-e483-4be8-848b-7a91bb31e5f3",
   "metadata": {},
   "outputs": [],
   "source": [
    "rio_2_df['Carimbo de data/hora'] = DataFrame(to_datetime(list(rio_2_df['Carimbo de data/hora']), dayfirst=True))"
   ]
  },
  {
   "cell_type": "markdown",
   "id": "6803d07a-a367-4b48-82bb-fef9bb37a99a",
   "metadata": {},
   "source": [
    "#### Criação do atributo dos meses"
   ]
  },
  {
   "cell_type": "code",
   "execution_count": 14,
   "id": "8386f881-42d5-40b2-8d99-6ad18e00c508",
   "metadata": {},
   "outputs": [],
   "source": [
    "rio_2_df['meses'] = Series(rio_2_df['Carimbo de data/hora']).dt.month_name()"
   ]
  },
  {
   "cell_type": "markdown",
   "id": "f4ee1102-35cc-4ccc-ac32-a49cc54b2f42",
   "metadata": {
    "jp-MarkdownHeadingCollapsed": true
   },
   "source": [
    "### Formatação do atributo ESPÉCIE para governança de dados"
   ]
  },
  {
   "cell_type": "code",
   "execution_count": 19,
   "id": "298beab6-3a82-4e70-b028-0ab0f526fe77",
   "metadata": {},
   "outputs": [
    {
     "data": {
      "text/html": [
       "<div>\n",
       "<style scoped>\n",
       "    .dataframe tbody tr th:only-of-type {\n",
       "        vertical-align: middle;\n",
       "    }\n",
       "\n",
       "    .dataframe tbody tr th {\n",
       "        vertical-align: top;\n",
       "    }\n",
       "\n",
       "    .dataframe thead th {\n",
       "        text-align: right;\n",
       "    }\n",
       "</style>\n",
       "<table border=\"1\" class=\"dataframe\">\n",
       "  <thead>\n",
       "    <tr style=\"text-align: right;\">\n",
       "      <th></th>\n",
       "      <th>Carimbo de data/hora</th>\n",
       "      <th>ESPÉCIE</th>\n",
       "      <th>GÊNERO</th>\n",
       "      <th>STATUS/ATENDIMENTOS</th>\n",
       "      <th>trailer</th>\n",
       "      <th>meses</th>\n",
       "    </tr>\n",
       "  </thead>\n",
       "  <tbody>\n",
       "    <tr>\n",
       "      <th>0</th>\n",
       "      <td>2024-06-07</td>\n",
       "      <td>felino</td>\n",
       "      <td>FÊMEA</td>\n",
       "      <td>CIRURGIA REALIZADA</td>\n",
       "      <td>rio_2</td>\n",
       "      <td>June</td>\n",
       "    </tr>\n",
       "    <tr>\n",
       "      <th>1</th>\n",
       "      <td>2027-06-07</td>\n",
       "      <td>felino</td>\n",
       "      <td>MACHO</td>\n",
       "      <td>CIRURGIA REALIZADA</td>\n",
       "      <td>rio_2</td>\n",
       "      <td>June</td>\n",
       "    </tr>\n",
       "  </tbody>\n",
       "</table>\n",
       "</div>"
      ],
      "text/plain": [
       "  Carimbo de data/hora ESPÉCIE GÊNERO STATUS/ATENDIMENTOS trailer meses\n",
       "0           2024-06-07  felino  FÊMEA  CIRURGIA REALIZADA   rio_2  June\n",
       "1           2027-06-07  felino  MACHO  CIRURGIA REALIZADA   rio_2  June"
      ]
     },
     "execution_count": 19,
     "metadata": {},
     "output_type": "execute_result"
    }
   ],
   "source": [
    "rio_2_df.head(2)"
   ]
  },
  {
   "cell_type": "code",
   "execution_count": 20,
   "id": "13b17293-a720-4864-9430-0f2ca4d844b5",
   "metadata": {},
   "outputs": [
    {
     "data": {
      "text/plain": [
       "array(['felino', 'canino', nan], dtype=object)"
      ]
     },
     "execution_count": 20,
     "metadata": {},
     "output_type": "execute_result"
    }
   ],
   "source": [
    "rio_2_df['ESPÉCIE'].unique()"
   ]
  },
  {
   "cell_type": "code",
   "execution_count": 18,
   "id": "34f4b4f0-1766-47e8-ae5e-daa7272cb3ad",
   "metadata": {},
   "outputs": [],
   "source": [
    "rio_2_df['ESPÉCIE'] = rio_2_df['ESPÉCIE'].str.casefold()\n",
    "rio_2_df['ESPÉCIE'] = rio_2_df['ESPÉCIE'].str.strip()"
   ]
  },
  {
   "cell_type": "code",
   "execution_count": 21,
   "id": "10721c2c-ffa1-4937-96ee-b4d752ccfedf",
   "metadata": {},
   "outputs": [
    {
     "data": {
      "text/plain": [
       "ESPÉCIE\n",
       "False    604\n",
       "True       3\n",
       "Name: count, dtype: int64"
      ]
     },
     "execution_count": 21,
     "metadata": {},
     "output_type": "execute_result"
    }
   ],
   "source": [
    "rio_2_df['ESPÉCIE'].isna().value_counts()"
   ]
  },
  {
   "cell_type": "code",
   "execution_count": 22,
   "id": "cc790918-a2d3-4847-ad49-8a17d582618c",
   "metadata": {},
   "outputs": [
    {
     "data": {
      "text/plain": [
       "ESPÉCIE\n",
       "False    371\n",
       "Name: count, dtype: int64"
      ]
     },
     "execution_count": 22,
     "metadata": {},
     "output_type": "execute_result"
    }
   ],
   "source": [
    "rio_2_df = rio_2_df.dropna()\n",
    "rio_2_df['ESPÉCIE'].isna().value_counts()"
   ]
  },
  {
   "cell_type": "markdown",
   "id": "e9b46a78-f267-49c7-8c68-bd37dc831b8a",
   "metadata": {
    "jp-MarkdownHeadingCollapsed": true
   },
   "source": [
    "### Formatação do Atributo GENERO para governança dos dados"
   ]
  },
  {
   "cell_type": "code",
   "execution_count": 26,
   "id": "58a19e88-359b-488e-9a6e-089fdf80b01d",
   "metadata": {},
   "outputs": [
    {
     "data": {
      "text/html": [
       "<div>\n",
       "<style scoped>\n",
       "    .dataframe tbody tr th:only-of-type {\n",
       "        vertical-align: middle;\n",
       "    }\n",
       "\n",
       "    .dataframe tbody tr th {\n",
       "        vertical-align: top;\n",
       "    }\n",
       "\n",
       "    .dataframe thead th {\n",
       "        text-align: right;\n",
       "    }\n",
       "</style>\n",
       "<table border=\"1\" class=\"dataframe\">\n",
       "  <thead>\n",
       "    <tr style=\"text-align: right;\">\n",
       "      <th></th>\n",
       "      <th>Carimbo de data/hora</th>\n",
       "      <th>ESPÉCIE</th>\n",
       "      <th>GÊNERO</th>\n",
       "      <th>STATUS/ATENDIMENTOS</th>\n",
       "      <th>trailer</th>\n",
       "      <th>meses</th>\n",
       "    </tr>\n",
       "  </thead>\n",
       "  <tbody>\n",
       "    <tr>\n",
       "      <th>0</th>\n",
       "      <td>2024-06-07</td>\n",
       "      <td>felino</td>\n",
       "      <td>fêmea</td>\n",
       "      <td>CIRURGIA REALIZADA</td>\n",
       "      <td>rio_2</td>\n",
       "      <td>June</td>\n",
       "    </tr>\n",
       "    <tr>\n",
       "      <th>1</th>\n",
       "      <td>2027-06-07</td>\n",
       "      <td>felino</td>\n",
       "      <td>macho</td>\n",
       "      <td>CIRURGIA REALIZADA</td>\n",
       "      <td>rio_2</td>\n",
       "      <td>June</td>\n",
       "    </tr>\n",
       "  </tbody>\n",
       "</table>\n",
       "</div>"
      ],
      "text/plain": [
       "  Carimbo de data/hora ESPÉCIE GÊNERO STATUS/ATENDIMENTOS trailer meses\n",
       "0           2024-06-07  felino  fêmea  CIRURGIA REALIZADA   rio_2  June\n",
       "1           2027-06-07  felino  macho  CIRURGIA REALIZADA   rio_2  June"
      ]
     },
     "execution_count": 26,
     "metadata": {},
     "output_type": "execute_result"
    }
   ],
   "source": [
    "rio_2_df.head(2)"
   ]
  },
  {
   "cell_type": "code",
   "execution_count": 25,
   "id": "089be1a2-4c6a-4e38-9e45-07cf8bea3e7a",
   "metadata": {},
   "outputs": [
    {
     "data": {
      "text/plain": [
       "array(['fêmea', 'macho'], dtype=object)"
      ]
     },
     "execution_count": 25,
     "metadata": {},
     "output_type": "execute_result"
    }
   ],
   "source": [
    "rio_2_df['GÊNERO'].unique()"
   ]
  },
  {
   "cell_type": "code",
   "execution_count": null,
   "id": "9f97cf95-7ef4-497e-bcfe-be1890c091d6",
   "metadata": {
    "scrolled": true
   },
   "outputs": [],
   "source": [
    "rio_2_df['GÊNERO'] = rio_2_df['GÊNERO'].str.casefold()\n",
    "rio_2_df['GÊNERO'] = rio_2_df['GÊNERO'].str.strip()"
   ]
  },
  {
   "cell_type": "code",
   "execution_count": 27,
   "id": "0c578808-6a58-46e6-b3f4-456a444ff0d8",
   "metadata": {},
   "outputs": [
    {
     "data": {
      "text/plain": [
       "GÊNERO\n",
       "False    371\n",
       "Name: count, dtype: int64"
      ]
     },
     "execution_count": 27,
     "metadata": {},
     "output_type": "execute_result"
    }
   ],
   "source": [
    "rio_2_df['GÊNERO'].isna().value_counts()"
   ]
  },
  {
   "cell_type": "markdown",
   "id": "942c275c-5f7c-417f-9f2d-28319562682f",
   "metadata": {
    "jp-MarkdownHeadingCollapsed": true
   },
   "source": [
    "### Formatação do Atributo STATUS/ATENDIMENTOS pra govenança de dados"
   ]
  },
  {
   "cell_type": "code",
   "execution_count": 31,
   "id": "7ff402d8-a38e-4a6a-a83d-0226e4e229f3",
   "metadata": {},
   "outputs": [
    {
     "data": {
      "text/html": [
       "<div>\n",
       "<style scoped>\n",
       "    .dataframe tbody tr th:only-of-type {\n",
       "        vertical-align: middle;\n",
       "    }\n",
       "\n",
       "    .dataframe tbody tr th {\n",
       "        vertical-align: top;\n",
       "    }\n",
       "\n",
       "    .dataframe thead th {\n",
       "        text-align: right;\n",
       "    }\n",
       "</style>\n",
       "<table border=\"1\" class=\"dataframe\">\n",
       "  <thead>\n",
       "    <tr style=\"text-align: right;\">\n",
       "      <th></th>\n",
       "      <th>Carimbo de data/hora</th>\n",
       "      <th>ESPÉCIE</th>\n",
       "      <th>GÊNERO</th>\n",
       "      <th>STATUS/ATENDIMENTOS</th>\n",
       "      <th>trailer</th>\n",
       "      <th>meses</th>\n",
       "    </tr>\n",
       "  </thead>\n",
       "  <tbody>\n",
       "    <tr>\n",
       "      <th>0</th>\n",
       "      <td>2024-06-07</td>\n",
       "      <td>felino</td>\n",
       "      <td>fêmea</td>\n",
       "      <td>cirurgia realizada</td>\n",
       "      <td>rio_2</td>\n",
       "      <td>June</td>\n",
       "    </tr>\n",
       "    <tr>\n",
       "      <th>1</th>\n",
       "      <td>2027-06-07</td>\n",
       "      <td>felino</td>\n",
       "      <td>macho</td>\n",
       "      <td>cirurgia realizada</td>\n",
       "      <td>rio_2</td>\n",
       "      <td>June</td>\n",
       "    </tr>\n",
       "  </tbody>\n",
       "</table>\n",
       "</div>"
      ],
      "text/plain": [
       "  Carimbo de data/hora ESPÉCIE GÊNERO STATUS/ATENDIMENTOS trailer meses\n",
       "0           2024-06-07  felino  fêmea  cirurgia realizada   rio_2  June\n",
       "1           2027-06-07  felino  macho  cirurgia realizada   rio_2  June"
      ]
     },
     "execution_count": 31,
     "metadata": {},
     "output_type": "execute_result"
    }
   ],
   "source": [
    "rio_2_df.head(2)"
   ]
  },
  {
   "cell_type": "code",
   "execution_count": 29,
   "id": "1b82fb35-c015-47c2-8ea3-1d4909d99a51",
   "metadata": {},
   "outputs": [
    {
     "data": {
      "text/plain": [
       "array(['CIRURGIA REALIZADA', 'FALTA', 'CIRURGIA RELIZADA', 'RECUSA'],\n",
       "      dtype=object)"
      ]
     },
     "execution_count": 29,
     "metadata": {},
     "output_type": "execute_result"
    }
   ],
   "source": [
    "rio_2_df['STATUS/ATENDIMENTOS'].unique()"
   ]
  },
  {
   "cell_type": "code",
   "execution_count": 30,
   "id": "cf7ebe83-9b67-4223-b1af-d591b3d45bf8",
   "metadata": {
    "scrolled": true
   },
   "outputs": [],
   "source": [
    "rio_2_df['STATUS/ATENDIMENTOS'] = rio_2_df['STATUS/ATENDIMENTOS'].str.casefold()\n",
    "rio_2_df['STATUS/ATENDIMENTOS'] = rio_2_df['STATUS/ATENDIMENTOS'].str.strip()"
   ]
  },
  {
   "cell_type": "markdown",
   "id": "456a574d-fc19-4dae-ac48-b8bb01b13b93",
   "metadata": {
    "jp-MarkdownHeadingCollapsed": true
   },
   "source": [
    "### Formatar os atributos para que se transformem nas próximas etapas em variáveis de trabalho."
   ]
  },
  {
   "cell_type": "code",
   "execution_count": 32,
   "id": "7dbda065-b741-4965-b78e-f4e520c72815",
   "metadata": {},
   "outputs": [
    {
     "name": "stdout",
     "output_type": "stream",
     "text": [
      "['felino' 'canino']\n",
      "['fêmea' 'macho']\n",
      "['cirurgia realizada' 'falta' 'cirurgia relizada' 'recusa']\n",
      "['June' 'May' 'April' 'March']\n"
     ]
    }
   ],
   "source": [
    "print (rio_2_df['ESPÉCIE'].unique())\n",
    "print (rio_2_df['GÊNERO'].unique())\n",
    "print (rio_2_df['STATUS/ATENDIMENTOS'].unique())\n",
    "print (rio_2_df['meses'].unique())"
   ]
  },
  {
   "cell_type": "markdown",
   "id": "eb189d41-1cef-4d46-935a-2be6fdf1b5e4",
   "metadata": {
    "jp-MarkdownHeadingCollapsed": true
   },
   "source": [
    "#### Juntando Genero e especie em genero"
   ]
  },
  {
   "cell_type": "code",
   "execution_count": 33,
   "id": "9c201b45-f58f-4512-8ea8-d31593671080",
   "metadata": {},
   "outputs": [],
   "source": [
    "# Caninos\n",
    "rio_2_df.loc[(rio_2_df['ESPÉCIE']=='canino') & (rio_2_df['GÊNERO']=='macho'), ['GÊNERO']] = 'canino_m'\n",
    "rio_2_df.loc[(rio_2_df['ESPÉCIE']=='canino') & (rio_2_df['GÊNERO']=='fêmea'), ['GÊNERO']] = 'canino_f'\n",
    "# Felinos\n",
    "rio_2_df.loc[(rio_2_df['ESPÉCIE']=='felino') & (rio_2_df['GÊNERO']=='macho'), ['GÊNERO']] = 'felino_m'\n",
    "rio_2_df.loc[(rio_2_df['ESPÉCIE']=='felino') & (rio_2_df['GÊNERO']=='fêmea'), ['GÊNERO']] = 'felino_f'"
   ]
  },
  {
   "cell_type": "code",
   "execution_count": 36,
   "id": "58bdafde-2831-408c-8eeb-7ac981999aad",
   "metadata": {},
   "outputs": [
    {
     "data": {
      "text/plain": [
       "array(['felino_f', 'felino_m', 'canino_f', 'canino_m'], dtype=object)"
      ]
     },
     "execution_count": 36,
     "metadata": {},
     "output_type": "execute_result"
    }
   ],
   "source": [
    "rio_2_df['GÊNERO'].unique()"
   ]
  },
  {
   "cell_type": "markdown",
   "id": "9fc43445-d98b-4d5c-923b-215ff915dd8e",
   "metadata": {
    "jp-MarkdownHeadingCollapsed": true
   },
   "source": [
    "#### Ajustando a Governança do atributo STATUS para que se transformem em variáveis nas próximas etapas"
   ]
  },
  {
   "cell_type": "code",
   "execution_count": 34,
   "id": "9540b3a6-e70d-4a54-8a05-4971d299364a",
   "metadata": {},
   "outputs": [],
   "source": [
    "# Cirurgias não Realizadas\n",
    "rio_2_df.loc[(rio_2_df['STATUS/ATENDIMENTOS']=='falta'),['STATUS/ATENDIMENTOS']] = 'cirurg_n_realizada'\n",
    "rio_2_df.loc[(rio_2_df['STATUS/ATENDIMENTOS']=='recusa'),['STATUS/ATENDIMENTOS']] = 'cirurg_n_realizada'\n",
    "# Cirurgias Realizadas\n",
    "rio_2_df.loc[(rio_2_df['STATUS/ATENDIMENTOS']=='cirurgia realizada'),['STATUS/ATENDIMENTOS']] = 'cirurg_realizada'\n",
    "rio_2_df.loc[(rio_2_df['STATUS/ATENDIMENTOS']=='cirurgia relizada'),['STATUS/ATENDIMENTOS']] = 'cirurg_realizada'"
   ]
  },
  {
   "cell_type": "code",
   "execution_count": 37,
   "id": "b24d8b2c-b94c-4529-ac74-e6c92c16e9bc",
   "metadata": {},
   "outputs": [
    {
     "data": {
      "text/plain": [
       "array(['cirurg_realizada', 'cirurg_n_realizada'], dtype=object)"
      ]
     },
     "execution_count": 37,
     "metadata": {},
     "output_type": "execute_result"
    }
   ],
   "source": [
    "rio_2_df['STATUS/ATENDIMENTOS'].unique()"
   ]
  },
  {
   "cell_type": "code",
   "execution_count": 35,
   "id": "096caf83-3606-4220-b575-42d41cfbc372",
   "metadata": {},
   "outputs": [
    {
     "data": {
      "text/html": [
       "<div>\n",
       "<style scoped>\n",
       "    .dataframe tbody tr th:only-of-type {\n",
       "        vertical-align: middle;\n",
       "    }\n",
       "\n",
       "    .dataframe tbody tr th {\n",
       "        vertical-align: top;\n",
       "    }\n",
       "\n",
       "    .dataframe thead th {\n",
       "        text-align: right;\n",
       "    }\n",
       "</style>\n",
       "<table border=\"1\" class=\"dataframe\">\n",
       "  <thead>\n",
       "    <tr style=\"text-align: right;\">\n",
       "      <th></th>\n",
       "      <th>Carimbo de data/hora</th>\n",
       "      <th>ESPÉCIE</th>\n",
       "      <th>GÊNERO</th>\n",
       "      <th>STATUS/ATENDIMENTOS</th>\n",
       "      <th>trailer</th>\n",
       "      <th>meses</th>\n",
       "    </tr>\n",
       "  </thead>\n",
       "  <tbody>\n",
       "    <tr>\n",
       "      <th>383</th>\n",
       "      <td>2024-05-11</td>\n",
       "      <td>canino</td>\n",
       "      <td>canino_m</td>\n",
       "      <td>cirurg_realizada</td>\n",
       "      <td>rio_2</td>\n",
       "      <td>May</td>\n",
       "    </tr>\n",
       "    <tr>\n",
       "      <th>387</th>\n",
       "      <td>2024-05-11</td>\n",
       "      <td>canino</td>\n",
       "      <td>canino_f</td>\n",
       "      <td>cirurg_realizada</td>\n",
       "      <td>rio_2</td>\n",
       "      <td>May</td>\n",
       "    </tr>\n",
       "    <tr>\n",
       "      <th>388</th>\n",
       "      <td>2024-05-11</td>\n",
       "      <td>canino</td>\n",
       "      <td>canino_m</td>\n",
       "      <td>cirurg_realizada</td>\n",
       "      <td>rio_2</td>\n",
       "      <td>May</td>\n",
       "    </tr>\n",
       "    <tr>\n",
       "      <th>389</th>\n",
       "      <td>2024-05-11</td>\n",
       "      <td>felino</td>\n",
       "      <td>felino_f</td>\n",
       "      <td>cirurg_realizada</td>\n",
       "      <td>rio_2</td>\n",
       "      <td>May</td>\n",
       "    </tr>\n",
       "    <tr>\n",
       "      <th>390</th>\n",
       "      <td>2024-05-11</td>\n",
       "      <td>canino</td>\n",
       "      <td>canino_m</td>\n",
       "      <td>cirurg_realizada</td>\n",
       "      <td>rio_2</td>\n",
       "      <td>May</td>\n",
       "    </tr>\n",
       "  </tbody>\n",
       "</table>\n",
       "</div>"
      ],
      "text/plain": [
       "    Carimbo de data/hora ESPÉCIE    GÊNERO STATUS/ATENDIMENTOS trailer meses\n",
       "383           2024-05-11  canino  canino_m    cirurg_realizada   rio_2   May\n",
       "387           2024-05-11  canino  canino_f    cirurg_realizada   rio_2   May\n",
       "388           2024-05-11  canino  canino_m    cirurg_realizada   rio_2   May\n",
       "389           2024-05-11  felino  felino_f    cirurg_realizada   rio_2   May\n",
       "390           2024-05-11  canino  canino_m    cirurg_realizada   rio_2   May"
      ]
     },
     "execution_count": 35,
     "metadata": {},
     "output_type": "execute_result"
    }
   ],
   "source": [
    "rio_2_df.tail()"
   ]
  },
  {
   "cell_type": "markdown",
   "id": "4d4b7a6d-4739-493c-8f34-d5652cfce661",
   "metadata": {
    "jp-MarkdownHeadingCollapsed": true
   },
   "source": [
    "### Criação das variáveis de Trabalho"
   ]
  },
  {
   "cell_type": "code",
   "execution_count": 41,
   "id": "7da1bd9e-1fd4-4d78-bdbe-4766b4f3d780",
   "metadata": {},
   "outputs": [],
   "source": [
    "#rio_2_df = rio_2_df.join(get_dummies(rio_2_df['GÊNERO'], dtype=int))\n",
    "rio_2_df = rio_2_df.join(get_dummies(rio_2_df['STATUS/ATENDIMENTOS'], dtype=int))\n",
    "rio_2_df = rio_2_df.join(get_dummies(rio_2_df['meses'], dtype=int))"
   ]
  },
  {
   "cell_type": "code",
   "execution_count": 42,
   "id": "22c2e780-c011-4a2b-820c-2fa0b541a2b1",
   "metadata": {},
   "outputs": [
    {
     "data": {
      "text/plain": [
       "Index(['Carimbo de data/hora', 'ESPÉCIE', 'GÊNERO', 'STATUS/ATENDIMENTOS',\n",
       "       'trailer', 'meses', 'canino_f', 'canino_m', 'felino_f', 'felino_m',\n",
       "       'cirurg_n_realizada', 'cirurg_realizada', 'April', 'June', 'March',\n",
       "       'May'],\n",
       "      dtype='object')"
      ]
     },
     "execution_count": 42,
     "metadata": {},
     "output_type": "execute_result"
    }
   ],
   "source": [
    "rio_2_df.columns"
   ]
  },
  {
   "cell_type": "code",
   "execution_count": 43,
   "id": "dcc7120b-e8a8-43ca-babe-3ff78f203f76",
   "metadata": {},
   "outputs": [],
   "source": [
    "rio_2_df = rio_2_df.drop(['ESPÉCIE', 'GÊNERO', 'STATUS/ATENDIMENTOS', 'meses'],axis=1)"
   ]
  },
  {
   "cell_type": "code",
   "execution_count": 44,
   "id": "13f0c277-1ec9-4358-8af4-ebc556e2f2f0",
   "metadata": {},
   "outputs": [
    {
     "data": {
      "text/html": [
       "<div>\n",
       "<style scoped>\n",
       "    .dataframe tbody tr th:only-of-type {\n",
       "        vertical-align: middle;\n",
       "    }\n",
       "\n",
       "    .dataframe tbody tr th {\n",
       "        vertical-align: top;\n",
       "    }\n",
       "\n",
       "    .dataframe thead th {\n",
       "        text-align: right;\n",
       "    }\n",
       "</style>\n",
       "<table border=\"1\" class=\"dataframe\">\n",
       "  <thead>\n",
       "    <tr style=\"text-align: right;\">\n",
       "      <th></th>\n",
       "      <th>Carimbo de data/hora</th>\n",
       "      <th>trailer</th>\n",
       "      <th>canino_f</th>\n",
       "      <th>canino_m</th>\n",
       "      <th>felino_f</th>\n",
       "      <th>felino_m</th>\n",
       "      <th>cirurg_n_realizada</th>\n",
       "      <th>cirurg_realizada</th>\n",
       "      <th>April</th>\n",
       "      <th>June</th>\n",
       "      <th>March</th>\n",
       "      <th>May</th>\n",
       "    </tr>\n",
       "  </thead>\n",
       "  <tbody>\n",
       "    <tr>\n",
       "      <th>389</th>\n",
       "      <td>2024-05-11</td>\n",
       "      <td>rio_2</td>\n",
       "      <td>0</td>\n",
       "      <td>0</td>\n",
       "      <td>1</td>\n",
       "      <td>0</td>\n",
       "      <td>0</td>\n",
       "      <td>1</td>\n",
       "      <td>0</td>\n",
       "      <td>0</td>\n",
       "      <td>0</td>\n",
       "      <td>1</td>\n",
       "    </tr>\n",
       "    <tr>\n",
       "      <th>390</th>\n",
       "      <td>2024-05-11</td>\n",
       "      <td>rio_2</td>\n",
       "      <td>0</td>\n",
       "      <td>1</td>\n",
       "      <td>0</td>\n",
       "      <td>0</td>\n",
       "      <td>0</td>\n",
       "      <td>1</td>\n",
       "      <td>0</td>\n",
       "      <td>0</td>\n",
       "      <td>0</td>\n",
       "      <td>1</td>\n",
       "    </tr>\n",
       "  </tbody>\n",
       "</table>\n",
       "</div>"
      ],
      "text/plain": [
       "    Carimbo de data/hora trailer  canino_f  canino_m  felino_f  felino_m  \\\n",
       "389           2024-05-11   rio_2         0         0         1         0   \n",
       "390           2024-05-11   rio_2         0         1         0         0   \n",
       "\n",
       "     cirurg_n_realizada  cirurg_realizada  April  June  March  May  \n",
       "389                   0                 1      0     0      0    1  \n",
       "390                   0                 1      0     0      0    1  "
      ]
     },
     "execution_count": 44,
     "metadata": {},
     "output_type": "execute_result"
    }
   ],
   "source": [
    "rio_2_df.tail(2)"
   ]
  },
  {
   "cell_type": "markdown",
   "id": "1329cfda-f9ff-4dfd-9f43-9247e93a30f7",
   "metadata": {},
   "source": [
    "### Ordenando quadro de dados:"
   ]
  },
  {
   "cell_type": "code",
   "execution_count": 47,
   "id": "86abaa4e-de6a-4be0-bd16-f511d24a07d2",
   "metadata": {},
   "outputs": [],
   "source": [
    "rio_2_df = rio_2_df.sort_values(by=['Carimbo de data/hora']).reset_index(drop=True)"
   ]
  },
  {
   "cell_type": "code",
   "execution_count": 50,
   "id": "d5d694ab-09e5-476c-b894-d6bd56111f52",
   "metadata": {},
   "outputs": [
    {
     "name": "stdout",
     "output_type": "stream",
     "text": [
      "2024-03-30 00:00:00\n",
      "2027-06-07 00:00:00\n"
     ]
    }
   ],
   "source": [
    "dia_inicio_rio_2 = rio_2_df['Carimbo de data/hora'].min()\n",
    "ultimo_dia_rio_2 = rio_2_df['Carimbo de data/hora'].max()\n",
    "print(dia_inicio_rio_2)\n",
    "print(ultimo_dia_rio_2)"
   ]
  },
  {
   "cell_type": "code",
   "execution_count": 51,
   "id": "cad6e6fd-1754-4c74-9d6f-f07aa50cf85f",
   "metadata": {},
   "outputs": [],
   "source": [
    "rio_2_df = rio_2_df.drop(['Carimbo de data/hora'], axis=1)"
   ]
  },
  {
   "cell_type": "code",
   "execution_count": 52,
   "id": "09d23f86-c821-4b00-bd29-0d92566f9768",
   "metadata": {},
   "outputs": [
    {
     "data": {
      "text/html": [
       "<div>\n",
       "<style scoped>\n",
       "    .dataframe tbody tr th:only-of-type {\n",
       "        vertical-align: middle;\n",
       "    }\n",
       "\n",
       "    .dataframe tbody tr th {\n",
       "        vertical-align: top;\n",
       "    }\n",
       "\n",
       "    .dataframe thead th {\n",
       "        text-align: right;\n",
       "    }\n",
       "</style>\n",
       "<table border=\"1\" class=\"dataframe\">\n",
       "  <thead>\n",
       "    <tr style=\"text-align: right;\">\n",
       "      <th></th>\n",
       "      <th>trailer</th>\n",
       "      <th>canino_f</th>\n",
       "      <th>canino_m</th>\n",
       "      <th>felino_f</th>\n",
       "      <th>felino_m</th>\n",
       "      <th>cirurg_n_realizada</th>\n",
       "      <th>cirurg_realizada</th>\n",
       "      <th>April</th>\n",
       "      <th>June</th>\n",
       "      <th>March</th>\n",
       "      <th>May</th>\n",
       "    </tr>\n",
       "  </thead>\n",
       "  <tbody>\n",
       "    <tr>\n",
       "      <th>369</th>\n",
       "      <td>rio_2</td>\n",
       "      <td>0</td>\n",
       "      <td>0</td>\n",
       "      <td>1</td>\n",
       "      <td>0</td>\n",
       "      <td>0</td>\n",
       "      <td>1</td>\n",
       "      <td>0</td>\n",
       "      <td>1</td>\n",
       "      <td>0</td>\n",
       "      <td>0</td>\n",
       "    </tr>\n",
       "    <tr>\n",
       "      <th>370</th>\n",
       "      <td>rio_2</td>\n",
       "      <td>0</td>\n",
       "      <td>0</td>\n",
       "      <td>0</td>\n",
       "      <td>1</td>\n",
       "      <td>0</td>\n",
       "      <td>1</td>\n",
       "      <td>0</td>\n",
       "      <td>1</td>\n",
       "      <td>0</td>\n",
       "      <td>0</td>\n",
       "    </tr>\n",
       "  </tbody>\n",
       "</table>\n",
       "</div>"
      ],
      "text/plain": [
       "    trailer  canino_f  canino_m  felino_f  felino_m  cirurg_n_realizada  \\\n",
       "369   rio_2         0         0         1         0                   0   \n",
       "370   rio_2         0         0         0         1                   0   \n",
       "\n",
       "     cirurg_realizada  April  June  March  May  \n",
       "369                 1      0     1      0    0  \n",
       "370                 1      0     1      0    0  "
      ]
     },
     "execution_count": 52,
     "metadata": {},
     "output_type": "execute_result"
    }
   ],
   "source": [
    "rio_2_df.tail(2)"
   ]
  },
  {
   "cell_type": "markdown",
   "id": "65b49690-c957-47eb-a3fb-d0d68c0a4bc5",
   "metadata": {},
   "source": [
    "# Construção da Tabela de Contingência Rio_02"
   ]
  },
  {
   "cell_type": "code",
   "execution_count": 53,
   "id": "62db27fe-6478-4d09-8a0b-afef8671107c",
   "metadata": {},
   "outputs": [],
   "source": [
    "tbl_rio_2 = rio_2_df.groupby(by=['trailer']).sum()"
   ]
  },
  {
   "cell_type": "code",
   "execution_count": 54,
   "id": "76204690-d7d0-4dc5-9a05-2805f7e15153",
   "metadata": {},
   "outputs": [],
   "source": [
    "tbl_rio_2['total'] = tbl_rio_2['cirurg_n_realizada']+tbl_rio_2['cirurg_realizada']"
   ]
  },
  {
   "cell_type": "code",
   "execution_count": 55,
   "id": "344bf8d9-b1c2-4339-989c-4fa3e8b9e1e3",
   "metadata": {},
   "outputs": [
    {
     "data": {
      "text/html": [
       "<div>\n",
       "<style scoped>\n",
       "    .dataframe tbody tr th:only-of-type {\n",
       "        vertical-align: middle;\n",
       "    }\n",
       "\n",
       "    .dataframe tbody tr th {\n",
       "        vertical-align: top;\n",
       "    }\n",
       "\n",
       "    .dataframe thead th {\n",
       "        text-align: right;\n",
       "    }\n",
       "</style>\n",
       "<table border=\"1\" class=\"dataframe\">\n",
       "  <thead>\n",
       "    <tr style=\"text-align: right;\">\n",
       "      <th></th>\n",
       "      <th>canino_f</th>\n",
       "      <th>canino_m</th>\n",
       "      <th>felino_f</th>\n",
       "      <th>felino_m</th>\n",
       "      <th>cirurg_n_realizada</th>\n",
       "      <th>cirurg_realizada</th>\n",
       "      <th>April</th>\n",
       "      <th>June</th>\n",
       "      <th>March</th>\n",
       "      <th>May</th>\n",
       "      <th>total</th>\n",
       "    </tr>\n",
       "    <tr>\n",
       "      <th>trailer</th>\n",
       "      <th></th>\n",
       "      <th></th>\n",
       "      <th></th>\n",
       "      <th></th>\n",
       "      <th></th>\n",
       "      <th></th>\n",
       "      <th></th>\n",
       "      <th></th>\n",
       "      <th></th>\n",
       "      <th></th>\n",
       "      <th></th>\n",
       "    </tr>\n",
       "  </thead>\n",
       "  <tbody>\n",
       "    <tr>\n",
       "      <th>rio_2</th>\n",
       "      <td>105</td>\n",
       "      <td>82</td>\n",
       "      <td>89</td>\n",
       "      <td>95</td>\n",
       "      <td>83</td>\n",
       "      <td>288</td>\n",
       "      <td>176</td>\n",
       "      <td>2</td>\n",
       "      <td>145</td>\n",
       "      <td>48</td>\n",
       "      <td>371</td>\n",
       "    </tr>\n",
       "  </tbody>\n",
       "</table>\n",
       "</div>"
      ],
      "text/plain": [
       "         canino_f  canino_m  felino_f  felino_m  cirurg_n_realizada  \\\n",
       "trailer                                                               \n",
       "rio_2         105        82        89        95                  83   \n",
       "\n",
       "         cirurg_realizada  April  June  March  May  total  \n",
       "trailer                                                    \n",
       "rio_2                 288    176     2    145   48    371  "
      ]
     },
     "execution_count": 55,
     "metadata": {},
     "output_type": "execute_result"
    }
   ],
   "source": [
    "tbl_rio_2"
   ]
  }
 ],
 "metadata": {
  "kernelspec": {
   "display_name": "Python 3 (ipykernel)",
   "language": "python",
   "name": "python3"
  },
  "language_info": {
   "codemirror_mode": {
    "name": "ipython",
    "version": 3
   },
   "file_extension": ".py",
   "mimetype": "text/x-python",
   "name": "python",
   "nbconvert_exporter": "python",
   "pygments_lexer": "ipython3",
   "version": "3.10.12"
  }
 },
 "nbformat": 4,
 "nbformat_minor": 5
}
