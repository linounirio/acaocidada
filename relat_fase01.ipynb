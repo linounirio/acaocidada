{
 "cells": [
  {
   "cell_type": "markdown",
   "id": "e9a030d5-374a-4afc-bae4-f0cc1b180d06",
   "metadata": {},
   "source": [
    "# Relatório com resumo dos resultados da fase 01 do projeto, no intervalo \n",
    "\n",
    "### fevereiro a maio"
   ]
  },
  {
   "cell_type": "code",
   "execution_count": 191,
   "id": "6f42d31c-aa99-4aac-a4aa-95f784a18932",
   "metadata": {},
   "outputs": [],
   "source": [
    "import numpy as np\n",
    "from datetime import datetime, date, timedelta\n",
    "import datetime\n",
    "import string\n",
    "import time\n",
    "from csv import reader\n",
    "from pandas import DataFrame, read_csv,unique, to_datetime, Series, get_dummies\n",
    "import matplotlib.pyplot as plt\n",
    "from os import getcwd, path\n",
    "from convert import converte_data,datetime,formata,minuscula\n",
    "import pivottablejs"
   ]
  },
  {
   "cell_type": "markdown",
   "id": "ac99936b-fcb5-40a4-b6e2-4b7575c3641a",
   "metadata": {},
   "source": [
    "#### Criação das funções que serão usadas nas três bases de dados."
   ]
  },
  {
   "cell_type": "markdown",
   "id": "9e7bc1a8-c470-4d79-a3d2-a75d661deb5a",
   "metadata": {},
   "source": [
    "As Funções precisam automatizar as tarefas:\n",
    "\n",
    "1. formatar a data do atributo 'Carimbo de data/hora' para o formato que o python utiliza\n",
    "2. juntar os atributos 'especie' e 'genero'\n",
    "3. criar o atributo mês\n",
    "4. criar o atributo do indicador de eficácia do projeto\n",
    "5. formatar o null do atributo 'status/atendimento' para obter informações dos pets que não realizaram a cirurgia.\n",
    "6. não lembro"
   ]
  },
  {
   "cell_type": "markdown",
   "id": "732a340e-497e-49d8-bd3f-83c131fdf6b6",
   "metadata": {},
   "source": [
    "### Arquivos localmente do projeto"
   ]
  },
  {
   "cell_type": "code",
   "execution_count": 4,
   "id": "db4b3b56-e85a-49d0-962f-af634dcac1d4",
   "metadata": {},
   "outputs": [
    {
     "name": "stdout",
     "output_type": "stream",
     "text": [
      "/home/lino/Área de Trabalho/acaocidada/note_acaocidada/note_fs01/AGENDAMENTO_CARIOCA.csv\n"
     ]
    }
   ],
   "source": [
    "caminhocarioca = path.abspath('AGENDAMENTO_CARIOCA.csv')\n",
    "print (caminhocarioca)"
   ]
  },
  {
   "cell_type": "markdown",
   "id": "94df1bad-fbe2-4e71-b0e6-829cd9a4c198",
   "metadata": {},
   "source": [
    "### Utlizando a biblioteca original do python para uma variável da aplicação"
   ]
  },
  {
   "cell_type": "code",
   "execution_count": 5,
   "id": "d6e9256e-8d74-4105-95d5-97c220577524",
   "metadata": {},
   "outputs": [],
   "source": [
    "with open(caminhocarioca, mode='r') as csv:\n",
    "    csv_carioca = reader(csv, delimiter=',')"
   ]
  },
  {
   "cell_type": "markdown",
   "id": "db4183dc-af11-45af-94e8-279f903cb77d",
   "metadata": {},
   "source": [
    "### Utilizando a biblioteca do PANDAS p/ uma variável local da aplicação, escolheremos essa opção."
   ]
  },
  {
   "cell_type": "code",
   "execution_count": 89,
   "id": "cdc0af30-c7c9-45e6-bd41-c728789740bc",
   "metadata": {},
   "outputs": [],
   "source": [
    "carioca_csv_pd = read_csv('AGENDAMENTO_CARIOCA.csv')"
   ]
  },
  {
   "cell_type": "markdown",
   "id": "1e048aad-7d47-450a-a685-518afaece180",
   "metadata": {},
   "source": [
    "### Baixando as bases para dentro de uma variável"
   ]
  },
  {
   "cell_type": "code",
   "execution_count": 90,
   "id": "03b5e684-0534-4ef1-ba9f-c4bf11757a19",
   "metadata": {},
   "outputs": [
    {
     "name": "stdout",
     "output_type": "stream",
     "text": [
      "Index(['Carimbo de data/hora', 'LOCAL', 'NOME COMPLETO', 'Unnamed: 3',\n",
      "       'BAIRRO', 'CEP', 'DATA DE NASCIMENTO', 'TELEFONE', 'EMAIL',\n",
      "       'NOME DO ANIMA', 'NOME DO ANIMAL', 'ESPÉCIE', 'GÊNERO',\n",
      "       'STATUS/ATENDIMENTO', 'MOTIVO', 'ENDEREÇO COMPLETO', 'CPF',\n",
      "       'Como soube do Projeto de Castração de cães e gatos?',\n",
      "       'Como soube do Projeto de Castração de cães e gatos?.1', 'Unnamed: 19',\n",
      "       'Unnamed: 20', 'LOCAL.1', 'Unnamed: 22', 'Unnamed: 23', 'Unnamed: 24'],\n",
      "      dtype='object')\n"
     ]
    }
   ],
   "source": [
    "carioca_df = DataFrame(carioca_csv_pd)\n",
    "print (carioca_df.columns)"
   ]
  },
  {
   "cell_type": "code",
   "execution_count": 91,
   "id": "f2069449-82ff-45b4-92c3-74d6d75e3552",
   "metadata": {},
   "outputs": [],
   "source": [
    "atributos = ['Carimbo de data/hora', 'ESPÉCIE', 'GÊNERO', 'STATUS/ATENDIMENTO']"
   ]
  },
  {
   "cell_type": "code",
   "execution_count": 92,
   "id": "450f324d-68f5-457d-8f64-e7744224ef4b",
   "metadata": {},
   "outputs": [],
   "source": [
    "carioca_df = carioca_df[atributos]"
   ]
  },
  {
   "cell_type": "code",
   "execution_count": 93,
   "id": "f9fd5cae-e4f8-4ddc-bf97-9327245ccaf9",
   "metadata": {},
   "outputs": [],
   "source": [
    "carioca_df['trailer'] = 'carioca'"
   ]
  },
  {
   "cell_type": "markdown",
   "id": "0999fae4-a9e7-4e2a-a5bc-e80ab5e056c9",
   "metadata": {},
   "source": [
    "### Formatação da Data para adequação das funções internas do Python"
   ]
  },
  {
   "cell_type": "code",
   "execution_count": 94,
   "id": "ac063489-faad-4d4d-805c-e3f8b652d383",
   "metadata": {},
   "outputs": [],
   "source": [
    "carioca_df['Carimbo de data/hora']=carioca_df['Carimbo de data/hora'].str.split(' ', expand=True)[0]"
   ]
  },
  {
   "cell_type": "code",
   "execution_count": 99,
   "id": "1cd77734-6c90-4eb2-addd-c5898d772680",
   "metadata": {},
   "outputs": [],
   "source": [
    "carioca_df['Carimbo de data/hora']=DataFrame(to_datetime(list(carioca_df['Carimbo de data/hora']), dayfirst=True))"
   ]
  },
  {
   "cell_type": "code",
   "execution_count": 109,
   "id": "1f5b3261-f644-4fa2-a2c6-9d8614a8c7d1",
   "metadata": {},
   "outputs": [],
   "source": [
    "carioca_df['meses']= Series(carioca_df['Carimbo de data/hora']).dt.month_name()"
   ]
  },
  {
   "cell_type": "markdown",
   "id": "bb9f14b1-96bd-4214-8c54-5b78395c832b",
   "metadata": {},
   "source": [
    "### Formatação dos Atributos ESPÉCIE e GÊNERO por falta de governança e também para informar de maneira direta as estatísticas descritivas solicitadas da primeira fase do projeto."
   ]
  },
  {
   "cell_type": "code",
   "execution_count": 125,
   "id": "8e19658e-1fa5-4366-a5d0-e2187c1e932d",
   "metadata": {},
   "outputs": [],
   "source": [
    "carioca_df['ESPÉCIE'] = carioca_df['ESPÉCIE'].str.casefold()"
   ]
  },
  {
   "cell_type": "code",
   "execution_count": 138,
   "id": "074b08f7-def9-4159-bf88-20f3b4ee3b0e",
   "metadata": {},
   "outputs": [],
   "source": [
    "carioca_df['GÊNERO']=carioca_df['GÊNERO'].str.casefold()\n",
    "carioca_df['GÊNERO']=carioca_df['GÊNERO'].str.rstrip()"
   ]
  },
  {
   "cell_type": "code",
   "execution_count": 147,
   "id": "f74e6318-13f8-4437-b45b-9d31adae137a",
   "metadata": {},
   "outputs": [
    {
     "data": {
      "text/plain": [
       "array(['femea', 'canino_m', 'felino_m', 'fêmea', 'gata'], dtype=object)"
      ]
     },
     "execution_count": 147,
     "metadata": {},
     "output_type": "execute_result"
    }
   ],
   "source": [
    "carioca_df['GÊNERO'].unique()"
   ]
  },
  {
   "cell_type": "code",
   "execution_count": 151,
   "id": "39376cd8-00c9-40a6-a726-13cf6920e983",
   "metadata": {},
   "outputs": [],
   "source": [
    "#Caninos\n",
    "carioca_df.loc[(carioca_df['ESPÉCIE']=='canino') & (carioca_df['GÊNERO']=='macho'),['GÊNERO']]='canino_m'\n",
    "carioca_df.loc[(carioca_df['ESPÉCIE']=='canino') & (carioca_df['GÊNERO']=='femea'),['GÊNERO']]='canino_f'\n",
    "carioca_df.loc[(carioca_df['ESPÉCIE']=='canino') & (carioca_df['GÊNERO']=='fêmea'),['GÊNERO']]='canino_f'\n",
    "carioca_df.loc[(carioca_df['ESPÉCIE']=='canino') & (carioca_df['GÊNERO']=='gata'),['GÊNERO']]='canino_f'\n",
    "#felinos\n",
    "carioca_df.loc[(carioca_df['ESPÉCIE']=='felino') & (carioca_df['GÊNERO']=='macho'),['GÊNERO']]='felino_m'\n",
    "carioca_df.loc[(carioca_df['ESPÉCIE']=='felino') & (carioca_df['GÊNERO']=='femea'),['GÊNERO']]='felino_f'\n",
    "carioca_df.loc[(carioca_df['ESPÉCIE']=='felino') & (carioca_df['GÊNERO']=='fêmea'),['GÊNERO']]='felino_f'\n",
    "carioca_df.loc[(carioca_df['ESPÉCIE']=='felino') & (carioca_df['GÊNERO']=='gata'),['GÊNERO']]='felino_f'"
   ]
  },
  {
   "cell_type": "code",
   "execution_count": 153,
   "id": "6f3b5257-f726-4a9b-888e-81d9fcaa9f37",
   "metadata": {},
   "outputs": [
    {
     "data": {
      "text/plain": [
       "array(['canino_f', 'felino_f', 'canino_m', 'felino_m'], dtype=object)"
      ]
     },
     "execution_count": 153,
     "metadata": {},
     "output_type": "execute_result"
    }
   ],
   "source": [
    "carioca_df['GÊNERO'].unique()"
   ]
  },
  {
   "cell_type": "markdown",
   "id": "96646fa4-24ed-4a8d-a751-880993fe80de",
   "metadata": {},
   "source": [
    "### Formatação do atributo STATUS/ATENDIMENTO"
   ]
  },
  {
   "cell_type": "code",
   "execution_count": 154,
   "id": "6ba686ad-cb39-4da8-9c37-247153198291",
   "metadata": {},
   "outputs": [
    {
     "data": {
      "text/plain": [
       "array([nan, 'CIRURGIA  REALIZADA ', 'CIRURGIA REALIZADA ',\n",
       "       'CIRURGIA REALIZADA', 'RECUSA ', 'DESISTÊNCIA ', 'FALTA', 'RECUSA',\n",
       "       'FALTA ', 'CIRURGIA REALIAZADA ', 'CIEURGIA REALIZADA ',\n",
       "       'Realizada ', 'FALTO', 'CIRURGIA RELIZADA', 'CIRURGIA RECUSADA',\n",
       "       'CIRURGIA RECUSADA ', 'endereço não encontrado',\n",
       "       'CIRURGIA REALIZADO', 'FATOU', ' CIRURGIA REALIZADA',\n",
       "       'CIRURGIA NÃO REALIZADA ', 'CIRURGIA NÃO REALIZADA',\n",
       "       'CIRURGIA RECUSADO', 'Desistência ', 'CIRURIGA REALIZADA ',\n",
       "       'CIRURGIA REA', 'NAO REALIZADA '], dtype=object)"
      ]
     },
     "execution_count": 154,
     "metadata": {},
     "output_type": "execute_result"
    }
   ],
   "source": [
    "carioca_df['STATUS/ATENDIMENTO'].unique()"
   ]
  },
  {
   "cell_type": "code",
   "execution_count": 168,
   "id": "f21a4548-2939-4fbe-bd11-e05e8230b85a",
   "metadata": {},
   "outputs": [],
   "source": [
    "carioca_df['STATUS/ATENDIMENTO'] = carioca_df['STATUS/ATENDIMENTO'].str.casefold()\n",
    "carioca_df['STATUS/ATENDIMENTO'] = carioca_df['STATUS/ATENDIMENTO'].str.rstrip()\n",
    "carioca_df['STATUS/ATENDIMENTO'] = carioca_df['STATUS/ATENDIMENTO'].str.lstrip()"
   ]
  },
  {
   "cell_type": "code",
   "execution_count": 175,
   "id": "95be8724-f53e-40b6-b025-95996c4878f9",
   "metadata": {},
   "outputs": [],
   "source": [
    "carioca_df['STATUS/ATENDIMENTO']=carioca_df['STATUS/ATENDIMENTO'].fillna('cirurg_n_realizada')"
   ]
  },
  {
   "cell_type": "code",
   "execution_count": 205,
   "id": "43246a34-e0b2-4dd3-b434-c7aaed237324",
   "metadata": {},
   "outputs": [],
   "source": [
    "# Variações de CIRURGIA NÃO REALIZADA\n",
    "carioca_df.loc[(carioca_df['STATUS/ATENDIMENTO']=='cirurgia não realizada'),['STATUS/ATENDIMENTO']]='cirurg_n_realizada'\n",
    "carioca_df.loc[(carioca_df['STATUS/ATENDIMENTO']=='recusa'),['STATUS/ATENDIMENTO']]='cirurg_n_realizada'\n",
    "carioca_df.loc[(carioca_df['STATUS/ATENDIMENTO']=='desistencia'),['STATUS/ATENDIMENTO']]='cirurg_n_realizada'\n",
    "carioca_df.loc[(carioca_df['STATUS/ATENDIMENTO']=='falta'),['STATUS/ATENDIMENTO']]='cirurg_n_realizada'\n",
    "carioca_df.loc[(carioca_df['STATUS/ATENDIMENTO']=='falto'),['STATUS/ATENDIMENTO']]='cirurg_n_realizada'\n",
    "carioca_df.loc[(carioca_df['STATUS/ATENDIMENTO']=='cirurgia recusada'),['STATUS/ATENDIMENTO']]='cirurg_n_realizada'\n",
    "carioca_df.loc[(carioca_df['STATUS/ATENDIMENTO']=='cirurgia recusado'),['STATUS/ATENDIMENTO']]='cirurg_n_realizada'\n",
    "carioca_df.loc[(carioca_df['STATUS/ATENDIMENTO']=='não realizada'),['STATUS/ATENDIMENTO']]='cirurg_n_realizada'\n",
    "carioca_df.loc[(carioca_df['STATUS/ATENDIMENTO']=='nao realizada'),['STATUS/ATENDIMENTO']]='cirurg_n_realizada'\n",
    "carioca_df.loc[(carioca_df['STATUS/ATENDIMENTO']=='fatou'),['STATUS/ATENDIMENTO']]='cirurg_n_realizada'\n",
    "carioca_df.loc[(carioca_df['STATUS/ATENDIMENTO']=='desistência'),['STATUS/ATENDIMENTO']]='cirurg_n_realizada'\n",
    "# Variações de CIRURGIA REALIZADA\n",
    "carioca_df.loc[(carioca_df['STATUS/ATENDIMENTO']=='cirurgia realizada'),['STATUS/ATENDIMENTO']]='cirurg_realizada'\n",
    "carioca_df.loc[(carioca_df['STATUS/ATENDIMENTO']=='cirurgia  realizada'),['STATUS/ATENDIMENTO']]='cirurg_realizada'\n",
    "carioca_df.loc[(carioca_df['STATUS/ATENDIMENTO']=='cirurgia realiazada'),['STATUS/ATENDIMENTO']]='cirurg_realizada'\n",
    "carioca_df.loc[(carioca_df['STATUS/ATENDIMENTO']=='cieurgia realizada'),['STATUS/ATENDIMENTO']]='cirurg_realizada'\n",
    "carioca_df.loc[(carioca_df['STATUS/ATENDIMENTO']=='realizada'),['STATUS/ATENDIMENTO']]='cirurg_realizada'\n",
    "carioca_df.loc[(carioca_df['STATUS/ATENDIMENTO']=='cirurgia relizada'),['STATUS/ATENDIMENTO']]='cirurg_realizada'\n",
    "carioca_df.loc[(carioca_df['STATUS/ATENDIMENTO']=='cirurgia realizada'),['STATUS/ATENDIMENTO']]='cirurg_realizada'\n",
    "carioca_df.loc[(carioca_df['STATUS/ATENDIMENTO']=='cirurgia realizado'),['STATUS/ATENDIMENTO']]='cirurg_realizada'\n",
    "carioca_df.loc[(carioca_df['STATUS/ATENDIMENTO']=='ciruriga realizada'),['STATUS/ATENDIMENTO']]='cirurg_realizada'\n",
    "carioca_df.loc[(carioca_df['STATUS/ATENDIMENTO']=='cirurgia rea'),['STATUS/ATENDIMENTO']]='cirurg_realizada'"
   ]
  },
  {
   "cell_type": "code",
   "execution_count": 206,
   "id": "c2cf1999-ee08-4e54-b565-a86001eaa1ec",
   "metadata": {},
   "outputs": [
    {
     "data": {
      "text/plain": [
       "array(['cirurg_n_realizada', 'cirurg_realizada',\n",
       "       'endereço não encontrado'], dtype=object)"
      ]
     },
     "execution_count": 206,
     "metadata": {},
     "output_type": "execute_result"
    }
   ],
   "source": [
    "carioca_df['STATUS/ATENDIMENTO'].unique()"
   ]
  },
  {
   "cell_type": "markdown",
   "id": "0892554f-b3ef-4881-8275-bac5a21afb27",
   "metadata": {},
   "source": [
    "## Retirar o atributo ESPÉCIE e criar os atributos a partir da função dummies"
   ]
  },
  {
   "cell_type": "code",
   "execution_count": 189,
   "id": "b917d740-5978-4c09-92f1-364ee17ed80a",
   "metadata": {},
   "outputs": [],
   "source": [
    "carioca_df = carioca_df.drop(['ESPÉCIE'], axis=1)"
   ]
  },
  {
   "cell_type": "code",
   "execution_count": 219,
   "id": "37afc7e8-0f8b-4a15-9a86-117d94ca1308",
   "metadata": {},
   "outputs": [],
   "source": [
    "carioca_df = carioca_df.dropna()"
   ]
  },
  {
   "cell_type": "markdown",
   "id": "a06559d9-d67c-4d30-aaef-43cdc003ce4a",
   "metadata": {},
   "source": [
    "#### Criação dos atributos a partir do GÊNERO e retirando o mesmo original"
   ]
  },
  {
   "cell_type": "code",
   "execution_count": 197,
   "id": "695e42f6-9aef-4fda-a0e0-d1e9dd438193",
   "metadata": {},
   "outputs": [],
   "source": [
    "carioca_df = carioca_df.join(get_dummies(carioca_df['GÊNERO'], dtype=int))"
   ]
  },
  {
   "cell_type": "code",
   "execution_count": 199,
   "id": "de1462b6-34e8-4618-906e-865ad3245761",
   "metadata": {},
   "outputs": [],
   "source": [
    "carioca_df = carioca_df.drop(['GÊNERO'], axis=1)"
   ]
  },
  {
   "cell_type": "markdown",
   "id": "ba9f5411-7eb2-4172-ae69-ea6cebff8e58",
   "metadata": {},
   "source": [
    "#### Criação dos atributos a partir do STATUS/ATENDIMENTO e retirando o mesmo original"
   ]
  },
  {
   "cell_type": "code",
   "execution_count": 209,
   "id": "287e5339-5ecf-4868-9aaf-888ef7826a60",
   "metadata": {},
   "outputs": [],
   "source": [
    "carioca_df = carioca_df.join(get_dummies(carioca_df['STATUS/ATENDIMENTO'], dtype=int))"
   ]
  },
  {
   "cell_type": "code",
   "execution_count": 212,
   "id": "8749bb3b-7d75-48f5-a8fe-8cd2a6182f44",
   "metadata": {},
   "outputs": [],
   "source": [
    "carioca_df = carioca_df.drop(['STATUS/ATENDIMENTO'], axis=1)"
   ]
  },
  {
   "cell_type": "markdown",
   "id": "f45822bd-0dc4-496b-9377-e4a4aa11b3ed",
   "metadata": {},
   "source": [
    "#### Criação dos atributos a partir de meses e retirando o mesmo original"
   ]
  },
  {
   "cell_type": "code",
   "execution_count": 221,
   "id": "8699e81b-76bc-4a7b-95f3-12ccc09e6d8c",
   "metadata": {},
   "outputs": [],
   "source": [
    "carioca_df = carioca_df.join(get_dummies(carioca_df['meses'], dtype=int))"
   ]
  },
  {
   "cell_type": "code",
   "execution_count": 223,
   "id": "66406eac-f246-4a3c-b531-3523b09cf501",
   "metadata": {},
   "outputs": [],
   "source": [
    "carioca_df = carioca_df.drop(['meses'], axis=1)"
   ]
  },
  {
   "cell_type": "code",
   "execution_count": 224,
   "id": "0207c9d8-9fc4-4a43-ad7b-7eb8b0e7d1c7",
   "metadata": {
    "scrolled": true
   },
   "outputs": [
    {
     "data": {
      "text/html": [
       "<div>\n",
       "<style scoped>\n",
       "    .dataframe tbody tr th:only-of-type {\n",
       "        vertical-align: middle;\n",
       "    }\n",
       "\n",
       "    .dataframe tbody tr th {\n",
       "        vertical-align: top;\n",
       "    }\n",
       "\n",
       "    .dataframe thead th {\n",
       "        text-align: right;\n",
       "    }\n",
       "</style>\n",
       "<table border=\"1\" class=\"dataframe\">\n",
       "  <thead>\n",
       "    <tr style=\"text-align: right;\">\n",
       "      <th></th>\n",
       "      <th>Carimbo de data/hora</th>\n",
       "      <th>trailer</th>\n",
       "      <th>canino_f</th>\n",
       "      <th>canino_m</th>\n",
       "      <th>felino_f</th>\n",
       "      <th>felino_m</th>\n",
       "      <th>cirurg_n_realizada</th>\n",
       "      <th>cirurg_realizada</th>\n",
       "      <th>endereço não encontrado</th>\n",
       "      <th>April</th>\n",
       "      <th>February</th>\n",
       "      <th>July</th>\n",
       "      <th>June</th>\n",
       "      <th>March</th>\n",
       "      <th>May</th>\n",
       "    </tr>\n",
       "  </thead>\n",
       "  <tbody>\n",
       "    <tr>\n",
       "      <th>1780</th>\n",
       "      <td>2024-06-03</td>\n",
       "      <td>carioca</td>\n",
       "      <td>0</td>\n",
       "      <td>0</td>\n",
       "      <td>1</td>\n",
       "      <td>0</td>\n",
       "      <td>0</td>\n",
       "      <td>1</td>\n",
       "      <td>0</td>\n",
       "      <td>0</td>\n",
       "      <td>0</td>\n",
       "      <td>0</td>\n",
       "      <td>1</td>\n",
       "      <td>0</td>\n",
       "      <td>0</td>\n",
       "    </tr>\n",
       "    <tr>\n",
       "      <th>1781</th>\n",
       "      <td>2024-06-03</td>\n",
       "      <td>carioca</td>\n",
       "      <td>0</td>\n",
       "      <td>1</td>\n",
       "      <td>0</td>\n",
       "      <td>0</td>\n",
       "      <td>1</td>\n",
       "      <td>0</td>\n",
       "      <td>0</td>\n",
       "      <td>0</td>\n",
       "      <td>0</td>\n",
       "      <td>0</td>\n",
       "      <td>1</td>\n",
       "      <td>0</td>\n",
       "      <td>0</td>\n",
       "    </tr>\n",
       "    <tr>\n",
       "      <th>1782</th>\n",
       "      <td>2024-06-03</td>\n",
       "      <td>carioca</td>\n",
       "      <td>0</td>\n",
       "      <td>0</td>\n",
       "      <td>0</td>\n",
       "      <td>1</td>\n",
       "      <td>0</td>\n",
       "      <td>1</td>\n",
       "      <td>0</td>\n",
       "      <td>0</td>\n",
       "      <td>0</td>\n",
       "      <td>0</td>\n",
       "      <td>1</td>\n",
       "      <td>0</td>\n",
       "      <td>0</td>\n",
       "    </tr>\n",
       "    <tr>\n",
       "      <th>1783</th>\n",
       "      <td>2024-06-03</td>\n",
       "      <td>carioca</td>\n",
       "      <td>0</td>\n",
       "      <td>0</td>\n",
       "      <td>1</td>\n",
       "      <td>0</td>\n",
       "      <td>0</td>\n",
       "      <td>1</td>\n",
       "      <td>0</td>\n",
       "      <td>0</td>\n",
       "      <td>0</td>\n",
       "      <td>0</td>\n",
       "      <td>1</td>\n",
       "      <td>0</td>\n",
       "      <td>0</td>\n",
       "    </tr>\n",
       "    <tr>\n",
       "      <th>1784</th>\n",
       "      <td>2024-06-03</td>\n",
       "      <td>carioca</td>\n",
       "      <td>0</td>\n",
       "      <td>0</td>\n",
       "      <td>1</td>\n",
       "      <td>0</td>\n",
       "      <td>0</td>\n",
       "      <td>1</td>\n",
       "      <td>0</td>\n",
       "      <td>0</td>\n",
       "      <td>0</td>\n",
       "      <td>0</td>\n",
       "      <td>1</td>\n",
       "      <td>0</td>\n",
       "      <td>0</td>\n",
       "    </tr>\n",
       "  </tbody>\n",
       "</table>\n",
       "</div>"
      ],
      "text/plain": [
       "     Carimbo de data/hora  trailer  canino_f  canino_m  felino_f  felino_m  \\\n",
       "1780           2024-06-03  carioca         0         0         1         0   \n",
       "1781           2024-06-03  carioca         0         1         0         0   \n",
       "1782           2024-06-03  carioca         0         0         0         1   \n",
       "1783           2024-06-03  carioca         0         0         1         0   \n",
       "1784           2024-06-03  carioca         0         0         1         0   \n",
       "\n",
       "      cirurg_n_realizada  cirurg_realizada  endereço não encontrado  April  \\\n",
       "1780                   0                 1                        0      0   \n",
       "1781                   1                 0                        0      0   \n",
       "1782                   0                 1                        0      0   \n",
       "1783                   0                 1                        0      0   \n",
       "1784                   0                 1                        0      0   \n",
       "\n",
       "      February  July  June  March  May  \n",
       "1780         0     0     1      0    0  \n",
       "1781         0     0     1      0    0  \n",
       "1782         0     0     1      0    0  \n",
       "1783         0     0     1      0    0  \n",
       "1784         0     0     1      0    0  "
      ]
     },
     "execution_count": 224,
     "metadata": {},
     "output_type": "execute_result"
    }
   ],
   "source": [
    "carioca_df.tail()"
   ]
  },
  {
   "cell_type": "code",
   "execution_count": 225,
   "id": "9ee7c53b-4468-473c-a162-1b3b917119fa",
   "metadata": {},
   "outputs": [
    {
     "data": {
      "text/plain": [
       "Index(['Carimbo de data/hora', 'trailer', 'canino_f', 'canino_m', 'felino_f',\n",
       "       'felino_m', 'cirurg_n_realizada', 'cirurg_realizada',\n",
       "       'endereço não encontrado', 'April', 'February', 'July', 'June', 'March',\n",
       "       'May'],\n",
       "      dtype='object')"
      ]
     },
     "execution_count": 225,
     "metadata": {},
     "output_type": "execute_result"
    }
   ],
   "source": [
    "carioca_df.columns"
   ]
  },
  {
   "cell_type": "code",
   "execution_count": 236,
   "id": "2c98fc62-d2d3-452f-b0cf-04f292055ae3",
   "metadata": {},
   "outputs": [],
   "source": [
    "tbl_carioca = carioca_df[['trailer', 'canino_f', 'canino_m', 'felino_f',\n",
    "       'felino_m', 'cirurg_n_realizada', 'cirurg_realizada',\n",
    "       'endereço não encontrado', 'February', 'March', 'April',\n",
    "       'May', 'June', 'July']]"
   ]
  },
  {
   "cell_type": "markdown",
   "id": "60abdc7f-7e5f-4025-a492-b2c83e2865d5",
   "metadata": {},
   "source": [
    "## Tabela de contingência com o total de cada um dos atributos da fase 01"
   ]
  },
  {
   "cell_type": "code",
   "execution_count": null,
   "id": "c6b50a13-f09e-425a-9be5-55367badbd27",
   "metadata": {},
   "outputs": [],
   "source": [
    "relat_fs01 = tbl_carioca.groupby(by=['trailer']).sum()"
   ]
  },
  {
   "cell_type": "code",
   "execution_count": 240,
   "id": "32dc0e2c-4e83-4286-8cec-91eff5f6b763",
   "metadata": {},
   "outputs": [],
   "source": [
    "relat_fs01['total'] = relat_fs01['cirurg_n_realizada']+relat_fs01['cirurg_realizada']+relat_fs01['endereço não encontrado']"
   ]
  },
  {
   "cell_type": "code",
   "execution_count": 242,
   "id": "e1d836d7-a956-4d7e-a3cb-a538824e8f0e",
   "metadata": {},
   "outputs": [
    {
     "data": {
      "text/html": [
       "<div>\n",
       "<style scoped>\n",
       "    .dataframe tbody tr th:only-of-type {\n",
       "        vertical-align: middle;\n",
       "    }\n",
       "\n",
       "    .dataframe tbody tr th {\n",
       "        vertical-align: top;\n",
       "    }\n",
       "\n",
       "    .dataframe thead th {\n",
       "        text-align: right;\n",
       "    }\n",
       "</style>\n",
       "<table border=\"1\" class=\"dataframe\">\n",
       "  <thead>\n",
       "    <tr style=\"text-align: right;\">\n",
       "      <th>trailer</th>\n",
       "      <th>carioca</th>\n",
       "    </tr>\n",
       "    <tr>\n",
       "      <th>variaveis</th>\n",
       "      <th></th>\n",
       "    </tr>\n",
       "  </thead>\n",
       "  <tbody>\n",
       "    <tr>\n",
       "      <th>canino_f</th>\n",
       "      <td>576</td>\n",
       "    </tr>\n",
       "    <tr>\n",
       "      <th>canino_m</th>\n",
       "      <td>406</td>\n",
       "    </tr>\n",
       "    <tr>\n",
       "      <th>felino_f</th>\n",
       "      <td>467</td>\n",
       "    </tr>\n",
       "    <tr>\n",
       "      <th>felino_m</th>\n",
       "      <td>335</td>\n",
       "    </tr>\n",
       "    <tr>\n",
       "      <th>cirurg_n_realizada</th>\n",
       "      <td>665</td>\n",
       "    </tr>\n",
       "    <tr>\n",
       "      <th>cirurg_realizada</th>\n",
       "      <td>1118</td>\n",
       "    </tr>\n",
       "    <tr>\n",
       "      <th>endereço não encontrado</th>\n",
       "      <td>1</td>\n",
       "    </tr>\n",
       "    <tr>\n",
       "      <th>February</th>\n",
       "      <td>266</td>\n",
       "    </tr>\n",
       "    <tr>\n",
       "      <th>March</th>\n",
       "      <td>588</td>\n",
       "    </tr>\n",
       "    <tr>\n",
       "      <th>April</th>\n",
       "      <td>650</td>\n",
       "    </tr>\n",
       "    <tr>\n",
       "      <th>May</th>\n",
       "      <td>255</td>\n",
       "    </tr>\n",
       "    <tr>\n",
       "      <th>June</th>\n",
       "      <td>24</td>\n",
       "    </tr>\n",
       "    <tr>\n",
       "      <th>July</th>\n",
       "      <td>1</td>\n",
       "    </tr>\n",
       "    <tr>\n",
       "      <th>total</th>\n",
       "      <td>1784</td>\n",
       "    </tr>\n",
       "  </tbody>\n",
       "</table>\n",
       "</div>"
      ],
      "text/plain": [
       "trailer                  carioca\n",
       "variaveis                       \n",
       "canino_f                     576\n",
       "canino_m                     406\n",
       "felino_f                     467\n",
       "felino_m                     335\n",
       "cirurg_n_realizada           665\n",
       "cirurg_realizada            1118\n",
       "endereço não encontrado        1\n",
       "February                     266\n",
       "March                        588\n",
       "April                        650\n",
       "May                          255\n",
       "June                          24\n",
       "July                           1\n",
       "total                       1784"
      ]
     },
     "execution_count": 242,
     "metadata": {},
     "output_type": "execute_result"
    }
   ],
   "source": [
    "relat_fs01.T.rename_axis('variaveis')"
   ]
  }
 ],
 "metadata": {
  "kernelspec": {
   "display_name": "Python 3 (ipykernel)",
   "language": "python",
   "name": "python3"
  },
  "language_info": {
   "codemirror_mode": {
    "name": "ipython",
    "version": 3
   },
   "file_extension": ".py",
   "mimetype": "text/x-python",
   "name": "python",
   "nbconvert_exporter": "python",
   "pygments_lexer": "ipython3",
   "version": "3.10.12"
  }
 },
 "nbformat": 4,
 "nbformat_minor": 5
}
