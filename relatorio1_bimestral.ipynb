{
 "cells": [
  {
   "cell_type": "markdown",
   "id": "e94e7721-5395-4261-a9f3-5a6cdad6cca2",
   "metadata": {},
   "source": [
    "# Relatório 01 até abril do indicador de EFICÁCIA medindo a taxa de sucesso que são as CIRURGIAS REALIZADAS\n",
    "\n",
    "---"
   ]
  },
  {
   "cell_type": "markdown",
   "id": "ab6bfbb0-8387-43cf-837a-7fbc7dd3682f",
   "metadata": {},
   "source": [
    "Qual o peso vamos encontrar.\n",
    "\n",
    "- Considerando a meta de 5 castração por dia para cada um dos quatro subgrupos que são: cães, cadelas, gatos e gatas. Em forma sucinta, esperasse ao fim de cada dia de trabalho no trailer, ter castrado\n",
    "    - 5 cães;\n",
    "    - 5 cadelas;\n",
    "    - 5 gatos;\n",
    "    - 5 gatas;\n",
    " \n",
    "---"
   ]
  },
  {
   "cell_type": "markdown",
   "id": "edf93672-2578-4771-9698-ebf630985834",
   "metadata": {},
   "source": [
    "O indicador atuará nas castrações realizados, distribuidas por dia em 4 grupos.\n",
    "\n",
    "- o cálculo do indicador de eficácia é:\n",
    "    - $\\frac{realizado}{esperado} * 100$\n",
    " \n",
    "---"
   ]
  },
  {
   "cell_type": "code",
   "execution_count": 2,
   "id": "65911ccc-c0fa-4439-9f2a-811b18b9c3c7",
   "metadata": {},
   "outputs": [],
   "source": [
    "import numpy as np\n",
    "from datetime import datetime, date, timedelta\n",
    "import datetime\n",
    "import string\n",
    "import time\n",
    "from pandas import DataFrame, read_csv,unique\n",
    "import matplotlib.pyplot as plt\n",
    "from os import getcwd\n",
    "from pygsheets import authorize\n",
    "import pivottablejs"
   ]
  },
  {
   "cell_type": "markdown",
   "id": "7199562b-15de-402e-9213-cb23e0165c0e",
   "metadata": {},
   "source": [
    "## Integração das APIs do GCP - das contas google "
   ]
  },
  {
   "cell_type": "markdown",
   "id": "bf9acb02-caf6-4fa6-ab47-7c4b5ef56216",
   "metadata": {},
   "source": [
    "### Conta RIO"
   ]
  },
  {
   "cell_type": "code",
   "execution_count": 3,
   "id": "84160bed-7507-40ac-9a71-42df50bb9aaa",
   "metadata": {},
   "outputs": [],
   "source": [
    "credenciaisRio = authorize(service_file=getcwd()+'/keyapirio.json')"
   ]
  },
  {
   "cell_type": "markdown",
   "id": "a3fd3eb3-64fc-4efa-97d3-fa6695e43633",
   "metadata": {},
   "source": [
    "#### na célula abaixo os Links estarão ocultos"
   ]
  },
  {
   "cell_type": "code",
   "execution_count": 4,
   "id": "5466adea-546d-45cb-b96e-7a1182e0d160",
   "metadata": {},
   "outputs": [],
   "source": [
    "linkAgendamentoRio = 'https://docs.google.com/spreadsheets/d/xxxxxxxxxx/'"
   ]
  },
  {
   "cell_type": "markdown",
   "id": "124d95c6-a131-4c27-9431-be9450cdb645",
   "metadata": {},
   "source": [
    "#### Código de integração da APIRest google sheets"
   ]
  },
  {
   "cell_type": "code",
   "execution_count": 5,
   "id": "a13a54bc-7ef2-4d9b-a8a1-0b1c3c33c840",
   "metadata": {},
   "outputs": [],
   "source": [
    "# acessando planilha\n",
    "planilhaAgendamentoRio = credenciaisRio.open_by_url(linkAgendamentoRio)\n",
    "tabelaAgendamentoRio = planilhaAgendamentoRio.worksheet_by_title('Respostas ao formulário 1')"
   ]
  },
  {
   "cell_type": "markdown",
   "id": "07fc394a-a550-41a3-b89d-a587efa27853",
   "metadata": {},
   "source": [
    "### Quadro de Dados (DataFrame) do Rio"
   ]
  },
  {
   "cell_type": "code",
   "execution_count": 6,
   "id": "dd8146de-8277-405d-9887-90a6774b020c",
   "metadata": {},
   "outputs": [
    {
     "name": "stdout",
     "output_type": "stream",
     "text": [
      "Na data 2024-05-17 esse quadro de dados está sendo criado.\n"
     ]
    }
   ],
   "source": [
    "from datetime import date\n",
    "df_rio_agend = DataFrame(tabelaAgendamentoRio)\n",
    "print (f'Na data {date.today()} esse quadro de dados está sendo criado.')"
   ]
  },
  {
   "cell_type": "code",
   "execution_count": 7,
   "id": "6656ee7c-5cb0-41f0-8532-51faed8421d2",
   "metadata": {},
   "outputs": [
    {
     "name": "stdout",
     "output_type": "stream",
     "text": [
      "Até o momento informado na linha de cima, o agendamento foi aplicado 1286 pessoas.\n"
     ]
    }
   ],
   "source": [
    "print(f'Até o momento informado na linha de cima, o agendamento foi aplicado {df_rio_agend.shape[0] - 1} pessoas.')"
   ]
  },
  {
   "cell_type": "markdown",
   "id": "3f5d1261-459b-4526-908d-aa6afd0cd860",
   "metadata": {},
   "source": [
    "#### Atualização dos atributos"
   ]
  },
  {
   "cell_type": "code",
   "execution_count": 8,
   "id": "24938e80-69d4-42cb-b1b5-7501fec391b7",
   "metadata": {},
   "outputs": [],
   "source": [
    "df_rio_agend = df_rio_agend[[0,1,2,3,4,5,6,7,8,9,10,11,12,13,14,15,16,17,18]]\n",
    "df_rio_agend.columns = list(df_rio_agend[[0,1,2,3,4,5,6,7,8,9,10,11,12,13,14,15,16,17,18]].iloc[0])"
   ]
  },
  {
   "cell_type": "code",
   "execution_count": 9,
   "id": "08b3cb71-7c2d-4f1b-be72-2fb76c86bbd0",
   "metadata": {},
   "outputs": [
    {
     "name": "stdout",
     "output_type": "stream",
     "text": [
      "Segue a lista com todas variáveis da base de dados: ['Carimbo de data/hora', 'NOME COMPLETO', 'ENDEREÇO COMPLETO', 'BAIRRO', 'CEP', 'DATA DE NASCIMENTO', 'TELEFONE', 'EMAIL', 'NOME DO ANIMAL', 'CPF', 'ESPECIE', 'GENERO', 'STATUS/ATENDIMENTOS', 'MOTIVO DA RECUSA', 'ÓBITO/INTERCORRÊNCIA', 'LOCAL', 'NOME DO ANIMAL', 'RAÇA', 'Nº DO CHIP']\n",
      "\n",
      "Vamos utilizar as variáveis: Carimbo de data/hora, GENERO, \n",
      "STATUS/ATENDIMENTOS e MOTIVO DA RECUSA.\n"
     ]
    }
   ],
   "source": [
    "print (f'Segue a lista com todas variáveis da base de dados: {list(df_rio_agend.columns)}')\n",
    "print (f'''\\nVamos utilizar as variáveis: {list(df_rio_agend.columns)[0]}, {list(df_rio_agend.columns)[11]}, \n",
    "{list(df_rio_agend.columns)[12]} e {list(df_rio_agend.columns)[13]}.''')"
   ]
  },
  {
   "cell_type": "code",
   "execution_count": 9,
   "id": "f205538d-7d26-487f-8c51-8084288edd62",
   "metadata": {},
   "outputs": [],
   "source": [
    "df_rio_agend = df_rio_agend.drop([0,1], axis=0)"
   ]
  },
  {
   "cell_type": "markdown",
   "id": "86dbbd9d-1541-47f9-863a-11ba09b7a036",
   "metadata": {},
   "source": [
    "Nessa etapa vamos criar o sub quadro de dados com apenas os atributos que serão usados no relatório bimestral."
   ]
  },
  {
   "cell_type": "code",
   "execution_count": 10,
   "id": "ee6ec6b9-69a8-4577-870d-35724b60c2dd",
   "metadata": {},
   "outputs": [
    {
     "data": {
      "text/plain": [
       "array(['REALIZADA', 'RECUSA', 'CIRURGIA REALIZADA', 'FALTA',\n",
       "       'CIRURGIA REALIZADA ', 'CHIPAGEM', 'RECUSA ', ''], dtype=object)"
      ]
     },
     "execution_count": 10,
     "metadata": {},
     "output_type": "execute_result"
    }
   ],
   "source": [
    "relat_agend_rio = DataFrame(DataFrame(df_rio_agend['Carimbo de data/hora'].str.split(' ', expand=True)[0]).join(df_rio_agend[['ESPECIE','GENERO','STATUS/ATENDIMENTOS']]))\n",
    "\n",
    "relat_agend_rio['STATUS/ATENDIMENTOS'].unique()"
   ]
  },
  {
   "cell_type": "code",
   "execution_count": 11,
   "id": "543bf205-f62a-423c-9888-22465b4947aa",
   "metadata": {},
   "outputs": [],
   "source": [
    "relat_agend_rio = relat_agend_rio.loc[\n",
    "(relat_agend_rio['STATUS/ATENDIMENTOS'] == 'CIRURGIA REALIZADA') |\n",
    "(relat_agend_rio['STATUS/ATENDIMENTOS'] == 'CIRURGIA REALIZADA ') |\n",
    "(relat_agend_rio['STATUS/ATENDIMENTOS'] == 'REALIZADA')]\n",
    "qtdes_aplicacoes = relat_agend_rio.shape[0]"
   ]
  },
  {
   "cell_type": "code",
   "execution_count": 12,
   "id": "c1f30155-86d3-41f5-9403-27fed5071991",
   "metadata": {},
   "outputs": [
    {
     "name": "stdout",
     "output_type": "stream",
     "text": [
      "Saímos de 1285 aplicações, \n",
      "para 745 aplicações.\n",
      "Isso quer dizer que estamos trabalhando com 57.98% do total.\n"
     ]
    }
   ],
   "source": [
    "print (f'''Saímos de {df_rio_agend.shape[0]} aplicações, \n",
    "para {qtdes_aplicacoes} aplicações.\n",
    "Isso quer dizer que estamos trabalhando com {round(100*(qtdes_aplicacoes/df_rio_agend.shape[0]),2)}% do total.''')"
   ]
  },
  {
   "cell_type": "code",
   "execution_count": 13,
   "id": "820cb883-ccb2-495f-8192-50133fde6de6",
   "metadata": {},
   "outputs": [
    {
     "data": {
      "text/html": [
       "<div>\n",
       "<style scoped>\n",
       "    .dataframe tbody tr th:only-of-type {\n",
       "        vertical-align: middle;\n",
       "    }\n",
       "\n",
       "    .dataframe tbody tr th {\n",
       "        vertical-align: top;\n",
       "    }\n",
       "\n",
       "    .dataframe thead th {\n",
       "        text-align: right;\n",
       "    }\n",
       "</style>\n",
       "<table border=\"1\" class=\"dataframe\">\n",
       "  <thead>\n",
       "    <tr style=\"text-align: right;\">\n",
       "      <th></th>\n",
       "      <th>0</th>\n",
       "      <th>ESPECIE</th>\n",
       "      <th>GENERO</th>\n",
       "      <th>STATUS/ATENDIMENTOS</th>\n",
       "    </tr>\n",
       "  </thead>\n",
       "  <tbody>\n",
       "    <tr>\n",
       "      <th>2</th>\n",
       "      <td>19/02/2024</td>\n",
       "      <td>CANINO</td>\n",
       "      <td>MACHO</td>\n",
       "      <td>REALIZADA</td>\n",
       "    </tr>\n",
       "    <tr>\n",
       "      <th>4</th>\n",
       "      <td>19/02/2024</td>\n",
       "      <td>CANINO</td>\n",
       "      <td>FEMEA</td>\n",
       "      <td>CIRURGIA REALIZADA</td>\n",
       "    </tr>\n",
       "    <tr>\n",
       "      <th>5</th>\n",
       "      <td>19/02/2024</td>\n",
       "      <td>FELINO</td>\n",
       "      <td>FEMEA</td>\n",
       "      <td>CIRURGIA REALIZADA</td>\n",
       "    </tr>\n",
       "  </tbody>\n",
       "</table>\n",
       "</div>"
      ],
      "text/plain": [
       "            0 ESPECIE GENERO STATUS/ATENDIMENTOS\n",
       "2  19/02/2024  CANINO  MACHO           REALIZADA\n",
       "4  19/02/2024  CANINO  FEMEA  CIRURGIA REALIZADA\n",
       "5  19/02/2024  FELINO  FEMEA  CIRURGIA REALIZADA"
      ]
     },
     "execution_count": 13,
     "metadata": {},
     "output_type": "execute_result"
    }
   ],
   "source": [
    "relat_agend_rio.head(3)"
   ]
  },
  {
   "cell_type": "markdown",
   "id": "c15aec41-0081-4af1-a0a1-8927c190376c",
   "metadata": {},
   "source": [
    "parei aqui no dia 14/05/2024, iniciei também no mesmo dia, 14/05/2024"
   ]
  },
  {
   "cell_type": "markdown",
   "id": "b2da4392-e7e2-48ae-b41e-d819782de3d1",
   "metadata": {},
   "source": [
    "Retomando relatório 01 - 16/05/2024"
   ]
  },
  {
   "cell_type": "markdown",
   "id": "04a07f94-b675-460d-997f-47cf428af49e",
   "metadata": {},
   "source": [
    "#### Formatando atributos"
   ]
  },
  {
   "cell_type": "code",
   "execution_count": 14,
   "id": "749b84f2-ef50-422b-abfa-753b5bcdd1e5",
   "metadata": {},
   "outputs": [],
   "source": [
    "relat_agend_rio.columns = ['data','especie','genero','status']"
   ]
  },
  {
   "cell_type": "code",
   "execution_count": 15,
   "id": "91b80802-b2b9-41af-b3af-2cff8578d307",
   "metadata": {},
   "outputs": [
    {
     "data": {
      "text/html": [
       "<div>\n",
       "<style scoped>\n",
       "    .dataframe tbody tr th:only-of-type {\n",
       "        vertical-align: middle;\n",
       "    }\n",
       "\n",
       "    .dataframe tbody tr th {\n",
       "        vertical-align: top;\n",
       "    }\n",
       "\n",
       "    .dataframe thead th {\n",
       "        text-align: right;\n",
       "    }\n",
       "</style>\n",
       "<table border=\"1\" class=\"dataframe\">\n",
       "  <thead>\n",
       "    <tr style=\"text-align: right;\">\n",
       "      <th></th>\n",
       "      <th>data</th>\n",
       "      <th>especie</th>\n",
       "      <th>genero</th>\n",
       "      <th>status</th>\n",
       "    </tr>\n",
       "  </thead>\n",
       "  <tbody>\n",
       "    <tr>\n",
       "      <th>2</th>\n",
       "      <td>19/02/2024</td>\n",
       "      <td>CANINO</td>\n",
       "      <td>MACHO</td>\n",
       "      <td>REALIZADA</td>\n",
       "    </tr>\n",
       "  </tbody>\n",
       "</table>\n",
       "</div>"
      ],
      "text/plain": [
       "         data especie genero     status\n",
       "2  19/02/2024  CANINO  MACHO  REALIZADA"
      ]
     },
     "execution_count": 15,
     "metadata": {},
     "output_type": "execute_result"
    }
   ],
   "source": [
    "relat_agend_rio.head(1)"
   ]
  },
  {
   "cell_type": "markdown",
   "id": "c83f9331-63fe-424d-aed3-6db39b218752",
   "metadata": {},
   "source": [
    "#### Nessa etape o atributo \"data\" será convertido para o formato de data utilizado nas funções nativas do python"
   ]
  },
  {
   "cell_type": "code",
   "execution_count": 16,
   "id": "7f923ef3-3d4e-4b93-97f0-82c17f4d3d59",
   "metadata": {},
   "outputs": [],
   "source": [
    "from convert_datas import converte_data\n",
    "relat_agend_rio['data'] = relat_agend_rio['data'].map(lambda x: converte_data(x))"
   ]
  },
  {
   "cell_type": "code",
   "execution_count": 17,
   "id": "d9417884-012a-493c-a948-78715e6b7629",
   "metadata": {},
   "outputs": [
    {
     "data": {
      "text/html": [
       "<div>\n",
       "<style scoped>\n",
       "    .dataframe tbody tr th:only-of-type {\n",
       "        vertical-align: middle;\n",
       "    }\n",
       "\n",
       "    .dataframe tbody tr th {\n",
       "        vertical-align: top;\n",
       "    }\n",
       "\n",
       "    .dataframe thead th {\n",
       "        text-align: right;\n",
       "    }\n",
       "</style>\n",
       "<table border=\"1\" class=\"dataframe\">\n",
       "  <thead>\n",
       "    <tr style=\"text-align: right;\">\n",
       "      <th></th>\n",
       "      <th>data</th>\n",
       "      <th>especie</th>\n",
       "      <th>genero</th>\n",
       "      <th>status</th>\n",
       "    </tr>\n",
       "  </thead>\n",
       "  <tbody>\n",
       "    <tr>\n",
       "      <th>2</th>\n",
       "      <td>2024-02-19</td>\n",
       "      <td>CANINO</td>\n",
       "      <td>MACHO</td>\n",
       "      <td>REALIZADA</td>\n",
       "    </tr>\n",
       "  </tbody>\n",
       "</table>\n",
       "</div>"
      ],
      "text/plain": [
       "        data especie genero     status\n",
       "2 2024-02-19  CANINO  MACHO  REALIZADA"
      ]
     },
     "execution_count": 17,
     "metadata": {},
     "output_type": "execute_result"
    }
   ],
   "source": [
    "relat_agend_rio.head(1)"
   ]
  },
  {
   "cell_type": "code",
   "execution_count": 19,
   "id": "0d681106-126f-4a88-8cf3-617cf9a21bdc",
   "metadata": {},
   "outputs": [],
   "source": [
    "from pandas import Series\n",
    "rio_agend_relat_01_bimest = DataFrame(relat_agend_rio['data'].dt.month_name()).rename(columns={'data':'meses'}).join(relat_agend_rio[['data','especie','genero']], how='left')"
   ]
  },
  {
   "cell_type": "code",
   "execution_count": 20,
   "id": "da6038ae-5667-42e3-a2c5-837a8c24e257",
   "metadata": {},
   "outputs": [],
   "source": [
    "rio_agend_relat_01_bimest['especie'] = rio_agend_relat_01_bimest['especie'].str.lower()\n",
    "rio_agend_relat_01_bimest['genero'] = rio_agend_relat_01_bimest['genero'].str.lower()\n",
    "rio_agend_relat_01_bimest['meses'] = rio_agend_relat_01_bimest['meses'].str.lower()"
   ]
  },
  {
   "cell_type": "markdown",
   "id": "61c50327-5dac-40a3-bc5b-eee8bc076d43",
   "metadata": {},
   "source": [
    "Verificando se tem dados faltantes em atributos preditores."
   ]
  },
  {
   "cell_type": "code",
   "execution_count": 21,
   "id": "cf5b572a-5960-4829-a4eb-789cca476b6d",
   "metadata": {},
   "outputs": [
    {
     "name": "stdout",
     "output_type": "stream",
     "text": [
      "['canino' 'felino' '']\n",
      "['macho' 'femea']\n"
     ]
    }
   ],
   "source": [
    "print (rio_agend_relat_01_bimest['especie'].unique())\n",
    "print (rio_agend_relat_01_bimest['genero'].unique())"
   ]
  },
  {
   "cell_type": "code",
   "execution_count": 22,
   "id": "6268a6dd-aab8-4e1f-b599-64e250497b37",
   "metadata": {},
   "outputs": [
    {
     "data": {
      "text/plain": [
       "especie\n",
       "felino    417\n",
       "canino    327\n",
       "            1\n",
       "Name: count, dtype: int64"
      ]
     },
     "execution_count": 22,
     "metadata": {},
     "output_type": "execute_result"
    }
   ],
   "source": [
    "rio_agend_relat_01_bimest['especie'].value_counts()"
   ]
  },
  {
   "cell_type": "markdown",
   "id": "2ef2489e-e056-436b-b16c-63553a68f60b",
   "metadata": {},
   "source": [
    "Identificando linha com especie faltante, resultado de falta de governança."
   ]
  },
  {
   "cell_type": "code",
   "execution_count": 23,
   "id": "ac12d7d0-8507-49d3-9050-f46cbcbf52c2",
   "metadata": {},
   "outputs": [
    {
     "data": {
      "text/html": [
       "<div>\n",
       "<style scoped>\n",
       "    .dataframe tbody tr th:only-of-type {\n",
       "        vertical-align: middle;\n",
       "    }\n",
       "\n",
       "    .dataframe tbody tr th {\n",
       "        vertical-align: top;\n",
       "    }\n",
       "\n",
       "    .dataframe thead th {\n",
       "        text-align: right;\n",
       "    }\n",
       "</style>\n",
       "<table border=\"1\" class=\"dataframe\">\n",
       "  <thead>\n",
       "    <tr style=\"text-align: right;\">\n",
       "      <th></th>\n",
       "      <th>meses</th>\n",
       "      <th>data</th>\n",
       "      <th>especie</th>\n",
       "      <th>genero</th>\n",
       "    </tr>\n",
       "  </thead>\n",
       "  <tbody>\n",
       "    <tr>\n",
       "      <th>670</th>\n",
       "      <td>march</td>\n",
       "      <td>2024-03-18</td>\n",
       "      <td></td>\n",
       "      <td>femea</td>\n",
       "    </tr>\n",
       "  </tbody>\n",
       "</table>\n",
       "</div>"
      ],
      "text/plain": [
       "     meses       data especie genero\n",
       "670  march 2024-03-18          femea"
      ]
     },
     "execution_count": 23,
     "metadata": {},
     "output_type": "execute_result"
    }
   ],
   "source": [
    "rio_agend_relat_01_bimest.loc[rio_agend_relat_01_bimest['especie']=='']"
   ]
  },
  {
   "cell_type": "markdown",
   "id": "244b85be-25a0-4809-8185-39e6fd10fd86",
   "metadata": {},
   "source": [
    "retirando a linha com espécie faltante."
   ]
  },
  {
   "cell_type": "code",
   "execution_count": 24,
   "id": "6f2fb1bc-1033-4330-a142-60d2acd5e056",
   "metadata": {},
   "outputs": [],
   "source": [
    "rio_agend_relat_01_bimest = rio_agend_relat_01_bimest.drop(rio_agend_relat_01_bimest.loc[rio_agend_relat_01_bimest['especie']==''].index[0])"
   ]
  },
  {
   "cell_type": "code",
   "execution_count": 25,
   "id": "d9990ece-5b16-41ba-9e81-ddf89d865129",
   "metadata": {},
   "outputs": [
    {
     "data": {
      "text/plain": [
       "(744, 4)"
      ]
     },
     "execution_count": 25,
     "metadata": {},
     "output_type": "execute_result"
    }
   ],
   "source": [
    "rio_agend_relat_01_bimest.shape"
   ]
  },
  {
   "cell_type": "code",
   "execution_count": 26,
   "id": "8cb35352-703a-46b7-821d-d90b290c8594",
   "metadata": {},
   "outputs": [
    {
     "data": {
      "text/plain": [
       "array(['canino', 'felino'], dtype=object)"
      ]
     },
     "execution_count": 26,
     "metadata": {},
     "output_type": "execute_result"
    }
   ],
   "source": [
    "rio_agend_relat_01_bimest['especie'].unique()"
   ]
  },
  {
   "cell_type": "code",
   "execution_count": null,
   "id": "4bbf5874-1d2d-4d56-9ca5-ea2b453cd308",
   "metadata": {},
   "outputs": [],
   "source": [
    "rio_agend_relat_01_bimest['genero'].loc[(rio_agend_relat_01_bimest['especie']=='canino') & (rio_agend_relat_01_bimest['genero']=='macho')]='canino_macho'\n",
    "rio_agend_relat_01_bimest['genero'].loc[(rio_agend_relat_01_bimest['especie']=='canino') & (rio_agend_relat_01_bimest['genero']=='femea')]='canino_femea'\n",
    "rio_agend_relat_01_bimest['genero'].loc[(rio_agend_relat_01_bimest['especie']=='felino') & (rio_agend_relat_01_bimest['genero']=='macho')]='felino_macho'\n",
    "rio_agend_relat_01_bimest['genero'].loc[(rio_agend_relat_01_bimest['especie']=='felino') & (rio_agend_relat_01_bimest['genero']=='femea')]='felino_femea'"
   ]
  },
  {
   "cell_type": "code",
   "execution_count": 28,
   "id": "1972f9dd-2aec-42c3-80d9-230e7be8a7e0",
   "metadata": {},
   "outputs": [],
   "source": [
    "rio_agend_relat_01_bimest = rio_agend_relat_01_bimest.sort_values(by='data')"
   ]
  },
  {
   "cell_type": "code",
   "execution_count": 29,
   "id": "0ff524a0-cddc-4e27-8fb1-e6536fe76a06",
   "metadata": {},
   "outputs": [],
   "source": [
    "rio_agend_relat_01_bimest = rio_agend_relat_01_bimest[['data','meses','genero']]"
   ]
  },
  {
   "cell_type": "markdown",
   "id": "0f77a8eb-2215-4c9f-8eb9-9c908c727772",
   "metadata": {},
   "source": [
    "Para deixar os dados com o mesmo conjunto final, dia 02 de maio, irei retirar os dados posteriores."
   ]
  },
  {
   "cell_type": "code",
   "execution_count": 30,
   "id": "2e28e8c5-60c4-4b9d-9a7d-cc1ceb065304",
   "metadata": {},
   "outputs": [],
   "source": [
    "from pandas import Series\n",
    "rio_agend_relat_01_bimest = rio_agend_relat_01_bimest[rio_agend_relat_01_bimest['data'].between('2024-02-19','2024-05-02')]"
   ]
  },
  {
   "cell_type": "code",
   "execution_count": 31,
   "id": "070cb4ef-36f5-423e-9d05-188f803d8dc1",
   "metadata": {},
   "outputs": [
    {
     "data": {
      "text/plain": [
       "(660, 3)"
      ]
     },
     "execution_count": 31,
     "metadata": {},
     "output_type": "execute_result"
    }
   ],
   "source": [
    "rio_agend_relat_01_bimest.shape"
   ]
  },
  {
   "cell_type": "code",
   "execution_count": 32,
   "id": "e1a79edd-6b85-46b9-b79b-5f1779ca0a03",
   "metadata": {},
   "outputs": [
    {
     "name": "stdout",
     "output_type": "stream",
     "text": [
      "Saímos de 1285 aplicações, \n",
      "para 660 aplicações.\n",
      "Isso quer dizer que estamos trabalhando com 51.36% do total.\n"
     ]
    }
   ],
   "source": [
    "print (f'''Saímos de {df_rio_agend.shape[0]} aplicações, \n",
    "para {rio_agend_relat_01_bimest.shape[0]} aplicações.\n",
    "Isso quer dizer que estamos trabalhando com {round(100*(rio_agend_relat_01_bimest.shape[0]/df_rio_agend.shape[0]),2)}% do total.''')"
   ]
  },
  {
   "cell_type": "code",
   "execution_count": 33,
   "id": "7f080e6f-42f5-4069-aef6-65e285c58f30",
   "metadata": {},
   "outputs": [
    {
     "data": {
      "text/html": [
       "<div>\n",
       "<style scoped>\n",
       "    .dataframe tbody tr th:only-of-type {\n",
       "        vertical-align: middle;\n",
       "    }\n",
       "\n",
       "    .dataframe tbody tr th {\n",
       "        vertical-align: top;\n",
       "    }\n",
       "\n",
       "    .dataframe thead th {\n",
       "        text-align: right;\n",
       "    }\n",
       "</style>\n",
       "<table border=\"1\" class=\"dataframe\">\n",
       "  <thead>\n",
       "    <tr style=\"text-align: right;\">\n",
       "      <th></th>\n",
       "      <th>data</th>\n",
       "      <th>meses</th>\n",
       "      <th>genero</th>\n",
       "      <th>count</th>\n",
       "    </tr>\n",
       "  </thead>\n",
       "  <tbody>\n",
       "    <tr>\n",
       "      <th>0</th>\n",
       "      <td>2024-02-19</td>\n",
       "      <td>february</td>\n",
       "      <td>canino_macho</td>\n",
       "      <td>4</td>\n",
       "    </tr>\n",
       "    <tr>\n",
       "      <th>1</th>\n",
       "      <td>2024-02-19</td>\n",
       "      <td>february</td>\n",
       "      <td>canino_femea</td>\n",
       "      <td>3</td>\n",
       "    </tr>\n",
       "  </tbody>\n",
       "</table>\n",
       "</div>"
      ],
      "text/plain": [
       "        data     meses        genero  count\n",
       "0 2024-02-19  february  canino_macho      4\n",
       "1 2024-02-19  february  canino_femea      3"
      ]
     },
     "execution_count": 33,
     "metadata": {},
     "output_type": "execute_result"
    }
   ],
   "source": [
    "agend_rio_relat_01_bimest = DataFrame(rio_agend_relat_01_bimest.groupby(['data']).value_counts()).reset_index()\n",
    "agend_rio_relat_01_bimest.head(2)"
   ]
  },
  {
   "cell_type": "markdown",
   "id": "3c2cc8ca-a6e2-4c44-87cc-38b5cfaf081d",
   "metadata": {},
   "source": [
    "#### O indicador atuará nas castrações realizados, distribuidas por dia em 4 grupos.\n",
    "\n",
    "- o cálculo do indicador de eficácia é:\n",
    "    - $\\frac{realizado}{esperado} * 100$\n"
   ]
  },
  {
   "cell_type": "code",
   "execution_count": 34,
   "id": "c87c0d0c-8811-4bbf-92df-fd7a9555622e",
   "metadata": {},
   "outputs": [],
   "source": [
    "agend_rio_relat_01_bimest['eficacia'] = (agend_rio_relat_01_bimest[['count']]/5)*100"
   ]
  },
  {
   "cell_type": "code",
   "execution_count": 41,
   "id": "f4838975-19b7-4012-acf3-27dd7b8fecd1",
   "metadata": {},
   "outputs": [
    {
     "data": {
      "text/html": [
       "<div>\n",
       "<style scoped>\n",
       "    .dataframe tbody tr th:only-of-type {\n",
       "        vertical-align: middle;\n",
       "    }\n",
       "\n",
       "    .dataframe tbody tr th {\n",
       "        vertical-align: top;\n",
       "    }\n",
       "\n",
       "    .dataframe thead th {\n",
       "        text-align: right;\n",
       "    }\n",
       "</style>\n",
       "<table border=\"1\" class=\"dataframe\">\n",
       "  <thead>\n",
       "    <tr style=\"text-align: right;\">\n",
       "      <th></th>\n",
       "      <th>data</th>\n",
       "      <th>meses</th>\n",
       "      <th>genero</th>\n",
       "      <th>count</th>\n",
       "      <th>eficacia</th>\n",
       "    </tr>\n",
       "  </thead>\n",
       "  <tbody>\n",
       "    <tr>\n",
       "      <th>0</th>\n",
       "      <td>2024-02-19</td>\n",
       "      <td>february</td>\n",
       "      <td>canino_macho</td>\n",
       "      <td>4</td>\n",
       "      <td>80.0</td>\n",
       "    </tr>\n",
       "    <tr>\n",
       "      <th>1</th>\n",
       "      <td>2024-02-19</td>\n",
       "      <td>february</td>\n",
       "      <td>canino_femea</td>\n",
       "      <td>3</td>\n",
       "      <td>60.0</td>\n",
       "    </tr>\n",
       "    <tr>\n",
       "      <th>2</th>\n",
       "      <td>2024-02-19</td>\n",
       "      <td>february</td>\n",
       "      <td>felino_femea</td>\n",
       "      <td>2</td>\n",
       "      <td>40.0</td>\n",
       "    </tr>\n",
       "    <tr>\n",
       "      <th>3</th>\n",
       "      <td>2024-02-19</td>\n",
       "      <td>february</td>\n",
       "      <td>felino_macho</td>\n",
       "      <td>1</td>\n",
       "      <td>20.0</td>\n",
       "    </tr>\n",
       "    <tr>\n",
       "      <th>4</th>\n",
       "      <td>2024-02-20</td>\n",
       "      <td>february</td>\n",
       "      <td>felino_macho</td>\n",
       "      <td>10</td>\n",
       "      <td>200.0</td>\n",
       "    </tr>\n",
       "  </tbody>\n",
       "</table>\n",
       "</div>"
      ],
      "text/plain": [
       "        data     meses        genero  count  eficacia\n",
       "0 2024-02-19  february  canino_macho      4      80.0\n",
       "1 2024-02-19  february  canino_femea      3      60.0\n",
       "2 2024-02-19  february  felino_femea      2      40.0\n",
       "3 2024-02-19  february  felino_macho      1      20.0\n",
       "4 2024-02-20  february  felino_macho     10     200.0"
      ]
     },
     "execution_count": 41,
     "metadata": {},
     "output_type": "execute_result"
    }
   ],
   "source": [
    "agend_rio_relat_01_bimest.head()"
   ]
  },
  {
   "cell_type": "markdown",
   "id": "2484435d-9a47-4491-86f7-6bfe6372ef73",
   "metadata": {},
   "source": [
    "#### Etapa de geração das bases de dados"
   ]
  },
  {
   "cell_type": "markdown",
   "id": "7b0ae737-450a-4fc3-a749-96f25821760e",
   "metadata": {},
   "source": [
    "Base original - arquivo criado "
   ]
  },
  {
   "cell_type": "code",
   "execution_count": 36,
   "id": "d99b0021-3908-4ab7-b81a-14e6016bfc30",
   "metadata": {},
   "outputs": [],
   "source": [
    "df_rio_agend.to_csv('base_rio_original_relat_01_bim.csv', index=False)"
   ]
  },
  {
   "cell_type": "markdown",
   "id": "60ac5303-fa03-467b-9932-fd89d734f656",
   "metadata": {},
   "source": [
    "Base formatada da original, sem indicadores ou contingência"
   ]
  },
  {
   "cell_type": "code",
   "execution_count": 37,
   "id": "0d737bb1-5525-4876-92ef-50550121c5ef",
   "metadata": {},
   "outputs": [],
   "source": [
    "relat_agend_rio.to_csv('base_formatada_rio_relat_01_bim.csv', index=False)"
   ]
  },
  {
   "cell_type": "markdown",
   "id": "9fc86907-e352-48b6-9d01-c1a80cab97ed",
   "metadata": {},
   "source": [
    "Base de uso para o dashboard do relatório 01 bimestral"
   ]
  },
  {
   "cell_type": "code",
   "execution_count": 38,
   "id": "998d1f69-dd0b-4ddf-b889-6eaada0ff5d4",
   "metadata": {},
   "outputs": [],
   "source": [
    "agend_rio_relat_01_bimest.to_csv('base_rio_dashboard.csv',index=False)"
   ]
  },
  {
   "cell_type": "code",
   "execution_count": 40,
   "id": "d094ebbb-2e9e-47f2-896a-fa631ba5f2a8",
   "metadata": {},
   "outputs": [
    {
     "data": {
      "text/html": [
       "\n",
       "        <iframe\n",
       "            width=\"100%\"\n",
       "            height=\"500\"\n",
       "            src=\"http://localhost/riorelatorio01.html\"\n",
       "            frameborder=\"0\"\n",
       "            allowfullscreen\n",
       "            \n",
       "        ></iframe>\n",
       "        "
      ],
      "text/plain": [
       "<IPython.lib.display.IFrame at 0x71c64b4a5db0>"
      ]
     },
     "execution_count": 40,
     "metadata": {},
     "output_type": "execute_result"
    }
   ],
   "source": [
    "from pivottablejs import pivot_ui\n",
    "\n",
    "pivot_ui(agend_rio_relat_01_bimest, outfile_path='/home/lino/Área de Trabalho/acaocidada/note_acaocidada/riorelatorio01.html', url='http://localhost/riorelatorio01.html')"
   ]
  },
  {
   "cell_type": "markdown",
   "id": "c867d9ca-ac10-44de-ae24-aa001ba4ae5c",
   "metadata": {},
   "source": [
    "### Conta RIO2"
   ]
  },
  {
   "cell_type": "code",
   "execution_count": null,
   "id": "614bf363-204d-4392-9239-01f73b3b75c5",
   "metadata": {},
   "outputs": [],
   "source": []
  },
  {
   "cell_type": "markdown",
   "id": "b5c1b166-c4a9-41d4-8d5b-2e67ae650464",
   "metadata": {},
   "source": [
    "### Conta Carioca"
   ]
  },
  {
   "cell_type": "markdown",
   "id": "d8c52087-76ab-4f17-91c3-4a84072882e4",
   "metadata": {},
   "source": [
    "Nessa etapa estamos acessando a base de dados do google via API, que em outras palavras se remete a integração de sistemas externos"
   ]
  },
  {
   "cell_type": "code",
   "execution_count": 2,
   "id": "4e9e1bfb-4ab2-40cd-af21-5924044df5e5",
   "metadata": {},
   "outputs": [],
   "source": [
    "credenciaisCarioca = authorize(service_file=getcwd()+'/keysurveycarioca.json')"
   ]
  },
  {
   "cell_type": "markdown",
   "id": "bf87a69f-128c-4dcb-a0af-a321bd5ca4f2",
   "metadata": {},
   "source": [
    "#### chave"
   ]
  },
  {
   "cell_type": "code",
   "execution_count": 3,
   "id": "bb54b89b-7adf-4b36-baa8-3f4f79d7075c",
   "metadata": {},
   "outputs": [],
   "source": [
    "link = 'https://docs.google.com/spreadsheets/d/xxxxxxxxxxxxxxx/'"
   ]
  },
  {
   "cell_type": "markdown",
   "id": "897513c4-d0d8-4ead-b078-201f986fca26",
   "metadata": {},
   "source": [
    "#### Acessando a planilha"
   ]
  },
  {
   "cell_type": "raw",
   "id": "c584f73e-8bf4-489b-9668-162d11fb6673",
   "metadata": {},
   "source": [
    "link = 'https://docs.google.com/spreadsheets/d/essa é a parte que informa a planilha/'"
   ]
  },
  {
   "cell_type": "code",
   "execution_count": 4,
   "id": "c4d72db7-c5f8-4402-8bc3-bb50d5b2d692",
   "metadata": {},
   "outputs": [],
   "source": [
    "# acessando planilha\n",
    "planilha = credenciaisCarioca.open_by_url(link)\n",
    "tabela = planilha.worksheet_by_title(\"Respostas ao formulário 1\")"
   ]
  },
  {
   "cell_type": "markdown",
   "id": "3266dd59-464e-46c0-8695-5eba1c75f534",
   "metadata": {},
   "source": [
    "#### Quadro de Dados (DataFrame)"
   ]
  },
  {
   "cell_type": "markdown",
   "id": "41d73e84-0d56-4715-9bcd-6978c4890f85",
   "metadata": {},
   "source": [
    "Nessa etapa estamos transformando a base de atualizada até o momento da última integração realizada acima. Em um quadro de dados, para que assim possamos extrair a riqueza que a base tem a nos oferecer."
   ]
  },
  {
   "cell_type": "markdown",
   "id": "7e28d8b0-52d8-424f-957f-cb6d5d03041e",
   "metadata": {},
   "source": [
    "Nessa parte estamos criando o objeto com todos os dados, que até a data informada"
   ]
  },
  {
   "cell_type": "code",
   "execution_count": 160,
   "id": "e7441bec-3bfc-4d10-ba9f-341acb6c726f",
   "metadata": {},
   "outputs": [
    {
     "name": "stdout",
     "output_type": "stream",
     "text": [
      "Na data 2024-05-03 esse quadro de dados está sendo criado.\n"
     ]
    }
   ],
   "source": [
    "df_carioca_agend = DataFrame(tabela)\n",
    "print(f'Na data {datetime.date.today().isoformat()} esse quadro de dados está sendo criado.')"
   ]
  },
  {
   "cell_type": "code",
   "execution_count": 161,
   "id": "d1e76a95-83d8-4461-b345-dd552419c210",
   "metadata": {},
   "outputs": [
    {
     "name": "stdout",
     "output_type": "stream",
     "text": [
      "Até o momento informado na linha de cima, o agendamento foi aplicado 1535 pessoas.\n"
     ]
    }
   ],
   "source": [
    "print(f'Até o momento informado na linha de cima, o agendamento foi aplicado {df_carioca_agend.shape[0] - 1} pessoas.')"
   ]
  },
  {
   "cell_type": "code",
   "execution_count": 91,
   "id": "9414428f-6cee-40fa-a5e1-bbade796d2a3",
   "metadata": {},
   "outputs": [
    {
     "data": {
      "text/html": [
       "<div>\n",
       "<style scoped>\n",
       "    .dataframe tbody tr th:only-of-type {\n",
       "        vertical-align: middle;\n",
       "    }\n",
       "\n",
       "    .dataframe tbody tr th {\n",
       "        vertical-align: top;\n",
       "    }\n",
       "\n",
       "    .dataframe thead th {\n",
       "        text-align: right;\n",
       "    }\n",
       "</style>\n",
       "<table border=\"1\" class=\"dataframe\">\n",
       "  <thead>\n",
       "    <tr style=\"text-align: right;\">\n",
       "      <th></th>\n",
       "      <th>0</th>\n",
       "      <th>1</th>\n",
       "      <th>2</th>\n",
       "      <th>3</th>\n",
       "      <th>4</th>\n",
       "      <th>5</th>\n",
       "      <th>6</th>\n",
       "      <th>7</th>\n",
       "      <th>8</th>\n",
       "      <th>9</th>\n",
       "      <th>...</th>\n",
       "      <th>15</th>\n",
       "      <th>16</th>\n",
       "      <th>17</th>\n",
       "      <th>18</th>\n",
       "      <th>19</th>\n",
       "      <th>20</th>\n",
       "      <th>21</th>\n",
       "      <th>22</th>\n",
       "      <th>23</th>\n",
       "      <th>24</th>\n",
       "    </tr>\n",
       "  </thead>\n",
       "  <tbody>\n",
       "    <tr>\n",
       "      <th>0</th>\n",
       "      <td>Carimbo de data/hora</td>\n",
       "      <td>LOCAL</td>\n",
       "      <td>NOME COMPLETO</td>\n",
       "      <td></td>\n",
       "      <td>BAIRRO</td>\n",
       "      <td>CEP</td>\n",
       "      <td>DATA DE NASCIMENTO</td>\n",
       "      <td>TELEFONE</td>\n",
       "      <td>EMAIL</td>\n",
       "      <td>CPF</td>\n",
       "      <td>...</td>\n",
       "      <td>ENDEREÇO COMPLETO</td>\n",
       "      <td>CPF</td>\n",
       "      <td>Como soube do Projeto de Castração de cães e g...</td>\n",
       "      <td></td>\n",
       "      <td></td>\n",
       "      <td></td>\n",
       "      <td></td>\n",
       "      <td></td>\n",
       "      <td></td>\n",
       "      <td></td>\n",
       "    </tr>\n",
       "  </tbody>\n",
       "</table>\n",
       "<p>1 rows × 25 columns</p>\n",
       "</div>"
      ],
      "text/plain": [
       "                     0      1              2  3       4    5   \\\n",
       "0  Carimbo de data/hora  LOCAL  NOME COMPLETO     BAIRRO  CEP   \n",
       "\n",
       "                   6         7      8    9   ...                 15   16  \\\n",
       "0  DATA DE NASCIMENTO  TELEFONE  EMAIL  CPF  ...  ENDEREÇO COMPLETO  CPF   \n",
       "\n",
       "                                                  17 18 19 20 21 22 23 24  \n",
       "0  Como soube do Projeto de Castração de cães e g...                       \n",
       "\n",
       "[1 rows x 25 columns]"
      ]
     },
     "execution_count": 91,
     "metadata": {},
     "output_type": "execute_result"
    }
   ],
   "source": [
    "df_carioca_agend.head(1)"
   ]
  },
  {
   "cell_type": "code",
   "execution_count": 162,
   "id": "47023af1-73e5-4505-b961-44d2d4cb9b74",
   "metadata": {},
   "outputs": [],
   "source": [
    "df_carioca_agend = df_carioca_agend[[0,1,2,3,4,5,6,7,8,9,10,11,12,13,14,15,16,17]]\n",
    "df_carioca_agend.columns = list(df_carioca_agend[[0,1,2,3,4,5,6,7,8,9,10,11,12,13,14,15,16,17]].iloc[0])"
   ]
  },
  {
   "cell_type": "markdown",
   "id": "e19f7c55-1860-49e2-bdd3-7b3923eda1f9",
   "metadata": {},
   "source": [
    "Nessa etapa vamos informar os atributos ou variáveis que tem o quadro de dados, que em outras palavras são as perguntas (que se transformam em colunas na base de dados) respondidas no formulário __agendamento__ "
   ]
  },
  {
   "cell_type": "code",
   "execution_count": 163,
   "id": "7900a380-59e5-45f6-afee-74b6ceda29d8",
   "metadata": {},
   "outputs": [
    {
     "name": "stdout",
     "output_type": "stream",
     "text": [
      "Segue a lista com todas variáveis da base de dados: ['Carimbo de data/hora', 'LOCAL', 'NOME COMPLETO', '', 'BAIRRO', 'CEP', 'DATA DE NASCIMENTO', 'TELEFONE', 'EMAIL', 'CPF', 'NOME DO ANIMAL', 'ESPÉCIE', 'GÊNERO', 'STATUS/ATENDIMENTO', 'MOTIVO', 'ENDEREÇO COMPLETO', 'CPF', 'Como soube do Projeto de Castração de cães e gatos?']\n",
      "\n",
      "Vamos utilizar as variáveis: Carimbo de data/hora, ESPÉCIE, \n",
      "GÊNERO e STATUS/ATENDIMENTO.\n"
     ]
    }
   ],
   "source": [
    "print (f'Segue a lista com todas variáveis da base de dados: {list(df_carioca_agend.columns)}')\n",
    "print (f'''\\nVamos utilizar as variáveis: {list(df_carioca_agend.columns)[0]}, {list(df_carioca_agend.columns)[11]}, \n",
    "{list(df_carioca_agend.columns)[12]} e {list(df_carioca_agend.columns)[13]}.''')"
   ]
  },
  {
   "cell_type": "code",
   "execution_count": 164,
   "id": "b6da515f-59a7-4c89-bdb6-c5f1131bab38",
   "metadata": {},
   "outputs": [],
   "source": [
    "df_carioca_agend = df_carioca_agend.drop(0, axis=0)"
   ]
  },
  {
   "cell_type": "code",
   "execution_count": null,
   "id": "23a53405-6463-4860-968d-a49fc571ee7a",
   "metadata": {},
   "outputs": [],
   "source": [
    "df_carioca_agend.head(1)"
   ]
  },
  {
   "cell_type": "markdown",
   "id": "053b9451-6799-47c8-866e-4f1917ef7737",
   "metadata": {},
   "source": [
    "Essa é a etapa que iremos criar o sub quadro de dados (dataframe) com as variáveis importantes para o trabalho. Que nada mais é do que a segmentação."
   ]
  },
  {
   "cell_type": "code",
   "execution_count": 166,
   "id": "f068103c-999a-424c-a1a4-c3371f98bde4",
   "metadata": {},
   "outputs": [],
   "source": [
    "relatorio_agendamento_carioca = DataFrame(DataFrame(df_carioca_agend['Carimbo de data/hora'].str.split(' ', expand=True)[0]).join(df_carioca_agend[['ESPÉCIE','GÊNERO','STATUS/ATENDIMENTO']]).groupby(by=['STATUS/ATENDIMENTO']).value_counts()).reset_index()"
   ]
  },
  {
   "cell_type": "code",
   "execution_count": 167,
   "id": "50d5335a-4693-407e-a857-dcfd6e4436c5",
   "metadata": {},
   "outputs": [
    {
     "data": {
      "text/plain": [
       "(367, 5)"
      ]
     },
     "execution_count": 167,
     "metadata": {},
     "output_type": "execute_result"
    }
   ],
   "source": [
    "relatorio_agendamento_carioca.shape"
   ]
  },
  {
   "cell_type": "code",
   "execution_count": 168,
   "id": "dcc0729d-2fd5-49d7-8234-1190d25966fa",
   "metadata": {},
   "outputs": [
    {
     "name": "stdout",
     "output_type": "stream",
     "text": [
      "Saímos de 1535 aplicações, \n",
      "para 367 aplicações.\n",
      "Isso quer dizer que estamos trabalhando com 23.91% do total.\n"
     ]
    }
   ],
   "source": [
    "print (f'''Saímos de {df_carioca_agend.shape[0]} aplicações, \n",
    "para {relatorio_agendamento_carioca.shape[0]} aplicações.\n",
    "Isso quer dizer que estamos trabalhando com {round(100*(relatorio_agendamento_carioca.shape[0]/df_carioca_agend.shape[0]),2)}% do total.''')"
   ]
  },
  {
   "cell_type": "markdown",
   "id": "8d278697-41e6-4864-b509-c8084fa581cd",
   "metadata": {},
   "source": [
    "Nessa etapa vamos verificar a governança de dados do nosso target, em outras palavras nossa variável alvo, na opção **CIRURGIA REALIZADA**"
   ]
  },
  {
   "cell_type": "markdown",
   "id": "8632a348-5c51-4f11-b7e0-0d54514c7975",
   "metadata": {},
   "source": [
    "Podemos identificar no resultado abaixo a falta de governança, pois a opção de **CIRURGIA REALIZADA** possui até o momento 10 variações."
   ]
  },
  {
   "cell_type": "code",
   "execution_count": 169,
   "id": "c49f0039-25f2-4965-9256-187905ae7a16",
   "metadata": {
    "scrolled": true
   },
   "outputs": [
    {
     "data": {
      "text/plain": [
       "array(['CIRURGIA REALIZADA', 'RECUSA', 'CIRURGIA REALIZADA ',\n",
       "       'CIRURGIA RECUSADA ', '', 'FALTA', 'CIRURGIA RECUSADA',\n",
       "       'CIRURGIA RELIZADA', 'FALTO', 'DESISTÊNCIA ',\n",
       "       'endereço não encontrado', 'CIRURGIA  REALIZADA ', 'Realizada ',\n",
       "       'CIRURGIA REALIZADO', 'RECUSA ', ' CIRURGIA REALIZADA', 'FALTA ',\n",
       "       'FATOU', 'CIRURGIA REALIAZADA ', 'CIEURGIA REALIZADA ',\n",
       "       'CIRURGIA NÃO REALIZADA', 'CIRURGIA NÃO REALIZADA '], dtype=object)"
      ]
     },
     "execution_count": 169,
     "metadata": {},
     "output_type": "execute_result"
    }
   ],
   "source": [
    "relatorio_agendamento_carioca['STATUS/ATENDIMENTO'].unique()"
   ]
  },
  {
   "cell_type": "code",
   "execution_count": 170,
   "id": "f87a81e7-3595-4543-a4fe-ae0db5fad11f",
   "metadata": {},
   "outputs": [
    {
     "data": {
      "text/html": [
       "<div>\n",
       "<style scoped>\n",
       "    .dataframe tbody tr th:only-of-type {\n",
       "        vertical-align: middle;\n",
       "    }\n",
       "\n",
       "    .dataframe tbody tr th {\n",
       "        vertical-align: top;\n",
       "    }\n",
       "\n",
       "    .dataframe thead th {\n",
       "        text-align: right;\n",
       "    }\n",
       "</style>\n",
       "<table border=\"1\" class=\"dataframe\">\n",
       "  <thead>\n",
       "    <tr style=\"text-align: right;\">\n",
       "      <th></th>\n",
       "      <th>STATUS/ATENDIMENTO</th>\n",
       "      <th>0</th>\n",
       "      <th>ESPÉCIE</th>\n",
       "      <th>GÊNERO</th>\n",
       "      <th>count</th>\n",
       "    </tr>\n",
       "  </thead>\n",
       "  <tbody>\n",
       "    <tr>\n",
       "      <th>364</th>\n",
       "      <td>CIRURGIA REALIZADA</td>\n",
       "      <td>31/03/2024</td>\n",
       "      <td>FELINO</td>\n",
       "      <td>MACHO</td>\n",
       "      <td>2</td>\n",
       "    </tr>\n",
       "    <tr>\n",
       "      <th>365</th>\n",
       "      <td>CIRURGIA REALIZADA</td>\n",
       "      <td>31/03/2024</td>\n",
       "      <td>CANINO</td>\n",
       "      <td>MACHO</td>\n",
       "      <td>2</td>\n",
       "    </tr>\n",
       "    <tr>\n",
       "      <th>366</th>\n",
       "      <td>CIRURGIA REALIZADA</td>\n",
       "      <td>31/03/2024</td>\n",
       "      <td>CANINO</td>\n",
       "      <td>FEMEA</td>\n",
       "      <td>1</td>\n",
       "    </tr>\n",
       "  </tbody>\n",
       "</table>\n",
       "</div>"
      ],
      "text/plain": [
       "     STATUS/ATENDIMENTO           0 ESPÉCIE GÊNERO  count\n",
       "364  CIRURGIA REALIZADA  31/03/2024  FELINO  MACHO      2\n",
       "365  CIRURGIA REALIZADA  31/03/2024  CANINO  MACHO      2\n",
       "366  CIRURGIA REALIZADA  31/03/2024  CANINO  FEMEA      1"
      ]
     },
     "execution_count": 170,
     "metadata": {},
     "output_type": "execute_result"
    }
   ],
   "source": [
    "relatorio_agendamento_carioca.tail(3)"
   ]
  },
  {
   "cell_type": "markdown",
   "id": "d68d448e-344a-4ac1-a689-587ef4a4c90d",
   "metadata": {},
   "source": [
    "#### Fazendo a formatação das instancia para que se tenha governança"
   ]
  },
  {
   "cell_type": "code",
   "execution_count": 171,
   "id": "2de0c666-cdc5-4553-b478-efc7740ef806",
   "metadata": {},
   "outputs": [],
   "source": [
    "relatorio_agendamento_carioca_realizado = relatorio_agendamento_carioca.loc[\n",
    "(relatorio_agendamento_carioca['STATUS/ATENDIMENTO']== 'CIRURGIA REALIZADA') | \n",
    "(relatorio_agendamento_carioca['STATUS/ATENDIMENTO']== 'CIRURGIA REALIZADA ') |\n",
    "(relatorio_agendamento_carioca['STATUS/ATENDIMENTO']== 'CIRURGIA RELIZADA') |\n",
    "(relatorio_agendamento_carioca['STATUS/ATENDIMENTO']== 'CIRURGIA  REALIZADA ') |\n",
    "(relatorio_agendamento_carioca['STATUS/ATENDIMENTO']== 'CIRURGIA REALIZADO') |\n",
    "(relatorio_agendamento_carioca['STATUS/ATENDIMENTO']== ' CIRURGIA REALIZADA') |\n",
    "(relatorio_agendamento_carioca['STATUS/ATENDIMENTO']== 'CIRURGIA REALIAZADA') |\n",
    "(relatorio_agendamento_carioca['STATUS/ATENDIMENTO']== 'CIEURGIA REALIZADA') |\n",
    "(relatorio_agendamento_carioca['STATUS/ATENDIMENTO']== 'Realizada ')]"
   ]
  },
  {
   "cell_type": "code",
   "execution_count": 173,
   "id": "afd10b3c-8ac9-4e85-a150-b538777238dc",
   "metadata": {},
   "outputs": [
    {
     "data": {
      "text/plain": [
       "(216, 5)"
      ]
     },
     "execution_count": 173,
     "metadata": {},
     "output_type": "execute_result"
    }
   ],
   "source": [
    "relatorio_agendamento_carioca_realizado.shape"
   ]
  },
  {
   "cell_type": "code",
   "execution_count": null,
   "id": "3bf083ec-cf0b-43a4-bbec-e4d40edd651f",
   "metadata": {
    "scrolled": true
   },
   "outputs": [],
   "source": [
    "relatorio_agendamento_carioca_realizado['relativo'] = (relatorio_agendamento_carioca_realizado[['count']]/5)*100"
   ]
  },
  {
   "cell_type": "code",
   "execution_count": 175,
   "id": "3fbdb62d-1e41-4c20-9c44-c4d3aa520506",
   "metadata": {},
   "outputs": [
    {
     "data": {
      "text/html": [
       "<div>\n",
       "<style scoped>\n",
       "    .dataframe tbody tr th:only-of-type {\n",
       "        vertical-align: middle;\n",
       "    }\n",
       "\n",
       "    .dataframe tbody tr th {\n",
       "        vertical-align: top;\n",
       "    }\n",
       "\n",
       "    .dataframe thead th {\n",
       "        text-align: right;\n",
       "    }\n",
       "</style>\n",
       "<table border=\"1\" class=\"dataframe\">\n",
       "  <thead>\n",
       "    <tr style=\"text-align: right;\">\n",
       "      <th></th>\n",
       "      <th>STATUS/ATENDIMENTO</th>\n",
       "      <th>0</th>\n",
       "      <th>ESPÉCIE</th>\n",
       "      <th>GÊNERO</th>\n",
       "      <th>count</th>\n",
       "      <th>relativo</th>\n",
       "    </tr>\n",
       "  </thead>\n",
       "  <tbody>\n",
       "    <tr>\n",
       "      <th>0</th>\n",
       "      <td>CIRURGIA REALIZADA</td>\n",
       "      <td></td>\n",
       "      <td>FELINO</td>\n",
       "      <td>FEMEA</td>\n",
       "      <td>1</td>\n",
       "      <td>20.0</td>\n",
       "    </tr>\n",
       "    <tr>\n",
       "      <th>2</th>\n",
       "      <td>CIRURGIA REALIZADA</td>\n",
       "      <td>01/03/2024</td>\n",
       "      <td>CANINO</td>\n",
       "      <td>MACHO</td>\n",
       "      <td>1</td>\n",
       "      <td>20.0</td>\n",
       "    </tr>\n",
       "    <tr>\n",
       "      <th>3</th>\n",
       "      <td>CIRURGIA REALIZADA</td>\n",
       "      <td>01/03/2024</td>\n",
       "      <td>FELINO</td>\n",
       "      <td>FEMEA</td>\n",
       "      <td>1</td>\n",
       "      <td>20.0</td>\n",
       "    </tr>\n",
       "    <tr>\n",
       "      <th>4</th>\n",
       "      <td>CIRURGIA REALIZADA</td>\n",
       "      <td>01/04/2024</td>\n",
       "      <td>FELINO</td>\n",
       "      <td>MACHO</td>\n",
       "      <td>8</td>\n",
       "      <td>160.0</td>\n",
       "    </tr>\n",
       "    <tr>\n",
       "      <th>5</th>\n",
       "      <td>CIRURGIA REALIZADA</td>\n",
       "      <td>01/04/2024</td>\n",
       "      <td>CANINO</td>\n",
       "      <td>MACHO</td>\n",
       "      <td>7</td>\n",
       "      <td>140.0</td>\n",
       "    </tr>\n",
       "    <tr>\n",
       "      <th>...</th>\n",
       "      <td>...</td>\n",
       "      <td>...</td>\n",
       "      <td>...</td>\n",
       "      <td>...</td>\n",
       "      <td>...</td>\n",
       "      <td>...</td>\n",
       "    </tr>\n",
       "    <tr>\n",
       "      <th>362</th>\n",
       "      <td>CIRURGIA REALIZADA</td>\n",
       "      <td>30/04/2024</td>\n",
       "      <td>FELINO</td>\n",
       "      <td>MACHO</td>\n",
       "      <td>1</td>\n",
       "      <td>20.0</td>\n",
       "    </tr>\n",
       "    <tr>\n",
       "      <th>363</th>\n",
       "      <td>CIRURGIA REALIZADA</td>\n",
       "      <td>31/03/2024</td>\n",
       "      <td>FELINO</td>\n",
       "      <td>FEMEA</td>\n",
       "      <td>9</td>\n",
       "      <td>180.0</td>\n",
       "    </tr>\n",
       "    <tr>\n",
       "      <th>364</th>\n",
       "      <td>CIRURGIA REALIZADA</td>\n",
       "      <td>31/03/2024</td>\n",
       "      <td>FELINO</td>\n",
       "      <td>MACHO</td>\n",
       "      <td>2</td>\n",
       "      <td>40.0</td>\n",
       "    </tr>\n",
       "    <tr>\n",
       "      <th>365</th>\n",
       "      <td>CIRURGIA REALIZADA</td>\n",
       "      <td>31/03/2024</td>\n",
       "      <td>CANINO</td>\n",
       "      <td>MACHO</td>\n",
       "      <td>2</td>\n",
       "      <td>40.0</td>\n",
       "    </tr>\n",
       "    <tr>\n",
       "      <th>366</th>\n",
       "      <td>CIRURGIA REALIZADA</td>\n",
       "      <td>31/03/2024</td>\n",
       "      <td>CANINO</td>\n",
       "      <td>FEMEA</td>\n",
       "      <td>1</td>\n",
       "      <td>20.0</td>\n",
       "    </tr>\n",
       "  </tbody>\n",
       "</table>\n",
       "<p>216 rows × 6 columns</p>\n",
       "</div>"
      ],
      "text/plain": [
       "      STATUS/ATENDIMENTO           0 ESPÉCIE GÊNERO  count  relativo\n",
       "0     CIRURGIA REALIZADA              FELINO  FEMEA      1      20.0\n",
       "2    CIRURGIA REALIZADA   01/03/2024  CANINO  MACHO      1      20.0\n",
       "3    CIRURGIA REALIZADA   01/03/2024  FELINO  FEMEA      1      20.0\n",
       "4     CIRURGIA REALIZADA  01/04/2024  FELINO  MACHO      8     160.0\n",
       "5     CIRURGIA REALIZADA  01/04/2024  CANINO  MACHO      7     140.0\n",
       "..                   ...         ...     ...    ...    ...       ...\n",
       "362   CIRURGIA REALIZADA  30/04/2024  FELINO  MACHO      1      20.0\n",
       "363   CIRURGIA REALIZADA  31/03/2024  FELINO  FEMEA      9     180.0\n",
       "364   CIRURGIA REALIZADA  31/03/2024  FELINO  MACHO      2      40.0\n",
       "365   CIRURGIA REALIZADA  31/03/2024  CANINO  MACHO      2      40.0\n",
       "366   CIRURGIA REALIZADA  31/03/2024  CANINO  FEMEA      1      20.0\n",
       "\n",
       "[216 rows x 6 columns]"
      ]
     },
     "execution_count": 175,
     "metadata": {},
     "output_type": "execute_result"
    }
   ],
   "source": [
    "relatorio_agendamento_carioca_realizado"
   ]
  },
  {
   "cell_type": "code",
   "execution_count": 204,
   "id": "ec2dd6c1-d641-4ef0-ab10-425d13fd95ce",
   "metadata": {},
   "outputs": [],
   "source": [
    "frequencia_relatorio1_indicador_utilizacao = DataFrame(relatorio_agendamento_carioca_realizado[['relativo']].value_counts()).reset_index()"
   ]
  },
  {
   "cell_type": "code",
   "execution_count": 205,
   "id": "06ef578b-6cd1-48e8-a512-79905f326ba1",
   "metadata": {},
   "outputs": [],
   "source": [
    "frequencia_relatorio1_indicador_utilizacao['percentual']=round((frequencia_relatorio1_indicador_utilizacao[['count']]/frequencia_relatorio1_indicador_utilizacao['count'].sum())*100,2)"
   ]
  },
  {
   "cell_type": "markdown",
   "id": "c123683a-7be4-4d8a-a4f8-aa4c847f9859",
   "metadata": {},
   "source": [
    "Qual o peso vamos encontrar.\n",
    "\n",
    "- Considerando a meta de 5 castração por dia para cada um dos quatro subgrupos que são: cães, cadelas, gatos e gatas. Em forma sucinta, esperasse ao fim de cada dia de trabalho no trailer, ter castrado\n",
    "    - 5 cães;\n",
    "    - 5 cadelas;\n",
    "    - 5 gatos;\n",
    "    - 5 gatas; "
   ]
  },
  {
   "cell_type": "markdown",
   "id": "08c14a86-6396-4286-af25-22a67830043d",
   "metadata": {},
   "source": [
    "Os dados do dia 25 de fevereiro até o dia 02 de maio, temos o total de 216 castrações realizados, distribuidas por dia em 4 grupos.\n",
    "\n",
    "- o cálculo do indicador de eficácia é:\n",
    "    - $\\frac{realizado}{esperado} * 100$"
   ]
  },
  {
   "cell_type": "code",
   "execution_count": 208,
   "id": "a842623e-83fb-4880-aceb-fc33c37bbad9",
   "metadata": {},
   "outputs": [],
   "source": [
    "frequencia_relatorio1_indicador_utilizacao = frequencia_relatorio1_indicador_utilizacao.sort_values(by=['relativo'])"
   ]
  },
  {
   "cell_type": "code",
   "execution_count": 209,
   "id": "65e92fc7-6798-4696-8d3a-8cf6373b1ff7",
   "metadata": {},
   "outputs": [
    {
     "data": {
      "text/html": [
       "<div>\n",
       "<style scoped>\n",
       "    .dataframe tbody tr th:only-of-type {\n",
       "        vertical-align: middle;\n",
       "    }\n",
       "\n",
       "    .dataframe tbody tr th {\n",
       "        vertical-align: top;\n",
       "    }\n",
       "\n",
       "    .dataframe thead th {\n",
       "        text-align: right;\n",
       "    }\n",
       "</style>\n",
       "<table border=\"1\" class=\"dataframe\">\n",
       "  <thead>\n",
       "    <tr style=\"text-align: right;\">\n",
       "      <th></th>\n",
       "      <th>relativo</th>\n",
       "      <th>count</th>\n",
       "      <th>percentual</th>\n",
       "    </tr>\n",
       "  </thead>\n",
       "  <tbody>\n",
       "    <tr>\n",
       "      <th>0</th>\n",
       "      <td>20.0</td>\n",
       "      <td>73</td>\n",
       "      <td>33.80</td>\n",
       "    </tr>\n",
       "    <tr>\n",
       "      <th>1</th>\n",
       "      <td>40.0</td>\n",
       "      <td>38</td>\n",
       "      <td>17.59</td>\n",
       "    </tr>\n",
       "    <tr>\n",
       "      <th>2</th>\n",
       "      <td>60.0</td>\n",
       "      <td>35</td>\n",
       "      <td>16.20</td>\n",
       "    </tr>\n",
       "    <tr>\n",
       "      <th>3</th>\n",
       "      <td>80.0</td>\n",
       "      <td>16</td>\n",
       "      <td>7.41</td>\n",
       "    </tr>\n",
       "    <tr>\n",
       "      <th>4</th>\n",
       "      <td>100.0</td>\n",
       "      <td>16</td>\n",
       "      <td>7.41</td>\n",
       "    </tr>\n",
       "    <tr>\n",
       "      <th>6</th>\n",
       "      <td>120.0</td>\n",
       "      <td>6</td>\n",
       "      <td>2.78</td>\n",
       "    </tr>\n",
       "    <tr>\n",
       "      <th>5</th>\n",
       "      <td>140.0</td>\n",
       "      <td>8</td>\n",
       "      <td>3.70</td>\n",
       "    </tr>\n",
       "    <tr>\n",
       "      <th>7</th>\n",
       "      <td>160.0</td>\n",
       "      <td>4</td>\n",
       "      <td>1.85</td>\n",
       "    </tr>\n",
       "    <tr>\n",
       "      <th>8</th>\n",
       "      <td>180.0</td>\n",
       "      <td>3</td>\n",
       "      <td>1.39</td>\n",
       "    </tr>\n",
       "    <tr>\n",
       "      <th>18</th>\n",
       "      <td>200.0</td>\n",
       "      <td>1</td>\n",
       "      <td>0.46</td>\n",
       "    </tr>\n",
       "    <tr>\n",
       "      <th>12</th>\n",
       "      <td>220.0</td>\n",
       "      <td>2</td>\n",
       "      <td>0.93</td>\n",
       "    </tr>\n",
       "    <tr>\n",
       "      <th>15</th>\n",
       "      <td>240.0</td>\n",
       "      <td>1</td>\n",
       "      <td>0.46</td>\n",
       "    </tr>\n",
       "    <tr>\n",
       "      <th>13</th>\n",
       "      <td>260.0</td>\n",
       "      <td>2</td>\n",
       "      <td>0.93</td>\n",
       "    </tr>\n",
       "    <tr>\n",
       "      <th>14</th>\n",
       "      <td>280.0</td>\n",
       "      <td>1</td>\n",
       "      <td>0.46</td>\n",
       "    </tr>\n",
       "    <tr>\n",
       "      <th>9</th>\n",
       "      <td>300.0</td>\n",
       "      <td>2</td>\n",
       "      <td>0.93</td>\n",
       "    </tr>\n",
       "    <tr>\n",
       "      <th>11</th>\n",
       "      <td>320.0</td>\n",
       "      <td>2</td>\n",
       "      <td>0.93</td>\n",
       "    </tr>\n",
       "    <tr>\n",
       "      <th>16</th>\n",
       "      <td>360.0</td>\n",
       "      <td>1</td>\n",
       "      <td>0.46</td>\n",
       "    </tr>\n",
       "    <tr>\n",
       "      <th>17</th>\n",
       "      <td>420.0</td>\n",
       "      <td>1</td>\n",
       "      <td>0.46</td>\n",
       "    </tr>\n",
       "    <tr>\n",
       "      <th>10</th>\n",
       "      <td>460.0</td>\n",
       "      <td>2</td>\n",
       "      <td>0.93</td>\n",
       "    </tr>\n",
       "    <tr>\n",
       "      <th>19</th>\n",
       "      <td>500.0</td>\n",
       "      <td>1</td>\n",
       "      <td>0.46</td>\n",
       "    </tr>\n",
       "    <tr>\n",
       "      <th>20</th>\n",
       "      <td>520.0</td>\n",
       "      <td>1</td>\n",
       "      <td>0.46</td>\n",
       "    </tr>\n",
       "  </tbody>\n",
       "</table>\n",
       "</div>"
      ],
      "text/plain": [
       "    relativo  count  percentual\n",
       "0       20.0     73       33.80\n",
       "1       40.0     38       17.59\n",
       "2       60.0     35       16.20\n",
       "3       80.0     16        7.41\n",
       "4      100.0     16        7.41\n",
       "6      120.0      6        2.78\n",
       "5      140.0      8        3.70\n",
       "7      160.0      4        1.85\n",
       "8      180.0      3        1.39\n",
       "18     200.0      1        0.46\n",
       "12     220.0      2        0.93\n",
       "15     240.0      1        0.46\n",
       "13     260.0      2        0.93\n",
       "14     280.0      1        0.46\n",
       "9      300.0      2        0.93\n",
       "11     320.0      2        0.93\n",
       "16     360.0      1        0.46\n",
       "17     420.0      1        0.46\n",
       "10     460.0      2        0.93\n",
       "19     500.0      1        0.46\n",
       "20     520.0      1        0.46"
      ]
     },
     "execution_count": 209,
     "metadata": {},
     "output_type": "execute_result"
    }
   ],
   "source": [
    "frequencia_relatorio1_indicador_utilizacao"
   ]
  },
  {
   "cell_type": "code",
   "execution_count": 249,
   "id": "9151d3d2-e996-4d20-b088-ffa9ef974670",
   "metadata": {},
   "outputs": [
    {
     "data": {
      "text/plain": [
       "[(0.0, 560.0),\n",
       " Text(0.5, 0, 'alcance do indicador grupo/dia (%)'),\n",
       " Text(0, 0.5, 'freq relativa dos pesos(%)'),\n",
       " Text(0.5, 1.0, 'Distribuição pesos x freq do indicador de Eficácia')]"
      ]
     },
     "execution_count": 249,
     "metadata": {},
     "output_type": "execute_result"
    },
    {
     "data": {
      "image/png": "[encoded data removed]",
      "text/plain": [
       "<Figure size 800x400 with 1 Axes>"
      ]
     },
     "metadata": {},
     "output_type": "display_data"
    }
   ],
   "source": [
    "import matplotlib.pyplot as plt\n",
    "valores = list(frequencia_relatorio1_indicador_utilizacao['percentual'])\n",
    "rotulos = list(frequencia_relatorio1_indicador_utilizacao['relativo'])\n",
    "fig, ax = plt.subplots(figsize=(8,4))\n",
    "grafico = ax.bar(rotulos, valores,width=14.0)\n",
    "#ax.bar_label(grafico, label_type='edge')\n",
    "ax.set(xlim=[0,560],xlabel='alcance do indicador grupo/dia (%)',ylabel='freq relativa dos pesos(%)', title='Distribuição pesos x freq do indicador de Eficácia')\n",
    "#ax.savefig('grafico_relatorio1.jpeg')\n",
    "#frequencia_relatorio1_indicador_utilizacao.plot.barh(x='relativo',y='percentual').savefig('plot_relatorio1.jpeg',dpi=200)"
   ]
  },
  {
   "cell_type": "markdown",
   "id": "d8d6bf58-d38e-433d-bb44-7770b4dc5381",
   "metadata": {},
   "source": [
    "Criando o arquivo csv da análise"
   ]
  },
  {
   "cell_type": "code",
   "execution_count": null,
   "id": "914a09d9-bdf4-4b29-b26a-427ebd96113e",
   "metadata": {},
   "outputs": [],
   "source": [
    "relatorio_agendamento_carioca_realizado.to_csv('relatorio1_bimestral_fev_mar_abr_agendamento_realizado.csv', index=False)"
   ]
  },
  {
   "cell_type": "code",
   "execution_count": 251,
   "id": "e2b861cb-f7e0-45b2-a68c-11e2331939a6",
   "metadata": {},
   "outputs": [],
   "source": [
    "df_carioca_agend.to_csv('base_original_do_relatorio1_bimestral.csv', index=False)"
   ]
  },
  {
   "cell_type": "markdown",
   "id": "89c268e4-807f-46c8-ba01-6f96dc57194c",
   "metadata": {},
   "source": [
    "### Utilizando o arquivo"
   ]
  },
  {
   "cell_type": "code",
   "execution_count": 92,
   "id": "f5093fa4-e6b5-4443-9471-0f7f14d35dd8",
   "metadata": {},
   "outputs": [],
   "source": [
    "relat01_bimestral = DataFrame(read_csv('relatorio1_bimestral_fev_mar_abr_agendamento_realizado.csv'))"
   ]
  },
  {
   "cell_type": "code",
   "execution_count": 93,
   "id": "8f4ea325-c732-47af-b9af-7a416cfce60c",
   "metadata": {},
   "outputs": [],
   "source": [
    "relat01_bimestral = relat01_bimestral.dropna(axis=0)"
   ]
  },
  {
   "cell_type": "code",
   "execution_count": 94,
   "id": "022315f1-426d-4a3f-92ae-5472464d34b7",
   "metadata": {},
   "outputs": [],
   "source": [
    "relat01_bimestral.columns = ['status', 'data', 'especie', 'genero', 'obsoluto','relativo']"
   ]
  },
  {
   "cell_type": "code",
   "execution_count": 97,
   "id": "2e48910e-5ce4-4a0e-8c99-ac2d5fcdc36a",
   "metadata": {},
   "outputs": [],
   "source": [
    "relat01_bimestral = relat01_bimestral.sort_values(by='data')"
   ]
  },
  {
   "cell_type": "code",
   "execution_count": 111,
   "id": "f2f0b46b-7d16-4c66-adb0-ac37274948ac",
   "metadata": {},
   "outputs": [
    {
     "data": {
      "text/html": [
       "<div>\n",
       "<style scoped>\n",
       "    .dataframe tbody tr th:only-of-type {\n",
       "        vertical-align: middle;\n",
       "    }\n",
       "\n",
       "    .dataframe tbody tr th {\n",
       "        vertical-align: top;\n",
       "    }\n",
       "\n",
       "    .dataframe thead th {\n",
       "        text-align: right;\n",
       "    }\n",
       "</style>\n",
       "<table border=\"1\" class=\"dataframe\">\n",
       "  <thead>\n",
       "    <tr style=\"text-align: right;\">\n",
       "      <th></th>\n",
       "      <th>status</th>\n",
       "      <th>data</th>\n",
       "      <th>especie</th>\n",
       "      <th>genero</th>\n",
       "      <th>obsoluto</th>\n",
       "      <th>relativo</th>\n",
       "      <th>meses</th>\n",
       "    </tr>\n",
       "  </thead>\n",
       "  <tbody>\n",
       "    <tr>\n",
       "      <th>14</th>\n",
       "      <td>CIRURGIA REALIZADA</td>\n",
       "      <td>2024-05-02</td>\n",
       "      <td>canino</td>\n",
       "      <td>canino_femea</td>\n",
       "      <td>4</td>\n",
       "      <td>80.0</td>\n",
       "      <td>May</td>\n",
       "    </tr>\n",
       "    <tr>\n",
       "      <th>17</th>\n",
       "      <td>CIRURGIA REALIZADA</td>\n",
       "      <td>2024-05-02</td>\n",
       "      <td>felino</td>\n",
       "      <td>MACHO</td>\n",
       "      <td>1</td>\n",
       "      <td>20.0</td>\n",
       "      <td>May</td>\n",
       "    </tr>\n",
       "    <tr>\n",
       "      <th>16</th>\n",
       "      <td>CIRURGIA REALIZADA</td>\n",
       "      <td>2024-05-02</td>\n",
       "      <td>canino</td>\n",
       "      <td>canino_macho</td>\n",
       "      <td>2</td>\n",
       "      <td>40.0</td>\n",
       "      <td>May</td>\n",
       "    </tr>\n",
       "  </tbody>\n",
       "</table>\n",
       "</div>"
      ],
      "text/plain": [
       "                status       data especie        genero  obsoluto  relativo  \\\n",
       "14  CIRURGIA REALIZADA 2024-05-02  canino  canino_femea         4      80.0   \n",
       "17  CIRURGIA REALIZADA 2024-05-02  felino         MACHO         1      20.0   \n",
       "16  CIRURGIA REALIZADA 2024-05-02  canino  canino_macho         2      40.0   \n",
       "\n",
       "   meses  \n",
       "14   May  \n",
       "17   May  \n",
       "16   May  "
      ]
     },
     "execution_count": 111,
     "metadata": {},
     "output_type": "execute_result"
    }
   ],
   "source": [
    "relat01_bimestral.tail(3)\n",
    "#relat01_bimestral.shape"
   ]
  },
  {
   "cell_type": "markdown",
   "id": "2f8f1808-01f3-4aa1-a1d0-d78f3c00e862",
   "metadata": {},
   "source": [
    "Nessa etapa foi criada a função **converte_data(x)** para converter a data no formato americano."
   ]
  },
  {
   "cell_type": "code",
   "execution_count": 96,
   "id": "757b75c2-7d30-4b87-a027-31bbcef9f2a8",
   "metadata": {},
   "outputs": [],
   "source": [
    "from convert_datas import convert, converte_data\n",
    "relat01_bimestral['data']= relat01_bimestral['data'].map(lambda x: converte_data(x))"
   ]
  },
  {
   "cell_type": "code",
   "execution_count": 98,
   "id": "78030dd2-e85b-425b-a563-27a6fd9052e1",
   "metadata": {},
   "outputs": [],
   "source": [
    "relat01_bimestral['especie'] = relat01_bimestral['especie'].str.lower()"
   ]
  },
  {
   "cell_type": "code",
   "execution_count": 99,
   "id": "cb75f3ce-0677-4df1-8b12-269a84a84b64",
   "metadata": {},
   "outputs": [],
   "source": [
    "from pandas import Series\n",
    "relat01_bimestral['meses'] = relat01_bimestral['data'].dt.month_name()"
   ]
  },
  {
   "cell_type": "markdown",
   "id": "f83202fb-6171-43ce-b846-95d4b70cd0d7",
   "metadata": {},
   "source": [
    "### Como pode ser visto na célula abaixo existe a falta de GOVERNÂNCIA no atributo GENERO, já que teríamos apenas duas opções: macho e femea."
   ]
  },
  {
   "cell_type": "code",
   "execution_count": 100,
   "id": "11a53b66-66aa-4880-9caa-0f8f2792b1c6",
   "metadata": {},
   "outputs": [
    {
     "data": {
      "text/plain": [
       "array(['FEMEA', 'FÊMEA ', 'MACHO', 'Macho', 'FÊMEA'], dtype=object)"
      ]
     },
     "execution_count": 100,
     "metadata": {},
     "output_type": "execute_result"
    }
   ],
   "source": [
    "relat01_bimestral['genero'].unique()"
   ]
  },
  {
   "cell_type": "markdown",
   "id": "192ea83d-721d-490e-98fb-c0dca615c2f4",
   "metadata": {},
   "source": [
    "#### Nessa etapa será realizado o ajuste do atributo GENERO."
   ]
  },
  {
   "cell_type": "markdown",
   "id": "4ee43435-7b85-4964-ac75-d4602dcafcfe",
   "metadata": {},
   "source": [
    "Canino"
   ]
  },
  {
   "cell_type": "code",
   "execution_count": null,
   "id": "39de3953-5ae1-4fe0-a122-84ab082cf304",
   "metadata": {},
   "outputs": [],
   "source": [
    "relat01_bimestral['genero'].loc[\n",
    "(relat01_bimestral['genero']=='MACHO') & (relat01_bimestral['especie']=='canino')] = 'canino_macho'"
   ]
  },
  {
   "cell_type": "code",
   "execution_count": null,
   "id": "d8ba338d-c6da-4d1b-b956-b64e63758f5e",
   "metadata": {},
   "outputs": [],
   "source": [
    "relat01_bimestral['genero'].loc[\n",
    "(relat01_bimestral['genero']=='Macho') & (relat01_bimestral['especie']=='canino')] = 'canino_macho'"
   ]
  },
  {
   "cell_type": "code",
   "execution_count": null,
   "id": "6b1ce50c-d551-4417-ad0d-50fafc7556e2",
   "metadata": {},
   "outputs": [],
   "source": [
    "relat01_bimestral['genero'].loc[\n",
    "(relat01_bimestral['genero']=='FEMEA') & (relat01_bimestral['especie']=='canino')] = 'canino_femea'"
   ]
  },
  {
   "cell_type": "code",
   "execution_count": null,
   "id": "a20cab36-ad6f-416b-9d73-1836cd4135f3",
   "metadata": {},
   "outputs": [],
   "source": [
    "relat01_bimestral['genero'].loc[\n",
    "(relat01_bimestral['genero']=='FÊMEA') & (relat01_bimestral['especie']=='canino')] = 'canino_femea'"
   ]
  },
  {
   "cell_type": "code",
   "execution_count": null,
   "id": "7ca17411-5abd-412a-8626-87b33ddd17ce",
   "metadata": {},
   "outputs": [],
   "source": [
    "relat01_bimestral['genero'].loc[\n",
    "(relat01_bimestral['genero']=='FÊMEA ') & (relat01_bimestral['especie']=='canino')] = 'canino_femea'"
   ]
  },
  {
   "cell_type": "markdown",
   "id": "c3ea1043-5be2-49b9-aa96-d2636b265396",
   "metadata": {},
   "source": [
    "Felino"
   ]
  },
  {
   "cell_type": "code",
   "execution_count": null,
   "id": "cc94da7a-d12c-44da-b646-92fdceb0aad5",
   "metadata": {},
   "outputs": [],
   "source": [
    "relat01_bimestral['genero'].loc[\n",
    "(relat01_bimestral['genero']=='MACHO') & (relat01_bimestral['especie']=='felino')] = 'felino_macho'"
   ]
  },
  {
   "cell_type": "code",
   "execution_count": null,
   "id": "e3fb4ad5-d15a-4f39-80ef-7b68beece2aa",
   "metadata": {},
   "outputs": [],
   "source": [
    "relat01_bimestral['genero'].loc[\n",
    "(relat01_bimestral['genero']=='Macho') & (relat01_bimestral['especie']=='felino')] = 'felino_macho'"
   ]
  },
  {
   "cell_type": "code",
   "execution_count": null,
   "id": "e9a2629c-ae1a-4fcd-8093-b71152d96e58",
   "metadata": {},
   "outputs": [],
   "source": [
    "relat01_bimestral['genero'].loc[\n",
    "(relat01_bimestral['genero']=='FEMEA') & (relat01_bimestral['especie']=='felino')] = 'felino_femea'"
   ]
  },
  {
   "cell_type": "code",
   "execution_count": 118,
   "id": "63cd81a5-e344-4b50-89e0-212c95de6930",
   "metadata": {},
   "outputs": [
    {
     "data": {
      "text/plain": [
       "array(['canino_femea', 'felino_femea', 'canino_macho', 'felino_macho'],\n",
       "      dtype=object)"
      ]
     },
     "execution_count": 118,
     "metadata": {},
     "output_type": "execute_result"
    }
   ],
   "source": [
    "relat01_bimestral['genero'].unique()"
   ]
  },
  {
   "cell_type": "markdown",
   "id": "6fd79090-8b40-4efa-859c-c147f7d32a67",
   "metadata": {},
   "source": [
    "## Criação do PAINEL de DADOS"
   ]
  },
  {
   "cell_type": "code",
   "execution_count": 120,
   "id": "e168f435-c9bc-4bbd-9895-3992baa2a1d9",
   "metadata": {},
   "outputs": [
    {
     "data": {
      "text/html": [
       "\n",
       "        <iframe\n",
       "            width=\"100%\"\n",
       "            height=\"500\"\n",
       "            src=\"http://localhost/cariocarelatorio01.html\"\n",
       "            frameborder=\"0\"\n",
       "            allowfullscreen\n",
       "            \n",
       "        ></iframe>\n",
       "        "
      ],
      "text/plain": [
       "<IPython.lib.display.IFrame at 0x7412cac04d30>"
      ]
     },
     "execution_count": 120,
     "metadata": {},
     "output_type": "execute_result"
    }
   ],
   "source": [
    "from pivottablejs import pivot_ui\n",
    "\n",
    "pivot_ui(relat01_bimestral, outfile_path='/home/lino/Área de Trabalho/acaocidada/note_acaocidada/cariocarelatorio01.html', url='http://localhost/cariocarelatorio01.html')"
   ]
  },
  {
   "cell_type": "markdown",
   "id": "434e9acf-940a-4f85-8e66-623b7522c2db",
   "metadata": {},
   "source": [
    "### Por meio do boxplot, podemos perceber:\n",
    "\n",
    "1. no boxplot 1 com espécies, o indicador de eficácia mostra que 75% das castrações nos últimas 2 meses não bateu a meta\n",
    "2. no boxplot 2 com genero, mostra a falta de governança, logo não podemos concluir nada. "
   ]
  },
  {
   "cell_type": "markdown",
   "id": "bc768427-b911-406d-8132-4c9f3171b974",
   "metadata": {},
   "source": [
    " boxplot 1 com espécies"
   ]
  },
  {
   "cell_type": "code",
   "execution_count": 112,
   "id": "7c94ea60-c78d-4c36-99cd-f55c6577e425",
   "metadata": {},
   "outputs": [
    {
     "data": {
      "image/png": "[encoded data removed]",
      "text/plain": [
       "<Figure size 640x480 with 1 Axes>"
      ]
     },
     "metadata": {},
     "output_type": "display_data"
    }
   ],
   "source": [
    "caixa = relat01_bimestral.boxplot(column=['relativo'],by= ['especie'])"
   ]
  },
  {
   "cell_type": "markdown",
   "id": "ee4bfa86-01a9-4415-a46b-8fddb058724a",
   "metadata": {},
   "source": [
    "boxplot 2 com genero"
   ]
  },
  {
   "cell_type": "code",
   "execution_count": 97,
   "id": "8886e466-b40c-425d-82ed-0d28dba3b0ce",
   "metadata": {},
   "outputs": [
    {
     "data": {
      "image/png": "[encoded data removed]",
      "text/plain": [
       "<Figure size 640x480 with 1 Axes>"
      ]
     },
     "metadata": {},
     "output_type": "display_data"
    }
   ],
   "source": [
    "caixa = relat01_bimestral.boxplot(column=['relativo'],by= ['genero'])"
   ]
  },
  {
   "cell_type": "markdown",
   "id": "9194ef59-8d74-4fcb-a4d9-7cb61dbffc67",
   "metadata": {},
   "source": [
    "---"
   ]
  }
 ],
 "metadata": {
  "kernelspec": {
   "display_name": "jupyter_venv",
   "language": "python",
   "name": "jupyter_venv"
  },
  "language_info": {
   "codemirror_mode": {
    "name": "ipython",
    "version": 3
   },
   "file_extension": ".py",
   "mimetype": "text/x-python",
   "name": "python",
   "nbconvert_exporter": "python",
   "pygments_lexer": "ipython3",
   "version": "3.10.12"
  }
 },
 "nbformat": 4,
 "nbformat_minor": 5
}
