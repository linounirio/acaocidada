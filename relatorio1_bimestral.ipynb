{
 "cells": [
  {
   "cell_type": "markdown",
   "id": "e94e7721-5395-4261-a9f3-5a6cdad6cca2",
   "metadata": {},
   "source": [
    "# Abril\n",
    "\n",
    "---"
   ]
  },
  {
   "cell_type": "code",
   "execution_count": 57,
   "id": "65911ccc-c0fa-4439-9f2a-811b18b9c3c7",
   "metadata": {},
   "outputs": [],
   "source": [
    "import numpy as np\n",
    "from datetime import date, timedelta\n",
    "import string\n",
    "import time\n",
    "from pandas import DataFrame\n",
    "from os import getcwd\n",
    "from pygsheets import authorize\n",
    "import pivottablejs"
   ]
  },
  {
   "cell_type": "markdown",
   "id": "7199562b-15de-402e-9213-cb23e0165c0e",
   "metadata": {},
   "source": [
    "## Integração das APIs do GCP - das contas google "
   ]
  },
  {
   "cell_type": "markdown",
   "id": "bf9acb02-caf6-4fa6-ab47-7c4b5ef56216",
   "metadata": {},
   "source": [
    "### Conta RIO"
   ]
  },
  {
   "cell_type": "code",
   "execution_count": 2,
   "id": "84160bed-7507-40ac-9a71-42df50bb9aaa",
   "metadata": {},
   "outputs": [],
   "source": [
    "credenciaisRio = authorize(service_file=getcwd()+'/keyapirio.json')"
   ]
  },
  {
   "cell_type": "markdown",
   "id": "a3fd3eb3-64fc-4efa-97d3-fa6695e43633",
   "metadata": {},
   "source": [
    "#### na célula abaixo os Links estarão ocultos"
   ]
  },
  {
   "cell_type": "code",
   "execution_count": 8,
   "id": "5466adea-546d-45cb-b96e-7a1182e0d160",
   "metadata": {},
   "outputs": [],
   "source": [
    "linkAgendamentoRio = 'xxxxx'\n",
    "abaAgendamentoRio = 'xxxx'"
   ]
  },
  {
   "cell_type": "markdown",
   "id": "124d95c6-a131-4c27-9431-be9450cdb645",
   "metadata": {},
   "source": [
    "#### Código de integração da APIRest google sheets"
   ]
  },
  {
   "cell_type": "code",
   "execution_count": 3,
   "id": "a13a54bc-7ef2-4d9b-a8a1-0b1c3c33c840",
   "metadata": {},
   "outputs": [],
   "source": [
    "# acessando planilha\n",
    "#planilhaAgendamentoRio = credenciaisRio.open_by_key(linkAgendamentoRio)\n",
    "#tabelaAgendamentoRio = planilhaAgendamentoRio.spreadsheet_ids(abaAgendamentoRio)"
   ]
  },
  {
   "cell_type": "markdown",
   "id": "c867d9ca-ac10-44de-ae24-aa001ba4ae5c",
   "metadata": {},
   "source": [
    "### Conta RIO2"
   ]
  },
  {
   "cell_type": "code",
   "execution_count": null,
   "id": "614bf363-204d-4392-9239-01f73b3b75c5",
   "metadata": {},
   "outputs": [],
   "source": []
  },
  {
   "cell_type": "markdown",
   "id": "b5c1b166-c4a9-41d4-8d5b-2e67ae650464",
   "metadata": {},
   "source": [
    "### Conta Carioca"
   ]
  },
  {
   "cell_type": "markdown",
   "id": "d8c52087-76ab-4f17-91c3-4a84072882e4",
   "metadata": {},
   "source": [
    "Nessa etapa estamos acessando a base de dados do google via API, que em outras palavras se remete a integração de sistemas externos"
   ]
  },
  {
   "cell_type": "code",
   "execution_count": 156,
   "id": "4e9e1bfb-4ab2-40cd-af21-5924044df5e5",
   "metadata": {},
   "outputs": [],
   "source": [
    "credenciaisCarioca = authorize(service_file=getcwd()+'/keysurveycarioca.json')"
   ]
  },
  {
   "cell_type": "raw",
   "id": "c584f73e-8bf4-489b-9668-162d11fb6673",
   "metadata": {},
   "source": [
    "link = 'https://docs.google.com/spreadsheets/d/esse é a parte que informa a planilha/'"
   ]
  },
  {
   "cell_type": "markdown",
   "id": "bf87a69f-128c-4dcb-a0af-a321bd5ca4f2",
   "metadata": {},
   "source": [
    "acessando a planilha"
   ]
  },
  {
   "cell_type": "code",
   "execution_count": 157,
   "id": "bb54b89b-7adf-4b36-baa8-3f4f79d7075c",
   "metadata": {},
   "outputs": [],
   "source": [
    "link = 'https://docs.google.com/spreadsheets/d/esse é a parte que informa a planilha/'"
   ]
  },
  {
   "cell_type": "code",
   "execution_count": 158,
   "id": "c4d72db7-c5f8-4402-8bc3-bb50d5b2d692",
   "metadata": {},
   "outputs": [],
   "source": [
    "# acessando planilha\n",
    "planilha = credenciaisCarioca.open_by_url(link)\n",
    "tabela = planilha.worksheet_by_title(\"Respostas ao formulário 1\")"
   ]
  },
  {
   "cell_type": "markdown",
   "id": "3266dd59-464e-46c0-8695-5eba1c75f534",
   "metadata": {},
   "source": [
    "### Quadro de Dados (DataFrame)"
   ]
  },
  {
   "cell_type": "markdown",
   "id": "41d73e84-0d56-4715-9bcd-6978c4890f85",
   "metadata": {},
   "source": [
    "Nessa etapa estamos transformando a base de atualizada até o momento da última integração realizada acima. Em um quadro de dados, para que assim possamos extrair a riqueza que a base tem a nos oferecer."
   ]
  },
  {
   "cell_type": "code",
   "execution_count": 159,
   "id": "9ca46f42-fcf9-40c8-a82e-efea67c79c96",
   "metadata": {},
   "outputs": [],
   "source": [
    "import datetime"
   ]
  },
  {
   "cell_type": "markdown",
   "id": "7e28d8b0-52d8-424f-957f-cb6d5d03041e",
   "metadata": {},
   "source": [
    "Nessa parte estamos criando o objeto com todos os dados, que até a data informada"
   ]
  },
  {
   "cell_type": "code",
   "execution_count": 160,
   "id": "e7441bec-3bfc-4d10-ba9f-341acb6c726f",
   "metadata": {},
   "outputs": [
    {
     "name": "stdout",
     "output_type": "stream",
     "text": [
      "Na data 2024-05-03 esse quadro de dados está sendo criado.\n"
     ]
    }
   ],
   "source": [
    "df_carioca_agend = DataFrame(tabela)\n",
    "print(f'Na data {datetime.date.today().isoformat()} esse quadro de dados está sendo criado.')"
   ]
  },
  {
   "cell_type": "code",
   "execution_count": 161,
   "id": "d1e76a95-83d8-4461-b345-dd552419c210",
   "metadata": {},
   "outputs": [
    {
     "name": "stdout",
     "output_type": "stream",
     "text": [
      "Até o momento informado na linha de cima, o agendamento foi aplicado 1535 pessoas.\n"
     ]
    }
   ],
   "source": [
    "print(f'Até o momento informado na linha de cima, o agendamento foi aplicado {df_carioca_agend.shape[0] - 1} pessoas.')"
   ]
  },
  {
   "cell_type": "code",
   "execution_count": 91,
   "id": "9414428f-6cee-40fa-a5e1-bbade796d2a3",
   "metadata": {},
   "outputs": [
    {
     "data": {
      "text/html": [
       "<div>\n",
       "<style scoped>\n",
       "    .dataframe tbody tr th:only-of-type {\n",
       "        vertical-align: middle;\n",
       "    }\n",
       "\n",
       "    .dataframe tbody tr th {\n",
       "        vertical-align: top;\n",
       "    }\n",
       "\n",
       "    .dataframe thead th {\n",
       "        text-align: right;\n",
       "    }\n",
       "</style>\n",
       "<table border=\"1\" class=\"dataframe\">\n",
       "  <thead>\n",
       "    <tr style=\"text-align: right;\">\n",
       "      <th></th>\n",
       "      <th>0</th>\n",
       "      <th>1</th>\n",
       "      <th>2</th>\n",
       "      <th>3</th>\n",
       "      <th>4</th>\n",
       "      <th>5</th>\n",
       "      <th>6</th>\n",
       "      <th>7</th>\n",
       "      <th>8</th>\n",
       "      <th>9</th>\n",
       "      <th>...</th>\n",
       "      <th>15</th>\n",
       "      <th>16</th>\n",
       "      <th>17</th>\n",
       "      <th>18</th>\n",
       "      <th>19</th>\n",
       "      <th>20</th>\n",
       "      <th>21</th>\n",
       "      <th>22</th>\n",
       "      <th>23</th>\n",
       "      <th>24</th>\n",
       "    </tr>\n",
       "  </thead>\n",
       "  <tbody>\n",
       "    <tr>\n",
       "      <th>0</th>\n",
       "      <td>Carimbo de data/hora</td>\n",
       "      <td>LOCAL</td>\n",
       "      <td>NOME COMPLETO</td>\n",
       "      <td></td>\n",
       "      <td>BAIRRO</td>\n",
       "      <td>CEP</td>\n",
       "      <td>DATA DE NASCIMENTO</td>\n",
       "      <td>TELEFONE</td>\n",
       "      <td>EMAIL</td>\n",
       "      <td>CPF</td>\n",
       "      <td>...</td>\n",
       "      <td>ENDEREÇO COMPLETO</td>\n",
       "      <td>CPF</td>\n",
       "      <td>Como soube do Projeto de Castração de cães e g...</td>\n",
       "      <td></td>\n",
       "      <td></td>\n",
       "      <td></td>\n",
       "      <td></td>\n",
       "      <td></td>\n",
       "      <td></td>\n",
       "      <td></td>\n",
       "    </tr>\n",
       "  </tbody>\n",
       "</table>\n",
       "<p>1 rows × 25 columns</p>\n",
       "</div>"
      ],
      "text/plain": [
       "                     0      1              2  3       4    5   \\\n",
       "0  Carimbo de data/hora  LOCAL  NOME COMPLETO     BAIRRO  CEP   \n",
       "\n",
       "                   6         7      8    9   ...                 15   16  \\\n",
       "0  DATA DE NASCIMENTO  TELEFONE  EMAIL  CPF  ...  ENDEREÇO COMPLETO  CPF   \n",
       "\n",
       "                                                  17 18 19 20 21 22 23 24  \n",
       "0  Como soube do Projeto de Castração de cães e g...                       \n",
       "\n",
       "[1 rows x 25 columns]"
      ]
     },
     "execution_count": 91,
     "metadata": {},
     "output_type": "execute_result"
    }
   ],
   "source": [
    "df_carioca_agend.head(1)"
   ]
  },
  {
   "cell_type": "code",
   "execution_count": 162,
   "id": "47023af1-73e5-4505-b961-44d2d4cb9b74",
   "metadata": {},
   "outputs": [],
   "source": [
    "df_carioca_agend = df_carioca_agend[[0,1,2,3,4,5,6,7,8,9,10,11,12,13,14,15,16,17]]\n",
    "df_carioca_agend.columns = list(df_carioca_agend[[0,1,2,3,4,5,6,7,8,9,10,11,12,13,14,15,16,17]].iloc[0])"
   ]
  },
  {
   "cell_type": "markdown",
   "id": "e19f7c55-1860-49e2-bdd3-7b3923eda1f9",
   "metadata": {},
   "source": [
    "Nessa etapa vamos informar os atributos ou variáveis que tem o quadro de dados, que em outras palavras são as perguntas (que se transformam em colunas na base de dados) respondidas no formulário __agendamento__ "
   ]
  },
  {
   "cell_type": "code",
   "execution_count": 163,
   "id": "7900a380-59e5-45f6-afee-74b6ceda29d8",
   "metadata": {},
   "outputs": [
    {
     "name": "stdout",
     "output_type": "stream",
     "text": [
      "Segue a lista com todas variáveis da base de dados: ['Carimbo de data/hora', 'LOCAL', 'NOME COMPLETO', '', 'BAIRRO', 'CEP', 'DATA DE NASCIMENTO', 'TELEFONE', 'EMAIL', 'CPF', 'NOME DO ANIMAL', 'ESPÉCIE', 'GÊNERO', 'STATUS/ATENDIMENTO', 'MOTIVO', 'ENDEREÇO COMPLETO', 'CPF', 'Como soube do Projeto de Castração de cães e gatos?']\n",
      "\n",
      "Vamos utilizar as variáveis: Carimbo de data/hora, ESPÉCIE, \n",
      "GÊNERO e STATUS/ATENDIMENTO.\n"
     ]
    }
   ],
   "source": [
    "print (f'Segue a lista com todas variáveis da base de dados: {list(df_carioca_agend.columns)}')\n",
    "print (f'''\\nVamos utilizar as variáveis: {list(df_carioca_agend.columns)[0]}, {list(df_carioca_agend.columns)[11]}, \n",
    "{list(df_carioca_agend.columns)[12]} e {list(df_carioca_agend.columns)[13]}.''')"
   ]
  },
  {
   "cell_type": "code",
   "execution_count": 164,
   "id": "b6da515f-59a7-4c89-bdb6-c5f1131bab38",
   "metadata": {},
   "outputs": [],
   "source": [
    "df_carioca_agend = df_carioca_agend.drop(0, axis=0)"
   ]
  },
  {
   "cell_type": "code",
   "execution_count": 165,
   "id": "23a53405-6463-4860-968d-a49fc571ee7a",
   "metadata": {},
   "outputs": [
    {
     "data": {
      "text/html": [
       "<div>\n",
       "<style scoped>\n",
       "    .dataframe tbody tr th:only-of-type {\n",
       "        vertical-align: middle;\n",
       "    }\n",
       "\n",
       "    .dataframe tbody tr th {\n",
       "        vertical-align: top;\n",
       "    }\n",
       "\n",
       "    .dataframe thead th {\n",
       "        text-align: right;\n",
       "    }\n",
       "</style>\n",
       "<table border=\"1\" class=\"dataframe\">\n",
       "  <thead>\n",
       "    <tr style=\"text-align: right;\">\n",
       "      <th></th>\n",
       "      <th>Carimbo de data/hora</th>\n",
       "      <th>LOCAL</th>\n",
       "      <th>NOME COMPLETO</th>\n",
       "      <th></th>\n",
       "      <th>BAIRRO</th>\n",
       "      <th>CEP</th>\n",
       "      <th>DATA DE NASCIMENTO</th>\n",
       "      <th>TELEFONE</th>\n",
       "      <th>EMAIL</th>\n",
       "      <th>CPF</th>\n",
       "      <th>NOME DO ANIMAL</th>\n",
       "      <th>ESPÉCIE</th>\n",
       "      <th>GÊNERO</th>\n",
       "      <th>STATUS/ATENDIMENTO</th>\n",
       "      <th>MOTIVO</th>\n",
       "      <th>ENDEREÇO COMPLETO</th>\n",
       "      <th>CPF</th>\n",
       "      <th>Como soube do Projeto de Castração de cães e gatos?</th>\n",
       "    </tr>\n",
       "  </thead>\n",
       "  <tbody>\n",
       "    <tr>\n",
       "      <th>1</th>\n",
       "      <td>xx/0x/2024 xx:xx:xx</td>\n",
       "      <td>xxxxxxxxxxxxx</td>\n",
       "      <td>xxxxxxx</td>\n",
       "      <td></td>\n",
       "      <td>xxxxxxxxxxxx</td>\n",
       "      <td>xxxxx-xxx</td>\n",
       "      <td>xx/0x/19xx</td>\n",
       "      <td>xxxxxxx</td>\n",
       "      <td></td>\n",
       "      <td>xxxx</td>\n",
       "      <td>xxxxxxxxx</td>\n",
       "      <td>CANINO</td>\n",
       "      <td>FEMEA</td>\n",
       "      <td></td>\n",
       "      <td></td>\n",
       "      <td></td>\n",
       "      <td></td>\n",
       "      <td></td>\n",
       "    </tr>\n",
       "  </tbody>\n",
       "</table>\n",
       "</div>"
      ],
      "text/plain": [
       "  Carimbo de data/hora                            LOCAL  \\\n",
       "1  xx/xx/2024 xx:xx:XX  xxxxxxxxxxxx   \n",
       "\n",
       "                    NOME COMPLETO             BAIRRO         CEP  \\\n",
       "1  xxxxxxxxxxxxxxxx     xxxxxxxxxx   xxxxx-xxx    \n",
       "\n",
       "  DATA DE NASCIMENTO   TELEFONE EMAIL    CPF NOME DO ANIMAL ESPÉCIE GÊNERO  \\\n",
       "1         xx/0x/19xx  xxxxxxxxx        xxxx     xxxxxxxx  CANINO  FEMEA   \n",
       "\n",
       "  STATUS/ATENDIMENTO MOTIVO ENDEREÇO COMPLETO CPF  \\\n",
       "1                                                   \n",
       "\n",
       "  Como soube do Projeto de Castração de cães e gatos?  \n",
       "1                                                      "
      ]
     },
     "execution_count": 165,
     "metadata": {},
     "output_type": "execute_result"
    }
   ],
   "source": [
    "df_carioca_agend.head(1)"
   ]
  },
  {
   "cell_type": "markdown",
   "id": "053b9451-6799-47c8-866e-4f1917ef7737",
   "metadata": {},
   "source": [
    "Essa é a etapa que iremos criar o sub quadro de dados (dataframe) com as variáveis importantes para o trabalho. Que nada mais é do que a segmentação."
   ]
  },
  {
   "cell_type": "code",
   "execution_count": 166,
   "id": "f068103c-999a-424c-a1a4-c3371f98bde4",
   "metadata": {},
   "outputs": [],
   "source": [
    "relatorio_agendamento_carioca = DataFrame(DataFrame(df_carioca_agend['Carimbo de data/hora'].str.split(' ', expand=True)[0]).join(df_carioca_agend[['ESPÉCIE','GÊNERO','STATUS/ATENDIMENTO']]).groupby(by=['STATUS/ATENDIMENTO']).value_counts()).reset_index()"
   ]
  },
  {
   "cell_type": "code",
   "execution_count": 167,
   "id": "50d5335a-4693-407e-a857-dcfd6e4436c5",
   "metadata": {},
   "outputs": [
    {
     "data": {
      "text/plain": [
       "(367, 5)"
      ]
     },
     "execution_count": 167,
     "metadata": {},
     "output_type": "execute_result"
    }
   ],
   "source": [
    "relatorio_agendamento_carioca.shape"
   ]
  },
  {
   "cell_type": "code",
   "execution_count": 168,
   "id": "dcc0729d-2fd5-49d7-8234-1190d25966fa",
   "metadata": {},
   "outputs": [
    {
     "name": "stdout",
     "output_type": "stream",
     "text": [
      "Saímos de 1535 aplicações, \n",
      "para 367 aplicações.\n",
      "Isso quer dizer que estamos trabalhando com 23.91% do total.\n"
     ]
    }
   ],
   "source": [
    "print (f'''Saímos de {df_carioca_agend.shape[0]} aplicações, \n",
    "para {relatorio_agendamento_carioca.shape[0]} aplicações.\n",
    "Isso quer dizer que estamos trabalhando com {round(100*(relatorio_agendamento_carioca.shape[0]/df_carioca_agend.shape[0]),2)}% do total.''')"
   ]
  },
  {
   "cell_type": "markdown",
   "id": "8d278697-41e6-4864-b509-c8084fa581cd",
   "metadata": {},
   "source": [
    "Nessa etapa vamos verificar a governança de dados do nosso target, em outras palavras nossa variável alvo, na opção **CIRURGIA REALIZADA**"
   ]
  },
  {
   "cell_type": "markdown",
   "id": "8632a348-5c51-4f11-b7e0-0d54514c7975",
   "metadata": {},
   "source": [
    "Podemos identificar no resultado abaixo a falta de governança, pois a opção de **CIRURGIA REALIZADA** possui até o momento 10 variações."
   ]
  },
  {
   "cell_type": "code",
   "execution_count": 169,
   "id": "c49f0039-25f2-4965-9256-187905ae7a16",
   "metadata": {
    "scrolled": true
   },
   "outputs": [
    {
     "data": {
      "text/plain": [
       "array(['CIRURGIA REALIZADA', 'RECUSA', 'CIRURGIA REALIZADA ',\n",
       "       'CIRURGIA RECUSADA ', '', 'FALTA', 'CIRURGIA RECUSADA',\n",
       "       'CIRURGIA RELIZADA', 'FALTO', 'DESISTÊNCIA ',\n",
       "       'endereço não encontrado', 'CIRURGIA  REALIZADA ', 'Realizada ',\n",
       "       'CIRURGIA REALIZADO', 'RECUSA ', ' CIRURGIA REALIZADA', 'FALTA ',\n",
       "       'FATOU', 'CIRURGIA REALIAZADA ', 'CIEURGIA REALIZADA ',\n",
       "       'CIRURGIA NÃO REALIZADA', 'CIRURGIA NÃO REALIZADA '], dtype=object)"
      ]
     },
     "execution_count": 169,
     "metadata": {},
     "output_type": "execute_result"
    }
   ],
   "source": [
    "relatorio_agendamento_carioca['STATUS/ATENDIMENTO'].unique()"
   ]
  },
  {
   "cell_type": "code",
   "execution_count": 170,
   "id": "f87a81e7-3595-4543-a4fe-ae0db5fad11f",
   "metadata": {},
   "outputs": [
    {
     "data": {
      "text/html": [
       "<div>\n",
       "<style scoped>\n",
       "    .dataframe tbody tr th:only-of-type {\n",
       "        vertical-align: middle;\n",
       "    }\n",
       "\n",
       "    .dataframe tbody tr th {\n",
       "        vertical-align: top;\n",
       "    }\n",
       "\n",
       "    .dataframe thead th {\n",
       "        text-align: right;\n",
       "    }\n",
       "</style>\n",
       "<table border=\"1\" class=\"dataframe\">\n",
       "  <thead>\n",
       "    <tr style=\"text-align: right;\">\n",
       "      <th></th>\n",
       "      <th>STATUS/ATENDIMENTO</th>\n",
       "      <th>0</th>\n",
       "      <th>ESPÉCIE</th>\n",
       "      <th>GÊNERO</th>\n",
       "      <th>count</th>\n",
       "    </tr>\n",
       "  </thead>\n",
       "  <tbody>\n",
       "    <tr>\n",
       "      <th>364</th>\n",
       "      <td>CIRURGIA REALIZADA</td>\n",
       "      <td>31/03/2024</td>\n",
       "      <td>FELINO</td>\n",
       "      <td>MACHO</td>\n",
       "      <td>2</td>\n",
       "    </tr>\n",
       "    <tr>\n",
       "      <th>365</th>\n",
       "      <td>CIRURGIA REALIZADA</td>\n",
       "      <td>31/03/2024</td>\n",
       "      <td>CANINO</td>\n",
       "      <td>MACHO</td>\n",
       "      <td>2</td>\n",
       "    </tr>\n",
       "    <tr>\n",
       "      <th>366</th>\n",
       "      <td>CIRURGIA REALIZADA</td>\n",
       "      <td>31/03/2024</td>\n",
       "      <td>CANINO</td>\n",
       "      <td>FEMEA</td>\n",
       "      <td>1</td>\n",
       "    </tr>\n",
       "  </tbody>\n",
       "</table>\n",
       "</div>"
      ],
      "text/plain": [
       "     STATUS/ATENDIMENTO           0 ESPÉCIE GÊNERO  count\n",
       "364  CIRURGIA REALIZADA  31/03/2024  FELINO  MACHO      2\n",
       "365  CIRURGIA REALIZADA  31/03/2024  CANINO  MACHO      2\n",
       "366  CIRURGIA REALIZADA  31/03/2024  CANINO  FEMEA      1"
      ]
     },
     "execution_count": 170,
     "metadata": {},
     "output_type": "execute_result"
    }
   ],
   "source": [
    "relatorio_agendamento_carioca.tail(3)"
   ]
  },
  {
   "cell_type": "code",
   "execution_count": 171,
   "id": "2de0c666-cdc5-4553-b478-efc7740ef806",
   "metadata": {},
   "outputs": [],
   "source": [
    "relatorio_agendamento_carioca_realizado = relatorio_agendamento_carioca.loc[\n",
    "(relatorio_agendamento_carioca['STATUS/ATENDIMENTO']== 'CIRURGIA REALIZADA') | \n",
    "(relatorio_agendamento_carioca['STATUS/ATENDIMENTO']== 'CIRURGIA REALIZADA ') |\n",
    "(relatorio_agendamento_carioca['STATUS/ATENDIMENTO']== 'CIRURGIA RELIZADA') |\n",
    "(relatorio_agendamento_carioca['STATUS/ATENDIMENTO']== 'CIRURGIA  REALIZADA ') |\n",
    "(relatorio_agendamento_carioca['STATUS/ATENDIMENTO']== 'CIRURGIA REALIZADO') |\n",
    "(relatorio_agendamento_carioca['STATUS/ATENDIMENTO']== ' CIRURGIA REALIZADA') |\n",
    "(relatorio_agendamento_carioca['STATUS/ATENDIMENTO']== 'CIRURGIA REALIAZADA') |\n",
    "(relatorio_agendamento_carioca['STATUS/ATENDIMENTO']== 'CIEURGIA REALIZADA') |\n",
    "(relatorio_agendamento_carioca['STATUS/ATENDIMENTO']== 'Realizada ')]"
   ]
  },
  {
   "cell_type": "code",
   "execution_count": 173,
   "id": "afd10b3c-8ac9-4e85-a150-b538777238dc",
   "metadata": {},
   "outputs": [
    {
     "data": {
      "text/plain": [
       "(216, 5)"
      ]
     },
     "execution_count": 173,
     "metadata": {},
     "output_type": "execute_result"
    }
   ],
   "source": [
    "relatorio_agendamento_carioca_realizado.shape"
   ]
  },
  {
   "cell_type": "code",
   "execution_count": 174,
   "id": "3bf083ec-cf0b-43a4-bbec-e4d40edd651f",
   "metadata": {},
   "outputs": [
    {
     "name": "stderr",
     "output_type": "stream",
     "text": [
      "/tmp/ipykernel_5225/2601593656.py:1: SettingWithCopyWarning: \n",
      "A value is trying to be set on a copy of a slice from a DataFrame.\n",
      "Try using .loc[row_indexer,col_indexer] = value instead\n",
      "\n",
      "See the caveats in the documentation: https://pandas.pydata.org/pandas-docs/stable/user_guide/indexing.html#returning-a-view-versus-a-copy\n",
      "  relatorio_agendamento_carioca_realizado['relativo'] = (relatorio_agendamento_carioca_realizado[['count']]/5)*100\n"
     ]
    }
   ],
   "source": [
    "relatorio_agendamento_carioca_realizado['relativo'] = (relatorio_agendamento_carioca_realizado[['count']]/5)*100"
   ]
  },
  {
   "cell_type": "code",
   "execution_count": 175,
   "id": "3fbdb62d-1e41-4c20-9c44-c4d3aa520506",
   "metadata": {},
   "outputs": [
    {
     "data": {
      "text/html": [
       "<div>\n",
       "<style scoped>\n",
       "    .dataframe tbody tr th:only-of-type {\n",
       "        vertical-align: middle;\n",
       "    }\n",
       "\n",
       "    .dataframe tbody tr th {\n",
       "        vertical-align: top;\n",
       "    }\n",
       "\n",
       "    .dataframe thead th {\n",
       "        text-align: right;\n",
       "    }\n",
       "</style>\n",
       "<table border=\"1\" class=\"dataframe\">\n",
       "  <thead>\n",
       "    <tr style=\"text-align: right;\">\n",
       "      <th></th>\n",
       "      <th>STATUS/ATENDIMENTO</th>\n",
       "      <th>0</th>\n",
       "      <th>ESPÉCIE</th>\n",
       "      <th>GÊNERO</th>\n",
       "      <th>count</th>\n",
       "      <th>relativo</th>\n",
       "    </tr>\n",
       "  </thead>\n",
       "  <tbody>\n",
       "    <tr>\n",
       "      <th>0</th>\n",
       "      <td>CIRURGIA REALIZADA</td>\n",
       "      <td></td>\n",
       "      <td>FELINO</td>\n",
       "      <td>FEMEA</td>\n",
       "      <td>1</td>\n",
       "      <td>20.0</td>\n",
       "    </tr>\n",
       "    <tr>\n",
       "      <th>2</th>\n",
       "      <td>CIRURGIA REALIZADA</td>\n",
       "      <td>01/03/2024</td>\n",
       "      <td>CANINO</td>\n",
       "      <td>MACHO</td>\n",
       "      <td>1</td>\n",
       "      <td>20.0</td>\n",
       "    </tr>\n",
       "    <tr>\n",
       "      <th>3</th>\n",
       "      <td>CIRURGIA REALIZADA</td>\n",
       "      <td>01/03/2024</td>\n",
       "      <td>FELINO</td>\n",
       "      <td>FEMEA</td>\n",
       "      <td>1</td>\n",
       "      <td>20.0</td>\n",
       "    </tr>\n",
       "    <tr>\n",
       "      <th>4</th>\n",
       "      <td>CIRURGIA REALIZADA</td>\n",
       "      <td>01/04/2024</td>\n",
       "      <td>FELINO</td>\n",
       "      <td>MACHO</td>\n",
       "      <td>8</td>\n",
       "      <td>160.0</td>\n",
       "    </tr>\n",
       "    <tr>\n",
       "      <th>5</th>\n",
       "      <td>CIRURGIA REALIZADA</td>\n",
       "      <td>01/04/2024</td>\n",
       "      <td>CANINO</td>\n",
       "      <td>MACHO</td>\n",
       "      <td>7</td>\n",
       "      <td>140.0</td>\n",
       "    </tr>\n",
       "    <tr>\n",
       "      <th>...</th>\n",
       "      <td>...</td>\n",
       "      <td>...</td>\n",
       "      <td>...</td>\n",
       "      <td>...</td>\n",
       "      <td>...</td>\n",
       "      <td>...</td>\n",
       "    </tr>\n",
       "    <tr>\n",
       "      <th>362</th>\n",
       "      <td>CIRURGIA REALIZADA</td>\n",
       "      <td>30/04/2024</td>\n",
       "      <td>FELINO</td>\n",
       "      <td>MACHO</td>\n",
       "      <td>1</td>\n",
       "      <td>20.0</td>\n",
       "    </tr>\n",
       "    <tr>\n",
       "      <th>363</th>\n",
       "      <td>CIRURGIA REALIZADA</td>\n",
       "      <td>31/03/2024</td>\n",
       "      <td>FELINO</td>\n",
       "      <td>FEMEA</td>\n",
       "      <td>9</td>\n",
       "      <td>180.0</td>\n",
       "    </tr>\n",
       "    <tr>\n",
       "      <th>364</th>\n",
       "      <td>CIRURGIA REALIZADA</td>\n",
       "      <td>31/03/2024</td>\n",
       "      <td>FELINO</td>\n",
       "      <td>MACHO</td>\n",
       "      <td>2</td>\n",
       "      <td>40.0</td>\n",
       "    </tr>\n",
       "    <tr>\n",
       "      <th>365</th>\n",
       "      <td>CIRURGIA REALIZADA</td>\n",
       "      <td>31/03/2024</td>\n",
       "      <td>CANINO</td>\n",
       "      <td>MACHO</td>\n",
       "      <td>2</td>\n",
       "      <td>40.0</td>\n",
       "    </tr>\n",
       "    <tr>\n",
       "      <th>366</th>\n",
       "      <td>CIRURGIA REALIZADA</td>\n",
       "      <td>31/03/2024</td>\n",
       "      <td>CANINO</td>\n",
       "      <td>FEMEA</td>\n",
       "      <td>1</td>\n",
       "      <td>20.0</td>\n",
       "    </tr>\n",
       "  </tbody>\n",
       "</table>\n",
       "<p>216 rows × 6 columns</p>\n",
       "</div>"
      ],
      "text/plain": [
       "      STATUS/ATENDIMENTO           0 ESPÉCIE GÊNERO  count  relativo\n",
       "0     CIRURGIA REALIZADA              FELINO  FEMEA      1      20.0\n",
       "2    CIRURGIA REALIZADA   01/03/2024  CANINO  MACHO      1      20.0\n",
       "3    CIRURGIA REALIZADA   01/03/2024  FELINO  FEMEA      1      20.0\n",
       "4     CIRURGIA REALIZADA  01/04/2024  FELINO  MACHO      8     160.0\n",
       "5     CIRURGIA REALIZADA  01/04/2024  CANINO  MACHO      7     140.0\n",
       "..                   ...         ...     ...    ...    ...       ...\n",
       "362   CIRURGIA REALIZADA  30/04/2024  FELINO  MACHO      1      20.0\n",
       "363   CIRURGIA REALIZADA  31/03/2024  FELINO  FEMEA      9     180.0\n",
       "364   CIRURGIA REALIZADA  31/03/2024  FELINO  MACHO      2      40.0\n",
       "365   CIRURGIA REALIZADA  31/03/2024  CANINO  MACHO      2      40.0\n",
       "366   CIRURGIA REALIZADA  31/03/2024  CANINO  FEMEA      1      20.0\n",
       "\n",
       "[216 rows x 6 columns]"
      ]
     },
     "execution_count": 175,
     "metadata": {},
     "output_type": "execute_result"
    }
   ],
   "source": [
    "relatorio_agendamento_carioca_realizado"
   ]
  },
  {
   "cell_type": "code",
   "execution_count": 204,
   "id": "ec2dd6c1-d641-4ef0-ab10-425d13fd95ce",
   "metadata": {},
   "outputs": [],
   "source": [
    "frequencia_relatorio1_indicador_utilizacao = DataFrame(relatorio_agendamento_carioca_realizado[['relativo']].value_counts()).reset_index()"
   ]
  },
  {
   "cell_type": "code",
   "execution_count": 205,
   "id": "06ef578b-6cd1-48e8-a512-79905f326ba1",
   "metadata": {},
   "outputs": [],
   "source": [
    "frequencia_relatorio1_indicador_utilizacao['percentual']=round((frequencia_relatorio1_indicador_utilizacao[['count']]/frequencia_relatorio1_indicador_utilizacao['count'].sum())*100,2)"
   ]
  },
  {
   "cell_type": "markdown",
   "id": "c123683a-7be4-4d8a-a4f8-aa4c847f9859",
   "metadata": {},
   "source": [
    "Qual o peso vamos encontrar.\n",
    "\n",
    "- Considerando a meta de 5 castração por dia para cada um dos quatro subgrupos que são: cães, cadelas, gatos e gatas. Em forma sucinta, esperasse ao fim de cada dia de trabalho no trailer, ter castrado\n",
    "    - 5 cães;\n",
    "    - 5 cadelas;\n",
    "    - 5 gatos;\n",
    "    - 5 gatas; "
   ]
  },
  {
   "cell_type": "markdown",
   "id": "08c14a86-6396-4286-af25-22a67830043d",
   "metadata": {},
   "source": [
    "Os dados do dia 25 de fevereiro até o dia 02 de maio, temos o total de 216 castrações realizados, distribuidas por dia em 4 grupos.\n",
    "\n",
    "- o cálculo do indicador de eficácia é:\n",
    "    - $\\frac{realizado}{esperado} * 100$"
   ]
  },
  {
   "cell_type": "code",
   "execution_count": 208,
   "id": "a842623e-83fb-4880-aceb-fc33c37bbad9",
   "metadata": {},
   "outputs": [],
   "source": [
    "frequencia_relatorio1_indicador_utilizacao = frequencia_relatorio1_indicador_utilizacao.sort_values(by=['relativo'])"
   ]
  },
  {
   "cell_type": "code",
   "execution_count": 209,
   "id": "65e92fc7-6798-4696-8d3a-8cf6373b1ff7",
   "metadata": {},
   "outputs": [
    {
     "data": {
      "text/html": [
       "<div>\n",
       "<style scoped>\n",
       "    .dataframe tbody tr th:only-of-type {\n",
       "        vertical-align: middle;\n",
       "    }\n",
       "\n",
       "    .dataframe tbody tr th {\n",
       "        vertical-align: top;\n",
       "    }\n",
       "\n",
       "    .dataframe thead th {\n",
       "        text-align: right;\n",
       "    }\n",
       "</style>\n",
       "<table border=\"1\" class=\"dataframe\">\n",
       "  <thead>\n",
       "    <tr style=\"text-align: right;\">\n",
       "      <th></th>\n",
       "      <th>relativo</th>\n",
       "      <th>count</th>\n",
       "      <th>percentual</th>\n",
       "    </tr>\n",
       "  </thead>\n",
       "  <tbody>\n",
       "    <tr>\n",
       "      <th>0</th>\n",
       "      <td>20.0</td>\n",
       "      <td>73</td>\n",
       "      <td>33.80</td>\n",
       "    </tr>\n",
       "    <tr>\n",
       "      <th>1</th>\n",
       "      <td>40.0</td>\n",
       "      <td>38</td>\n",
       "      <td>17.59</td>\n",
       "    </tr>\n",
       "    <tr>\n",
       "      <th>2</th>\n",
       "      <td>60.0</td>\n",
       "      <td>35</td>\n",
       "      <td>16.20</td>\n",
       "    </tr>\n",
       "    <tr>\n",
       "      <th>3</th>\n",
       "      <td>80.0</td>\n",
       "      <td>16</td>\n",
       "      <td>7.41</td>\n",
       "    </tr>\n",
       "    <tr>\n",
       "      <th>4</th>\n",
       "      <td>100.0</td>\n",
       "      <td>16</td>\n",
       "      <td>7.41</td>\n",
       "    </tr>\n",
       "    <tr>\n",
       "      <th>6</th>\n",
       "      <td>120.0</td>\n",
       "      <td>6</td>\n",
       "      <td>2.78</td>\n",
       "    </tr>\n",
       "    <tr>\n",
       "      <th>5</th>\n",
       "      <td>140.0</td>\n",
       "      <td>8</td>\n",
       "      <td>3.70</td>\n",
       "    </tr>\n",
       "    <tr>\n",
       "      <th>7</th>\n",
       "      <td>160.0</td>\n",
       "      <td>4</td>\n",
       "      <td>1.85</td>\n",
       "    </tr>\n",
       "    <tr>\n",
       "      <th>8</th>\n",
       "      <td>180.0</td>\n",
       "      <td>3</td>\n",
       "      <td>1.39</td>\n",
       "    </tr>\n",
       "    <tr>\n",
       "      <th>18</th>\n",
       "      <td>200.0</td>\n",
       "      <td>1</td>\n",
       "      <td>0.46</td>\n",
       "    </tr>\n",
       "    <tr>\n",
       "      <th>12</th>\n",
       "      <td>220.0</td>\n",
       "      <td>2</td>\n",
       "      <td>0.93</td>\n",
       "    </tr>\n",
       "    <tr>\n",
       "      <th>15</th>\n",
       "      <td>240.0</td>\n",
       "      <td>1</td>\n",
       "      <td>0.46</td>\n",
       "    </tr>\n",
       "    <tr>\n",
       "      <th>13</th>\n",
       "      <td>260.0</td>\n",
       "      <td>2</td>\n",
       "      <td>0.93</td>\n",
       "    </tr>\n",
       "    <tr>\n",
       "      <th>14</th>\n",
       "      <td>280.0</td>\n",
       "      <td>1</td>\n",
       "      <td>0.46</td>\n",
       "    </tr>\n",
       "    <tr>\n",
       "      <th>9</th>\n",
       "      <td>300.0</td>\n",
       "      <td>2</td>\n",
       "      <td>0.93</td>\n",
       "    </tr>\n",
       "    <tr>\n",
       "      <th>11</th>\n",
       "      <td>320.0</td>\n",
       "      <td>2</td>\n",
       "      <td>0.93</td>\n",
       "    </tr>\n",
       "    <tr>\n",
       "      <th>16</th>\n",
       "      <td>360.0</td>\n",
       "      <td>1</td>\n",
       "      <td>0.46</td>\n",
       "    </tr>\n",
       "    <tr>\n",
       "      <th>17</th>\n",
       "      <td>420.0</td>\n",
       "      <td>1</td>\n",
       "      <td>0.46</td>\n",
       "    </tr>\n",
       "    <tr>\n",
       "      <th>10</th>\n",
       "      <td>460.0</td>\n",
       "      <td>2</td>\n",
       "      <td>0.93</td>\n",
       "    </tr>\n",
       "    <tr>\n",
       "      <th>19</th>\n",
       "      <td>500.0</td>\n",
       "      <td>1</td>\n",
       "      <td>0.46</td>\n",
       "    </tr>\n",
       "    <tr>\n",
       "      <th>20</th>\n",
       "      <td>520.0</td>\n",
       "      <td>1</td>\n",
       "      <td>0.46</td>\n",
       "    </tr>\n",
       "  </tbody>\n",
       "</table>\n",
       "</div>"
      ],
      "text/plain": [
       "    relativo  count  percentual\n",
       "0       20.0     73       33.80\n",
       "1       40.0     38       17.59\n",
       "2       60.0     35       16.20\n",
       "3       80.0     16        7.41\n",
       "4      100.0     16        7.41\n",
       "6      120.0      6        2.78\n",
       "5      140.0      8        3.70\n",
       "7      160.0      4        1.85\n",
       "8      180.0      3        1.39\n",
       "18     200.0      1        0.46\n",
       "12     220.0      2        0.93\n",
       "15     240.0      1        0.46\n",
       "13     260.0      2        0.93\n",
       "14     280.0      1        0.46\n",
       "9      300.0      2        0.93\n",
       "11     320.0      2        0.93\n",
       "16     360.0      1        0.46\n",
       "17     420.0      1        0.46\n",
       "10     460.0      2        0.93\n",
       "19     500.0      1        0.46\n",
       "20     520.0      1        0.46"
      ]
     },
     "execution_count": 209,
     "metadata": {},
     "output_type": "execute_result"
    }
   ],
   "source": [
    "frequencia_relatorio1_indicador_utilizacao"
   ]
  },
  {
   "cell_type": "code",
   "execution_count": 213,
   "id": "9151d3d2-e996-4d20-b088-ffa9ef974670",
   "metadata": {},
   "outputs": [
    {
     "data": {
      "text/plain": [
       "<Axes: ylabel='relativo'>"
      ]
     },
     "execution_count": 213,
     "metadata": {},
     "output_type": "execute_result"
    },
    {
     "data": {
      "image/png": "[encoded data removed]",
      "text/plain": [
       "<Figure size 640x480 with 1 Axes>"
      ]
     },
     "metadata": {},
     "output_type": "display_data"
    }
   ],
   "source": [
    "frequencia_relatorio1_indicador_utilizacao.plot.barh(x='relativo',y='percentual')"
   ]
  },
  {
   "cell_type": "markdown",
   "id": "d8d6bf58-d38e-433d-bb44-7770b4dc5381",
   "metadata": {},
   "source": [
    "Criando o arquivo csv da análise"
   ]
  },
  {
   "cell_type": "code",
   "execution_count": 176,
   "id": "914a09d9-bdf4-4b29-b26a-427ebd96113e",
   "metadata": {},
   "outputs": [],
   "source": [
    "relatorio_agendamento_carioca_realizado.to_csv('relatorio1_bimestral_fev_mar_abr_agendamento_realizado.csv', index=False)"
   ]
  },
  {
   "cell_type": "code",
   "execution_count": 177,
   "id": "e2b861cb-f7e0-45b2-a68c-11e2331939a6",
   "metadata": {},
   "outputs": [],
   "source": [
    "df_carioca_agend.to_csv('base_original_do_relatorio1_bimestral.csv', index=False)"
   ]
  },
  {
   "cell_type": "code",
   "execution_count": 56,
   "id": "34c14786-deed-46ca-b3d3-2ceb0926b2fd",
   "metadata": {},
   "outputs": [],
   "source": [
    "import numpy as np\n",
    "# natsort import index_natsorted\n",
    "#DataFrame(teste).reset_index().sort_values(by=[0], key=lambda x=np.argsort(ind) )"
   ]
  },
  {
   "cell_type": "markdown",
   "id": "9194ef59-8d74-4fcb-a4d9-7cb61dbffc67",
   "metadata": {},
   "source": [
    "---"
   ]
  }
 ],
 "metadata": {
  "kernelspec": {
   "display_name": "jupyter_venv",
   "language": "python",
   "name": "jupyter_venv"
  },
  "language_info": {
   "codemirror_mode": {
    "name": "ipython",
    "version": 3
   },
   "file_extension": ".py",
   "mimetype": "text/x-python",
   "name": "python",
   "nbconvert_exporter": "python",
   "pygments_lexer": "ipython3",
   "version": "3.10.12"
  }
 },
 "nbformat": 4,
 "nbformat_minor": 5
}
